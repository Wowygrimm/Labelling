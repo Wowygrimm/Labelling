{
 "cells": [
  {
   "cell_type": "markdown",
   "metadata": {},
   "source": [
    "## Library"
   ]
  },
  {
   "cell_type": "code",
   "execution_count": 5,
   "metadata": {},
   "outputs": [],
   "source": [
    "%matplotlib inline\n",
    "import pandas as pd\n",
    "import numpy as np\n",
    "import pickle\n",
    "import matplotlib.pyplot as plt\n",
    "import os\n",
    "import matplotlib as mpl"
   ]
  },
  {
   "cell_type": "markdown",
   "metadata": {},
   "source": [
    "*** Validation criterias: ***\n",
    "\n",
    "- We have 18 TRIAL_INDEX\n",
    "\n",
    "- CURRENT_FIX_X and CURRENT_FIX_Y are positives and in the 1920x1080 screen\n",
    "\n",
    "- CURRENT_FIX_START is positive\n",
    "\n",
    "- EYE_USED is always equal to RIGHT\n",
    "\n",
    "- CURRENT_FIX_DURATION is positive\n",
    "\n",
    "- We have 18 WEBSITE_ID\n",
    "\n",
    "- We have 6 x 3 CONDITION "
   ]
  },
  {
   "cell_type": "markdown",
   "metadata": {},
   "source": [
    "*** Import Data ***"
   ]
  },
  {
   "cell_type": "code",
   "execution_count": 6,
   "metadata": {},
   "outputs": [],
   "source": [
    "# CSV Eye-tracker\n",
    "data = pd.read_csv(\"../data/part_712/part_712.csv\", sep=\"\\t\")\n",
    "# CFG Mouse-tracker\n",
    "config = pickle.load(open(\"../data/part_712/part_712.cfg\", 'rb'))"
   ]
  },
  {
   "cell_type": "markdown",
   "metadata": {},
   "source": [
    "*** Modification type of features ***"
   ]
  },
  {
   "cell_type": "code",
   "execution_count": 7,
   "metadata": {},
   "outputs": [],
   "source": [
    "data[\"NEXT_SAC_DIRECTION\"] = data[\"NEXT_SAC_DIRECTION\"].astype(\"category\")\n",
    "data[\"NEXT_SAC_DIRECTION\"].cat.categories\n",
    "data[\"CURRENT_FIX_Y\"] = pd.to_numeric(data[\"CURRENT_FIX_Y\"].str.replace(',','.'))\n",
    "data[\"CURRENT_FIX_X\"] = pd.to_numeric(data[\"CURRENT_FIX_X\"].str.replace(',','.'))\n",
    "data[\"NEXT_SAC_AMPLITUDE\"] = pd.to_numeric(data[\"NEXT_SAC_AMPLITUDE\"].str.replace(\".\", \"\").str.replace(\",\", \".\"))\n",
    "data[\"NEXT_SAC_END_X\"] = pd.to_numeric(data[\"NEXT_SAC_END_X\"].str.replace(\".\", \"\").str.replace(\",\", \".\"))\n",
    "data[\"NEXT_SAC_END_Y\"] = pd.to_numeric(data[\"NEXT_SAC_END_Y\"].str.replace(\".\", \"\").str.replace(\",\", \".\"))\n",
    "data[\"NEXT_SAC_DURATION\"] = pd.to_numeric(data[\"NEXT_SAC_DURATION\"].str.replace(\".\", \"\").str.replace(\",\", \".\"))\n",
    "data[\"NEXT_SAC_ANGLE\"] = pd.to_numeric(data[\"NEXT_SAC_ANGLE\"].str.replace(\".\", \"\").str.replace(\",\", \".\"))\n",
    "data[\"NEXT_SAC_AVG_VELOCITY\"] = pd.to_numeric(data[\"NEXT_SAC_AVG_VELOCITY\"].str.replace(\".\", \"\").str.replace(\",\", \".\"))"
   ]
  },
  {
   "cell_type": "code",
   "execution_count": 8,
   "metadata": {},
   "outputs": [
    {
     "data": {
      "text/plain": [
       "TRIAL_INDEX                 int64\n",
       "EYE_USED                   object\n",
       "CURRENT_FIX_X             float64\n",
       "CURRENT_FIX_Y             float64\n",
       "CURRENT_FIX_START           int64\n",
       "CURRENT_FIX_DURATION        int64\n",
       "NEXT_SAC_END_X            float64\n",
       "NEXT_SAC_END_Y            float64\n",
       "NEXT_SAC_AMPLITUDE        float64\n",
       "NEXT_SAC_DIRECTION       category\n",
       "NEXT_SAC_DURATION         float64\n",
       "NEXT_SAC_ANGLE            float64\n",
       "NEXT_SAC_AVG_VELOCITY     float64\n",
       "dtype: object"
      ]
     },
     "execution_count": 8,
     "metadata": {},
     "output_type": "execute_result"
    }
   ],
   "source": [
    "data.dtypes"
   ]
  },
  {
   "cell_type": "code",
   "execution_count": 9,
   "metadata": {},
   "outputs": [
    {
     "data": {
      "text/html": [
       "<div>\n",
       "<style scoped>\n",
       "    .dataframe tbody tr th:only-of-type {\n",
       "        vertical-align: middle;\n",
       "    }\n",
       "\n",
       "    .dataframe tbody tr th {\n",
       "        vertical-align: top;\n",
       "    }\n",
       "\n",
       "    .dataframe thead th {\n",
       "        text-align: right;\n",
       "    }\n",
       "</style>\n",
       "<table border=\"1\" class=\"dataframe\">\n",
       "  <thead>\n",
       "    <tr style=\"text-align: right;\">\n",
       "      <th></th>\n",
       "      <th>TRIAL_INDEX</th>\n",
       "      <th>EYE_USED</th>\n",
       "      <th>CURRENT_FIX_X</th>\n",
       "      <th>CURRENT_FIX_Y</th>\n",
       "      <th>CURRENT_FIX_START</th>\n",
       "      <th>CURRENT_FIX_DURATION</th>\n",
       "      <th>NEXT_SAC_END_X</th>\n",
       "      <th>NEXT_SAC_END_Y</th>\n",
       "      <th>NEXT_SAC_AMPLITUDE</th>\n",
       "      <th>NEXT_SAC_DIRECTION</th>\n",
       "      <th>NEXT_SAC_DURATION</th>\n",
       "      <th>NEXT_SAC_ANGLE</th>\n",
       "      <th>NEXT_SAC_AVG_VELOCITY</th>\n",
       "    </tr>\n",
       "  </thead>\n",
       "  <tbody>\n",
       "    <tr>\n",
       "      <th>0</th>\n",
       "      <td>1</td>\n",
       "      <td>RIGHT</td>\n",
       "      <td>915.9</td>\n",
       "      <td>709.4</td>\n",
       "      <td>7</td>\n",
       "      <td>73</td>\n",
       "      <td>1264.4</td>\n",
       "      <td>803.6</td>\n",
       "      <td>9.97</td>\n",
       "      <td>RIGHT</td>\n",
       "      <td>218.0</td>\n",
       "      <td>-15.42</td>\n",
       "      <td>45.72</td>\n",
       "    </tr>\n",
       "    <tr>\n",
       "      <th>1</th>\n",
       "      <td>1</td>\n",
       "      <td>RIGHT</td>\n",
       "      <td>1264.9</td>\n",
       "      <td>806.5</td>\n",
       "      <td>298</td>\n",
       "      <td>163</td>\n",
       "      <td>445.9</td>\n",
       "      <td>827.3</td>\n",
       "      <td>21.96</td>\n",
       "      <td>LEFT</td>\n",
       "      <td>87.0</td>\n",
       "      <td>-178.73</td>\n",
       "      <td>252.41</td>\n",
       "    </tr>\n",
       "    <tr>\n",
       "      <th>2</th>\n",
       "      <td>1</td>\n",
       "      <td>RIGHT</td>\n",
       "      <td>436.9</td>\n",
       "      <td>832.7</td>\n",
       "      <td>548</td>\n",
       "      <td>369</td>\n",
       "      <td>916.3</td>\n",
       "      <td>43.2</td>\n",
       "      <td>24.90</td>\n",
       "      <td>UP</td>\n",
       "      <td>187.0</td>\n",
       "      <td>58.76</td>\n",
       "      <td>133.17</td>\n",
       "    </tr>\n",
       "    <tr>\n",
       "      <th>3</th>\n",
       "      <td>1</td>\n",
       "      <td>RIGHT</td>\n",
       "      <td>897.7</td>\n",
       "      <td>43.2</td>\n",
       "      <td>1104</td>\n",
       "      <td>483</td>\n",
       "      <td>520.0</td>\n",
       "      <td>32.8</td>\n",
       "      <td>10.22</td>\n",
       "      <td>LEFT</td>\n",
       "      <td>64.0</td>\n",
       "      <td>177.59</td>\n",
       "      <td>159.69</td>\n",
       "    </tr>\n",
       "    <tr>\n",
       "      <th>4</th>\n",
       "      <td>1</td>\n",
       "      <td>RIGHT</td>\n",
       "      <td>514.1</td>\n",
       "      <td>35.0</td>\n",
       "      <td>1651</td>\n",
       "      <td>303</td>\n",
       "      <td>488.8</td>\n",
       "      <td>39.7</td>\n",
       "      <td>0.71</td>\n",
       "      <td>LEFT</td>\n",
       "      <td>13.0</td>\n",
       "      <td>-178.50</td>\n",
       "      <td>54.93</td>\n",
       "    </tr>\n",
       "  </tbody>\n",
       "</table>\n",
       "</div>"
      ],
      "text/plain": [
       "   TRIAL_INDEX EYE_USED  CURRENT_FIX_X  CURRENT_FIX_Y  CURRENT_FIX_START  \\\n",
       "0            1    RIGHT          915.9          709.4                  7   \n",
       "1            1    RIGHT         1264.9          806.5                298   \n",
       "2            1    RIGHT          436.9          832.7                548   \n",
       "3            1    RIGHT          897.7           43.2               1104   \n",
       "4            1    RIGHT          514.1           35.0               1651   \n",
       "\n",
       "   CURRENT_FIX_DURATION  NEXT_SAC_END_X  NEXT_SAC_END_Y  NEXT_SAC_AMPLITUDE  \\\n",
       "0                    73          1264.4           803.6                9.97   \n",
       "1                   163           445.9           827.3               21.96   \n",
       "2                   369           916.3            43.2               24.90   \n",
       "3                   483           520.0            32.8               10.22   \n",
       "4                   303           488.8            39.7                0.71   \n",
       "\n",
       "  NEXT_SAC_DIRECTION  NEXT_SAC_DURATION  NEXT_SAC_ANGLE  NEXT_SAC_AVG_VELOCITY  \n",
       "0              RIGHT              218.0          -15.42                  45.72  \n",
       "1               LEFT               87.0         -178.73                 252.41  \n",
       "2                 UP              187.0           58.76                 133.17  \n",
       "3               LEFT               64.0          177.59                 159.69  \n",
       "4               LEFT               13.0         -178.50                  54.93  "
      ]
     },
     "execution_count": 9,
     "metadata": {},
     "output_type": "execute_result"
    }
   ],
   "source": [
    "data.head()"
   ]
  },
  {
   "cell_type": "markdown",
   "metadata": {},
   "source": [
    "## Criterias"
   ]
  },
  {
   "cell_type": "code",
   "execution_count": 10,
   "metadata": {},
   "outputs": [],
   "source": [
    "condition1 = 0\n",
    "condition2 = 0\n",
    "condition3 = 0\n",
    "condition4 = 0\n",
    "condition5 = 0\n",
    "condition6 = 0\n",
    "condition7 = 0\n",
    "condition8 = 0\n",
    "condition9 = 0"
   ]
  },
  {
   "cell_type": "code",
   "execution_count": 11,
   "metadata": {},
   "outputs": [
    {
     "data": {
      "text/plain": [
       "array([[0, 0, 0, 0, 0, 0, 0, 0]])"
      ]
     },
     "execution_count": 11,
     "metadata": {},
     "output_type": "execute_result"
    }
   ],
   "source": [
    "a_matrix = np.array([[condition1, condition2, condition3, condition4, condition5, condition6, condition7, condition8]])\n",
    "a_matrix"
   ]
  },
  {
   "cell_type": "code",
   "execution_count": 12,
   "metadata": {},
   "outputs": [
    {
     "data": {
      "image/png": "[encoded data removed]",
      "text/plain": [
       "<matplotlib.figure.Figure at 0x20114ea65f8>"
      ]
     },
     "metadata": {},
     "output_type": "display_data"
    }
   ],
   "source": [
    "m = a_matrix.copy()  \n",
    "custom_colors = mpl.colors.LinearSegmentedColormap.from_list(\"\", [\"red\",\"orange\",\"green\"])\n",
    "\n",
    "plt.matshow(m, cmap=custom_colors, vmin = 0, vmax = 2)\n",
    "plt.show()"
   ]
  },
  {
   "cell_type": "markdown",
   "metadata": {},
   "source": [
    "*** 18 TRIAL_INDEX ***"
   ]
  },
  {
   "cell_type": "code",
   "execution_count": 13,
   "metadata": {},
   "outputs": [],
   "source": [
    "tri = data.TRIAL_INDEX.unique()\n",
    "tri.sort()"
   ]
  },
  {
   "cell_type": "code",
   "execution_count": 14,
   "metadata": {},
   "outputs": [],
   "source": [
    "good_condition = np.array([1,2,3,4,5,6,7,8,9,10,11,12,13,14,15,16,17,18])\n",
    "if ((tri == good_condition).all()) :\n",
    "    condition1 = 2"
   ]
  },
  {
   "cell_type": "markdown",
   "metadata": {},
   "source": [
    "*** CURRENT_FIX_X and CURRENT_FIX_Y are positives and in the 1920x1080 screen ***"
   ]
  },
  {
   "cell_type": "code",
   "execution_count": 15,
   "metadata": {},
   "outputs": [
    {
     "name": "stdout",
     "output_type": "stream",
     "text": [
      "99.0% of CURRENT_FIX_X are positives and < 1920 px\n",
      "99.0% of CURRENT_FIX_Y are positives and < 1080 px\n"
     ]
    }
   ],
   "source": [
    "print(str(round(len(data.query(\"CURRENT_FIX_X >= 0 and CURRENT_FIX_X <= 1920\"))/len(data),2)*100) \\\n",
    "      + \"% of CURRENT_FIX_X are positives and < 1920 px\")\n",
    "if (round(len(data.query(\"CURRENT_FIX_X >= 0 and CURRENT_FIX_X <= 1920\"))/len(data),2) == 1):\n",
    "    condition2 = 2\n",
    "if (round(len(data.query(\"CURRENT_FIX_X >= 0 and CURRENT_FIX_X <= 1920\"))/len(data),2) > 0.95) & (round(len(data.query(\"CURRENT_FIX_X >= 0 and CURRENT_FIX_X <= 1920\"))/len(data),2) < 1):\n",
    "    condition2 = 1\n",
    "print(str(round(len(data.query(\"CURRENT_FIX_Y >= 0 and CURRENT_FIX_Y <= 1080\"))/len(data),2)*100) +\\\n",
    "      \"% of CURRENT_FIX_Y are positives and < 1080 px\")\n",
    "if (round(len(data.query(\"CURRENT_FIX_Y >= 0 and CURRENT_FIX_Y <= 1080\"))/len(data),2) == 1):\n",
    "    condition3 = 2\n",
    "if (round(len(data.query(\"CURRENT_FIX_Y >= 0 and CURRENT_FIX_Y <= 1080\"))/len(data),2) > 0.95) & (round(len(data.query(\"CURRENT_FIX_Y >= 0 and CURRENT_FIX_Y <= 1080\"))/len(data),2) < 1):\n",
    "    condition3 = 1"
   ]
  },
  {
   "cell_type": "code",
   "execution_count": 16,
   "metadata": {},
   "outputs": [
    {
     "data": {
      "text/plain": [
       "<matplotlib.axes._subplots.AxesSubplot at 0x2011a932860>"
      ]
     },
     "execution_count": 16,
     "metadata": {},
     "output_type": "execute_result"
    },
    {
     "data": {
      "image/png": "[encoded data removed]",
      "text/plain": [
       "<matplotlib.figure.Figure at 0x20119608780>"
      ]
     },
     "metadata": {},
     "output_type": "display_data"
    }
   ],
   "source": [
    "fig, axs = plt.subplots(1,2)\n",
    "\n",
    "data[\"CURRENT_FIX_X\"].hist(ax=axs[0])\n",
    "data[\"CURRENT_FIX_Y\"].hist(ax=axs[1])"
   ]
  },
  {
   "cell_type": "markdown",
   "metadata": {},
   "source": [
    "*** CURRENT_FIX_START is positive ***"
   ]
  },
  {
   "cell_type": "code",
   "execution_count": 17,
   "metadata": {},
   "outputs": [
    {
     "name": "stdout",
     "output_type": "stream",
     "text": [
      "100.0% of CURRENT_FIX_START are positive\n"
     ]
    }
   ],
   "source": [
    "print(str(round(len(data.query(\"CURRENT_FIX_START >= 0\"))/len(data),3)*100) \\\n",
    "      + \"% of CURRENT_FIX_START are positive\")\n",
    "if (round(len(data.query(\"CURRENT_FIX_START >= 0\"))/len(data),3) == 1):\n",
    "    condition4 = 2\n",
    "if (round(len(data.query(\"CURRENT_FIX_START >= 0\"))/len(data),3) > 0.95) & (round(len(data.query(\"CURRENT_FIX_START >= 0\"))/len(data),3) < 1):\n",
    "    condition4 = 1"
   ]
  },
  {
   "cell_type": "markdown",
   "metadata": {},
   "source": [
    "*** EYE_USED is always equal to RIGHT ***"
   ]
  },
  {
   "cell_type": "code",
   "execution_count": 18,
   "metadata": {},
   "outputs": [
    {
     "name": "stdout",
     "output_type": "stream",
     "text": [
      "100.0% of EYE_USED are right\n"
     ]
    }
   ],
   "source": [
    "print(str(round(len(data.query(\"EYE_USED == 'RIGHT'\"))/len(data),3)*100) \\\n",
    "      + \"% of EYE_USED are right\")\n",
    "if (round(len(data.query(\"EYE_USED == 'RIGHT'\"))/len(data),3) == 1):\n",
    "    condition5 = 2"
   ]
  },
  {
   "cell_type": "markdown",
   "metadata": {},
   "source": [
    "*** CURRENT_FIX_DURATION is positive ***"
   ]
  },
  {
   "cell_type": "code",
   "execution_count": 19,
   "metadata": {},
   "outputs": [
    {
     "name": "stdout",
     "output_type": "stream",
     "text": [
      "100.0% of CURRENT_FIX_DURATION are positive\n"
     ]
    }
   ],
   "source": [
    "print(str(round(len(data.query(\"CURRENT_FIX_DURATION > 0\"))/len(data),3)*100) \\\n",
    "      + \"% of CURRENT_FIX_DURATION are positive\")\n",
    "if (round(len(data.query(\"CURRENT_FIX_DURATION > 0\"))/len(data),3) == 1):\n",
    "    condition6 = 2"
   ]
  },
  {
   "cell_type": "markdown",
   "metadata": {},
   "source": [
    "*** We have 18 WEBSITE_ID ***"
   ]
  },
  {
   "cell_type": "code",
   "execution_count": 20,
   "metadata": {},
   "outputs": [],
   "source": [
    "def get_website_id(trial_num):\n",
    "    return config[\"rand_weblist\"][trial_num - 1][\"id\"]\n",
    "\n",
    "data[\"WEBSITE_ID\"] = data[\"TRIAL_INDEX\"].apply(get_website_id)\n",
    "\n",
    "web = data[\"WEBSITE_ID\"].unique()\n",
    "web.sort()"
   ]
  },
  {
   "cell_type": "code",
   "execution_count": 21,
   "metadata": {},
   "outputs": [],
   "source": [
    "good_condition = np.array([1,2,3,4,5,6,7,8,9,10,11,12,13,14,15,16,17,18])\n",
    "if ((web == good_condition).all()) :\n",
    "    condition7 = 2"
   ]
  },
  {
   "cell_type": "markdown",
   "metadata": {},
   "source": [
    "*** We have 6 x 3 CONDITION ***"
   ]
  },
  {
   "cell_type": "code",
   "execution_count": 22,
   "metadata": {},
   "outputs": [
    {
     "data": {
      "text/html": [
       "<div>\n",
       "<style scoped>\n",
       "    .dataframe tbody tr th:only-of-type {\n",
       "        vertical-align: middle;\n",
       "    }\n",
       "\n",
       "    .dataframe tbody tr th {\n",
       "        vertical-align: top;\n",
       "    }\n",
       "\n",
       "    .dataframe thead th {\n",
       "        text-align: right;\n",
       "    }\n",
       "</style>\n",
       "<table border=\"1\" class=\"dataframe\">\n",
       "  <thead>\n",
       "    <tr style=\"text-align: right;\">\n",
       "      <th></th>\n",
       "      <th>TRIAL_INDEX</th>\n",
       "      <th>EYE_USED</th>\n",
       "      <th>CURRENT_FIX_X</th>\n",
       "      <th>CURRENT_FIX_Y</th>\n",
       "      <th>CURRENT_FIX_START</th>\n",
       "      <th>CURRENT_FIX_DURATION</th>\n",
       "      <th>NEXT_SAC_END_X</th>\n",
       "      <th>NEXT_SAC_END_Y</th>\n",
       "      <th>NEXT_SAC_AMPLITUDE</th>\n",
       "      <th>NEXT_SAC_DIRECTION</th>\n",
       "      <th>NEXT_SAC_DURATION</th>\n",
       "      <th>NEXT_SAC_ANGLE</th>\n",
       "      <th>NEXT_SAC_AVG_VELOCITY</th>\n",
       "      <th>WEBSITE_ID</th>\n",
       "      <th>CONDITION</th>\n",
       "    </tr>\n",
       "  </thead>\n",
       "  <tbody>\n",
       "    <tr>\n",
       "      <th>0</th>\n",
       "      <td>1</td>\n",
       "      <td>RIGHT</td>\n",
       "      <td>915.9</td>\n",
       "      <td>709.4</td>\n",
       "      <td>7</td>\n",
       "      <td>73</td>\n",
       "      <td>1264.4</td>\n",
       "      <td>803.6</td>\n",
       "      <td>9.97</td>\n",
       "      <td>RIGHT</td>\n",
       "      <td>218.0</td>\n",
       "      <td>-15.42</td>\n",
       "      <td>45.72</td>\n",
       "      <td>18</td>\n",
       "      <td>1</td>\n",
       "    </tr>\n",
       "    <tr>\n",
       "      <th>1</th>\n",
       "      <td>1</td>\n",
       "      <td>RIGHT</td>\n",
       "      <td>1264.9</td>\n",
       "      <td>806.5</td>\n",
       "      <td>298</td>\n",
       "      <td>163</td>\n",
       "      <td>445.9</td>\n",
       "      <td>827.3</td>\n",
       "      <td>21.96</td>\n",
       "      <td>LEFT</td>\n",
       "      <td>87.0</td>\n",
       "      <td>-178.73</td>\n",
       "      <td>252.41</td>\n",
       "      <td>18</td>\n",
       "      <td>1</td>\n",
       "    </tr>\n",
       "    <tr>\n",
       "      <th>2</th>\n",
       "      <td>1</td>\n",
       "      <td>RIGHT</td>\n",
       "      <td>436.9</td>\n",
       "      <td>832.7</td>\n",
       "      <td>548</td>\n",
       "      <td>369</td>\n",
       "      <td>916.3</td>\n",
       "      <td>43.2</td>\n",
       "      <td>24.90</td>\n",
       "      <td>UP</td>\n",
       "      <td>187.0</td>\n",
       "      <td>58.76</td>\n",
       "      <td>133.17</td>\n",
       "      <td>18</td>\n",
       "      <td>1</td>\n",
       "    </tr>\n",
       "    <tr>\n",
       "      <th>3</th>\n",
       "      <td>1</td>\n",
       "      <td>RIGHT</td>\n",
       "      <td>897.7</td>\n",
       "      <td>43.2</td>\n",
       "      <td>1104</td>\n",
       "      <td>483</td>\n",
       "      <td>520.0</td>\n",
       "      <td>32.8</td>\n",
       "      <td>10.22</td>\n",
       "      <td>LEFT</td>\n",
       "      <td>64.0</td>\n",
       "      <td>177.59</td>\n",
       "      <td>159.69</td>\n",
       "      <td>18</td>\n",
       "      <td>1</td>\n",
       "    </tr>\n",
       "    <tr>\n",
       "      <th>4</th>\n",
       "      <td>1</td>\n",
       "      <td>RIGHT</td>\n",
       "      <td>514.1</td>\n",
       "      <td>35.0</td>\n",
       "      <td>1651</td>\n",
       "      <td>303</td>\n",
       "      <td>488.8</td>\n",
       "      <td>39.7</td>\n",
       "      <td>0.71</td>\n",
       "      <td>LEFT</td>\n",
       "      <td>13.0</td>\n",
       "      <td>-178.50</td>\n",
       "      <td>54.93</td>\n",
       "      <td>18</td>\n",
       "      <td>1</td>\n",
       "    </tr>\n",
       "  </tbody>\n",
       "</table>\n",
       "</div>"
      ],
      "text/plain": [
       "   TRIAL_INDEX EYE_USED  CURRENT_FIX_X  CURRENT_FIX_Y  CURRENT_FIX_START  \\\n",
       "0            1    RIGHT          915.9          709.4                  7   \n",
       "1            1    RIGHT         1264.9          806.5                298   \n",
       "2            1    RIGHT          436.9          832.7                548   \n",
       "3            1    RIGHT          897.7           43.2               1104   \n",
       "4            1    RIGHT          514.1           35.0               1651   \n",
       "\n",
       "   CURRENT_FIX_DURATION  NEXT_SAC_END_X  NEXT_SAC_END_Y  NEXT_SAC_AMPLITUDE  \\\n",
       "0                    73          1264.4           803.6                9.97   \n",
       "1                   163           445.9           827.3               21.96   \n",
       "2                   369           916.3            43.2               24.90   \n",
       "3                   483           520.0            32.8               10.22   \n",
       "4                   303           488.8            39.7                0.71   \n",
       "\n",
       "  NEXT_SAC_DIRECTION  NEXT_SAC_DURATION  NEXT_SAC_ANGLE  \\\n",
       "0              RIGHT              218.0          -15.42   \n",
       "1               LEFT               87.0         -178.73   \n",
       "2                 UP              187.0           58.76   \n",
       "3               LEFT               64.0          177.59   \n",
       "4               LEFT               13.0         -178.50   \n",
       "\n",
       "   NEXT_SAC_AVG_VELOCITY  WEBSITE_ID  CONDITION  \n",
       "0                  45.72          18          1  \n",
       "1                 252.41          18          1  \n",
       "2                 133.17          18          1  \n",
       "3                 159.69          18          1  \n",
       "4                  54.93          18          1  "
      ]
     },
     "execution_count": 22,
     "metadata": {},
     "output_type": "execute_result"
    }
   ],
   "source": [
    "def get_condition(trial_num):\n",
    "    data = config[\"rand_weblist\"][trial_num - 1]\n",
    "    if(data[\"type\"] == \"free\" and data[\"ad_id\"] == 0 and data[\"mpu_id\"] == 0):\n",
    "        return 1\n",
    "    elif(data[\"type\"] == \"target\" and data[\"ad_id\"] == 0 and data[\"mpu_id\"] == 0):\n",
    "        return 2\n",
    "    elif(data[\"type\"] == \"free\" and data[\"ad_id\"] > 0 and data[\"mpu_id\"] == 0):\n",
    "        return 3\n",
    "    elif(data[\"type\"] == \"target\" and data[\"ad_id\"] > 0 and data[\"mpu_id\"] == 0):\n",
    "        return 4\n",
    "    elif(data[\"type\"] == \"free\" and data[\"ad_id\"] > 0 and data[\"mpu_id\"] > 0):\n",
    "        return 5\n",
    "    elif(data[\"type\"] == \"target\" and data[\"ad_id\"] > 0 and data[\"mpu_id\"] > 0):\n",
    "        return 6\n",
    "    \n",
    "    return None\n",
    "\n",
    "data[\"CONDITION\"] = data[\"TRIAL_INDEX\"].apply(get_condition)\n",
    "data.head()"
   ]
  },
  {
   "cell_type": "code",
   "execution_count": 23,
   "metadata": {},
   "outputs": [],
   "source": [
    "cond = data[\"CONDITION\"].unique()\n",
    "cond.sort()"
   ]
  },
  {
   "cell_type": "code",
   "execution_count": 24,
   "metadata": {},
   "outputs": [],
   "source": [
    "good_condition = np.array([1,2,3,4,5,6])\n",
    "if ((cond == good_condition).all()) :\n",
    "    condition8 = 2"
   ]
  },
  {
   "cell_type": "markdown",
   "metadata": {},
   "source": [
    "## CHECK"
   ]
  },
  {
   "cell_type": "code",
   "execution_count": 25,
   "metadata": {},
   "outputs": [
    {
     "data": {
      "image/png": "[encoded data removed]",
      "text/plain": [
       "<matplotlib.figure.Figure at 0x2011965cfd0>"
      ]
     },
     "metadata": {},
     "output_type": "display_data"
    }
   ],
   "source": [
    "plt.close()\n",
    "a_matrix = np.array([[condition1, condition2, condition3, condition4, condition5, condition6, condition7, condition8]])\n",
    "\n",
    "m = a_matrix.copy()  \n",
    "\n",
    "plt.matshow(a_matrix, cmap=custom_colors, vmin = 0, vmax = 2)\n",
    "plt.show()"
   ]
  }
 ],
 "metadata": {
  "kernelspec": {
   "display_name": "Python 3",
   "language": "python",
   "name": "python3"
  },
  "language_info": {
   "codemirror_mode": {
    "name": "ipython",
    "version": 3
   },
   "file_extension": ".py",
   "mimetype": "text/x-python",
   "name": "python",
   "nbconvert_exporter": "python",
   "pygments_lexer": "ipython3",
   "version": "3.6.4"
  }
 },
 "nbformat": 4,
 "nbformat_minor": 2
}
