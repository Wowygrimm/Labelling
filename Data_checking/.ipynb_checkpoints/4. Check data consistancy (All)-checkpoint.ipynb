{
 "cells": [
  {
   "cell_type": "code",
   "execution_count": 1,
   "metadata": {},
   "outputs": [],
   "source": [
    "%matplotlib inline"
   ]
  },
  {
   "cell_type": "code",
   "execution_count": 2,
   "metadata": {},
   "outputs": [],
   "source": [
    "import pandas as pd\n",
    "import numpy as np\n",
    "\n",
    "import pickle\n",
    "import os\n",
    "import glob\n",
    "import re\n",
    "\n",
    "import seaborn as sns\n",
    "import matplotlib as mpl\n",
    "import matplotlib.pyplot as plt"
   ]
  },
  {
   "cell_type": "markdown",
   "metadata": {},
   "source": [
    "# Table of contents"
   ]
  },
  {
   "cell_type": "markdown",
   "metadata": {},
   "source": [
    "* [Criterias](#Validation-criterias)\n",
    "* [Functions](#Functions)\n",
    "* [Process](#Process)\n",
    "* [Export](#Export)\n",
    "* [Drop trials](#Drop-trials)"
   ]
  },
  {
   "cell_type": "markdown",
   "metadata": {},
   "source": [
    "# Validation criterias\n",
    "\n",
    "- We have 18 TRIAL_INDEX\n",
    "\n",
    "- CURRENT_FIX_X and CURRENT_FIX_Y are positives and in the 1920x1080 screen\n",
    "\n",
    "- CURRENT_FIX_START is positive\n",
    "\n",
    "- EYE_USED is always equal to RIGHT\n",
    "\n",
    "- CURRENT_FIX_DURATION is positive\n",
    "\n",
    "- We have 18 WEBSITE_ID\n",
    "\n",
    "- We have 6 x 3 CONDITION "
   ]
  },
  {
   "cell_type": "markdown",
   "metadata": {},
   "source": [
    "# Functions"
   ]
  },
  {
   "cell_type": "code",
   "execution_count": 3,
   "metadata": {},
   "outputs": [],
   "source": [
    "# TRIAL_INDEX\n",
    "def check_trial_count(data):\n",
    "    # Sort by TRIAL_INDEX\n",
    "    data_sorted = data[\"TRIAL_INDEX\"].unique()\n",
    "    data_sorted.sort()\n",
    "    \n",
    "    good_trialsID = np.arange(1, 19)\n",
    "    if(np.array_equal(data_sorted, good_trialsID)):\n",
    "        return 2\n",
    "    else:\n",
    "        return 0"
   ]
  },
  {
   "cell_type": "code",
   "execution_count": 4,
   "metadata": {},
   "outputs": [],
   "source": [
    "def check_x(data):\n",
    "    df = data.query(\"CURRENT_FIX_X < 0 or CURRENT_FIX_X > 1920\")\n",
    "    fixX_prop_inscreen = 1 - round(df.shape[0]/data.shape[0], 2)\n",
    "\n",
    "    if (fixX_prop_inscreen == 1):\n",
    "        return 2, None\n",
    "    elif (fixX_prop_inscreen > 0.95):\n",
    "        return 1, df[\"TRIAL_INDEX\"].unique()\n",
    "    else:\n",
    "        return 0, df[\"TRIAL_INDEX\"].unique()"
   ]
  },
  {
   "cell_type": "code",
   "execution_count": 5,
   "metadata": {},
   "outputs": [],
   "source": [
    "def check_y(data):\n",
    "    df = data.query(\"CURRENT_FIX_Y < 0 or CURRENT_FIX_Y > 1080\")\n",
    "    fixY_prop_inscreen = 1 - round(df.shape[0]/data.shape[0], 2)\n",
    "\n",
    "    if (fixY_prop_inscreen == 1):\n",
    "        return 2, None\n",
    "    elif (fixY_prop_inscreen > 0.95):\n",
    "        return 1, df[\"TRIAL_INDEX\"].unique()\n",
    "    else:\n",
    "        return 0, df[\"TRIAL_INDEX\"].unique()"
   ]
  },
  {
   "cell_type": "code",
   "execution_count": 6,
   "metadata": {},
   "outputs": [],
   "source": [
    "def check_fix_start(data):\n",
    "    df = data.query(\"CURRENT_FIX_START < 0\")\n",
    "    fixStart_prop = 1 - round(df.shape[0]/data.shape[0], 2) \n",
    "\n",
    "    if (fixStart_prop == 1):\n",
    "        return 2, None\n",
    "    elif (fixStart_prop > 0.95):\n",
    "        return 1, df[\"TRIAL_INDEX\"].unique()\n",
    "    else:\n",
    "        return 0, df[\"TRIAL_INDEX\"].unique()"
   ]
  },
  {
   "cell_type": "code",
   "execution_count": 7,
   "metadata": {},
   "outputs": [],
   "source": [
    "def check_eye(data):\n",
    "    eye_prop = round(len(data.query(\"EYE_USED == 'RIGHT'\"))/len(data),3)\n",
    "\n",
    "    if (eye_prop == 1):\n",
    "        return 2\n",
    "    else:\n",
    "        return 0"
   ]
  },
  {
   "cell_type": "code",
   "execution_count": 8,
   "metadata": {},
   "outputs": [],
   "source": [
    "def check_fix_duration(data):\n",
    "    df = data.query(\"CURRENT_FIX_DURATION < 0\")\n",
    "    fixDuration_prop = 1 - round(df.shape[0]/data.shape[0], 3)\n",
    "\n",
    "    if (fixDuration_prop == 1):\n",
    "        return 2, None\n",
    "    else:\n",
    "        return 0, df[\"TRIAL_INDEX\"].unique()"
   ]
  },
  {
   "cell_type": "code",
   "execution_count": 9,
   "metadata": {},
   "outputs": [],
   "source": [
    "def check_website_id(data):\n",
    "    def get_website_id(trial_num):\n",
    "        return config[\"rand_weblist\"][trial_num - 1][\"id\"]\n",
    "\n",
    "    data[\"WEBSITE_ID\"] = data[\"TRIAL_INDEX\"].apply(get_website_id)\n",
    "\n",
    "    web = data[\"WEBSITE_ID\"].unique()\n",
    "    web.sort()\n",
    "\n",
    "    good_websites = np.arange(1, 19)\n",
    "    if(np.array_equal(web, good_websites)):\n",
    "        return 2\n",
    "    else:\n",
    "        return 0"
   ]
  },
  {
   "cell_type": "code",
   "execution_count": 10,
   "metadata": {},
   "outputs": [],
   "source": [
    "def check_condition(data):\n",
    "    def get_condition(trial_num):\n",
    "        data = config[\"rand_weblist\"][trial_num - 1]\n",
    "        if(data[\"type\"] == \"free\" and data[\"ad_id\"] == 0 and data[\"mpu_id\"] == 0):\n",
    "            return 1\n",
    "        elif(data[\"type\"] == \"target\" and data[\"ad_id\"] == 0 and data[\"mpu_id\"] == 0):\n",
    "            return 2\n",
    "        elif(data[\"type\"] == \"free\" and data[\"ad_id\"] > 0 and data[\"mpu_id\"] == 0):\n",
    "            return 3\n",
    "        elif(data[\"type\"] == \"target\" and data[\"ad_id\"] > 0 and data[\"mpu_id\"] == 0):\n",
    "            return 4\n",
    "        elif(data[\"type\"] == \"free\" and data[\"ad_id\"] > 0 and data[\"mpu_id\"] > 0):\n",
    "            return 5\n",
    "        elif(data[\"type\"] == \"target\" and data[\"ad_id\"] > 0 and data[\"mpu_id\"] > 0):\n",
    "            return 6\n",
    "\n",
    "        return None\n",
    "\n",
    "    data[\"CONDITION\"] = data[\"TRIAL_INDEX\"].apply(get_condition)\n",
    "    data.head()\n",
    "    cond = data[\"CONDITION\"].unique()\n",
    "    cond.sort()\n",
    "    good_condition = np.arange(1, 7)\n",
    "    if(np.array_equal(cond, good_condition)):\n",
    "        return 2\n",
    "    else:\n",
    "        return 0"
   ]
  },
  {
   "cell_type": "markdown",
   "metadata": {},
   "source": [
    "# Process"
   ]
  },
  {
   "cell_type": "code",
   "execution_count": 11,
   "metadata": {},
   "outputs": [],
   "source": [
    "rootPath = '../data/'\n",
    "file_suffix = \"_no_outsider.csv\""
   ]
  },
  {
   "cell_type": "code",
   "execution_count": 12,
   "metadata": {},
   "outputs": [],
   "source": [
    "deep_pal = sns.color_palette('deep')\n",
    "colors_heatmap = sns.blend_palette([deep_pal[2], deep_pal[4], deep_pal[1]], as_cmap=True)"
   ]
  },
  {
   "cell_type": "code",
   "execution_count": 13,
   "metadata": {},
   "outputs": [],
   "source": [
    "df = pd.DataFrame([], columns=[\n",
    "    \"PART_ID\", \"TRIAL_NB\", \"FIX_X\", \"FIX_Y\", \"FIX_START\", \"RIGHT_EYE\", \"FIX_DURATION\", \"WEBSITE_ID\", \"CONDITION\", \"TRIALS\"])\n",
    "\n",
    "files = glob.glob(\"{0}part_*/part_*{1}\".format(rootPath, file_suffix))\n",
    "for filename in files:\n",
    "    data = pd.read_csv(filename)\n",
    "    config = pickle.load(open(filename.replace(file_suffix, \".cfg\"), 'rb'))\n",
    "    \n",
    "    to_insert = {\n",
    "        \"PART_ID\":np.nan,\n",
    "        \"TRIAL_NB\":np.nan,\n",
    "        \"FIX_X\":np.nan,\n",
    "        \"FIX_Y\":np.nan,\n",
    "        \"FIX_START\":np.nan,\n",
    "        \"RIGHT_EYE\":np.nan,\n",
    "        \"FIX_DURATION\":np.nan,\n",
    "        \"WEBSITE_ID\":np.nan,\n",
    "        \"CONDITION\":np.nan,\n",
    "        \"TRIALS\": np.nan\n",
    "    }\n",
    "    \n",
    "    to_insert[\"PART_ID\"] = data[\"PART_ID\"].unique()[0]\n",
    "    #to_insert[\"PART_FILE\"] = filename\n",
    "    \n",
    "    # *** 18 TRIALS ***\n",
    "    to_insert[\"TRIAL_NB\"] = check_trial_count(data)\n",
    "\n",
    "    # *** CURRENT_FIX_X and CURRENT_FIX_Y are positives and in the 1920x1080 screen ***\n",
    "    to_insert[\"FIX_X\"], trials_check2 = check_x(data)\n",
    "    to_insert[\"FIX_Y\"], trials_check3 = check_y(data)\n",
    "    \n",
    "    # *** CURRENT_FIX_START is positive ***\n",
    "    to_insert[\"FIX_START\"], trials_check4 = check_fix_start(data)\n",
    "\n",
    "    # *** EYE_USED is always equal to RIGHT ***\n",
    "    to_insert[\"RIGHT_EYE\"] = check_eye(data)\n",
    "\n",
    "    # *** CURRENT_FIX_DURATION is positive ***\n",
    "    to_insert[\"FIX_DURATION\"], trials_check6 = check_fix_duration(data)\n",
    "\n",
    "    # *** We have 18 WEBSITE_ID ***\n",
    "    to_insert[\"WEBSITE_ID\"] = check_website_id(data)\n",
    "\n",
    "    # *** We have 6 x 3 CONDITION ***\n",
    "    to_insert[\"CONDITION\"] = check_condition(data)\n",
    "    \n",
    "    # *** Trials to drop ***\n",
    "    to_insert[\"TRIALS\"] = [trials_check2, trials_check3, trials_check4, trials_check6]\n",
    "    \n",
    "    df = df.append([to_insert])"
   ]
  },
  {
   "cell_type": "code",
   "execution_count": 14,
   "metadata": {},
   "outputs": [],
   "source": [
    "# Arrange dataset to pretty print it\n",
    "df = df.sort_values(\"PART_ID\")\n",
    "df.index = df[\"PART_ID\"].astype(int)\n",
    "df.drop(\"PART_ID\", inplace=True, axis=1)"
   ]
  },
  {
   "cell_type": "code",
   "execution_count": 15,
   "metadata": {},
   "outputs": [
    {
     "data": {
      "text/plain": [
       "<matplotlib.axes._subplots.AxesSubplot at 0x125b09208>"
      ]
     },
     "execution_count": 15,
     "metadata": {},
     "output_type": "execute_result"
    },
    {
     "data": {
      "image/png": "[encoded data removed]",
      "text/plain": [
       "<Figure size 1440x792 with 2 Axes>"
      ]
     },
     "metadata": {},
     "output_type": "display_data"
    }
   ],
   "source": [
    "# Display\n",
    "plt.figure(figsize = (20,11))\n",
    "sns.heatmap(df.drop([\"TRIALS\"], axis=1), annot=True, linewidths=1, linecolor='white', cmap=colors_heatmap, center=1, )\n"
   ]
  },
  {
   "cell_type": "markdown",
   "metadata": {},
   "source": [
    "# Export"
   ]
  },
  {
   "cell_type": "code",
   "execution_count": 16,
   "metadata": {},
   "outputs": [
    {
     "ename": "ValueError",
     "evalue": "",
     "output_type": "error",
     "traceback": [
      "\u001b[0;31m---------------------------------------------------------------------------\u001b[0m",
      "\u001b[0;31mValueError\u001b[0m                                Traceback (most recent call last)",
      "\u001b[0;32m<ipython-input-16-0f96e7ecad81>\u001b[0m in \u001b[0;36m<module>\u001b[0;34m()\u001b[0m\n\u001b[1;32m      1\u001b[0m \u001b[0;31m# Here in case you just want to check the status without exporting again\u001b[0m\u001b[0;34m\u001b[0m\u001b[0;34m\u001b[0m\u001b[0m\n\u001b[0;32m----> 2\u001b[0;31m \u001b[0;32mraise\u001b[0m \u001b[0mValueError\u001b[0m\u001b[0;34m\u001b[0m\u001b[0m\n\u001b[0m",
      "\u001b[0;31mValueError\u001b[0m: "
     ]
    }
   ],
   "source": [
    "# Here in case you just want to check the status without exporting again\n",
    "raise ValueError"
   ]
  },
  {
   "cell_type": "code",
   "execution_count": 17,
   "metadata": {},
   "outputs": [],
   "source": [
    "# Export Matrix trials\n",
    "df.reset_index().drop([\"TRIALS\"], axis=1).to_csv('{}matrix_trials.csv'.format(rootPath), index=False)"
   ]
  },
  {
   "cell_type": "code",
   "execution_count": 18,
   "metadata": {},
   "outputs": [],
   "source": [
    "# Export trials to drop\n",
    "df.reset_index()[[\"PART_ID\",\"TRIALS\"]].to_csv('{}trials_droplist.csv'.format(rootPath), index=False)"
   ]
  },
  {
   "cell_type": "code",
   "execution_count": null,
   "metadata": {},
   "outputs": [],
   "source": []
  }
 ],
 "metadata": {
  "anaconda-cloud": {},
  "kernelspec": {
   "display_name": "Python 3",
   "language": "python",
   "name": "python3"
  },
  "language_info": {
   "codemirror_mode": {
    "name": "ipython",
    "version": 3
   },
   "file_extension": ".py",
   "mimetype": "text/x-python",
   "name": "python",
   "nbconvert_exporter": "python",
   "pygments_lexer": "ipython3",
   "version": "3.6.4"
  },
  "varInspector": {
   "cols": {
    "lenName": 16,
    "lenType": 16,
    "lenVar": 40
   },
   "kernels_config": {
    "python": {
     "delete_cmd_postfix": "",
     "delete_cmd_prefix": "del ",
     "library": "var_list.py",
     "varRefreshCmd": "print(var_dic_list())"
    },
    "r": {
     "delete_cmd_postfix": ") ",
     "delete_cmd_prefix": "rm(",
     "library": "var_list.r",
     "varRefreshCmd": "cat(var_dic_list()) "
    }
   },
   "types_to_exclude": [
    "module",
    "function",
    "builtin_function_or_method",
    "instance",
    "_Feature"
   ],
   "window_display": false
  }
 },
 "nbformat": 4,
 "nbformat_minor": 2
}
