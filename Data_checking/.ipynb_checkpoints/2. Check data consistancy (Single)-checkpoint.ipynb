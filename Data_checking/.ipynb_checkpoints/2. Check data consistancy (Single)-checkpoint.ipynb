{
 "cells": [
  {
   "cell_type": "markdown",
   "metadata": {},
   "source": [
    "## Library"
   ]
  },
  {
   "cell_type": "code",
   "execution_count": 1,
   "metadata": {},
   "outputs": [],
   "source": [
    "%matplotlib inline\n",
    "import pandas as pd\n",
    "import numpy as np\n",
    "import pickle\n",
    "import matplotlib.pyplot as plt\n",
    "import os\n",
    "import matplotlib as mpl"
   ]
  },
  {
   "cell_type": "markdown",
   "metadata": {},
   "source": [
    "*** Validation criterias: ***\n",
    "\n",
    "- We have 18 TRIAL_INDEX\n",
    "\n",
    "- CURRENT_FIX_X and CURRENT_FIX_Y are positives and in the 1920x1080 screen\n",
    "\n",
    "- CURRENT_FIX_START is positive\n",
    "\n",
    "- EYE_USED is always equal to RIGHT\n",
    "\n",
    "- CURRENT_FIX_DURATION is positive\n",
    "\n",
    "- We have 18 WEBSITE_ID\n",
    "\n",
    "- We have 6 x 3 CONDITION "
   ]
  },
  {
   "cell_type": "markdown",
   "metadata": {},
   "source": [
    "*** Import Data ***"
   ]
  },
  {
   "cell_type": "code",
   "execution_count": 2,
   "metadata": {},
   "outputs": [],
   "source": [
    "rootPath = '../data/'\n",
    "partID = 710"
   ]
  },
  {
   "cell_type": "code",
   "execution_count": 3,
   "metadata": {},
   "outputs": [],
   "source": [
    "# CSV Eye-tracker\n",
    "data = pd.read_csv(\"{0}/part_{1}/part_{1}.csv\".format(rootPath, partID), sep=\"\\t\")\n",
    "# CFG Mouse-tracker\n",
    "config = pickle.load(open(\"{0}/part_{1}/part_{1}.cfg\".format(rootPath, partID), 'rb'))"
   ]
  },
  {
   "cell_type": "markdown",
   "metadata": {},
   "source": [
    "*** Modification type of features ***"
   ]
  },
  {
   "cell_type": "code",
   "execution_count": 4,
   "metadata": {},
   "outputs": [],
   "source": [
    "data[\"CURRENT_FIX_Y\"] = pd.to_numeric(data[\"CURRENT_FIX_Y\"].str.replace(',','.'))\n",
    "data[\"CURRENT_FIX_X\"] = pd.to_numeric(data[\"CURRENT_FIX_X\"].str.replace(',','.'))\n",
    "data[\"NEXT_SAC_AMPLITUDE\"] = pd.to_numeric(data[\"NEXT_SAC_AMPLITUDE\"].str.replace(\".\", \"\").str.replace(\",\", \".\"))\n",
    "data[\"NEXT_SAC_END_X\"] = pd.to_numeric(data[\"NEXT_SAC_END_X\"].str.replace(\".\", \"\").str.replace(\",\", \".\"))\n",
    "data[\"NEXT_SAC_END_Y\"] = pd.to_numeric(data[\"NEXT_SAC_END_Y\"].str.replace(\".\", \"\").str.replace(\",\", \".\"))\n",
    "data[\"NEXT_SAC_DURATION\"] = pd.to_numeric(data[\"NEXT_SAC_DURATION\"].str.replace(\".\", \"\").str.replace(\",\", \".\"))\n",
    "data[\"NEXT_SAC_ANGLE\"] = pd.to_numeric(data[\"NEXT_SAC_ANGLE\"].str.replace(\".\", \"\").str.replace(\",\", \".\"))\n",
    "data[\"NEXT_SAC_AVG_VELOCITY\"] = pd.to_numeric(data[\"NEXT_SAC_AVG_VELOCITY\"].str.replace(\".\", \"\").str.replace(\",\", \".\"))"
   ]
  },
  {
   "cell_type": "code",
   "execution_count": 5,
   "metadata": {},
   "outputs": [
    {
     "data": {
      "text/plain": [
       "TRIAL_INDEX                int64\n",
       "EYE_USED                  object\n",
       "CURRENT_FIX_X            float64\n",
       "CURRENT_FIX_Y            float64\n",
       "CURRENT_FIX_START          int64\n",
       "CURRENT_FIX_DURATION       int64\n",
       "NEXT_SAC_END_X           float64\n",
       "NEXT_SAC_END_Y           float64\n",
       "NEXT_SAC_AMPLITUDE       float64\n",
       "NEXT_SAC_DIRECTION        object\n",
       "NEXT_SAC_DURATION        float64\n",
       "NEXT_SAC_ANGLE           float64\n",
       "NEXT_SAC_AVG_VELOCITY    float64\n",
       "dtype: object"
      ]
     },
     "execution_count": 5,
     "metadata": {},
     "output_type": "execute_result"
    }
   ],
   "source": [
    "data.dtypes"
   ]
  },
  {
   "cell_type": "code",
   "execution_count": 6,
   "metadata": {},
   "outputs": [
    {
     "data": {
      "text/html": [
       "<div>\n",
       "<style scoped>\n",
       "    .dataframe tbody tr th:only-of-type {\n",
       "        vertical-align: middle;\n",
       "    }\n",
       "\n",
       "    .dataframe tbody tr th {\n",
       "        vertical-align: top;\n",
       "    }\n",
       "\n",
       "    .dataframe thead th {\n",
       "        text-align: right;\n",
       "    }\n",
       "</style>\n",
       "<table border=\"1\" class=\"dataframe\">\n",
       "  <thead>\n",
       "    <tr style=\"text-align: right;\">\n",
       "      <th></th>\n",
       "      <th>TRIAL_INDEX</th>\n",
       "      <th>EYE_USED</th>\n",
       "      <th>CURRENT_FIX_X</th>\n",
       "      <th>CURRENT_FIX_Y</th>\n",
       "      <th>CURRENT_FIX_START</th>\n",
       "      <th>CURRENT_FIX_DURATION</th>\n",
       "      <th>NEXT_SAC_END_X</th>\n",
       "      <th>NEXT_SAC_END_Y</th>\n",
       "      <th>NEXT_SAC_AMPLITUDE</th>\n",
       "      <th>NEXT_SAC_DIRECTION</th>\n",
       "      <th>NEXT_SAC_DURATION</th>\n",
       "      <th>NEXT_SAC_ANGLE</th>\n",
       "      <th>NEXT_SAC_AVG_VELOCITY</th>\n",
       "    </tr>\n",
       "  </thead>\n",
       "  <tbody>\n",
       "    <tr>\n",
       "      <th>0</th>\n",
       "      <td>1</td>\n",
       "      <td>RIGHT</td>\n",
       "      <td>751.4</td>\n",
       "      <td>491.6</td>\n",
       "      <td>7</td>\n",
       "      <td>211</td>\n",
       "      <td>1150.5</td>\n",
       "      <td>431.7</td>\n",
       "      <td>11.35</td>\n",
       "      <td>RIGHT</td>\n",
       "      <td>123.0</td>\n",
       "      <td>8.27</td>\n",
       "      <td>92.31</td>\n",
       "    </tr>\n",
       "    <tr>\n",
       "      <th>1</th>\n",
       "      <td>1</td>\n",
       "      <td>RIGHT</td>\n",
       "      <td>1143.6</td>\n",
       "      <td>392.6</td>\n",
       "      <td>341</td>\n",
       "      <td>96</td>\n",
       "      <td>1208.0</td>\n",
       "      <td>497.6</td>\n",
       "      <td>3.57</td>\n",
       "      <td>DOWN</td>\n",
       "      <td>202.0</td>\n",
       "      <td>-60.54</td>\n",
       "      <td>17.69</td>\n",
       "    </tr>\n",
       "    <tr>\n",
       "      <th>2</th>\n",
       "      <td>1</td>\n",
       "      <td>RIGHT</td>\n",
       "      <td>1202.0</td>\n",
       "      <td>430.1</td>\n",
       "      <td>639</td>\n",
       "      <td>102</td>\n",
       "      <td>1258.9</td>\n",
       "      <td>452.7</td>\n",
       "      <td>2.18</td>\n",
       "      <td>RIGHT</td>\n",
       "      <td>25.0</td>\n",
       "      <td>-37.68</td>\n",
       "      <td>87.37</td>\n",
       "    </tr>\n",
       "    <tr>\n",
       "      <th>3</th>\n",
       "      <td>1</td>\n",
       "      <td>RIGHT</td>\n",
       "      <td>1250.5</td>\n",
       "      <td>431.0</td>\n",
       "      <td>766</td>\n",
       "      <td>194</td>\n",
       "      <td>727.1</td>\n",
       "      <td>437.9</td>\n",
       "      <td>14.59</td>\n",
       "      <td>LEFT</td>\n",
       "      <td>75.0</td>\n",
       "      <td>-178.00</td>\n",
       "      <td>194.59</td>\n",
       "    </tr>\n",
       "    <tr>\n",
       "      <th>4</th>\n",
       "      <td>1</td>\n",
       "      <td>RIGHT</td>\n",
       "      <td>710.5</td>\n",
       "      <td>430.3</td>\n",
       "      <td>1035</td>\n",
       "      <td>146</td>\n",
       "      <td>828.1</td>\n",
       "      <td>318.0</td>\n",
       "      <td>4.50</td>\n",
       "      <td>RIGHT</td>\n",
       "      <td>44.0</td>\n",
       "      <td>42.19</td>\n",
       "      <td>102.33</td>\n",
       "    </tr>\n",
       "  </tbody>\n",
       "</table>\n",
       "</div>"
      ],
      "text/plain": [
       "   TRIAL_INDEX EYE_USED  CURRENT_FIX_X  CURRENT_FIX_Y  CURRENT_FIX_START  \\\n",
       "0            1    RIGHT          751.4          491.6                  7   \n",
       "1            1    RIGHT         1143.6          392.6                341   \n",
       "2            1    RIGHT         1202.0          430.1                639   \n",
       "3            1    RIGHT         1250.5          431.0                766   \n",
       "4            1    RIGHT          710.5          430.3               1035   \n",
       "\n",
       "   CURRENT_FIX_DURATION  NEXT_SAC_END_X  NEXT_SAC_END_Y  NEXT_SAC_AMPLITUDE  \\\n",
       "0                   211          1150.5           431.7               11.35   \n",
       "1                    96          1208.0           497.6                3.57   \n",
       "2                   102          1258.9           452.7                2.18   \n",
       "3                   194           727.1           437.9               14.59   \n",
       "4                   146           828.1           318.0                4.50   \n",
       "\n",
       "  NEXT_SAC_DIRECTION  NEXT_SAC_DURATION  NEXT_SAC_ANGLE  NEXT_SAC_AVG_VELOCITY  \n",
       "0              RIGHT              123.0            8.27                  92.31  \n",
       "1               DOWN              202.0          -60.54                  17.69  \n",
       "2              RIGHT               25.0          -37.68                  87.37  \n",
       "3               LEFT               75.0         -178.00                 194.59  \n",
       "4              RIGHT               44.0           42.19                 102.33  "
      ]
     },
     "execution_count": 6,
     "metadata": {},
     "output_type": "execute_result"
    }
   ],
   "source": [
    "data.head()"
   ]
  },
  {
   "cell_type": "markdown",
   "metadata": {},
   "source": [
    "## Criterias"
   ]
  },
  {
   "cell_type": "code",
   "execution_count": 16,
   "metadata": {},
   "outputs": [
    {
     "data": {
      "text/plain": [
       "array([0, 0, 0, 0, 0, 0, 0, 0])"
      ]
     },
     "execution_count": 16,
     "metadata": {},
     "output_type": "execute_result"
    }
   ],
   "source": [
    "a_matrix = np.array([0, 0, 0, 0, 0, 0, 0, 0])\n",
    "a_matrix"
   ]
  },
  {
   "cell_type": "code",
   "execution_count": 17,
   "metadata": {},
   "outputs": [
    {
     "data": {
      "image/png": "[encoded data removed]",
      "text/plain": [
       "<matplotlib.figure.Figure at 0x2014f546518>"
      ]
     },
     "metadata": {},
     "output_type": "display_data"
    }
   ],
   "source": [
    "custom_colors = mpl.colors.LinearSegmentedColormap.from_list(\"\", [\"red\",\"orange\",\"green\"])\n",
    "\n",
    "plt.matshow([a_matrix], cmap=custom_colors, vmin = 0, vmax = 2)\n",
    "plt.show()"
   ]
  },
  {
   "cell_type": "markdown",
   "metadata": {},
   "source": [
    "*** 18 TRIAL_INDEX ***"
   ]
  },
  {
   "cell_type": "code",
   "execution_count": 18,
   "metadata": {},
   "outputs": [],
   "source": [
    "# Sort by TRIAL_INDEX\n",
    "data_sorted = data.TRIAL_INDEX.unique()\n",
    "data_sorted.sort()"
   ]
  },
  {
   "cell_type": "code",
   "execution_count": 19,
   "metadata": {},
   "outputs": [],
   "source": [
    "good_trialsID = np.array([1,2,3,4,5,6,7,8,9,10,11,12,13,14,15,16,17,18])\n",
    "if ((data_sorted == good_trialsID).all()) :\n",
    "    a_matrix[0] = 2"
   ]
  },
  {
   "cell_type": "markdown",
   "metadata": {},
   "source": [
    "*** CURRENT_FIX_X and CURRENT_FIX_Y are positives and in the 1920x1080 screen ***"
   ]
  },
  {
   "cell_type": "code",
   "execution_count": 20,
   "metadata": {},
   "outputs": [
    {
     "name": "stdout",
     "output_type": "stream",
     "text": [
      "99.0% of CURRENT_FIX_X are positives and < 1920 px\n",
      "97.0% of CURRENT_FIX_Y are positives and < 1080 px\n"
     ]
    }
   ],
   "source": [
    "fixX_prop_inscreen = round(len(data.query(\"CURRENT_FIX_X >= 0 and CURRENT_FIX_X <= 1920\"))/len(data),2)\n",
    "fixY_prop_inscreen = round(len(data.query(\"CURRENT_FIX_Y >= 0 and CURRENT_FIX_Y <= 1080\"))/len(data),2)\n",
    "\n",
    "print(str(fixX_prop_inscreen*100) + \"% of CURRENT_FIX_X are positives and < 1920 px\")\n",
    "\n",
    "if (fixX_prop_inscreen == 1):\n",
    "    a_matrix[1] = 2\n",
    "elif (fixX_prop_inscreen > 0.95):\n",
    "    a_matrix[1] = 1\n",
    "    \n",
    "print(str(fixY_prop_inscreen*100) + \"% of CURRENT_FIX_Y are positives and < 1080 px\")\n",
    "\n",
    "if (fixY_prop_inscreen == 1):\n",
    "    a_matrix[2] = 2\n",
    "elif (fixY_prop_inscreen > 0.95):\n",
    "    a_matrix[2] = 1"
   ]
  },
  {
   "cell_type": "code",
   "execution_count": 21,
   "metadata": {},
   "outputs": [
    {
     "data": {
      "text/plain": [
       "<matplotlib.axes._subplots.AxesSubplot at 0x2014f617e48>"
      ]
     },
     "execution_count": 21,
     "metadata": {},
     "output_type": "execute_result"
    },
    {
     "data": {
      "image/png": "[encoded data removed]",
      "text/plain": [
       "<matplotlib.figure.Figure at 0x2014f5f1d30>"
      ]
     },
     "metadata": {},
     "output_type": "display_data"
    }
   ],
   "source": [
    "fig, axs = plt.subplots(1,2)\n",
    "\n",
    "data[\"CURRENT_FIX_X\"].hist(ax=axs[0])\n",
    "data[\"CURRENT_FIX_Y\"].hist(ax=axs[1])"
   ]
  },
  {
   "cell_type": "markdown",
   "metadata": {},
   "source": [
    "*** CURRENT_FIX_START is positive ***"
   ]
  },
  {
   "cell_type": "code",
   "execution_count": 23,
   "metadata": {},
   "outputs": [
    {
     "name": "stdout",
     "output_type": "stream",
     "text": [
      "100.0% of CURRENT_FIX_START are positive\n"
     ]
    }
   ],
   "source": [
    "fixStart_prop = round(len(data.query(\"CURRENT_FIX_START >= 0\"))/len(data),3) \n",
    "\n",
    "print(str(fixStart_prop *100) + \"% of CURRENT_FIX_START are positive\")\n",
    "if (fixStart_prop == 1):\n",
    "    a_matrix[3] = 2\n",
    "elif (fixStart_prop > 0.95):\n",
    "    a_matrix[3] = 1"
   ]
  },
  {
   "cell_type": "markdown",
   "metadata": {},
   "source": [
    "*** EYE_USED is always equal to RIGHT ***"
   ]
  },
  {
   "cell_type": "code",
   "execution_count": 24,
   "metadata": {},
   "outputs": [
    {
     "name": "stdout",
     "output_type": "stream",
     "text": [
      "100.0% of EYE_USED are right\n"
     ]
    }
   ],
   "source": [
    "eye_prop = round(len(data.query(\"EYE_USED == 'RIGHT'\"))/len(data),3)\n",
    "\n",
    "print(str(eye_prop*100) + \"% of EYE_USED are right\")\n",
    "if (eye_prop == 1):\n",
    "    a_matrix[4] = 2"
   ]
  },
  {
   "cell_type": "markdown",
   "metadata": {},
   "source": [
    "*** CURRENT_FIX_DURATION is positive ***"
   ]
  },
  {
   "cell_type": "code",
   "execution_count": 26,
   "metadata": {},
   "outputs": [
    {
     "name": "stdout",
     "output_type": "stream",
     "text": [
      "100.0% of CURRENT_FIX_DURATION are positive\n"
     ]
    }
   ],
   "source": [
    "fixDuration_prop = round(len(data.query(\"CURRENT_FIX_DURATION > 0\"))/len(data),3)\n",
    "\n",
    "print(str(fixDuration_prop * 100) + \"% of CURRENT_FIX_DURATION are positive\")\n",
    "if (fixDuration_prop == 1):\n",
    "    a_matrix[5] = 2"
   ]
  },
  {
   "cell_type": "markdown",
   "metadata": {},
   "source": [
    "*** We have 18 WEBSITE_ID ***"
   ]
  },
  {
   "cell_type": "code",
   "execution_count": 27,
   "metadata": {},
   "outputs": [],
   "source": [
    "def get_website_id(trial_num):\n",
    "    return config[\"rand_weblist\"][trial_num - 1][\"id\"]\n",
    "\n",
    "data[\"WEBSITE_ID\"] = data[\"TRIAL_INDEX\"].apply(get_website_id)\n",
    "\n",
    "web = data[\"WEBSITE_ID\"].unique()\n",
    "web.sort()"
   ]
  },
  {
   "cell_type": "code",
   "execution_count": 29,
   "metadata": {},
   "outputs": [],
   "source": [
    "good_websites = np.array([1,2,3,4,5,6,7,8,9,10,11,12,13,14,15,16,17,18])\n",
    "if ((web == good_websites).all()) :\n",
    "    a_matrix[6] = 2"
   ]
  },
  {
   "cell_type": "markdown",
   "metadata": {},
   "source": [
    "*** We have 6 x 3 CONDITION ***"
   ]
  },
  {
   "cell_type": "code",
   "execution_count": 30,
   "metadata": {},
   "outputs": [
    {
     "data": {
      "text/html": [
       "<div>\n",
       "<style scoped>\n",
       "    .dataframe tbody tr th:only-of-type {\n",
       "        vertical-align: middle;\n",
       "    }\n",
       "\n",
       "    .dataframe tbody tr th {\n",
       "        vertical-align: top;\n",
       "    }\n",
       "\n",
       "    .dataframe thead th {\n",
       "        text-align: right;\n",
       "    }\n",
       "</style>\n",
       "<table border=\"1\" class=\"dataframe\">\n",
       "  <thead>\n",
       "    <tr style=\"text-align: right;\">\n",
       "      <th></th>\n",
       "      <th>TRIAL_INDEX</th>\n",
       "      <th>EYE_USED</th>\n",
       "      <th>CURRENT_FIX_X</th>\n",
       "      <th>CURRENT_FIX_Y</th>\n",
       "      <th>CURRENT_FIX_START</th>\n",
       "      <th>CURRENT_FIX_DURATION</th>\n",
       "      <th>NEXT_SAC_END_X</th>\n",
       "      <th>NEXT_SAC_END_Y</th>\n",
       "      <th>NEXT_SAC_AMPLITUDE</th>\n",
       "      <th>NEXT_SAC_DIRECTION</th>\n",
       "      <th>NEXT_SAC_DURATION</th>\n",
       "      <th>NEXT_SAC_ANGLE</th>\n",
       "      <th>NEXT_SAC_AVG_VELOCITY</th>\n",
       "      <th>WEBSITE_ID</th>\n",
       "      <th>CONDITION</th>\n",
       "    </tr>\n",
       "  </thead>\n",
       "  <tbody>\n",
       "    <tr>\n",
       "      <th>0</th>\n",
       "      <td>1</td>\n",
       "      <td>RIGHT</td>\n",
       "      <td>751.4</td>\n",
       "      <td>491.6</td>\n",
       "      <td>7</td>\n",
       "      <td>211</td>\n",
       "      <td>1150.5</td>\n",
       "      <td>431.7</td>\n",
       "      <td>11.35</td>\n",
       "      <td>RIGHT</td>\n",
       "      <td>123.0</td>\n",
       "      <td>8.27</td>\n",
       "      <td>92.31</td>\n",
       "      <td>5</td>\n",
       "      <td>1</td>\n",
       "    </tr>\n",
       "    <tr>\n",
       "      <th>1</th>\n",
       "      <td>1</td>\n",
       "      <td>RIGHT</td>\n",
       "      <td>1143.6</td>\n",
       "      <td>392.6</td>\n",
       "      <td>341</td>\n",
       "      <td>96</td>\n",
       "      <td>1208.0</td>\n",
       "      <td>497.6</td>\n",
       "      <td>3.57</td>\n",
       "      <td>DOWN</td>\n",
       "      <td>202.0</td>\n",
       "      <td>-60.54</td>\n",
       "      <td>17.69</td>\n",
       "      <td>5</td>\n",
       "      <td>1</td>\n",
       "    </tr>\n",
       "    <tr>\n",
       "      <th>2</th>\n",
       "      <td>1</td>\n",
       "      <td>RIGHT</td>\n",
       "      <td>1202.0</td>\n",
       "      <td>430.1</td>\n",
       "      <td>639</td>\n",
       "      <td>102</td>\n",
       "      <td>1258.9</td>\n",
       "      <td>452.7</td>\n",
       "      <td>2.18</td>\n",
       "      <td>RIGHT</td>\n",
       "      <td>25.0</td>\n",
       "      <td>-37.68</td>\n",
       "      <td>87.37</td>\n",
       "      <td>5</td>\n",
       "      <td>1</td>\n",
       "    </tr>\n",
       "    <tr>\n",
       "      <th>3</th>\n",
       "      <td>1</td>\n",
       "      <td>RIGHT</td>\n",
       "      <td>1250.5</td>\n",
       "      <td>431.0</td>\n",
       "      <td>766</td>\n",
       "      <td>194</td>\n",
       "      <td>727.1</td>\n",
       "      <td>437.9</td>\n",
       "      <td>14.59</td>\n",
       "      <td>LEFT</td>\n",
       "      <td>75.0</td>\n",
       "      <td>-178.00</td>\n",
       "      <td>194.59</td>\n",
       "      <td>5</td>\n",
       "      <td>1</td>\n",
       "    </tr>\n",
       "    <tr>\n",
       "      <th>4</th>\n",
       "      <td>1</td>\n",
       "      <td>RIGHT</td>\n",
       "      <td>710.5</td>\n",
       "      <td>430.3</td>\n",
       "      <td>1035</td>\n",
       "      <td>146</td>\n",
       "      <td>828.1</td>\n",
       "      <td>318.0</td>\n",
       "      <td>4.50</td>\n",
       "      <td>RIGHT</td>\n",
       "      <td>44.0</td>\n",
       "      <td>42.19</td>\n",
       "      <td>102.33</td>\n",
       "      <td>5</td>\n",
       "      <td>1</td>\n",
       "    </tr>\n",
       "  </tbody>\n",
       "</table>\n",
       "</div>"
      ],
      "text/plain": [
       "   TRIAL_INDEX EYE_USED  CURRENT_FIX_X  CURRENT_FIX_Y  CURRENT_FIX_START  \\\n",
       "0            1    RIGHT          751.4          491.6                  7   \n",
       "1            1    RIGHT         1143.6          392.6                341   \n",
       "2            1    RIGHT         1202.0          430.1                639   \n",
       "3            1    RIGHT         1250.5          431.0                766   \n",
       "4            1    RIGHT          710.5          430.3               1035   \n",
       "\n",
       "   CURRENT_FIX_DURATION  NEXT_SAC_END_X  NEXT_SAC_END_Y  NEXT_SAC_AMPLITUDE  \\\n",
       "0                   211          1150.5           431.7               11.35   \n",
       "1                    96          1208.0           497.6                3.57   \n",
       "2                   102          1258.9           452.7                2.18   \n",
       "3                   194           727.1           437.9               14.59   \n",
       "4                   146           828.1           318.0                4.50   \n",
       "\n",
       "  NEXT_SAC_DIRECTION  NEXT_SAC_DURATION  NEXT_SAC_ANGLE  \\\n",
       "0              RIGHT              123.0            8.27   \n",
       "1               DOWN              202.0          -60.54   \n",
       "2              RIGHT               25.0          -37.68   \n",
       "3               LEFT               75.0         -178.00   \n",
       "4              RIGHT               44.0           42.19   \n",
       "\n",
       "   NEXT_SAC_AVG_VELOCITY  WEBSITE_ID  CONDITION  \n",
       "0                  92.31           5          1  \n",
       "1                  17.69           5          1  \n",
       "2                  87.37           5          1  \n",
       "3                 194.59           5          1  \n",
       "4                 102.33           5          1  "
      ]
     },
     "execution_count": 30,
     "metadata": {},
     "output_type": "execute_result"
    }
   ],
   "source": [
    "def get_condition(trial_num):\n",
    "    data = config[\"rand_weblist\"][trial_num - 1]\n",
    "    if(data[\"type\"] == \"free\" and data[\"ad_id\"] == 0 and data[\"mpu_id\"] == 0):\n",
    "        return 1\n",
    "    elif(data[\"type\"] == \"target\" and data[\"ad_id\"] == 0 and data[\"mpu_id\"] == 0):\n",
    "        return 2\n",
    "    elif(data[\"type\"] == \"free\" and data[\"ad_id\"] > 0 and data[\"mpu_id\"] == 0):\n",
    "        return 3\n",
    "    elif(data[\"type\"] == \"target\" and data[\"ad_id\"] > 0 and data[\"mpu_id\"] == 0):\n",
    "        return 4\n",
    "    elif(data[\"type\"] == \"free\" and data[\"ad_id\"] > 0 and data[\"mpu_id\"] > 0):\n",
    "        return 5\n",
    "    elif(data[\"type\"] == \"target\" and data[\"ad_id\"] > 0 and data[\"mpu_id\"] > 0):\n",
    "        return 6\n",
    "    \n",
    "    return None\n",
    "\n",
    "data[\"CONDITION\"] = data[\"TRIAL_INDEX\"].apply(get_condition)\n",
    "data.head()"
   ]
  },
  {
   "cell_type": "code",
   "execution_count": 31,
   "metadata": {},
   "outputs": [],
   "source": [
    "cond = data[\"CONDITION\"].unique()\n",
    "cond.sort()"
   ]
  },
  {
   "cell_type": "code",
   "execution_count": 32,
   "metadata": {},
   "outputs": [],
   "source": [
    "good_condition = np.array([1,2,3,4,5,6])\n",
    "if ((cond == good_condition).all()) :\n",
    "    a_matrix[7] = 2"
   ]
  },
  {
   "cell_type": "markdown",
   "metadata": {},
   "source": [
    "## CHECK"
   ]
  },
  {
   "cell_type": "code",
   "execution_count": 33,
   "metadata": {},
   "outputs": [
    {
     "data": {
      "image/png": "[encoded data removed]",
      "text/plain": [
       "<matplotlib.figure.Figure at 0x2014e15efd0>"
      ]
     },
     "metadata": {},
     "output_type": "display_data"
    }
   ],
   "source": [
    "plt.matshow([a_matrix], cmap=custom_colors, vmin = 0, vmax = 2)\n",
    "plt.show()"
   ]
  },
  {
   "cell_type": "code",
   "execution_count": null,
   "metadata": {},
   "outputs": [],
   "source": []
  }
 ],
 "metadata": {
  "kernelspec": {
   "display_name": "Python 3",
   "language": "python",
   "name": "python3"
  },
  "language_info": {
   "codemirror_mode": {
    "name": "ipython",
    "version": 3
   },
   "file_extension": ".py",
   "mimetype": "text/x-python",
   "name": "python",
   "nbconvert_exporter": "python",
   "pygments_lexer": "ipython3",
   "version": "3.6.4"
  }
 },
 "nbformat": 4,
 "nbformat_minor": 2
}
