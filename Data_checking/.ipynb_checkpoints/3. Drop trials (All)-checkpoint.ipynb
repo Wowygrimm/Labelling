{
 "cells": [
  {
   "cell_type": "code",
   "execution_count": 1,
   "metadata": {},
   "outputs": [],
   "source": [
    "%matplotlib inline"
   ]
  },
  {
   "cell_type": "code",
   "execution_count": 2,
   "metadata": {},
   "outputs": [],
   "source": [
    "import pandas as pd\n",
    "import numpy as np\n",
    "import pickle\n",
    "import matplotlib.pyplot as plt\n",
    "import os\n",
    "import glob\n",
    "import matplotlib as mpl\n",
    "import re"
   ]
  },
  {
   "cell_type": "markdown",
   "metadata": {},
   "source": [
    "# Calibration Problems and Drop trials"
   ]
  },
  {
   "cell_type": "code",
   "execution_count": 3,
   "metadata": {},
   "outputs": [],
   "source": [
    "rootPath = '../data/'\n",
    "file_suffix = \"_full.csv\""
   ]
  },
  {
   "cell_type": "code",
   "execution_count": 4,
   "metadata": {},
   "outputs": [],
   "source": [
    "trials_to_drop = pd.read_csv(\"{}trials_droplist.csv\".format(rootPath))\n",
    "trials_to_drop[\"TYPE\"] = \"checking\""
   ]
  },
  {
   "cell_type": "code",
   "execution_count": 5,
   "metadata": {},
   "outputs": [
    {
     "data": {
      "text/html": [
       "<div>\n",
       "<table border=\"1\" class=\"dataframe\">\n",
       "  <thead>\n",
       "    <tr style=\"text-align: right;\">\n",
       "      <th></th>\n",
       "      <th>PART_FILE</th>\n",
       "      <th>TRIALS</th>\n",
       "      <th>TYPE</th>\n",
       "    </tr>\n",
       "  </thead>\n",
       "  <tbody>\n",
       "    <tr>\n",
       "      <th>0</th>\n",
       "      <td>../data/part_1/part_1_full.csv</td>\n",
       "      <td>[None, None, None]</td>\n",
       "      <td>checking</td>\n",
       "    </tr>\n",
       "    <tr>\n",
       "      <th>1</th>\n",
       "      <td>../data/part_2/part_2_full.csv</td>\n",
       "      <td>[None, None, None]</td>\n",
       "      <td>checking</td>\n",
       "    </tr>\n",
       "    <tr>\n",
       "      <th>2</th>\n",
       "      <td>../data/part_3/part_3_full.csv</td>\n",
       "      <td>[None, None, None]</td>\n",
       "      <td>checking</td>\n",
       "    </tr>\n",
       "    <tr>\n",
       "      <th>3</th>\n",
       "      <td>../data/part_709/part_709_full.csv</td>\n",
       "      <td>[None, array([ 2,  3,  8,  9, 11, 12, 18]), None]</td>\n",
       "      <td>checking</td>\n",
       "    </tr>\n",
       "    <tr>\n",
       "      <th>4</th>\n",
       "      <td>../data/part_710/part_710_full.csv</td>\n",
       "      <td>[array([ 4, 11, 12, 14, 15, 17]), array([ 2,  ...</td>\n",
       "      <td>checking</td>\n",
       "    </tr>\n",
       "    <tr>\n",
       "      <th>5</th>\n",
       "      <td>../data/part_711/part_711_full.csv</td>\n",
       "      <td>[array([ 4, 11, 12, 14, 15, 17]), array([ 2,  ...</td>\n",
       "      <td>checking</td>\n",
       "    </tr>\n",
       "    <tr>\n",
       "      <th>6</th>\n",
       "      <td>../data/part_712/part_712_full.csv</td>\n",
       "      <td>[array([ 1,  3,  4, 11, 12, 14, 17]), array([ ...</td>\n",
       "      <td>checking</td>\n",
       "    </tr>\n",
       "    <tr>\n",
       "      <th>7</th>\n",
       "      <td>../data/part_713/part_713_full.csv</td>\n",
       "      <td>[None, array([ 2,  3,  5,  7,  9, 10, 14, 16, ...</td>\n",
       "      <td>checking</td>\n",
       "    </tr>\n",
       "    <tr>\n",
       "      <th>8</th>\n",
       "      <td>../data/part_714/part_714_full.csv</td>\n",
       "      <td>[None, None, None]</td>\n",
       "      <td>checking</td>\n",
       "    </tr>\n",
       "    <tr>\n",
       "      <th>9</th>\n",
       "      <td>../data/part_715/part_715_full.csv</td>\n",
       "      <td>[None, array([ 4,  7,  8, 12, 16]), None]</td>\n",
       "      <td>checking</td>\n",
       "    </tr>\n",
       "    <tr>\n",
       "      <th>10</th>\n",
       "      <td>../data/part_716/part_716_full.csv</td>\n",
       "      <td>[array([ 6,  7,  9, 14, 17]), None, None]</td>\n",
       "      <td>checking</td>\n",
       "    </tr>\n",
       "  </tbody>\n",
       "</table>\n",
       "</div>"
      ],
      "text/plain": [
       "                             PART_FILE  \\\n",
       "0       ../data/part_1/part_1_full.csv   \n",
       "1       ../data/part_2/part_2_full.csv   \n",
       "2       ../data/part_3/part_3_full.csv   \n",
       "3   ../data/part_709/part_709_full.csv   \n",
       "4   ../data/part_710/part_710_full.csv   \n",
       "5   ../data/part_711/part_711_full.csv   \n",
       "6   ../data/part_712/part_712_full.csv   \n",
       "7   ../data/part_713/part_713_full.csv   \n",
       "8   ../data/part_714/part_714_full.csv   \n",
       "9   ../data/part_715/part_715_full.csv   \n",
       "10  ../data/part_716/part_716_full.csv   \n",
       "\n",
       "                                               TRIALS      TYPE  \n",
       "0                                  [None, None, None]  checking  \n",
       "1                                  [None, None, None]  checking  \n",
       "2                                  [None, None, None]  checking  \n",
       "3   [None, array([ 2,  3,  8,  9, 11, 12, 18]), None]  checking  \n",
       "4   [array([ 4, 11, 12, 14, 15, 17]), array([ 2,  ...  checking  \n",
       "5   [array([ 4, 11, 12, 14, 15, 17]), array([ 2,  ...  checking  \n",
       "6   [array([ 1,  3,  4, 11, 12, 14, 17]), array([ ...  checking  \n",
       "7   [None, array([ 2,  3,  5,  7,  9, 10, 14, 16, ...  checking  \n",
       "8                                  [None, None, None]  checking  \n",
       "9           [None, array([ 4,  7,  8, 12, 16]), None]  checking  \n",
       "10          [array([ 6,  7,  9, 14, 17]), None, None]  checking  "
      ]
     },
     "execution_count": 5,
     "metadata": {},
     "output_type": "execute_result"
    }
   ],
   "source": [
    "trials_to_drop"
   ]
  },
  {
   "cell_type": "code",
   "execution_count": 6,
   "metadata": {},
   "outputs": [],
   "source": [
    "# Trials with problems\n",
    "trials_to_drop = trials_to_drop.append([\n",
    "    {\"PART_FILE\": \"../data/part_2/part_2_full.csv\", \"TRIALS\": [8], \"TYPE\": \"other\"},\n",
    "    {\"PART_FILE\": \"../data/part_3/part_3_full.csv\", \"TRIALS\": [15], \"TYPE\": \"other\"},\n",
    "    {\"PART_FILE\": \"../data/part_710/part_710_full.csv\", \"TRIALS\": [15], \"TYPE\": \"other\"},\n",
    "    {\"PART_FILE\": \"../data/part_711/part_711_full.csv\", \"TRIALS\": [16], \"TYPE\": \"other\"},\n",
    "    {\"PART_FILE\": \"../data/part_712/part_712_full.csv\", \"TRIALS\": [10], \"TYPE\": \"other\"},\n",
    "    {\"PART_FILE\": \"../data/part_715/part_715_full.csv\", \"TRIALS\": [8], \"TYPE\": \"other\"},\n",
    "    {\"PART_FILE\": \"../data/part_716/part_716_full.csv\", \"TRIALS\": [12, 13], \"TYPE\": \"other\"}\n",
    "])"
   ]
  },
  {
   "cell_type": "code",
   "execution_count": 7,
   "metadata": {},
   "outputs": [],
   "source": [
    "# Trials with calibration problems\n",
    "trials_to_drop = trials_to_drop.append([\n",
    "    {\"PART_FILE\": \"../data/part_4/part_4_full.csv\", \"TRIALS\": [1], \"TYPE\": \"calibration\"},\n",
    "    {\"PART_FILE\": \"../data/part_710/part_710_full.csv\", \"TRIALS\": [1, 5], \"TYPE\": \"calibration\"},\n",
    "    {\"PART_FILE\": \"../data/part_711/part_711_full.csv\", \"TRIALS\": [1], \"TYPE\": \"calibration\"},\n",
    "    {\"PART_FILE\": \"../data/part_713/part_713_full.csv\", \"TRIALS\": [1], \"TYPE\": \"calibration\"},\n",
    "    {\"PART_FILE\": \"../data/part_714/part_714_full.csv\", \"TRIALS\": [1], \"TYPE\": \"calibration\"},\n",
    "    {\"PART_FILE\": \"../data/part_716/part_716_full.csv\", \"TRIALS\": [1], \"TYPE\": \"calibration\"}\n",
    "])"
   ]
  },
  {
   "cell_type": "code",
   "execution_count": 8,
   "metadata": {
    "scrolled": false
   },
   "outputs": [
    {
     "name": "stdout",
     "output_type": "stream",
     "text": [
      "Cleaning ../data/part_1/part_1_full.csv\n",
      "-- Exporting to ../data/part_1/part_1_drop.csv\n",
      "Cleaning ../data/part_2/part_2_full.csv\n",
      "-- Exporting to ../data/part_2/part_2_drop.csv\n",
      "Cleaning ../data/part_3/part_3_full.csv\n",
      "-- Exporting to ../data/part_3/part_3_drop.csv\n",
      "Cleaning ../data/part_709/part_709_full.csv\n",
      "-- Exporting to ../data/part_709/part_709_drop.csv\n",
      "Cleaning ../data/part_710/part_710_full.csv\n",
      "-- Exporting to ../data/part_710/part_710_drop.csv\n",
      "Cleaning ../data/part_711/part_711_full.csv\n",
      "-- Exporting to ../data/part_711/part_711_drop.csv\n",
      "Cleaning ../data/part_712/part_712_full.csv\n",
      "-- Exporting to ../data/part_712/part_712_drop.csv\n",
      "Cleaning ../data/part_713/part_713_full.csv\n",
      "-- Exporting to ../data/part_713/part_713_drop.csv\n",
      "Cleaning ../data/part_714/part_714_full.csv\n",
      "-- Exporting to ../data/part_714/part_714_drop.csv\n",
      "Cleaning ../data/part_715/part_715_full.csv\n",
      "-- Exporting to ../data/part_715/part_715_drop.csv\n",
      "Cleaning ../data/part_716/part_716_full.csv\n",
      "-- Exporting to ../data/part_716/part_716_drop.csv\n",
      "Cleaning ../data/part_2/part_2_full.csv\n",
      "-- Exporting to ../data/part_2/part_2_drop.csv\n",
      "Cleaning ../data/part_3/part_3_full.csv\n",
      "-- Exporting to ../data/part_3/part_3_drop.csv\n",
      "Cleaning ../data/part_710/part_710_full.csv\n",
      "-- Exporting to ../data/part_710/part_710_drop.csv\n",
      "Cleaning ../data/part_711/part_711_full.csv\n",
      "-- Exporting to ../data/part_711/part_711_drop.csv\n",
      "Cleaning ../data/part_712/part_712_full.csv\n",
      "-- Exporting to ../data/part_712/part_712_drop.csv\n",
      "Cleaning ../data/part_715/part_715_full.csv\n",
      "-- Exporting to ../data/part_715/part_715_drop.csv\n",
      "Cleaning ../data/part_716/part_716_full.csv\n",
      "-- Exporting to ../data/part_716/part_716_drop.csv\n",
      "Skipping ../data/part_4/part_4_full.csv. File does not exist.\n",
      "Cleaning ../data/part_710/part_710_full.csv\n",
      "-- Exporting to ../data/part_710/part_710_drop.csv\n",
      "Cleaning ../data/part_711/part_711_full.csv\n",
      "-- Exporting to ../data/part_711/part_711_drop.csv\n",
      "Cleaning ../data/part_713/part_713_full.csv\n",
      "-- Exporting to ../data/part_713/part_713_drop.csv\n",
      "Cleaning ../data/part_714/part_714_full.csv\n",
      "-- Exporting to ../data/part_714/part_714_drop.csv\n",
      "Cleaning ../data/part_716/part_716_full.csv\n",
      "-- Exporting to ../data/part_716/part_716_drop.csv\n"
     ]
    }
   ],
   "source": [
    "trials_to_drop.reset_index(drop = True, inplace = True)\n",
    "\n",
    "# We create initial `_drop.csv` files with `CALIBRATION_PROBLEM` default value\n",
    "files = glob.glob(\"{0}part_*/part_*_full.csv\".format(rootPath))\n",
    "for filename in files:\n",
    "    df = pd.read_csv(filename)\n",
    "    df[\"CALIBRATION_PROBLEM\"] = 'No'\n",
    "    new_filename = filename.replace(\"_full.csv\", \"_drop.csv\")\n",
    "    df.to_csv(new_filename, index = False)\n",
    "\n",
    "# Drop trials\n",
    "for row in trials_to_drop.iterrows():\n",
    "    filename = row[1][\"PART_FILE\"]\n",
    "    \n",
    "    if(os.path.exists(filename)):\n",
    "        print(\"Cleaning {}\".format(filename))\n",
    "\n",
    "        trials = np.hstack(row[1][\"TRIALS\"])\n",
    "        df = pd.read_csv(filename.replace(\"_full.csv\", \"_drop.csv\"))\n",
    "\n",
    "        # For each trial to delete\n",
    "        for trial in trials:\n",
    "            if(trial is not None):\n",
    "                # If calibration problem, don't delete it, just say there was a calibration problem\n",
    "                # But only if the trial still exsits\n",
    "                if(row[1][\"TYPE\"] == \"calibration\" and not df.query(\"TRIAL_INDEX == @trial\").empty):\n",
    "                    df.loc[df.query(\"TRIAL_INDEX == @trial\").index, \"CALIBRATION_PROBLEM\"] = 'Yes'\n",
    "                else:\n",
    "                    df = df.query(\"TRIAL_INDEX != @trial\")\n",
    "\n",
    "        # Export\n",
    "        new_filename = filename.replace(file_suffix, \"_drop.csv\")\n",
    "        print(\"-- Exporting to {}\".format(new_filename))\n",
    "        df.to_csv(new_filename, index = False)\n",
    "        df = None\n",
    "    else:\n",
    "        print(\"Skipping {}. File does not exist.\".format(filename))\n",
    "print(\"Done\")"
   ]
  },
  {
   "cell_type": "code",
   "execution_count": null,
   "metadata": {},
   "outputs": [],
   "source": []
  }
 ],
 "metadata": {
  "anaconda-cloud": {},
  "kernelspec": {
   "display_name": "Python 3",
   "language": "python",
   "name": "python3"
  },
  "language_info": {
   "codemirror_mode": {
    "name": "ipython",
    "version": 3
   },
   "file_extension": ".py",
   "mimetype": "text/x-python",
   "name": "python",
   "nbconvert_exporter": "python",
   "pygments_lexer": "ipython3",
   "version": "3.6.4"
  },
  "varInspector": {
   "cols": {
    "lenName": 16,
    "lenType": 16,
    "lenVar": 40
   },
   "kernels_config": {
    "python": {
     "delete_cmd_postfix": "",
     "delete_cmd_prefix": "del ",
     "library": "var_list.py",
     "varRefreshCmd": "print(var_dic_list())"
    },
    "r": {
     "delete_cmd_postfix": ") ",
     "delete_cmd_prefix": "rm(",
     "library": "var_list.r",
     "varRefreshCmd": "cat(var_dic_list()) "
    }
   },
   "types_to_exclude": [
    "module",
    "function",
    "builtin_function_or_method",
    "instance",
    "_Feature"
   ],
   "window_display": false
  }
 },
 "nbformat": 4,
 "nbformat_minor": 2
}
