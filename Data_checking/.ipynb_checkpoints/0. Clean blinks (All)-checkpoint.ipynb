{
 "cells": [
  {
   "cell_type": "code",
   "execution_count": 1,
   "metadata": {},
   "outputs": [],
   "source": [
    "%matplotlib inline"
   ]
  },
  {
   "cell_type": "code",
   "execution_count": 2,
   "metadata": {},
   "outputs": [],
   "source": [
    "import pandas as pd\n",
    "import numpy as np\n",
    "import pickle\n",
    "import matplotlib.pyplot as plt\n",
    "import os\n",
    "import glob\n",
    "import matplotlib as mpl\n",
    "from math import *"
   ]
  },
  {
   "cell_type": "markdown",
   "metadata": {},
   "source": [
    "# Functions"
   ]
  },
  {
   "cell_type": "code",
   "execution_count": 3,
   "metadata": {},
   "outputs": [],
   "source": [
    "def clean_columns(data):\n",
    "    data[\"CURRENT_FIX_Y\"] = pd.to_numeric(data[\"CURRENT_FIX_Y\"].str.replace(',','.'))\n",
    "    data[\"CURRENT_FIX_X\"] = pd.to_numeric(data[\"CURRENT_FIX_X\"].str.replace(',','.'))\n",
    "    data[\"NEXT_SAC_AMPLITUDE\"] = pd.to_numeric(data[\"NEXT_SAC_AMPLITUDE\"].str.replace(\".\", \"\").str.replace(\",\", \".\"))\n",
    "    data[\"NEXT_SAC_END_X\"] = pd.to_numeric(data[\"NEXT_SAC_END_X\"].str.replace(\".\", \"\").str.replace(\",\", \".\"))\n",
    "    data[\"NEXT_SAC_END_Y\"] = pd.to_numeric(data[\"NEXT_SAC_END_Y\"].str.replace(\".\", \"\").str.replace(\",\", \".\"))\n",
    "    data[\"NEXT_SAC_DURATION\"] = pd.to_numeric(data[\"NEXT_SAC_DURATION\"].str.replace(\".\", \"\").str.replace(\",\", \".\"))\n",
    "    data[\"NEXT_SAC_ANGLE\"] = pd.to_numeric(data[\"NEXT_SAC_ANGLE\"].str.replace(\".\", \"\").str.replace(\",\", \".\"))\n",
    "    data[\"NEXT_SAC_AVG_VELOCITY\"] = pd.to_numeric(data[\"NEXT_SAC_AVG_VELOCITY\"].str.replace(\".\", \"\").str.replace(\",\", \".\"))\n",
    "    data[\"NEXT_SAC_BLINK_DURATION\"] = pd.to_numeric(data[\"NEXT_SAC_BLINK_DURATION\"].str.replace(\".\", \"\").str.replace(\",\", \".\"))"
   ]
  },
  {
   "cell_type": "code",
   "execution_count": 4,
   "metadata": {},
   "outputs": [],
   "source": [
    "def recompute_saccade(row):\n",
    "    dx = row[\"NEXT_SAC_END_X\"] - row[\"CURRENT_FIX_X\"]\n",
    "    dy = row[\"NEXT_SAC_END_Y\"] - row[\"CURRENT_FIX_Y\"]\n",
    "    dl = sqrt(dx**2 + dy**2)/35\n",
    "    \n",
    "    row[\"NEXT_SAC_AMPLITUDE\"] = dl\n",
    "    \n",
    "    if dx > abs(dy):\n",
    "        row[\"NEXT_SAC_DIRECTION\"] = 'RIGHT'\n",
    "    elif dy > abs(dx):\n",
    "        row[\"NEXT_SAC_DIRECTION\"] = 'UP'\n",
    "    elif -dx > abs(dy):\n",
    "        row[\"NEXT_SAC_DIRECTION\"] = 'LEFT'\n",
    "    elif -dy > abs(dx):\n",
    "        row[\"NEXT_SAC_DIRECTION\"] = 'DOWN'\n",
    "    \n",
    "    return row            \n",
    "\n",
    "def adjust(data):\n",
    "    data[\"CUMSUM_BLINK_DURATION\"] = data[\"CUMSUM_BLINK_DURATION\"] - data[\"NEXT_SAC_BLINK_DURATION\"]\n",
    "    \n",
    "    return data\n",
    "\n",
    "def correct_blink_offset(data):\n",
    "    data.loc[data[\"NEXT_SAC_CONTAINS_BLINK\"] == 'true'] = data.query(\"NEXT_SAC_CONTAINS_BLINK == 'true'\").apply(recompute_saccade, axis=1)\n",
    "    \n",
    "    data[\"NEXT_SAC_BLINK_DURATION\"].fillna(0, inplace = True)\n",
    "    data[\"CUMSUM_BLINK_DURATION\"] = data.groupby(\"TRIAL_INDEX\")[\"NEXT_SAC_BLINK_DURATION\"].cumsum()\n",
    "    data[data[\"NEXT_SAC_CONTAINS_BLINK\"] == 'true'] = data[data[\"NEXT_SAC_CONTAINS_BLINK\"] == 'true'].apply(adjust, axis = 1)\n",
    "    \n",
    "    data[\"CURRENT_FIX_START\"] = data[\"CURRENT_FIX_START\"] - data[\"CUMSUM_BLINK_DURATION\"]\n",
    "    data[\"NEXT_SAC_DURATION\"] = data[\"NEXT_SAC_DURATION\"] - data[\"NEXT_SAC_BLINK_DURATION\"]\n",
    "    \n",
    "    return data"
   ]
  },
  {
   "cell_type": "markdown",
   "metadata": {},
   "source": [
    "# Process and Export"
   ]
  },
  {
   "cell_type": "code",
   "execution_count": 5,
   "metadata": {},
   "outputs": [],
   "source": [
    "rootPath = '../data/'"
   ]
  },
  {
   "cell_type": "code",
   "execution_count": 6,
   "metadata": {},
   "outputs": [],
   "source": [
    "columns_mandatory = ['TRIAL_INDEX', 'EYE_USED', 'CURRENT_FIX_X', 'CURRENT_FIX_Y',\n",
    "       'CURRENT_FIX_START', 'CURRENT_FIX_DURATION', 'CURRENT_FIX_BLINK_AROUND',\n",
    "       'NEXT_SAC_END_X', 'NEXT_SAC_END_Y', 'NEXT_SAC_AMPLITUDE',\n",
    "       'NEXT_SAC_DIRECTION', 'NEXT_SAC_DURATION', 'NEXT_SAC_ANGLE', 'NEXT_SAC_CONTAINS_BLINK',\n",
    "       'NEXT_SAC_BLINK_START', 'NEXT_SAC_BLINK_END',\n",
    "       'NEXT_SAC_BLINK_DURATION']"
   ]
  },
  {
   "cell_type": "code",
   "execution_count": 7,
   "metadata": {},
   "outputs": [
    {
     "name": "stdout",
     "output_type": "stream",
     "text": [
      "Processing part_1_raw.csv\n",
      "--- Exporting to ../data\\part_1\\part_1_no_blink.csv\n",
      "Processing part_2_raw.csv\n",
      "--- Exporting to ../data\\part_2\\part_2_no_blink.csv\n",
      "Processing part_3_raw.csv\n",
      "--- Exporting to ../data\\part_3\\part_3_no_blink.csv\n",
      "Processing part_4_raw.csv\n",
      "--- Exporting to ../data\\part_4\\part_4_no_blink.csv\n",
      "Processing part_7_raw.csv\n",
      "--- Exporting to ../data\\part_7\\part_7_no_blink.csv\n",
      "Processing part_709_raw.csv\n",
      "--- Exporting to ../data\\part_709\\part_709_no_blink.csv\n",
      "Processing part_710_raw.csv\n",
      "--- Exporting to ../data\\part_710\\part_710_no_blink.csv\n",
      "Processing part_711_raw.csv\n",
      "--- Exporting to ../data\\part_711\\part_711_no_blink.csv\n",
      "Processing part_712_raw.csv\n",
      "--- Exporting to ../data\\part_712\\part_712_no_blink.csv\n",
      "Processing part_713_raw.csv\n",
      "--- Exporting to ../data\\part_713\\part_713_no_blink.csv\n",
      "Processing part_714_raw.csv\n",
      "--- Exporting to ../data\\part_714\\part_714_no_blink.csv\n",
      "Processing part_715_raw.csv\n",
      "--- Exporting to ../data\\part_715\\part_715_no_blink.csv\n",
      "Processing part_716_raw.csv\n",
      "--- Exporting to ../data\\part_716\\part_716_no_blink.csv\n",
      "Processing part_8_raw.csv\n",
      "--- Exporting to ../data\\part_8\\part_8_no_blink.csv\n"
     ]
    }
   ],
   "source": [
    "files = glob.glob(\"{0}part_*/part_*_raw.csv\".format(rootPath))\n",
    "for filename in files:\n",
    "    print(\"Processing {}\".format(os.path.basename(filename)))\n",
    "    df = pd.read_csv(filename,sep = \"\\t\")\n",
    "    clean_columns(df)\n",
    "    df = df[columns_mandatory]\n",
    "    correct_blink_offset(df)\n",
    "    print(\"--- Exporting to {}\".format(filename.replace(\"_raw.csv\", \"_no_blink.csv\")))\n",
    "    df.to_csv(filename.replace(\"_raw.csv\", \"_no_blink.csv\"), index = False)"
   ]
  }
 ],
 "metadata": {
  "anaconda-cloud": {},
  "kernelspec": {
   "display_name": "Python 3",
   "language": "python",
   "name": "python3"
  },
  "language_info": {
   "codemirror_mode": {
    "name": "ipython",
    "version": 3
   },
   "file_extension": ".py",
   "mimetype": "text/x-python",
   "name": "python",
   "nbconvert_exporter": "python",
   "pygments_lexer": "ipython3",
   "version": "3.6.4"
  },
  "varInspector": {
   "cols": {
    "lenName": 16,
    "lenType": 16,
    "lenVar": 40
   },
   "kernels_config": {
    "python": {
     "delete_cmd_postfix": "",
     "delete_cmd_prefix": "del ",
     "library": "var_list.py",
     "varRefreshCmd": "print(var_dic_list())"
    },
    "r": {
     "delete_cmd_postfix": ") ",
     "delete_cmd_prefix": "rm(",
     "library": "var_list.r",
     "varRefreshCmd": "cat(var_dic_list()) "
    }
   },
   "types_to_exclude": [
    "module",
    "function",
    "builtin_function_or_method",
    "instance",
    "_Feature"
   ],
   "window_display": false
  }
 },
 "nbformat": 4,
 "nbformat_minor": 2
}
