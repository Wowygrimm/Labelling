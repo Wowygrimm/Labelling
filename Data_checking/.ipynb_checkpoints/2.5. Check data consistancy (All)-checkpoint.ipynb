{
 "cells": [
  {
   "cell_type": "code",
   "execution_count": 1,
   "metadata": {},
   "outputs": [],
   "source": [
    "%matplotlib inline"
   ]
  },
  {
   "cell_type": "code",
   "execution_count": 2,
   "metadata": {},
   "outputs": [],
   "source": [
    "import pandas as pd\n",
    "import numpy as np\n",
    "import pickle\n",
    "import matplotlib.pyplot as plt\n",
    "import os\n",
    "import glob\n",
    "import matplotlib as mpl\n",
    "import re"
   ]
  },
  {
   "cell_type": "markdown",
   "metadata": {},
   "source": [
    "# Table of contents"
   ]
  },
  {
   "cell_type": "markdown",
   "metadata": {},
   "source": [
    "* [Criterias](#Validation-criterias)\n",
    "* [Functions](#Functions)\n",
    "* [Process](#Process)\n",
    "* [Export](#Export)\n",
    "* [Drop trials](#Drop-trials)"
   ]
  },
  {
   "cell_type": "markdown",
   "metadata": {},
   "source": [
    "# Validation criterias\n",
    "\n",
    "- We have 18 TRIAL_INDEX\n",
    "\n",
    "- CURRENT_FIX_X and CURRENT_FIX_Y are positives and in the 1920x1080 screen\n",
    "\n",
    "- CURRENT_FIX_START is positive\n",
    "\n",
    "- EYE_USED is always equal to RIGHT\n",
    "\n",
    "- CURRENT_FIX_DURATION is positive\n",
    "\n",
    "- We have 18 WEBSITE_ID\n",
    "\n",
    "- We have 6 x 3 CONDITION "
   ]
  },
  {
   "cell_type": "markdown",
   "metadata": {},
   "source": [
    "# Functions"
   ]
  },
  {
   "cell_type": "code",
   "execution_count": 3,
   "metadata": {},
   "outputs": [],
   "source": [
    "def clean_columns(data):\n",
    "    data[\"CURRENT_FIX_Y\"] = pd.to_numeric(data[\"CURRENT_FIX_Y\"].str.replace(',','.'))\n",
    "    data[\"CURRENT_FIX_X\"] = pd.to_numeric(data[\"CURRENT_FIX_X\"].str.replace(',','.'))\n",
    "    data[\"NEXT_SAC_AMPLITUDE\"] = pd.to_numeric(data[\"NEXT_SAC_AMPLITUDE\"].str.replace(\".\", \"\").str.replace(\",\", \".\"))\n",
    "    data[\"NEXT_SAC_END_X\"] = pd.to_numeric(data[\"NEXT_SAC_END_X\"].str.replace(\".\", \"\").str.replace(\",\", \".\"))\n",
    "    data[\"NEXT_SAC_END_Y\"] = pd.to_numeric(data[\"NEXT_SAC_END_Y\"].str.replace(\".\", \"\").str.replace(\",\", \".\"))\n",
    "    data[\"NEXT_SAC_DURATION\"] = pd.to_numeric(data[\"NEXT_SAC_DURATION\"].str.replace(\".\", \"\").str.replace(\",\", \".\"))\n",
    "    data[\"NEXT_SAC_ANGLE\"] = pd.to_numeric(data[\"NEXT_SAC_ANGLE\"].str.replace(\".\", \"\").str.replace(\",\", \".\"))\n",
    "    data[\"NEXT_SAC_AVG_VELOCITY\"] = pd.to_numeric(data[\"NEXT_SAC_AVG_VELOCITY\"].str.replace(\".\", \"\").str.replace(\",\", \".\"))"
   ]
  },
  {
   "cell_type": "code",
   "execution_count": 4,
   "metadata": {},
   "outputs": [],
   "source": [
    "# TRIAL_INDEX\n",
    "def check1(data):\n",
    "    # Sort by TRIAL_INDEX\n",
    "    data_sorted = data.TRIAL_INDEX.unique()\n",
    "    data_sorted.sort()\n",
    "    \n",
    "    good_trialsID = np.array([1,2,3,4,5,6,7,8,9,10,11,12,13,14,15,16,17,18])\n",
    "    if ((data_sorted == good_trialsID).all()) :\n",
    "        return 2\n",
    "    else:\n",
    "        return 0"
   ]
  },
  {
   "cell_type": "code",
   "execution_count": 5,
   "metadata": {},
   "outputs": [],
   "source": [
    "def check2(data):\n",
    "    df = data.query(\"CURRENT_FIX_X < 0 or CURRENT_FIX_X > 1920\")\n",
    "    fixX_prop_inscreen = 1 - round(df.shape[0]/data.shape[0], 2)\n",
    "\n",
    "    if (fixX_prop_inscreen == 1):\n",
    "        return 2, None\n",
    "    elif (fixX_prop_inscreen > 0.95):\n",
    "        return 1, df[\"TRIAL_INDEX\"].unique()\n",
    "    else:\n",
    "        return 0, df[\"TRIAL_INDEX\"].unique()"
   ]
  },
  {
   "cell_type": "code",
   "execution_count": 6,
   "metadata": {},
   "outputs": [],
   "source": [
    "def check3(data):\n",
    "    df = data.query(\"CURRENT_FIX_Y < 0 or CURRENT_FIX_Y > 1080\")\n",
    "    fixY_prop_inscreen = 1 - round(df.shape[0]/data.shape[0], 2)\n",
    "\n",
    "    if (fixY_prop_inscreen == 1):\n",
    "        return 2, None\n",
    "    elif (fixY_prop_inscreen > 0.95):\n",
    "        return 1, df[\"TRIAL_INDEX\"].unique()\n",
    "    else:\n",
    "        return 0, df[\"TRIAL_INDEX\"].unique()"
   ]
  },
  {
   "cell_type": "code",
   "execution_count": 7,
   "metadata": {},
   "outputs": [],
   "source": [
    "def check4(data):\n",
    "    df = data.query(\"CURRENT_FIX_START < 0\")\n",
    "    fixStart_prop = 1 - round(df.shape[0]/data.shape[0], 2) \n",
    "\n",
    "    if (fixStart_prop == 1):\n",
    "        return 2, None\n",
    "    elif (fixStart_prop > 0.95):\n",
    "        return 1, df[\"TRIAL_INDEX\"].unique()\n",
    "    else:\n",
    "        return 0, df[\"TRIAL_INDEX\"].unique()"
   ]
  },
  {
   "cell_type": "code",
   "execution_count": 8,
   "metadata": {},
   "outputs": [],
   "source": [
    "def check5(data):\n",
    "    eye_prop = round(len(data.query(\"EYE_USED == 'RIGHT'\"))/len(data),3)\n",
    "\n",
    "    if (eye_prop == 1):\n",
    "        return 2\n",
    "    else:\n",
    "        return 0"
   ]
  },
  {
   "cell_type": "code",
   "execution_count": 9,
   "metadata": {},
   "outputs": [],
   "source": [
    "def check6(data):\n",
    "    df = data.query(\"CURRENT_FIX_DURATION < 0\")\n",
    "    fixDuration_prop = 1 - round(df.shape[0]/data.shape[0], 3)\n",
    "\n",
    "    if (fixDuration_prop == 1):\n",
    "        return 2, None\n",
    "    else:\n",
    "        return 0, df[\"TRIAL_INDEX\"].unique()"
   ]
  },
  {
   "cell_type": "code",
   "execution_count": 10,
   "metadata": {},
   "outputs": [],
   "source": [
    "def check7(data):\n",
    "    def get_website_id(trial_num):\n",
    "        return config[\"rand_weblist\"][trial_num - 1][\"id\"]\n",
    "\n",
    "    data[\"WEBSITE_ID\"] = data[\"TRIAL_INDEX\"].apply(get_website_id)\n",
    "\n",
    "    web = data[\"WEBSITE_ID\"].unique()\n",
    "    web.sort()\n",
    "\n",
    "    good_websites = np.array([1,2,3,4,5,6,7,8,9,10,11,12,13,14,15,16,17,18])\n",
    "    if ((web == good_websites).all()) :\n",
    "        return 2\n",
    "    else:\n",
    "        return 0"
   ]
  },
  {
   "cell_type": "code",
   "execution_count": 11,
   "metadata": {},
   "outputs": [],
   "source": [
    "def check8(data):\n",
    "    def get_condition(trial_num):\n",
    "        data = config[\"rand_weblist\"][trial_num - 1]\n",
    "        if(data[\"type\"] == \"free\" and data[\"ad_id\"] == 0 and data[\"mpu_id\"] == 0):\n",
    "            return 1\n",
    "        elif(data[\"type\"] == \"target\" and data[\"ad_id\"] == 0 and data[\"mpu_id\"] == 0):\n",
    "            return 2\n",
    "        elif(data[\"type\"] == \"free\" and data[\"ad_id\"] > 0 and data[\"mpu_id\"] == 0):\n",
    "            return 3\n",
    "        elif(data[\"type\"] == \"target\" and data[\"ad_id\"] > 0 and data[\"mpu_id\"] == 0):\n",
    "            return 4\n",
    "        elif(data[\"type\"] == \"free\" and data[\"ad_id\"] > 0 and data[\"mpu_id\"] > 0):\n",
    "            return 5\n",
    "        elif(data[\"type\"] == \"target\" and data[\"ad_id\"] > 0 and data[\"mpu_id\"] > 0):\n",
    "            return 6\n",
    "\n",
    "        return None\n",
    "\n",
    "    data[\"CONDITION\"] = data[\"TRIAL_INDEX\"].apply(get_condition)\n",
    "    data.head()\n",
    "    cond = data[\"CONDITION\"].unique()\n",
    "    cond.sort()\n",
    "    good_condition = np.array([1,2,3,4,5,6])\n",
    "    if ((cond == good_condition).all()) :\n",
    "        return 2\n",
    "    else:\n",
    "        return 0"
   ]
  },
  {
   "cell_type": "markdown",
   "metadata": {},
   "source": [
    "# Process"
   ]
  },
  {
   "cell_type": "code",
   "execution_count": 12,
   "metadata": {},
   "outputs": [],
   "source": [
    "rootPath = '../data/'\n",
    "file_suffix = \"_full.csv\""
   ]
  },
  {
   "cell_type": "code",
   "execution_count": 13,
   "metadata": {},
   "outputs": [],
   "source": [
    "p_info = []\n",
    "trials_to_drop = pd.DataFrame([], columns=[\"PART_FILE\", \"TRIALS\"])\n",
    "custom_colors = mpl.colors.LinearSegmentedColormap.from_list(\"\", [\"red\",\"orange\",\"green\"])"
   ]
  },
  {
   "cell_type": "code",
   "execution_count": 14,
   "metadata": {},
   "outputs": [
    {
     "data": {
      "image/png": "[encoded data removed]",
      "text/plain": [
       "<matplotlib.figure.Figure at 0x1f779862a58>"
      ]
     },
     "metadata": {},
     "output_type": "display_data"
    },
    {
     "data": {
      "image/png": "[encoded data removed]",
      "text/plain": [
       "<matplotlib.figure.Figure at 0x1f77996fda0>"
      ]
     },
     "metadata": {},
     "output_type": "display_data"
    }
   ],
   "source": [
    "j = 1\n",
    "fig=plt.figure(j,figsize=(15, 15))\n",
    "i = 1\n",
    "\n",
    "files = glob.glob(rootPath + \"part_*/part_[0-9]\"+file_suffix) + glob.glob(rootPath + \"part_*/part_[0-9][0-9]\"+file_suffix) + glob.glob(rootPath + \"part_*/part_[0-9][0-9][0-9]\"+file_suffix)\n",
    "for filename in files:\n",
    "    # CSV Eye-tracker\n",
    "    data = pd.read_csv(filename, sep=\",\")\n",
    "    # CFG Mouse-tracker\n",
    "    config = pickle.load(open(filename.replace(file_suffix, \".cfg\"), 'rb'))\n",
    "\n",
    "    # *** Modification type of features ***\n",
    "    #clean_columns(data)\n",
    "\n",
    "\n",
    "    a_matrix = np.array([0, 0, 0, 0, 0, 0, 0, 0])\n",
    "    \n",
    "\n",
    "    # *** 18 TRIALS ***\n",
    "    a_matrix[0] = check1(data)\n",
    "\n",
    "    # *** CURRENT_FIX_X and CURRENT_FIX_Y are positives and in the 1920x1080 screen ***\n",
    "    a_matrix[1], trials_check2 = check2(data)\n",
    "    a_matrix[2], trials_check3 = check3(data)\n",
    "    \n",
    "    # *** CURRENT_FIX_START is positive ***\n",
    "    a_matrix[3], trials_check4 = check4(data)\n",
    "\n",
    "    # *** EYE_USED is always equal to RIGHT ***\n",
    "    a_matrix[4] = check5(data)\n",
    "\n",
    "    # *** CURRENT_FIX_DURATION is positive ***\n",
    "    a_matrix[5], trials_check6 = check6(data)\n",
    "\n",
    "    # *** We have 18 WEBSITE_ID ***\n",
    "    a_matrix[6] = check7(data)\n",
    "\n",
    "    # *** We have 6 x 3 CONDITION ***\n",
    "    a_matrix[7] = check8(data)\n",
    "    \n",
    "    trials_to_drop = trials_to_drop.append([{\"PART_FILE\":filename, \"TRIALS\":[trials_check2, trials_check3, trials_check4, trials_check6]}])\n",
    "    \n",
    "    # ## SHOW\n",
    "    p_info_current = [filename, a_matrix[0], a_matrix[1], a_matrix[2], a_matrix[3], a_matrix[4], a_matrix[5], a_matrix[6], a_matrix[7]]\n",
    "    p_info.append(p_info_current)\n",
    "    \n",
    "    plt.subplot(5, 2, i)\n",
    "    plt.text(0.5, 1.08, filename,\n",
    "     horizontalalignment='center',\n",
    "     fontsize=10)\n",
    "    plt.matshow([a_matrix], cmap=custom_colors, vmin = 0, vmax = 2, fignum = False)\n",
    "    \n",
    "    i = i + 1\n",
    "    #interactive(True)\n",
    "    if i > 10:\n",
    "        plt.show()\n",
    "        i = 1\n",
    "        fig=plt.figure(j + 1, figsize=(15, 15))\n",
    "        j = j + 1\n",
    "    "
   ]
  },
  {
   "cell_type": "markdown",
   "metadata": {},
   "source": [
    "# Export"
   ]
  },
  {
   "cell_type": "code",
   "execution_count": 15,
   "metadata": {},
   "outputs": [
    {
     "ename": "ValueError",
     "evalue": "",
     "output_type": "error",
     "traceback": [
      "\u001b[1;31m---------------------------------------------------------------------------\u001b[0m",
      "\u001b[1;31mValueError\u001b[0m                                Traceback (most recent call last)",
      "\u001b[1;32m<ipython-input-15-e4c8e09828d5>\u001b[0m in \u001b[0;36m<module>\u001b[1;34m()\u001b[0m\n\u001b[1;32m----> 1\u001b[1;33m \u001b[1;32mraise\u001b[0m \u001b[0mValueError\u001b[0m\u001b[1;33m\u001b[0m\u001b[0m\n\u001b[0m",
      "\u001b[1;31mValueError\u001b[0m: "
     ]
    }
   ],
   "source": [
    "raise ValueError"
   ]
  },
  {
   "cell_type": "code",
   "execution_count": 16,
   "metadata": {},
   "outputs": [],
   "source": [
    "matrix_trials = pd.DataFrame(data = p_info[:], columns = ['Participant','Check1','Check2','Check3','Check4','Check5','Check6','Check7','Check8'])\n",
    "matrix_trials.to_csv('{}matrix_trials.csv'.format(rootPath), index = False)"
   ]
  },
  {
   "cell_type": "code",
   "execution_count": 17,
   "metadata": {},
   "outputs": [],
   "source": [
    "trials_to_drop.to_csv('{}trials_droplist.csv'.format(rootPath), index = False)"
   ]
  },
  {
   "cell_type": "code",
   "execution_count": null,
   "metadata": {},
   "outputs": [],
   "source": []
  }
 ],
 "metadata": {
  "anaconda-cloud": {},
  "kernelspec": {
   "display_name": "Python 3",
   "language": "python",
   "name": "python3"
  },
  "language_info": {
   "codemirror_mode": {
    "name": "ipython",
    "version": 3
   },
   "file_extension": ".py",
   "mimetype": "text/x-python",
   "name": "python",
   "nbconvert_exporter": "python",
   "pygments_lexer": "ipython3",
   "version": "3.6.4"
  },
  "varInspector": {
   "cols": {
    "lenName": 16,
    "lenType": 16,
    "lenVar": 40
   },
   "kernels_config": {
    "python": {
     "delete_cmd_postfix": "",
     "delete_cmd_prefix": "del ",
     "library": "var_list.py",
     "varRefreshCmd": "print(var_dic_list())"
    },
    "r": {
     "delete_cmd_postfix": ") ",
     "delete_cmd_prefix": "rm(",
     "library": "var_list.r",
     "varRefreshCmd": "cat(var_dic_list()) "
    }
   },
   "types_to_exclude": [
    "module",
    "function",
    "builtin_function_or_method",
    "instance",
    "_Feature"
   ],
   "window_display": false
  }
 },
 "nbformat": 4,
 "nbformat_minor": 2
}
