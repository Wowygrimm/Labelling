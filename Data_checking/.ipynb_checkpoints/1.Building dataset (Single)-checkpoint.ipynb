{
 "cells": [
  {
   "cell_type": "code",
   "execution_count": 1,
   "metadata": {
    "cell_style": "center",
    "collapsed": true,
    "slideshow": {
     "slide_type": "-"
    }
   },
   "outputs": [],
   "source": [
    "%matplotlib inline"
   ]
  },
  {
   "cell_type": "code",
   "execution_count": 2,
   "metadata": {
    "collapsed": true
   },
   "outputs": [],
   "source": [
    "import pandas as pd\n",
    "import numpy as np\n",
    "\n",
    "import json\n",
    "import pickle\n",
    "import re\n",
    "\n",
    "import matplotlib.pyplot as plt"
   ]
  },
  {
   "cell_type": "markdown",
   "metadata": {},
   "source": [
    "# Variables\n",
    "\n",
    "Here is the selected variables:\n",
    "\n",
    "- `TRIAL_INDEX`\n",
    "- `EYE_USED`\n",
    "- `CURRENT_FIX_X`\n",
    "- `CURRENT_FIX_Y`\n",
    "- `CURRENT_FIX_START`\n",
    "- `CURRENT_FIX_DURATION`\n",
    "- `NEXT_SAC_END_X`\n",
    "- `NEXT_SAC_END_Y`\n",
    "- `NEXT_SAC_AMPLITUDE`\n",
    "- `NEXT_SAC_DIRECTION`\n",
    "- `NEXT_SAC_DURATION`\n",
    "- `NEXT_SAC_ANGLE`\n",
    "- `NEXT_SAC_AVG_VELOCITY`\n",
    "\n",
    "Since the Timestamp of the events is not at the right time, we need to synchronize Mouse data and eyes data. To do such, we sent a MSG containing `TRIAL_START=XXX-XX-XX XX:XX:XX` at the begining of the trial and `TRIAL_END=XXX-XX-XX XX:XX:XX` at the end."
   ]
  },
  {
   "cell_type": "markdown",
   "metadata": {},
   "source": [
    "# Load Data"
   ]
  },
  {
   "cell_type": "code",
   "execution_count": 3,
   "metadata": {
    "collapsed": true
   },
   "outputs": [],
   "source": [
    "part_id = 1"
   ]
  },
  {
   "cell_type": "code",
   "execution_count": 4,
   "metadata": {},
   "outputs": [
    {
     "data": {
      "text/html": [
       "<div>\n",
       "<table border=\"1\" class=\"dataframe\">\n",
       "  <thead>\n",
       "    <tr style=\"text-align: right;\">\n",
       "      <th></th>\n",
       "      <th>TRIAL_INDEX</th>\n",
       "      <th>EYE_USED</th>\n",
       "      <th>CURRENT_FIX_X</th>\n",
       "      <th>CURRENT_FIX_Y</th>\n",
       "      <th>CURRENT_FIX_START</th>\n",
       "      <th>CURRENT_FIX_DURATION</th>\n",
       "      <th>NEXT_SAC_END_X</th>\n",
       "      <th>NEXT_SAC_END_Y</th>\n",
       "      <th>NEXT_SAC_AMPLITUDE</th>\n",
       "      <th>NEXT_SAC_DIRECTION</th>\n",
       "      <th>NEXT_SAC_DURATION</th>\n",
       "      <th>NEXT_SAC_ANGLE</th>\n",
       "      <th>NEXT_SAC_AVG_VELOCITY</th>\n",
       "    </tr>\n",
       "  </thead>\n",
       "  <tbody>\n",
       "    <tr>\n",
       "      <th>0</th>\n",
       "      <td>1</td>\n",
       "      <td>RIGHT</td>\n",
       "      <td>753,30</td>\n",
       "      <td>399,70</td>\n",
       "      <td>6</td>\n",
       "      <td>71</td>\n",
       "      <td>743,20</td>\n",
       "      <td>591,30</td>\n",
       "      <td>5,07</td>\n",
       "      <td>DOWN</td>\n",
       "      <td>154</td>\n",
       "      <td>-92,54</td>\n",
       "      <td>32,92</td>\n",
       "    </tr>\n",
       "    <tr>\n",
       "      <th>1</th>\n",
       "      <td>1</td>\n",
       "      <td>RIGHT</td>\n",
       "      <td>741,80</td>\n",
       "      <td>602,60</td>\n",
       "      <td>231</td>\n",
       "      <td>151</td>\n",
       "      <td>718,90</td>\n",
       "      <td>506,90</td>\n",
       "      <td>2,73</td>\n",
       "      <td>UP</td>\n",
       "      <td>28</td>\n",
       "      <td>104,99</td>\n",
       "      <td>97,63</td>\n",
       "    </tr>\n",
       "    <tr>\n",
       "      <th>2</th>\n",
       "      <td>1</td>\n",
       "      <td>RIGHT</td>\n",
       "      <td>718,20</td>\n",
       "      <td>519,30</td>\n",
       "      <td>410</td>\n",
       "      <td>180</td>\n",
       "      <td>957,60</td>\n",
       "      <td>513,80</td>\n",
       "      <td>6,92</td>\n",
       "      <td>RIGHT</td>\n",
       "      <td>34</td>\n",
       "      <td>3,82</td>\n",
       "      <td>203,59</td>\n",
       "    </tr>\n",
       "    <tr>\n",
       "      <th>3</th>\n",
       "      <td>1</td>\n",
       "      <td>RIGHT</td>\n",
       "      <td>951,50</td>\n",
       "      <td>517,70</td>\n",
       "      <td>624</td>\n",
       "      <td>156</td>\n",
       "      <td>1090,10</td>\n",
       "      <td>519,50</td>\n",
       "      <td>3,98</td>\n",
       "      <td>RIGHT</td>\n",
       "      <td>32</td>\n",
       "      <td>0,28</td>\n",
       "      <td>124,47</td>\n",
       "    </tr>\n",
       "    <tr>\n",
       "      <th>4</th>\n",
       "      <td>1</td>\n",
       "      <td>RIGHT</td>\n",
       "      <td>1090,50</td>\n",
       "      <td>524,30</td>\n",
       "      <td>812</td>\n",
       "      <td>169</td>\n",
       "      <td>576,50</td>\n",
       "      <td>126,50</td>\n",
       "      <td>18,06</td>\n",
       "      <td>LEFT</td>\n",
       "      <td>128</td>\n",
       "      <td>142,38</td>\n",
       "      <td>141,10</td>\n",
       "    </tr>\n",
       "  </tbody>\n",
       "</table>\n",
       "</div>"
      ],
      "text/plain": [
       "   TRIAL_INDEX EYE_USED CURRENT_FIX_X CURRENT_FIX_Y  CURRENT_FIX_START  \\\n",
       "0            1    RIGHT        753,30        399,70                  6   \n",
       "1            1    RIGHT        741,80        602,60                231   \n",
       "2            1    RIGHT        718,20        519,30                410   \n",
       "3            1    RIGHT        951,50        517,70                624   \n",
       "4            1    RIGHT       1090,50        524,30                812   \n",
       "\n",
       "   CURRENT_FIX_DURATION NEXT_SAC_END_X NEXT_SAC_END_Y NEXT_SAC_AMPLITUDE  \\\n",
       "0                    71         743,20         591,30               5,07   \n",
       "1                   151         718,90         506,90               2,73   \n",
       "2                   180         957,60         513,80               6,92   \n",
       "3                   156        1090,10         519,50               3,98   \n",
       "4                   169         576,50         126,50              18,06   \n",
       "\n",
       "  NEXT_SAC_DIRECTION NEXT_SAC_DURATION NEXT_SAC_ANGLE NEXT_SAC_AVG_VELOCITY  \n",
       "0               DOWN               154         -92,54                 32,92  \n",
       "1                 UP                28         104,99                 97,63  \n",
       "2              RIGHT                34           3,82                203,59  \n",
       "3              RIGHT                32           0,28                124,47  \n",
       "4               LEFT               128         142,38                141,10  "
      ]
     },
     "execution_count": 4,
     "metadata": {},
     "output_type": "execute_result"
    }
   ],
   "source": [
    "df = pd.read_csv(\"./data/part_{0}/part_{0}.csv\".format(part_id), sep=\"\\t\")\n",
    "df.head()"
   ]
  },
  {
   "cell_type": "code",
   "execution_count": 5,
   "metadata": {},
   "outputs": [
    {
     "data": {
      "text/html": [
       "<div>\n",
       "<table border=\"1\" class=\"dataframe\">\n",
       "  <thead>\n",
       "    <tr style=\"text-align: right;\">\n",
       "      <th></th>\n",
       "      <th>TRIAL_INDEX</th>\n",
       "      <th>CURRENT_MSG_TIME</th>\n",
       "      <th>CURRENT_MSG_TEXT</th>\n",
       "    </tr>\n",
       "  </thead>\n",
       "  <tbody>\n",
       "    <tr>\n",
       "      <th>0</th>\n",
       "      <td>1</td>\n",
       "      <td>7</td>\n",
       "      <td>TRIAL START = 2018-04-03 14:52:01</td>\n",
       "    </tr>\n",
       "    <tr>\n",
       "      <th>1</th>\n",
       "      <td>1</td>\n",
       "      <td>59993</td>\n",
       "      <td>TRIAL END = 2018-04-03 14:53:01</td>\n",
       "    </tr>\n",
       "    <tr>\n",
       "      <th>2</th>\n",
       "      <td>2</td>\n",
       "      <td>6</td>\n",
       "      <td>TRIAL START = 2018-04-03 14:53:51</td>\n",
       "    </tr>\n",
       "    <tr>\n",
       "      <th>3</th>\n",
       "      <td>2</td>\n",
       "      <td>60288</td>\n",
       "      <td>TRIAL END = 2018-04-03 14:54:51</td>\n",
       "    </tr>\n",
       "    <tr>\n",
       "      <th>4</th>\n",
       "      <td>3</td>\n",
       "      <td>5</td>\n",
       "      <td>TRIAL START = 2018-04-03 14:55:58</td>\n",
       "    </tr>\n",
       "  </tbody>\n",
       "</table>\n",
       "</div>"
      ],
      "text/plain": [
       "   TRIAL_INDEX  CURRENT_MSG_TIME                   CURRENT_MSG_TEXT\n",
       "0            1                 7  TRIAL START = 2018-04-03 14:52:01\n",
       "1            1             59993    TRIAL END = 2018-04-03 14:53:01\n",
       "2            2                 6  TRIAL START = 2018-04-03 14:53:51\n",
       "3            2             60288    TRIAL END = 2018-04-03 14:54:51\n",
       "4            3                 5  TRIAL START = 2018-04-03 14:55:58"
      ]
     },
     "execution_count": 5,
     "metadata": {},
     "output_type": "execute_result"
    }
   ],
   "source": [
    "msg = pd.read_csv(\"./data/part_{0}/part_{0}_msg.csv\".format(part_id), sep=\"\\t\")\n",
    "msg.head()"
   ]
  },
  {
   "cell_type": "code",
   "execution_count": 6,
   "metadata": {},
   "outputs": [],
   "source": [
    "mrs_json = json.load(open(\"./data/part_{0}/records-{0}.mrs\".format(part_id)))"
   ]
  },
  {
   "cell_type": "code",
   "execution_count": 7,
   "metadata": {},
   "outputs": [],
   "source": [
    "config = pickle.load(open(\"./data/part_{0}/part_{0}.cfg\".format(part_id), 'rb'))"
   ]
  },
  {
   "cell_type": "markdown",
   "metadata": {},
   "source": [
    "# Extract data"
   ]
  },
  {
   "cell_type": "code",
   "execution_count": 8,
   "metadata": {
    "scrolled": true
   },
   "outputs": [],
   "source": [
    "# Extract scroll data from json file\n",
    "def extract_scroll(mrs_json, idx):\n",
    "    # There is two key format: scroll|mouse-website_id-part_id or scroll|mouse-website_id\n",
    "    # So we need to check that out\n",
    "    r = re.compile(\"scroll-\"+str(idx)+\"(?!\\d)\")\n",
    "\n",
    "    for item in mrs_json:\n",
    "        match = list(filter(r.match, list(item.keys())))\n",
    "        \n",
    "        if(len(match) > 0):\n",
    "            return pd.DataFrame(item[match[0]])\n",
    "    \n",
    "    return None"
   ]
  },
  {
   "cell_type": "code",
   "execution_count": 9,
   "metadata": {},
   "outputs": [],
   "source": [
    "# Build scroll offset dataset\n",
    "df_scroll = pd.DataFrame()\n",
    "for i in range(1,19):\n",
    "    scroll = None\n",
    "    scroll = extract_scroll(mrs_json, i)\n",
    "    scroll[\"website_id\"] = i\n",
    "    df_scroll = pd.concat([df_scroll, scroll])"
   ]
  },
  {
   "cell_type": "code",
   "execution_count": 10,
   "metadata": {},
   "outputs": [],
   "source": [
    "# Extract right Datetime\n",
    "# Timestamp is gave by `new Date().getTime()` in Javascript which is in ms\n",
    "# And since this same function give UTC time, we need to add 1H\n",
    "\n",
    "\n",
    "time_to_add = 0\n",
    "# There was a time change on 25 March 2018, so the time shift between the datasets is not 1h anymore but 2h\n",
    "if(part_id > 700 and part_id < 712):\n",
    "    time_to_add = 1\n",
    "else:\n",
    "    time_to_add = 2\n",
    "\n",
    "df_scroll[\"datetime\"] = pd.to_datetime(df_scroll[\"timestamp\"], unit=\"ms\") + pd.Timedelta(hours=time_to_add)"
   ]
  },
  {
   "cell_type": "code",
   "execution_count": 11,
   "metadata": {},
   "outputs": [
    {
     "data": {
      "text/html": [
       "<div>\n",
       "<table border=\"1\" class=\"dataframe\">\n",
       "  <thead>\n",
       "    <tr style=\"text-align: right;\">\n",
       "      <th></th>\n",
       "      <th>offset</th>\n",
       "      <th>timestamp</th>\n",
       "      <th>website_id</th>\n",
       "      <th>datetime</th>\n",
       "    </tr>\n",
       "  </thead>\n",
       "  <tbody>\n",
       "    <tr>\n",
       "      <th>0</th>\n",
       "      <td>1</td>\n",
       "      <td>1522761550855</td>\n",
       "      <td>1</td>\n",
       "      <td>2018-04-03 15:19:10.855</td>\n",
       "    </tr>\n",
       "    <tr>\n",
       "      <th>1</th>\n",
       "      <td>7</td>\n",
       "      <td>1522761550869</td>\n",
       "      <td>1</td>\n",
       "      <td>2018-04-03 15:19:10.869</td>\n",
       "    </tr>\n",
       "    <tr>\n",
       "      <th>2</th>\n",
       "      <td>18</td>\n",
       "      <td>1522761550883</td>\n",
       "      <td>1</td>\n",
       "      <td>2018-04-03 15:19:10.883</td>\n",
       "    </tr>\n",
       "    <tr>\n",
       "      <th>3</th>\n",
       "      <td>26</td>\n",
       "      <td>1522761550890</td>\n",
       "      <td>1</td>\n",
       "      <td>2018-04-03 15:19:10.890</td>\n",
       "    </tr>\n",
       "    <tr>\n",
       "      <th>4</th>\n",
       "      <td>37</td>\n",
       "      <td>1522761550897</td>\n",
       "      <td>1</td>\n",
       "      <td>2018-04-03 15:19:10.897</td>\n",
       "    </tr>\n",
       "  </tbody>\n",
       "</table>\n",
       "</div>"
      ],
      "text/plain": [
       "   offset      timestamp  website_id                datetime\n",
       "0       1  1522761550855           1 2018-04-03 15:19:10.855\n",
       "1       7  1522761550869           1 2018-04-03 15:19:10.869\n",
       "2      18  1522761550883           1 2018-04-03 15:19:10.883\n",
       "3      26  1522761550890           1 2018-04-03 15:19:10.890\n",
       "4      37  1522761550897           1 2018-04-03 15:19:10.897"
      ]
     },
     "execution_count": 11,
     "metadata": {},
     "output_type": "execute_result"
    }
   ],
   "source": [
    "df_scroll.head()"
   ]
  },
  {
   "cell_type": "markdown",
   "metadata": {},
   "source": [
    "# Messages cleaning"
   ]
  },
  {
   "cell_type": "code",
   "execution_count": 12,
   "metadata": {},
   "outputs": [
    {
     "data": {
      "text/html": [
       "<div>\n",
       "<table border=\"1\" class=\"dataframe\">\n",
       "  <thead>\n",
       "    <tr style=\"text-align: right;\">\n",
       "      <th></th>\n",
       "      <th>TRIAL_INDEX</th>\n",
       "      <th>CURRENT_MSG_TIME</th>\n",
       "      <th>CURRENT_MSG_TEXT</th>\n",
       "    </tr>\n",
       "  </thead>\n",
       "  <tbody>\n",
       "    <tr>\n",
       "      <th>0</th>\n",
       "      <td>1</td>\n",
       "      <td>7</td>\n",
       "      <td>TRIAL START = 2018-04-03 14:52:01</td>\n",
       "    </tr>\n",
       "    <tr>\n",
       "      <th>1</th>\n",
       "      <td>1</td>\n",
       "      <td>59993</td>\n",
       "      <td>TRIAL END = 2018-04-03 14:53:01</td>\n",
       "    </tr>\n",
       "    <tr>\n",
       "      <th>2</th>\n",
       "      <td>2</td>\n",
       "      <td>6</td>\n",
       "      <td>TRIAL START = 2018-04-03 14:53:51</td>\n",
       "    </tr>\n",
       "    <tr>\n",
       "      <th>3</th>\n",
       "      <td>2</td>\n",
       "      <td>60288</td>\n",
       "      <td>TRIAL END = 2018-04-03 14:54:51</td>\n",
       "    </tr>\n",
       "    <tr>\n",
       "      <th>4</th>\n",
       "      <td>3</td>\n",
       "      <td>5</td>\n",
       "      <td>TRIAL START = 2018-04-03 14:55:58</td>\n",
       "    </tr>\n",
       "  </tbody>\n",
       "</table>\n",
       "</div>"
      ],
      "text/plain": [
       "   TRIAL_INDEX  CURRENT_MSG_TIME                   CURRENT_MSG_TEXT\n",
       "0            1                 7  TRIAL START = 2018-04-03 14:52:01\n",
       "1            1             59993    TRIAL END = 2018-04-03 14:53:01\n",
       "2            2                 6  TRIAL START = 2018-04-03 14:53:51\n",
       "3            2             60288    TRIAL END = 2018-04-03 14:54:51\n",
       "4            3                 5  TRIAL START = 2018-04-03 14:55:58"
      ]
     },
     "execution_count": 12,
     "metadata": {},
     "output_type": "execute_result"
    }
   ],
   "source": [
    "# Delete useless msg\n",
    "msg = msg[~msg[\"CURRENT_MSG_TEXT\"].str.contains(\"!MODE RECORD\")].reset_index(drop=True)\n",
    "msg.head()"
   ]
  },
  {
   "cell_type": "code",
   "execution_count": 13,
   "metadata": {},
   "outputs": [
    {
     "data": {
      "text/html": [
       "<div>\n",
       "<table border=\"1\" class=\"dataframe\">\n",
       "  <thead>\n",
       "    <tr style=\"text-align: right;\">\n",
       "      <th></th>\n",
       "      <th>TRIAL_INDEX</th>\n",
       "      <th>CURRENT_MSG_TIME</th>\n",
       "      <th>EVENT_NAME</th>\n",
       "      <th>EVENT_DATETIME</th>\n",
       "    </tr>\n",
       "  </thead>\n",
       "  <tbody>\n",
       "    <tr>\n",
       "      <th>0</th>\n",
       "      <td>1</td>\n",
       "      <td>7</td>\n",
       "      <td>TRIAL START</td>\n",
       "      <td>2018-04-03 14:52:01</td>\n",
       "    </tr>\n",
       "    <tr>\n",
       "      <th>1</th>\n",
       "      <td>1</td>\n",
       "      <td>59993</td>\n",
       "      <td>TRIAL END</td>\n",
       "      <td>2018-04-03 14:53:01</td>\n",
       "    </tr>\n",
       "    <tr>\n",
       "      <th>2</th>\n",
       "      <td>2</td>\n",
       "      <td>6</td>\n",
       "      <td>TRIAL START</td>\n",
       "      <td>2018-04-03 14:53:51</td>\n",
       "    </tr>\n",
       "    <tr>\n",
       "      <th>3</th>\n",
       "      <td>2</td>\n",
       "      <td>60288</td>\n",
       "      <td>TRIAL END</td>\n",
       "      <td>2018-04-03 14:54:51</td>\n",
       "    </tr>\n",
       "    <tr>\n",
       "      <th>4</th>\n",
       "      <td>3</td>\n",
       "      <td>5</td>\n",
       "      <td>TRIAL START</td>\n",
       "      <td>2018-04-03 14:55:58</td>\n",
       "    </tr>\n",
       "  </tbody>\n",
       "</table>\n",
       "</div>"
      ],
      "text/plain": [
       "   TRIAL_INDEX  CURRENT_MSG_TIME   EVENT_NAME       EVENT_DATETIME\n",
       "0            1                 7  TRIAL START  2018-04-03 14:52:01\n",
       "1            1             59993    TRIAL END  2018-04-03 14:53:01\n",
       "2            2                 6  TRIAL START  2018-04-03 14:53:51\n",
       "3            2             60288    TRIAL END  2018-04-03 14:54:51\n",
       "4            3                 5  TRIAL START  2018-04-03 14:55:58"
      ]
     },
     "execution_count": 13,
     "metadata": {},
     "output_type": "execute_result"
    }
   ],
   "source": [
    "# Extract message datetime in a new column\n",
    "def split_equal(row):\n",
    "    string = row[\"CURRENT_MSG_TEXT\"].split(\"=\")\n",
    "    row[\"EVENT_NAME\"] = string[0].strip()\n",
    "    row[\"EVENT_DATETIME\"] = string[1].strip()\n",
    "    \n",
    "    del row[\"CURRENT_MSG_TEXT\"]\n",
    "    \n",
    "    return row\n",
    "\n",
    "msg = msg.apply(split_equal, axis=1)\n",
    "msg.head()"
   ]
  },
  {
   "cell_type": "code",
   "execution_count": 14,
   "metadata": {},
   "outputs": [],
   "source": [
    "msg[\"EVENT_DATETIME\"] = pd.to_datetime(msg[\"EVENT_DATETIME\"])"
   ]
  },
  {
   "cell_type": "markdown",
   "metadata": {},
   "source": [
    "# Other cleaning"
   ]
  },
  {
   "cell_type": "code",
   "execution_count": 15,
   "metadata": {},
   "outputs": [
    {
     "data": {
      "text/plain": [
       "Index(['.', 'DOWN', 'LEFT', 'RIGHT', 'UP'], dtype='object')"
      ]
     },
     "execution_count": 15,
     "metadata": {},
     "output_type": "execute_result"
    }
   ],
   "source": [
    "# Left, Right, Up or Down\n",
    "df[\"NEXT_SAC_DIRECTION\"] = df[\"NEXT_SAC_DIRECTION\"].astype(\"category\")\n",
    "df[\"NEXT_SAC_DIRECTION\"].cat.categories"
   ]
  },
  {
   "cell_type": "code",
   "execution_count": 16,
   "metadata": {
    "scrolled": true
   },
   "outputs": [],
   "source": [
    "df[\"CURRENT_FIX_Y\"] = pd.to_numeric(df[\"CURRENT_FIX_Y\"].str.replace(',','.'))\n",
    "df[\"CURRENT_FIX_X\"] = pd.to_numeric(df[\"CURRENT_FIX_X\"].str.replace(',','.'))\n",
    "\n",
    "\n",
    "# Last fixations does not have NEXT_SAC information\n",
    "df[\"NEXT_SAC_AMPLITUDE\"] = pd.to_numeric(df[\"NEXT_SAC_AMPLITUDE\"].str.replace(\".\", \"\").str.replace(\",\", \".\"))\n",
    "df[\"NEXT_SAC_END_X\"] = pd.to_numeric(df[\"NEXT_SAC_END_X\"].str.replace(\".\", \"\").str.replace(\",\", \".\"))\n",
    "df[\"NEXT_SAC_END_Y\"] = pd.to_numeric(df[\"NEXT_SAC_END_Y\"].str.replace(\".\", \"\").str.replace(\",\", \".\"))\n",
    "df[\"NEXT_SAC_DURATION\"] = pd.to_numeric(df[\"NEXT_SAC_DURATION\"].str.replace(\".\", \"\").str.replace(\",\", \".\"))\n",
    "df[\"NEXT_SAC_ANGLE\"] = pd.to_numeric(df[\"NEXT_SAC_ANGLE\"].str.replace(\".\", \"\").str.replace(\",\", \".\"))\n",
    "df[\"NEXT_SAC_AVG_VELOCITY\"] = pd.to_numeric(df[\"NEXT_SAC_AVG_VELOCITY\"].str.replace(\".\", \"\").str.replace(\",\", \".\"))"
   ]
  },
  {
   "cell_type": "markdown",
   "metadata": {},
   "source": [
    "# Time Sync"
   ]
  },
  {
   "cell_type": "code",
   "execution_count": 17,
   "metadata": {
    "collapsed": true
   },
   "outputs": [],
   "source": [
    "# Time sync\n",
    "def sync_time(cell, msg):\n",
    "    timedelta = cell - msg[\"CURRENT_MSG_TIME\"][0]\n",
    "    to_return = msg.loc[0, \"EVENT_DATETIME\"] + pd.Timedelta(milliseconds=timedelta)\n",
    "    return to_return"
   ]
  },
  {
   "cell_type": "code",
   "execution_count": 18,
   "metadata": {
    "scrolled": false
   },
   "outputs": [],
   "source": [
    "def sync_and_clean(group):\n",
    "    trial_index = group['TRIAL_INDEX'].unique()[0]\n",
    "    \n",
    "    msg_start_trial = msg.query(\"TRIAL_INDEX == @trial_index and EVENT_NAME == 'TRIAL START'\").reset_index(drop=True)\n",
    "    msg_end_trial = msg.query(\"TRIAL_INDEX == @trial_index and EVENT_NAME == 'TRIAL END'\").reset_index(drop=True)\n",
    "\n",
    "    group[\"DATETIME\"] = group[\"CURRENT_FIX_START\"].apply(lambda x: sync_time(x, msg_start_trial))\n",
    "    \n",
    "    group = group[group[\"DATETIME\"] > msg_start_trial[\"EVENT_DATETIME\"][0]]\n",
    "    group = group[group[\"DATETIME\"] < msg_end_trial[\"EVENT_DATETIME\"][0]]\n",
    "    \n",
    "    return group"
   ]
  },
  {
   "cell_type": "code",
   "execution_count": 19,
   "metadata": {},
   "outputs": [],
   "source": [
    "df = df.groupby(\"TRIAL_INDEX\").apply(sync_and_clean).reset_index(drop = True)"
   ]
  },
  {
   "cell_type": "markdown",
   "metadata": {},
   "source": [
    "# Websites and Conditions"
   ]
  },
  {
   "cell_type": "code",
   "execution_count": 20,
   "metadata": {
    "collapsed": true
   },
   "outputs": [],
   "source": [
    "# Condition 1:  Free    + NoPub\n",
    "# Condition 2:  Target  + NoPub\n",
    "# Condition 3:  Free    + Skin\n",
    "# Condition 4:  Target  + Skin\n",
    "# Condition 5:  Free    + Skin/MPU\n",
    "# Condition 6:  Target  + Skin/MPU\n",
    "def get_condition(trial_num):\n",
    "    data = config[\"rand_weblist\"][trial_num - 1]\n",
    "    if(data[\"type\"] == \"free\" and data[\"ad_id\"] == 0 and data[\"mpu_id\"] == 0):\n",
    "        return 1\n",
    "    elif(data[\"type\"] == \"target\" and data[\"ad_id\"] == 0 and data[\"mpu_id\"] == 0):\n",
    "        return 2\n",
    "    elif(data[\"type\"] == \"free\" and data[\"ad_id\"] > 0 and data[\"mpu_id\"] == 0):\n",
    "        return 3\n",
    "    elif(data[\"type\"] == \"target\" and data[\"ad_id\"] > 0 and data[\"mpu_id\"] == 0):\n",
    "        return 4\n",
    "    elif(data[\"type\"] == \"free\" and data[\"ad_id\"] > 0 and data[\"mpu_id\"] > 0):\n",
    "        return 5\n",
    "    elif(data[\"type\"] == \"target\" and data[\"ad_id\"] > 0 and data[\"mpu_id\"] > 0):\n",
    "        return 6\n",
    "    \n",
    "    return None\n",
    "\n",
    "def condition_string(num):\n",
    "    if(num == 1):\n",
    "        return \"Free + NoPub\"\n",
    "    elif(num == 2):\n",
    "        return \"Target + NoPub\"\n",
    "    elif(num == 3):\n",
    "        return \"Free + Skin\"\n",
    "    elif(num == 4):\n",
    "        return \"Target + Skin\"\n",
    "    elif(num == 5):\n",
    "        return \"Free + Skin/MPU\"\n",
    "    elif(num == 6):\n",
    "        return \"Target + Skin/MPU\"\n",
    "    else:\n",
    "        return None"
   ]
  },
  {
   "cell_type": "code",
   "execution_count": 21,
   "metadata": {
    "collapsed": true
   },
   "outputs": [],
   "source": [
    "def get_website_id(trial_num):\n",
    "    return config[\"rand_weblist\"][trial_num - 1][\"id\"]"
   ]
  },
  {
   "cell_type": "code",
   "execution_count": 22,
   "metadata": {
    "collapsed": true
   },
   "outputs": [],
   "source": [
    "df[\"WEBSITE_ID\"] = df[\"TRIAL_INDEX\"].apply(get_website_id)"
   ]
  },
  {
   "cell_type": "code",
   "execution_count": 23,
   "metadata": {
    "collapsed": true
   },
   "outputs": [],
   "source": [
    "df[\"CONDITION\"] = df[\"TRIAL_INDEX\"].apply(get_condition)"
   ]
  },
  {
   "cell_type": "markdown",
   "metadata": {},
   "source": [
    "# Offset Sync"
   ]
  },
  {
   "cell_type": "code",
   "execution_count": 24,
   "metadata": {
    "collapsed": true
   },
   "outputs": [],
   "source": [
    "def get_last_offset(trial_scroll, date_eye):\n",
    "    result = trial_scroll[trial_scroll[\"datetime\"] < date_eye]\n",
    "    if(result.empty):\n",
    "        return 0\n",
    "    else:\n",
    "        return result.iloc[-1][\"offset\"]"
   ]
  },
  {
   "cell_type": "code",
   "execution_count": 25,
   "metadata": {
    "collapsed": true
   },
   "outputs": [],
   "source": [
    "def get_offset(group):\n",
    "    website_id = group['WEBSITE_ID'].unique()[0]\n",
    "    group[\"OFFSET\"] = group[\"DATETIME\"].apply(lambda x: get_last_offset(df_scroll.query(\"website_id == \"+str(website_id)), x))\n",
    "    return group"
   ]
  },
  {
   "cell_type": "code",
   "execution_count": 26,
   "metadata": {
    "scrolled": true
   },
   "outputs": [],
   "source": [
    "df = df.groupby(\"TRIAL_INDEX\").apply(get_offset)"
   ]
  },
  {
   "cell_type": "code",
   "execution_count": 27,
   "metadata": {},
   "outputs": [
    {
     "data": {
      "text/plain": [
       "TRIAL_INDEX\n",
       "1     [0, 200, 300, 600, 692, 700, 717, 800, 850, 90...\n",
       "2     [0, 87, 100, 199, 200, 239, 300, 400, 485, 500...\n",
       "3     [0, 9, 100, 200, 201, 446, 519, 597, 638, 700,...\n",
       "4     [0, 195, 386, 556, 600, 697, 898, 900, 821, 79...\n",
       "5     [0, 11, 100, 155, 500, 557, 600, 699, 700, 732...\n",
       "6     [0, 500, 598, 600, 698, 700, 703, 800, 897, 90...\n",
       "7     [0, 43, 163, 270, 634, 798, 821, 934, 1152, 12...\n",
       "8     [0, 1, 200, 497, 500, 504, 571, 700, 946, 1111...\n",
       "9     [0, 299, 400, 600, 700, 859, 900, 950, 1000, 1...\n",
       "10    [0, 26, 172, 392, 400, 412, 800, 1000, 1073, 1...\n",
       "11    [0, 6, 500, 975, 1000, 1002, 1183, 1500, 1800,...\n",
       "12    [0, 18, 500, 1200, 1900, 2971, 3000, 3013, 362...\n",
       "13    [0, 94, 203, 395, 900, 935, 992, 1076, 1309, 1...\n",
       "14    [0, 186, 300, 400, 401, 586, 600, 795, 800, 85...\n",
       "15    [0, 37, 265, 300, 319, 500, 703, 900, 905, 100...\n",
       "16    [0, 101, 300, 328, 700, 889, 1000, 1010, 1100,...\n",
       "17    [0, 400, 403, 503, 900, 909, 1366, 1400, 1759,...\n",
       "18    [0, 257, 308, 674, 800, 815, 997, 1283, 1400, ...\n",
       "Name: OFFSET, dtype: object"
      ]
     },
     "execution_count": 27,
     "metadata": {},
     "output_type": "execute_result"
    }
   ],
   "source": [
    "df.groupby(\"TRIAL_INDEX\")[\"OFFSET\"].unique()"
   ]
  },
  {
   "cell_type": "code",
   "execution_count": 28,
   "metadata": {
    "collapsed": true
   },
   "outputs": [],
   "source": [
    "df[\"Y_OFFSET\"] = df[\"CURRENT_FIX_Y\"] + df[\"OFFSET\"]"
   ]
  },
  {
   "cell_type": "markdown",
   "metadata": {
    "collapsed": true
   },
   "source": [
    "# Export"
   ]
  },
  {
   "cell_type": "code",
   "execution_count": 30,
   "metadata": {},
   "outputs": [],
   "source": [
    "df.to_csv(\"./data/part_{0}/part_{0}_clean.csv\".format(part_id), index=False)"
   ]
  },
  {
   "cell_type": "code",
   "execution_count": 31,
   "metadata": {},
   "outputs": [
    {
     "data": {
      "text/html": [
       "<div>\n",
       "<table border=\"1\" class=\"dataframe\">\n",
       "  <thead>\n",
       "    <tr style=\"text-align: right;\">\n",
       "      <th></th>\n",
       "      <th>TRIAL_INDEX</th>\n",
       "      <th>EYE_USED</th>\n",
       "      <th>CURRENT_FIX_X</th>\n",
       "      <th>CURRENT_FIX_Y</th>\n",
       "      <th>CURRENT_FIX_START</th>\n",
       "      <th>CURRENT_FIX_DURATION</th>\n",
       "      <th>NEXT_SAC_END_X</th>\n",
       "      <th>NEXT_SAC_END_Y</th>\n",
       "      <th>NEXT_SAC_AMPLITUDE</th>\n",
       "      <th>NEXT_SAC_DIRECTION</th>\n",
       "      <th>NEXT_SAC_DURATION</th>\n",
       "      <th>NEXT_SAC_ANGLE</th>\n",
       "      <th>NEXT_SAC_AVG_VELOCITY</th>\n",
       "      <th>DATETIME</th>\n",
       "      <th>WEBSITE_ID</th>\n",
       "      <th>CONDITION</th>\n",
       "      <th>OFFSET</th>\n",
       "      <th>Y_OFFSET</th>\n",
       "    </tr>\n",
       "  </thead>\n",
       "  <tbody>\n",
       "    <tr>\n",
       "      <th>0</th>\n",
       "      <td>1</td>\n",
       "      <td>RIGHT</td>\n",
       "      <td>741.8</td>\n",
       "      <td>602.6</td>\n",
       "      <td>231</td>\n",
       "      <td>151</td>\n",
       "      <td>718.9</td>\n",
       "      <td>506.9</td>\n",
       "      <td>2.73</td>\n",
       "      <td>UP</td>\n",
       "      <td>28.0</td>\n",
       "      <td>104.99</td>\n",
       "      <td>97.63</td>\n",
       "      <td>2018-04-03 14:52:01.224</td>\n",
       "      <td>9</td>\n",
       "      <td>1</td>\n",
       "      <td>0</td>\n",
       "      <td>602.6</td>\n",
       "    </tr>\n",
       "    <tr>\n",
       "      <th>1</th>\n",
       "      <td>1</td>\n",
       "      <td>RIGHT</td>\n",
       "      <td>718.2</td>\n",
       "      <td>519.3</td>\n",
       "      <td>410</td>\n",
       "      <td>180</td>\n",
       "      <td>957.6</td>\n",
       "      <td>513.8</td>\n",
       "      <td>6.92</td>\n",
       "      <td>RIGHT</td>\n",
       "      <td>34.0</td>\n",
       "      <td>3.82</td>\n",
       "      <td>203.59</td>\n",
       "      <td>2018-04-03 14:52:01.403</td>\n",
       "      <td>9</td>\n",
       "      <td>1</td>\n",
       "      <td>0</td>\n",
       "      <td>519.3</td>\n",
       "    </tr>\n",
       "    <tr>\n",
       "      <th>2</th>\n",
       "      <td>1</td>\n",
       "      <td>RIGHT</td>\n",
       "      <td>951.5</td>\n",
       "      <td>517.7</td>\n",
       "      <td>624</td>\n",
       "      <td>156</td>\n",
       "      <td>1090.1</td>\n",
       "      <td>519.5</td>\n",
       "      <td>3.98</td>\n",
       "      <td>RIGHT</td>\n",
       "      <td>32.0</td>\n",
       "      <td>0.28</td>\n",
       "      <td>124.47</td>\n",
       "      <td>2018-04-03 14:52:01.617</td>\n",
       "      <td>9</td>\n",
       "      <td>1</td>\n",
       "      <td>0</td>\n",
       "      <td>517.7</td>\n",
       "    </tr>\n",
       "    <tr>\n",
       "      <th>3</th>\n",
       "      <td>1</td>\n",
       "      <td>RIGHT</td>\n",
       "      <td>1090.5</td>\n",
       "      <td>524.3</td>\n",
       "      <td>812</td>\n",
       "      <td>169</td>\n",
       "      <td>576.5</td>\n",
       "      <td>126.5</td>\n",
       "      <td>18.06</td>\n",
       "      <td>LEFT</td>\n",
       "      <td>128.0</td>\n",
       "      <td>142.38</td>\n",
       "      <td>141.10</td>\n",
       "      <td>2018-04-03 14:52:01.805</td>\n",
       "      <td>9</td>\n",
       "      <td>1</td>\n",
       "      <td>0</td>\n",
       "      <td>524.3</td>\n",
       "    </tr>\n",
       "    <tr>\n",
       "      <th>4</th>\n",
       "      <td>1</td>\n",
       "      <td>RIGHT</td>\n",
       "      <td>579.7</td>\n",
       "      <td>123.0</td>\n",
       "      <td>1109</td>\n",
       "      <td>183</td>\n",
       "      <td>502.4</td>\n",
       "      <td>137.9</td>\n",
       "      <td>2.18</td>\n",
       "      <td>LEFT</td>\n",
       "      <td>31.0</td>\n",
       "      <td>-168.77</td>\n",
       "      <td>70.24</td>\n",
       "      <td>2018-04-03 14:52:02.102</td>\n",
       "      <td>9</td>\n",
       "      <td>1</td>\n",
       "      <td>0</td>\n",
       "      <td>123.0</td>\n",
       "    </tr>\n",
       "  </tbody>\n",
       "</table>\n",
       "</div>"
      ],
      "text/plain": [
       "   TRIAL_INDEX EYE_USED  CURRENT_FIX_X  CURRENT_FIX_Y  CURRENT_FIX_START  \\\n",
       "0            1    RIGHT          741.8          602.6                231   \n",
       "1            1    RIGHT          718.2          519.3                410   \n",
       "2            1    RIGHT          951.5          517.7                624   \n",
       "3            1    RIGHT         1090.5          524.3                812   \n",
       "4            1    RIGHT          579.7          123.0               1109   \n",
       "\n",
       "   CURRENT_FIX_DURATION  NEXT_SAC_END_X  NEXT_SAC_END_Y  NEXT_SAC_AMPLITUDE  \\\n",
       "0                   151           718.9           506.9                2.73   \n",
       "1                   180           957.6           513.8                6.92   \n",
       "2                   156          1090.1           519.5                3.98   \n",
       "3                   169           576.5           126.5               18.06   \n",
       "4                   183           502.4           137.9                2.18   \n",
       "\n",
       "  NEXT_SAC_DIRECTION  NEXT_SAC_DURATION  NEXT_SAC_ANGLE  \\\n",
       "0                 UP               28.0          104.99   \n",
       "1              RIGHT               34.0            3.82   \n",
       "2              RIGHT               32.0            0.28   \n",
       "3               LEFT              128.0          142.38   \n",
       "4               LEFT               31.0         -168.77   \n",
       "\n",
       "   NEXT_SAC_AVG_VELOCITY                DATETIME  WEBSITE_ID  CONDITION  \\\n",
       "0                  97.63 2018-04-03 14:52:01.224           9          1   \n",
       "1                 203.59 2018-04-03 14:52:01.403           9          1   \n",
       "2                 124.47 2018-04-03 14:52:01.617           9          1   \n",
       "3                 141.10 2018-04-03 14:52:01.805           9          1   \n",
       "4                  70.24 2018-04-03 14:52:02.102           9          1   \n",
       "\n",
       "   OFFSET  Y_OFFSET  \n",
       "0       0     602.6  \n",
       "1       0     519.3  \n",
       "2       0     517.7  \n",
       "3       0     524.3  \n",
       "4       0     123.0  "
      ]
     },
     "execution_count": 31,
     "metadata": {},
     "output_type": "execute_result"
    }
   ],
   "source": [
    "df.head()"
   ]
  },
  {
   "cell_type": "code",
   "execution_count": null,
   "metadata": {
    "collapsed": true
   },
   "outputs": [],
   "source": []
  }
 ],
 "metadata": {
  "anaconda-cloud": {},
  "kernelspec": {
   "display_name": "Python 3",
   "language": "python",
   "name": "python3"
  },
  "language_info": {
   "codemirror_mode": {
    "name": "ipython",
    "version": 3
   },
   "file_extension": ".py",
   "mimetype": "text/x-python",
   "name": "python",
   "nbconvert_exporter": "python",
   "pygments_lexer": "ipython3",
   "version": "3.6.4"
  },
  "varInspector": {
   "cols": {
    "lenName": 16,
    "lenType": 16,
    "lenVar": 40
   },
   "kernels_config": {
    "python": {
     "delete_cmd_postfix": "",
     "delete_cmd_prefix": "del ",
     "library": "var_list.py",
     "varRefreshCmd": "print(var_dic_list())"
    },
    "r": {
     "delete_cmd_postfix": ") ",
     "delete_cmd_prefix": "rm(",
     "library": "var_list.r",
     "varRefreshCmd": "cat(var_dic_list()) "
    }
   },
   "types_to_exclude": [
    "module",
    "function",
    "builtin_function_or_method",
    "instance",
    "_Feature"
   ],
   "window_display": false
  }
 },
 "nbformat": 4,
 "nbformat_minor": 1
}
