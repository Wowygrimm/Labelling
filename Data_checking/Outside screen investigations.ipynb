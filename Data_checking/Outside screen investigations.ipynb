{
 "cells": [
  {
   "cell_type": "code",
   "execution_count": 1,
   "metadata": {},
   "outputs": [],
   "source": [
    "%matplotlib inline"
   ]
  },
  {
   "cell_type": "code",
   "execution_count": 2,
   "metadata": {},
   "outputs": [],
   "source": [
    "import pandas as pd\n",
    "import numpy as np\n",
    "import pickle\n",
    "import matplotlib.pyplot as plt\n",
    "import os\n",
    "import sys\n",
    "import glob\n",
    "import matplotlib as mpl\n",
    "import math\n",
    "\n",
    "from PIL import Image, ImageDraw, ImageFont, ImageChops"
   ]
  },
  {
   "cell_type": "code",
   "execution_count": 3,
   "metadata": {},
   "outputs": [],
   "source": [
    "sys.path.append('../../../Libraries/')"
   ]
  },
  {
   "cell_type": "code",
   "execution_count": 4,
   "metadata": {},
   "outputs": [],
   "source": [
    "from Utils.Toolbox import graphics"
   ]
  },
  {
   "cell_type": "code",
   "execution_count": 5,
   "metadata": {},
   "outputs": [],
   "source": [
    "rootPath = '../data/'"
   ]
  },
  {
   "cell_type": "code",
   "execution_count": 6,
   "metadata": {},
   "outputs": [],
   "source": [
    "def clean_columns(data):\n",
    "    data[\"CURRENT_FIX_Y\"] = pd.to_numeric(data[\"CURRENT_FIX_Y\"].str.replace(',','.'))\n",
    "    data[\"CURRENT_FIX_X\"] = pd.to_numeric(data[\"CURRENT_FIX_X\"].str.replace(',','.'))\n",
    "    data[\"NEXT_SAC_AMPLITUDE\"] = pd.to_numeric(data[\"NEXT_SAC_AMPLITUDE\"].str.replace(\".\", \"\").str.replace(\",\", \".\"))\n",
    "    data[\"NEXT_SAC_END_X\"] = pd.to_numeric(data[\"NEXT_SAC_END_X\"].str.replace(\".\", \"\").str.replace(\",\", \".\"))\n",
    "    data[\"NEXT_SAC_END_Y\"] = pd.to_numeric(data[\"NEXT_SAC_END_Y\"].str.replace(\".\", \"\").str.replace(\",\", \".\"))\n",
    "    data[\"NEXT_SAC_DURATION\"] = pd.to_numeric(data[\"NEXT_SAC_DURATION\"].str.replace(\".\", \"\").str.replace(\",\", \".\"))\n",
    "    data[\"NEXT_SAC_ANGLE\"] = pd.to_numeric(data[\"NEXT_SAC_ANGLE\"].str.replace(\".\", \"\").str.replace(\",\", \".\"))\n",
    "    data[\"NEXT_SAC_AVG_VELOCITY\"] = pd.to_numeric(data[\"NEXT_SAC_AVG_VELOCITY\"].str.replace(\".\", \"\").str.replace(\",\", \".\"))\n",
    "    data[\"NEXT_SAC_BLINK_DURATION\"] = pd.to_numeric(data[\"NEXT_SAC_BLINK_DURATION\"].str.replace(\".\", \"\").str.replace(\",\", \".\"))"
   ]
  },
  {
   "cell_type": "markdown",
   "metadata": {},
   "source": [
    "# OVERALL"
   ]
  },
  {
   "cell_type": "code",
   "execution_count": 7,
   "metadata": {},
   "outputs": [
    {
     "data": {
      "text/plain": [
       "(49045, 25)"
      ]
     },
     "execution_count": 7,
     "metadata": {},
     "output_type": "execute_result"
    }
   ],
   "source": [
    "alld = pd.read_csv(\"../data/all_data.csv\")\n",
    "alld.shape"
   ]
  },
  {
   "cell_type": "code",
   "execution_count": 9,
   "metadata": {},
   "outputs": [],
   "source": [
    "#graphics.draw_scanpath(Image.new(\"RGB\", (1920, 1080), \"gray\"), scanpath)"
   ]
  },
  {
   "cell_type": "markdown",
   "metadata": {},
   "source": [
    "# X&Y"
   ]
  },
  {
   "cell_type": "markdown",
   "metadata": {},
   "source": [
    "### Overall look"
   ]
  },
  {
   "cell_type": "markdown",
   "metadata": {},
   "source": [
    "First of all, let's look for stats of those outliers"
   ]
  },
  {
   "cell_type": "code",
   "execution_count": 11,
   "metadata": {},
   "outputs": [],
   "source": [
    "def count_errors(group):\n",
    "    count = group.query(\"CURRENT_FIX_X < 0 or CURRENT_FIX_X > 1920 or CURRENT_FIX_Y < 0 or CURRENT_FIX_Y > 1080\")[\"EYE_USED\"].count()\n",
    "    group[\"error_ratio\"] = count / group.shape[0]\n",
    "    return group\n",
    "\n",
    "# Compute the overall ratio of fixations outside the screen on the full dataset\n",
    "alld = alld.groupby([\"PART_ID\",\"TRIAL_INDEX\"]).apply(count_errors)"
   ]
  },
  {
   "cell_type": "code",
   "execution_count": 33,
   "metadata": {},
   "outputs": [
    {
     "name": "stdout",
     "output_type": "stream",
     "text": [
      "error_ratio    0.009824\n",
      "dtype: float64\n"
     ]
    },
    {
     "data": {
      "text/html": [
       "<div>\n",
       "<table border=\"1\" class=\"dataframe\">\n",
       "  <thead>\n",
       "    <tr style=\"text-align: right;\">\n",
       "      <th>TRIAL_INDEX</th>\n",
       "      <th>1</th>\n",
       "      <th>2</th>\n",
       "      <th>3</th>\n",
       "      <th>4</th>\n",
       "      <th>5</th>\n",
       "      <th>6</th>\n",
       "      <th>7</th>\n",
       "      <th>8</th>\n",
       "      <th>9</th>\n",
       "      <th>10</th>\n",
       "      <th>11</th>\n",
       "      <th>12</th>\n",
       "      <th>13</th>\n",
       "      <th>14</th>\n",
       "      <th>15</th>\n",
       "      <th>16</th>\n",
       "      <th>17</th>\n",
       "      <th>18</th>\n",
       "    </tr>\n",
       "  </thead>\n",
       "  <tbody>\n",
       "    <tr>\n",
       "      <th>error_ratio</th>\n",
       "      <td>0.004993</td>\n",
       "      <td>0.005915</td>\n",
       "      <td>0.003455</td>\n",
       "      <td>0.007743</td>\n",
       "      <td>0.004245</td>\n",
       "      <td>0.003036</td>\n",
       "      <td>0.008569</td>\n",
       "      <td>0.009944</td>\n",
       "      <td>0.007005</td>\n",
       "      <td>0.00613</td>\n",
       "      <td>0.013015</td>\n",
       "      <td>0.011532</td>\n",
       "      <td>0.006015</td>\n",
       "      <td>0.033982</td>\n",
       "      <td>0.006042</td>\n",
       "      <td>0.007666</td>\n",
       "      <td>0.026299</td>\n",
       "      <td>0.01124</td>\n",
       "    </tr>\n",
       "  </tbody>\n",
       "</table>\n",
       "</div>"
      ],
      "text/plain": [
       "TRIAL_INDEX        1         2         3         4         5         6   \\\n",
       "error_ratio  0.004993  0.005915  0.003455  0.007743  0.004245  0.003036   \n",
       "\n",
       "TRIAL_INDEX        7         8         9        10        11        12  \\\n",
       "error_ratio  0.008569  0.009944  0.007005  0.00613  0.013015  0.011532   \n",
       "\n",
       "TRIAL_INDEX        13        14        15        16        17       18  \n",
       "error_ratio  0.006015  0.033982  0.006042  0.007666  0.026299  0.01124  "
      ]
     },
     "execution_count": 33,
     "metadata": {},
     "output_type": "execute_result"
    },
    {
     "data": {
      "image/png": "[encoded data removed]",
      "text/plain": [
       "<Figure size 432x288 with 1 Axes>"
      ]
     },
     "metadata": {},
     "output_type": "display_data"
    }
   ],
   "source": [
    "# Mean error rate by trial\n",
    "calcul_by = \"TRIAL_INDEX\"\n",
    "pd.DataFrame(alld.groupby(calcul_by)[\"error_ratio\"].mean()).plot()\n",
    "print(pd.DataFrame(alld.groupby(calcul_by)[\"error_ratio\"].mean()).mean())\n",
    "pd.DataFrame(alld.groupby(calcul_by)[\"error_ratio\"].mean()).transpose()"
   ]
  },
  {
   "cell_type": "code",
   "execution_count": 35,
   "metadata": {},
   "outputs": [
    {
     "name": "stdout",
     "output_type": "stream",
     "text": [
      "error_ratio    0.010359\n",
      "dtype: float64\n"
     ]
    },
    {
     "data": {
      "text/html": [
       "<div>\n",
       "<table border=\"1\" class=\"dataframe\">\n",
       "  <thead>\n",
       "    <tr style=\"text-align: right;\">\n",
       "      <th>PART_ID</th>\n",
       "      <th>1</th>\n",
       "      <th>2</th>\n",
       "      <th>3</th>\n",
       "      <th>4</th>\n",
       "      <th>7</th>\n",
       "      <th>8</th>\n",
       "      <th>709</th>\n",
       "      <th>710</th>\n",
       "      <th>711</th>\n",
       "      <th>712</th>\n",
       "      <th>713</th>\n",
       "      <th>714</th>\n",
       "      <th>715</th>\n",
       "      <th>716</th>\n",
       "    </tr>\n",
       "  </thead>\n",
       "  <tbody>\n",
       "    <tr>\n",
       "      <th>error_ratio</th>\n",
       "      <td>0.001138</td>\n",
       "      <td>0.004105</td>\n",
       "      <td>0.003692</td>\n",
       "      <td>0.004866</td>\n",
       "      <td>0.015893</td>\n",
       "      <td>0.00219</td>\n",
       "      <td>0.007218</td>\n",
       "      <td>0.030547</td>\n",
       "      <td>0.031417</td>\n",
       "      <td>0.016603</td>\n",
       "      <td>0.009325</td>\n",
       "      <td>0.004699</td>\n",
       "      <td>0.005934</td>\n",
       "      <td>0.007395</td>\n",
       "    </tr>\n",
       "  </tbody>\n",
       "</table>\n",
       "</div>"
      ],
      "text/plain": [
       "PART_ID           1         2         3         4         7        8    \\\n",
       "error_ratio  0.001138  0.004105  0.003692  0.004866  0.015893  0.00219   \n",
       "\n",
       "PART_ID           709       710       711       712       713       714  \\\n",
       "error_ratio  0.007218  0.030547  0.031417  0.016603  0.009325  0.004699   \n",
       "\n",
       "PART_ID           715       716  \n",
       "error_ratio  0.005934  0.007395  "
      ]
     },
     "execution_count": 35,
     "metadata": {},
     "output_type": "execute_result"
    },
    {
     "data": {
      "image/png": "[encoded data removed]",
      "text/plain": [
       "<Figure size 432x288 with 1 Axes>"
      ]
     },
     "metadata": {},
     "output_type": "display_data"
    },
    {
     "data": {
      "image/png": "[encoded data removed]",
      "text/plain": [
       "<Figure size 432x288 with 1 Axes>"
      ]
     },
     "metadata": {},
     "output_type": "display_data"
    }
   ],
   "source": [
    "# Mean error rate by Participant\n",
    "calcul_by = \"PART_ID\"\n",
    "pd.DataFrame(alld.groupby(calcul_by)[\"error_ratio\"].mean()).query(\"PART_ID < 700\").plot()\n",
    "pd.DataFrame(alld.groupby(calcul_by)[\"error_ratio\"].mean()).query(\"PART_ID > 700\").plot()\n",
    "print(pd.DataFrame(alld.groupby(calcul_by)[\"error_ratio\"].mean()).mean())\n",
    "pd.DataFrame(alld.groupby(calcul_by)[\"error_ratio\"].mean()).transpose()"
   ]
  },
  {
   "cell_type": "code",
   "execution_count": 36,
   "metadata": {},
   "outputs": [
    {
     "name": "stdout",
     "output_type": "stream",
     "text": [
      "error_ratio    0.010229\n",
      "dtype: float64\n"
     ]
    },
    {
     "data": {
      "text/html": [
       "<div>\n",
       "<table border=\"1\" class=\"dataframe\">\n",
       "  <thead>\n",
       "    <tr style=\"text-align: right;\">\n",
       "      <th>CONDITION</th>\n",
       "      <th>1</th>\n",
       "      <th>2</th>\n",
       "      <th>3</th>\n",
       "      <th>4</th>\n",
       "      <th>5</th>\n",
       "      <th>6</th>\n",
       "    </tr>\n",
       "  </thead>\n",
       "  <tbody>\n",
       "    <tr>\n",
       "      <th>error_ratio</th>\n",
       "      <td>0.010225</td>\n",
       "      <td>0.010116</td>\n",
       "      <td>0.007002</td>\n",
       "      <td>0.019753</td>\n",
       "      <td>0.004855</td>\n",
       "      <td>0.009421</td>\n",
       "    </tr>\n",
       "  </tbody>\n",
       "</table>\n",
       "</div>"
      ],
      "text/plain": [
       "CONDITION           1         2         3         4         5         6\n",
       "error_ratio  0.010225  0.010116  0.007002  0.019753  0.004855  0.009421"
      ]
     },
     "execution_count": 36,
     "metadata": {},
     "output_type": "execute_result"
    },
    {
     "data": {
      "image/png": "[encoded data removed]",
      "text/plain": [
       "<Figure size 432x288 with 1 Axes>"
      ]
     },
     "metadata": {},
     "output_type": "display_data"
    }
   ],
   "source": [
    "# Mean error rate by Condition\n",
    "calcul_by = \"CONDITION\"\n",
    "pd.DataFrame(alld.groupby(calcul_by)[\"error_ratio\"].mean()).plot()\n",
    "print(pd.DataFrame(alld.groupby(calcul_by)[\"error_ratio\"].mean()).mean())\n",
    "pd.DataFrame(alld.groupby(calcul_by)[\"error_ratio\"].mean()).transpose()"
   ]
  },
  {
   "cell_type": "code",
   "execution_count": 126,
   "metadata": {},
   "outputs": [],
   "source": [
    "alld[\"TASK\"] = 'Target'\n",
    "alld.loc[alld.query(\"CONDITION in [1,3,5]\").index, \"TASK\"] = \"Free\""
   ]
  },
  {
   "cell_type": "code",
   "execution_count": 127,
   "metadata": {},
   "outputs": [
    {
     "name": "stdout",
     "output_type": "stream",
     "text": [
      "error_ratio    0.010226\n",
      "dtype: float64\n"
     ]
    },
    {
     "data": {
      "text/html": [
       "<div>\n",
       "<table border=\"1\" class=\"dataframe\">\n",
       "  <thead>\n",
       "    <tr style=\"text-align: right;\">\n",
       "      <th>TASK</th>\n",
       "      <th>Free</th>\n",
       "      <th>Target</th>\n",
       "    </tr>\n",
       "  </thead>\n",
       "  <tbody>\n",
       "    <tr>\n",
       "      <th>error_ratio</th>\n",
       "      <td>0.007337</td>\n",
       "      <td>0.013114</td>\n",
       "    </tr>\n",
       "  </tbody>\n",
       "</table>\n",
       "</div>"
      ],
      "text/plain": [
       "TASK             Free    Target\n",
       "error_ratio  0.007337  0.013114"
      ]
     },
     "execution_count": 127,
     "metadata": {},
     "output_type": "execute_result"
    },
    {
     "data": {
      "image/png": "[encoded data removed]",
      "text/plain": [
       "<Figure size 432x288 with 1 Axes>"
      ]
     },
     "metadata": {},
     "output_type": "display_data"
    }
   ],
   "source": [
    "# Mean error rate by trial\n",
    "calcul_by = \"TASK\"\n",
    "pd.DataFrame(alld.groupby(calcul_by)[\"error_ratio\"].mean()).plot()\n",
    "print(pd.DataFrame(alld.groupby(calcul_by)[\"error_ratio\"].mean()).mean())\n",
    "pd.DataFrame(alld.groupby(calcul_by)[\"error_ratio\"].mean()).transpose()"
   ]
  },
  {
   "cell_type": "markdown",
   "metadata": {},
   "source": [
    "We can see that participants have a higher rate of error even if it is not very big. Let's look how it turns when we remove participants 710, 711 and then 7th. "
   ]
  },
  {
   "cell_type": "markdown",
   "metadata": {},
   "source": [
    "### 710 and 711"
   ]
  },
  {
   "cell_type": "code",
   "execution_count": 43,
   "metadata": {},
   "outputs": [
    {
     "name": "stdout",
     "output_type": "stream",
     "text": [
      "error_ratio    0.006744\n",
      "dtype: float64\n"
     ]
    },
    {
     "data": {
      "text/html": [
       "<div>\n",
       "<table border=\"1\" class=\"dataframe\">\n",
       "  <thead>\n",
       "    <tr style=\"text-align: right;\">\n",
       "      <th>TRIAL_INDEX</th>\n",
       "      <th>1</th>\n",
       "      <th>2</th>\n",
       "      <th>3</th>\n",
       "      <th>4</th>\n",
       "      <th>5</th>\n",
       "      <th>6</th>\n",
       "      <th>7</th>\n",
       "      <th>8</th>\n",
       "      <th>9</th>\n",
       "      <th>10</th>\n",
       "      <th>11</th>\n",
       "      <th>12</th>\n",
       "      <th>13</th>\n",
       "      <th>14</th>\n",
       "      <th>15</th>\n",
       "      <th>16</th>\n",
       "      <th>17</th>\n",
       "      <th>18</th>\n",
       "    </tr>\n",
       "  </thead>\n",
       "  <tbody>\n",
       "    <tr>\n",
       "      <th>error_ratio</th>\n",
       "      <td>0.005901</td>\n",
       "      <td>0.006218</td>\n",
       "      <td>0.003282</td>\n",
       "      <td>0.004745</td>\n",
       "      <td>0.002144</td>\n",
       "      <td>0.002449</td>\n",
       "      <td>0.008822</td>\n",
       "      <td>0.003488</td>\n",
       "      <td>0.008021</td>\n",
       "      <td>0.004489</td>\n",
       "      <td>0.009259</td>\n",
       "      <td>0.008721</td>\n",
       "      <td>0.005447</td>\n",
       "      <td>0.00735</td>\n",
       "      <td>0.004255</td>\n",
       "      <td>0.007902</td>\n",
       "      <td>0.024272</td>\n",
       "      <td>0.00463</td>\n",
       "    </tr>\n",
       "  </tbody>\n",
       "</table>\n",
       "</div>"
      ],
      "text/plain": [
       "TRIAL_INDEX        1         2         3         4         5         6   \\\n",
       "error_ratio  0.005901  0.006218  0.003282  0.004745  0.002144  0.002449   \n",
       "\n",
       "TRIAL_INDEX        7         8         9         10        11        12  \\\n",
       "error_ratio  0.008822  0.003488  0.008021  0.004489  0.009259  0.008721   \n",
       "\n",
       "TRIAL_INDEX        13       14        15        16        17       18  \n",
       "error_ratio  0.005447  0.00735  0.004255  0.007902  0.024272  0.00463  "
      ]
     },
     "execution_count": 43,
     "metadata": {},
     "output_type": "execute_result"
    },
    {
     "data": {
      "image/png": "[encoded data removed]",
      "text/plain": [
       "<Figure size 432x288 with 1 Axes>"
      ]
     },
     "metadata": {},
     "output_type": "display_data"
    }
   ],
   "source": [
    "# Mean error rate by trial\n",
    "calcul_by = \"TRIAL_INDEX\"\n",
    "parts_to_drop = [710, 711]\n",
    "pd.DataFrame(alld[~alld[\"PART_ID\"].isin(parts_to_drop)].groupby(calcul_by)[\"error_ratio\"].mean()).plot()\n",
    "print(pd.DataFrame(alld[~alld[\"PART_ID\"].isin(parts_to_drop)].groupby(calcul_by)[\"error_ratio\"].mean()).mean())\n",
    "pd.DataFrame(alld[~alld[\"PART_ID\"].isin(parts_to_drop)].groupby(calcul_by)[\"error_ratio\"].mean()).transpose()"
   ]
  },
  {
   "cell_type": "code",
   "execution_count": 44,
   "metadata": {},
   "outputs": [
    {
     "name": "stdout",
     "output_type": "stream",
     "text": [
      "error_ratio    0.007151\n",
      "dtype: float64\n"
     ]
    },
    {
     "data": {
      "text/html": [
       "<div>\n",
       "<table border=\"1\" class=\"dataframe\">\n",
       "  <thead>\n",
       "    <tr style=\"text-align: right;\">\n",
       "      <th>CONDITION</th>\n",
       "      <th>1</th>\n",
       "      <th>2</th>\n",
       "      <th>3</th>\n",
       "      <th>4</th>\n",
       "      <th>5</th>\n",
       "      <th>6</th>\n",
       "    </tr>\n",
       "  </thead>\n",
       "  <tbody>\n",
       "    <tr>\n",
       "      <th>error_ratio</th>\n",
       "      <td>0.005276</td>\n",
       "      <td>0.006678</td>\n",
       "      <td>0.005479</td>\n",
       "      <td>0.013261</td>\n",
       "      <td>0.003881</td>\n",
       "      <td>0.008332</td>\n",
       "    </tr>\n",
       "  </tbody>\n",
       "</table>\n",
       "</div>"
      ],
      "text/plain": [
       "CONDITION           1         2         3         4         5         6\n",
       "error_ratio  0.005276  0.006678  0.005479  0.013261  0.003881  0.008332"
      ]
     },
     "execution_count": 44,
     "metadata": {},
     "output_type": "execute_result"
    },
    {
     "data": {
      "image/png": "[encoded data removed]",
      "text/plain": [
       "<Figure size 432x288 with 1 Axes>"
      ]
     },
     "metadata": {},
     "output_type": "display_data"
    }
   ],
   "source": [
    "# Mean error rate by trial\n",
    "calcul_by = \"CONDITION\"\n",
    "parts_to_drop = [710, 711]\n",
    "pd.DataFrame(alld[~alld[\"PART_ID\"].isin(parts_to_drop)].groupby(calcul_by)[\"error_ratio\"].mean()).plot()\n",
    "print(pd.DataFrame(alld[~alld[\"PART_ID\"].isin(parts_to_drop)].groupby(calcul_by)[\"error_ratio\"].mean()).mean())\n",
    "pd.DataFrame(alld[~alld[\"PART_ID\"].isin(parts_to_drop)].groupby(calcul_by)[\"error_ratio\"].mean()).transpose()"
   ]
  },
  {
   "cell_type": "markdown",
   "metadata": {},
   "source": [
    "### 710, 711 and 7"
   ]
  },
  {
   "cell_type": "code",
   "execution_count": 45,
   "metadata": {},
   "outputs": [
    {
     "name": "stdout",
     "output_type": "stream",
     "text": [
      "error_ratio    0.005866\n",
      "dtype: float64\n"
     ]
    },
    {
     "data": {
      "text/html": [
       "<div>\n",
       "<table border=\"1\" class=\"dataframe\">\n",
       "  <thead>\n",
       "    <tr style=\"text-align: right;\">\n",
       "      <th>TRIAL_INDEX</th>\n",
       "      <th>1</th>\n",
       "      <th>2</th>\n",
       "      <th>3</th>\n",
       "      <th>4</th>\n",
       "      <th>5</th>\n",
       "      <th>6</th>\n",
       "      <th>7</th>\n",
       "      <th>8</th>\n",
       "      <th>9</th>\n",
       "      <th>10</th>\n",
       "      <th>11</th>\n",
       "      <th>12</th>\n",
       "      <th>13</th>\n",
       "      <th>14</th>\n",
       "      <th>15</th>\n",
       "      <th>16</th>\n",
       "      <th>17</th>\n",
       "      <th>18</th>\n",
       "    </tr>\n",
       "  </thead>\n",
       "  <tbody>\n",
       "    <tr>\n",
       "      <th>error_ratio</th>\n",
       "      <td>0.004758</td>\n",
       "      <td>0.006841</td>\n",
       "      <td>0.003559</td>\n",
       "      <td>0.004966</td>\n",
       "      <td>0.002358</td>\n",
       "      <td>0.002798</td>\n",
       "      <td>0.009115</td>\n",
       "      <td>0.003944</td>\n",
       "      <td>0.007592</td>\n",
       "      <td>0.003429</td>\n",
       "      <td>0.009658</td>\n",
       "      <td>0.0091</td>\n",
       "      <td>0.003511</td>\n",
       "      <td>0.007773</td>\n",
       "      <td>0.003183</td>\n",
       "      <td>0.008641</td>\n",
       "      <td>0.010619</td>\n",
       "      <td>0.003737</td>\n",
       "    </tr>\n",
       "  </tbody>\n",
       "</table>\n",
       "</div>"
      ],
      "text/plain": [
       "TRIAL_INDEX        1         2         3         4         5         6   \\\n",
       "error_ratio  0.004758  0.006841  0.003559  0.004966  0.002358  0.002798   \n",
       "\n",
       "TRIAL_INDEX        7         8         9         10        11      12  \\\n",
       "error_ratio  0.009115  0.003944  0.007592  0.003429  0.009658  0.0091   \n",
       "\n",
       "TRIAL_INDEX        13        14        15        16        17        18  \n",
       "error_ratio  0.003511  0.007773  0.003183  0.008641  0.010619  0.003737  "
      ]
     },
     "execution_count": 45,
     "metadata": {},
     "output_type": "execute_result"
    },
    {
     "data": {
      "image/png": "[encoded data removed]",
      "text/plain": [
       "<Figure size 432x288 with 1 Axes>"
      ]
     },
     "metadata": {},
     "output_type": "display_data"
    }
   ],
   "source": [
    "# Mean error rate by trial\n",
    "calcul_by = \"TRIAL_INDEX\"\n",
    "parts_to_drop = [710, 711, 7]\n",
    "pd.DataFrame(alld[~alld[\"PART_ID\"].isin(parts_to_drop)].groupby(calcul_by)[\"error_ratio\"].mean()).plot()\n",
    "print(pd.DataFrame(alld[~alld[\"PART_ID\"].isin(parts_to_drop)].groupby(calcul_by)[\"error_ratio\"].mean()).mean())\n",
    "pd.DataFrame(alld[~alld[\"PART_ID\"].isin(parts_to_drop)].groupby(calcul_by)[\"error_ratio\"].mean()).transpose()"
   ]
  },
  {
   "cell_type": "code",
   "execution_count": 46,
   "metadata": {},
   "outputs": [
    {
     "name": "stdout",
     "output_type": "stream",
     "text": [
      "error_ratio    0.00614\n",
      "dtype: float64\n"
     ]
    },
    {
     "data": {
      "text/html": [
       "<div>\n",
       "<table border=\"1\" class=\"dataframe\">\n",
       "  <thead>\n",
       "    <tr style=\"text-align: right;\">\n",
       "      <th>CONDITION</th>\n",
       "      <th>1</th>\n",
       "      <th>2</th>\n",
       "      <th>3</th>\n",
       "      <th>4</th>\n",
       "      <th>5</th>\n",
       "      <th>6</th>\n",
       "    </tr>\n",
       "  </thead>\n",
       "  <tbody>\n",
       "    <tr>\n",
       "      <th>error_ratio</th>\n",
       "      <td>0.004527</td>\n",
       "      <td>0.006613</td>\n",
       "      <td>0.005603</td>\n",
       "      <td>0.007634</td>\n",
       "      <td>0.003873</td>\n",
       "      <td>0.008591</td>\n",
       "    </tr>\n",
       "  </tbody>\n",
       "</table>\n",
       "</div>"
      ],
      "text/plain": [
       "CONDITION           1         2         3         4         5         6\n",
       "error_ratio  0.004527  0.006613  0.005603  0.007634  0.003873  0.008591"
      ]
     },
     "execution_count": 46,
     "metadata": {},
     "output_type": "execute_result"
    },
    {
     "data": {
      "image/png": "[encoded data removed]",
      "text/plain": [
       "<Figure size 432x288 with 1 Axes>"
      ]
     },
     "metadata": {},
     "output_type": "display_data"
    }
   ],
   "source": [
    "# Mean error rate by trial\n",
    "calcul_by = \"CONDITION\"\n",
    "parts_to_drop = [710, 711, 7]\n",
    "pd.DataFrame(alld[~alld[\"PART_ID\"].isin(parts_to_drop)].groupby(calcul_by)[\"error_ratio\"].mean()).plot()\n",
    "print(pd.DataFrame(alld[~alld[\"PART_ID\"].isin(parts_to_drop)].groupby(calcul_by)[\"error_ratio\"].mean()).mean())\n",
    "pd.DataFrame(alld[~alld[\"PART_ID\"].isin(parts_to_drop)].groupby(calcul_by)[\"error_ratio\"].mean()).transpose()"
   ]
  },
  {
   "cell_type": "markdown",
   "metadata": {},
   "source": [
    "## Single participant: PART_1"
   ]
  },
  {
   "cell_type": "markdown",
   "metadata": {},
   "source": [
    "Participant n°1 is the one with the minimum error ration (0.002), so let's investigate the easy case before looking for more complicated cases"
   ]
  },
  {
   "cell_type": "code",
   "execution_count": 48,
   "metadata": {},
   "outputs": [
    {
     "data": {
      "text/plain": [
       "(3516, 26)"
      ]
     },
     "execution_count": 48,
     "metadata": {},
     "output_type": "execute_result"
    }
   ],
   "source": [
    "df1 = alld.query(\"PART_ID == 1\").copy()\n",
    "df1.shape"
   ]
  },
  {
   "cell_type": "code",
   "execution_count": 50,
   "metadata": {},
   "outputs": [
    {
     "data": {
      "text/plain": [
       "0"
      ]
     },
     "execution_count": 50,
     "metadata": {},
     "output_type": "execute_result"
    }
   ],
   "source": [
    "# Number of looks on the LEFT of the screen\n",
    "df1.query(\"CURRENT_FIX_X < 0\")[\"EYE_USED\"].count()"
   ]
  },
  {
   "cell_type": "markdown",
   "metadata": {},
   "source": [
    "No look on the left of the screen"
   ]
  },
  {
   "cell_type": "code",
   "execution_count": 51,
   "metadata": {},
   "outputs": [
    {
     "data": {
      "text/plain": [
       "2"
      ]
     },
     "execution_count": 51,
     "metadata": {},
     "output_type": "execute_result"
    }
   ],
   "source": [
    "# Number of looks on the RIGHT of the screen\n",
    "df1.query(\"CURRENT_FIX_X > 1920\")[\"EYE_USED\"].count()"
   ]
  },
  {
   "cell_type": "code",
   "execution_count": 52,
   "metadata": {},
   "outputs": [
    {
     "data": {
      "text/plain": [
       "0"
      ]
     },
     "execution_count": 52,
     "metadata": {},
     "output_type": "execute_result"
    }
   ],
   "source": [
    "# Number of looks on the LEFT of the screen\n",
    "df1.query(\"CURRENT_FIX_Y < 0\")[\"EYE_USED\"].count()"
   ]
  },
  {
   "cell_type": "code",
   "execution_count": 53,
   "metadata": {},
   "outputs": [
    {
     "data": {
      "text/plain": [
       "2"
      ]
     },
     "execution_count": 53,
     "metadata": {},
     "output_type": "execute_result"
    }
   ],
   "source": [
    "# Number of looks on the LEFT of the screen\n",
    "df1.query(\"CURRENT_FIX_Y > 1080\")[\"EYE_USED\"].count()"
   ]
  },
  {
   "cell_type": "markdown",
   "metadata": {},
   "source": [
    "Are these related to a blink ?"
   ]
  },
  {
   "cell_type": "markdown",
   "metadata": {},
   "source": [
    "**RIGHT**"
   ]
  },
  {
   "cell_type": "code",
   "execution_count": 56,
   "metadata": {},
   "outputs": [
    {
     "data": {
      "text/plain": [
       "0"
      ]
     },
     "execution_count": 56,
     "metadata": {},
     "output_type": "execute_result"
    }
   ],
   "source": [
    "# Count of blinks during the saccade\n",
    "df1.query(\"CURRENT_FIX_X > 1920\").query(\"NEXT_SAC_CONTAINS_BLINK == 'true'\")[\"EYE_USED\"].count()"
   ]
  },
  {
   "cell_type": "code",
   "execution_count": 59,
   "metadata": {},
   "outputs": [
    {
     "data": {
      "text/html": [
       "<div>\n",
       "<table border=\"1\" class=\"dataframe\">\n",
       "  <thead>\n",
       "    <tr style=\"text-align: right;\">\n",
       "      <th></th>\n",
       "      <th>TRIAL_INDEX</th>\n",
       "      <th>EYE_USED</th>\n",
       "      <th>CURRENT_FIX_X</th>\n",
       "      <th>CURRENT_FIX_Y</th>\n",
       "      <th>CURRENT_FIX_START</th>\n",
       "      <th>CURRENT_FIX_DURATION</th>\n",
       "      <th>CURRENT_FIX_BLINK_AROUND</th>\n",
       "      <th>NEXT_SAC_END_X</th>\n",
       "      <th>NEXT_SAC_END_Y</th>\n",
       "      <th>NEXT_SAC_AMPLITUDE</th>\n",
       "      <th>...</th>\n",
       "      <th>NEXT_SAC_BLINK_DURATION</th>\n",
       "      <th>CUMSUM_BLINK_DURATION</th>\n",
       "      <th>PART_ID</th>\n",
       "      <th>DATETIME</th>\n",
       "      <th>OFFSET</th>\n",
       "      <th>Y_OFFSET</th>\n",
       "      <th>WEBSITE_ID</th>\n",
       "      <th>CONDITION</th>\n",
       "      <th>CALIBRATION_PROBLEM</th>\n",
       "      <th>error_ratio</th>\n",
       "    </tr>\n",
       "  </thead>\n",
       "  <tbody>\n",
       "    <tr>\n",
       "      <th>37585</th>\n",
       "      <td>3</td>\n",
       "      <td>RIGHT</td>\n",
       "      <td>1930.8</td>\n",
       "      <td>281.8</td>\n",
       "      <td>32472.0</td>\n",
       "      <td>113</td>\n",
       "      <td>NONE</td>\n",
       "      <td>1884.6</td>\n",
       "      <td>580.7</td>\n",
       "      <td>7.52</td>\n",
       "      <td>...</td>\n",
       "      <td>0.0</td>\n",
       "      <td>1107.0</td>\n",
       "      <td>1</td>\n",
       "      <td>2018-04-03 14:56:30.467</td>\n",
       "      <td>7114</td>\n",
       "      <td>7395.8</td>\n",
       "      <td>3</td>\n",
       "      <td>2</td>\n",
       "      <td>No</td>\n",
       "      <td>0.006173</td>\n",
       "    </tr>\n",
       "    <tr>\n",
       "      <th>37590</th>\n",
       "      <td>3</td>\n",
       "      <td>RIGHT</td>\n",
       "      <td>1938.6</td>\n",
       "      <td>94.7</td>\n",
       "      <td>34861.0</td>\n",
       "      <td>439</td>\n",
       "      <td>NONE</td>\n",
       "      <td>1579.7</td>\n",
       "      <td>12.9</td>\n",
       "      <td>8.59</td>\n",
       "      <td>...</td>\n",
       "      <td>0.0</td>\n",
       "      <td>1107.0</td>\n",
       "      <td>1</td>\n",
       "      <td>2018-04-03 14:56:32.856</td>\n",
       "      <td>5427</td>\n",
       "      <td>5521.7</td>\n",
       "      <td>3</td>\n",
       "      <td>2</td>\n",
       "      <td>No</td>\n",
       "      <td>0.006173</td>\n",
       "    </tr>\n",
       "  </tbody>\n",
       "</table>\n",
       "<p>2 rows × 26 columns</p>\n",
       "</div>"
      ],
      "text/plain": [
       "       TRIAL_INDEX EYE_USED  CURRENT_FIX_X  CURRENT_FIX_Y  CURRENT_FIX_START  \\\n",
       "37585            3    RIGHT         1930.8          281.8            32472.0   \n",
       "37590            3    RIGHT         1938.6           94.7            34861.0   \n",
       "\n",
       "       CURRENT_FIX_DURATION CURRENT_FIX_BLINK_AROUND  NEXT_SAC_END_X  \\\n",
       "37585                   113                     NONE          1884.6   \n",
       "37590                   439                     NONE          1579.7   \n",
       "\n",
       "       NEXT_SAC_END_Y  NEXT_SAC_AMPLITUDE     ...     NEXT_SAC_BLINK_DURATION  \\\n",
       "37585           580.7                7.52     ...                         0.0   \n",
       "37590            12.9                8.59     ...                         0.0   \n",
       "\n",
       "       CUMSUM_BLINK_DURATION  PART_ID                 DATETIME OFFSET  \\\n",
       "37585                 1107.0        1  2018-04-03 14:56:30.467   7114   \n",
       "37590                 1107.0        1  2018-04-03 14:56:32.856   5427   \n",
       "\n",
       "      Y_OFFSET  WEBSITE_ID  CONDITION  CALIBRATION_PROBLEM error_ratio  \n",
       "37585   7395.8           3          2                   No    0.006173  \n",
       "37590   5521.7           3          2                   No    0.006173  \n",
       "\n",
       "[2 rows x 26 columns]"
      ]
     },
     "execution_count": 59,
     "metadata": {},
     "output_type": "execute_result"
    }
   ],
   "source": [
    "df1.query(\"CURRENT_FIX_X > 1920\")"
   ]
  },
  {
   "cell_type": "code",
   "execution_count": 70,
   "metadata": {},
   "outputs": [
    {
     "data": {
      "text/html": [
       "<div>\n",
       "<table border=\"1\" class=\"dataframe\">\n",
       "  <thead>\n",
       "    <tr style=\"text-align: right;\">\n",
       "      <th></th>\n",
       "      <th>TRIAL_INDEX</th>\n",
       "      <th>EYE_USED</th>\n",
       "      <th>CURRENT_FIX_X</th>\n",
       "      <th>CURRENT_FIX_Y</th>\n",
       "      <th>CURRENT_FIX_START</th>\n",
       "      <th>CURRENT_FIX_DURATION</th>\n",
       "      <th>CURRENT_FIX_BLINK_AROUND</th>\n",
       "      <th>NEXT_SAC_END_X</th>\n",
       "      <th>NEXT_SAC_END_Y</th>\n",
       "      <th>NEXT_SAC_AMPLITUDE</th>\n",
       "      <th>...</th>\n",
       "      <th>NEXT_SAC_BLINK_DURATION</th>\n",
       "      <th>CUMSUM_BLINK_DURATION</th>\n",
       "      <th>PART_ID</th>\n",
       "      <th>DATETIME</th>\n",
       "      <th>OFFSET</th>\n",
       "      <th>Y_OFFSET</th>\n",
       "      <th>WEBSITE_ID</th>\n",
       "      <th>CONDITION</th>\n",
       "      <th>CALIBRATION_PROBLEM</th>\n",
       "      <th>error_ratio</th>\n",
       "    </tr>\n",
       "  </thead>\n",
       "  <tbody>\n",
       "    <tr>\n",
       "      <th>37580</th>\n",
       "      <td>3</td>\n",
       "      <td>RIGHT</td>\n",
       "      <td>658.9</td>\n",
       "      <td>305.8</td>\n",
       "      <td>31332.0</td>\n",
       "      <td>146</td>\n",
       "      <td>NONE</td>\n",
       "      <td>551.2</td>\n",
       "      <td>328.8</td>\n",
       "      <td>2.99</td>\n",
       "      <td>...</td>\n",
       "      <td>0.0</td>\n",
       "      <td>1107.0</td>\n",
       "      <td>1</td>\n",
       "      <td>2018-04-03 14:56:29.327</td>\n",
       "      <td>7769</td>\n",
       "      <td>8074.8</td>\n",
       "      <td>3</td>\n",
       "      <td>2</td>\n",
       "      <td>No</td>\n",
       "      <td>0.006173</td>\n",
       "    </tr>\n",
       "    <tr>\n",
       "      <th>37581</th>\n",
       "      <td>3</td>\n",
       "      <td>RIGHT</td>\n",
       "      <td>547.7</td>\n",
       "      <td>340.3</td>\n",
       "      <td>31504.0</td>\n",
       "      <td>221</td>\n",
       "      <td>NONE</td>\n",
       "      <td>762.5</td>\n",
       "      <td>235.8</td>\n",
       "      <td>7.01</td>\n",
       "      <td>...</td>\n",
       "      <td>0.0</td>\n",
       "      <td>1107.0</td>\n",
       "      <td>1</td>\n",
       "      <td>2018-04-03 14:56:29.499</td>\n",
       "      <td>7727</td>\n",
       "      <td>8067.3</td>\n",
       "      <td>3</td>\n",
       "      <td>2</td>\n",
       "      <td>No</td>\n",
       "      <td>0.006173</td>\n",
       "    </tr>\n",
       "    <tr>\n",
       "      <th>37582</th>\n",
       "      <td>3</td>\n",
       "      <td>RIGHT</td>\n",
       "      <td>764.2</td>\n",
       "      <td>286.2</td>\n",
       "      <td>31759.0</td>\n",
       "      <td>330</td>\n",
       "      <td>NONE</td>\n",
       "      <td>1063.3</td>\n",
       "      <td>53.9</td>\n",
       "      <td>11.38</td>\n",
       "      <td>...</td>\n",
       "      <td>0.0</td>\n",
       "      <td>1107.0</td>\n",
       "      <td>1</td>\n",
       "      <td>2018-04-03 14:56:29.754</td>\n",
       "      <td>7709</td>\n",
       "      <td>7995.2</td>\n",
       "      <td>3</td>\n",
       "      <td>2</td>\n",
       "      <td>No</td>\n",
       "      <td>0.006173</td>\n",
       "    </tr>\n",
       "    <tr>\n",
       "      <th>37583</th>\n",
       "      <td>3</td>\n",
       "      <td>RIGHT</td>\n",
       "      <td>1061.9</td>\n",
       "      <td>61.2</td>\n",
       "      <td>32142.0</td>\n",
       "      <td>100</td>\n",
       "      <td>NONE</td>\n",
       "      <td>1573.9</td>\n",
       "      <td>139.3</td>\n",
       "      <td>13.91</td>\n",
       "      <td>...</td>\n",
       "      <td>0.0</td>\n",
       "      <td>1107.0</td>\n",
       "      <td>1</td>\n",
       "      <td>2018-04-03 14:56:30.137</td>\n",
       "      <td>7140</td>\n",
       "      <td>7201.2</td>\n",
       "      <td>3</td>\n",
       "      <td>2</td>\n",
       "      <td>No</td>\n",
       "      <td>0.006173</td>\n",
       "    </tr>\n",
       "    <tr>\n",
       "      <th>37584</th>\n",
       "      <td>3</td>\n",
       "      <td>RIGHT</td>\n",
       "      <td>1569.5</td>\n",
       "      <td>148.2</td>\n",
       "      <td>32294.0</td>\n",
       "      <td>130</td>\n",
       "      <td>NONE</td>\n",
       "      <td>1938.8</td>\n",
       "      <td>286.8</td>\n",
       "      <td>9.70</td>\n",
       "      <td>...</td>\n",
       "      <td>0.0</td>\n",
       "      <td>1107.0</td>\n",
       "      <td>1</td>\n",
       "      <td>2018-04-03 14:56:30.289</td>\n",
       "      <td>7127</td>\n",
       "      <td>7275.2</td>\n",
       "      <td>3</td>\n",
       "      <td>2</td>\n",
       "      <td>No</td>\n",
       "      <td>0.006173</td>\n",
       "    </tr>\n",
       "    <tr>\n",
       "      <th>37585</th>\n",
       "      <td>3</td>\n",
       "      <td>RIGHT</td>\n",
       "      <td>1930.8</td>\n",
       "      <td>281.8</td>\n",
       "      <td>32472.0</td>\n",
       "      <td>113</td>\n",
       "      <td>NONE</td>\n",
       "      <td>1884.6</td>\n",
       "      <td>580.7</td>\n",
       "      <td>7.52</td>\n",
       "      <td>...</td>\n",
       "      <td>0.0</td>\n",
       "      <td>1107.0</td>\n",
       "      <td>1</td>\n",
       "      <td>2018-04-03 14:56:30.467</td>\n",
       "      <td>7114</td>\n",
       "      <td>7395.8</td>\n",
       "      <td>3</td>\n",
       "      <td>2</td>\n",
       "      <td>No</td>\n",
       "      <td>0.006173</td>\n",
       "    </tr>\n",
       "    <tr>\n",
       "      <th>37586</th>\n",
       "      <td>3</td>\n",
       "      <td>RIGHT</td>\n",
       "      <td>1881.5</td>\n",
       "      <td>573.5</td>\n",
       "      <td>32646.0</td>\n",
       "      <td>224</td>\n",
       "      <td>NONE</td>\n",
       "      <td>1898.9</td>\n",
       "      <td>638.7</td>\n",
       "      <td>1.78</td>\n",
       "      <td>...</td>\n",
       "      <td>0.0</td>\n",
       "      <td>1107.0</td>\n",
       "      <td>1</td>\n",
       "      <td>2018-04-03 14:56:30.641</td>\n",
       "      <td>6718</td>\n",
       "      <td>7291.5</td>\n",
       "      <td>3</td>\n",
       "      <td>2</td>\n",
       "      <td>No</td>\n",
       "      <td>0.006173</td>\n",
       "    </tr>\n",
       "    <tr>\n",
       "      <th>37587</th>\n",
       "      <td>3</td>\n",
       "      <td>RIGHT</td>\n",
       "      <td>1897.3</td>\n",
       "      <td>626.9</td>\n",
       "      <td>32893.0</td>\n",
       "      <td>372</td>\n",
       "      <td>NONE</td>\n",
       "      <td>1911.4</td>\n",
       "      <td>668.1</td>\n",
       "      <td>0.97</td>\n",
       "      <td>...</td>\n",
       "      <td>0.0</td>\n",
       "      <td>1107.0</td>\n",
       "      <td>1</td>\n",
       "      <td>2018-04-03 14:56:30.888</td>\n",
       "      <td>6527</td>\n",
       "      <td>7153.9</td>\n",
       "      <td>3</td>\n",
       "      <td>2</td>\n",
       "      <td>No</td>\n",
       "      <td>0.006173</td>\n",
       "    </tr>\n",
       "    <tr>\n",
       "      <th>37588</th>\n",
       "      <td>3</td>\n",
       "      <td>RIGHT</td>\n",
       "      <td>1911.7</td>\n",
       "      <td>671.4</td>\n",
       "      <td>33288.0</td>\n",
       "      <td>1115</td>\n",
       "      <td>NONE</td>\n",
       "      <td>1928.6</td>\n",
       "      <td>209.6</td>\n",
       "      <td>11.50</td>\n",
       "      <td>...</td>\n",
       "      <td>0.0</td>\n",
       "      <td>1107.0</td>\n",
       "      <td>1</td>\n",
       "      <td>2018-04-03 14:56:31.283</td>\n",
       "      <td>6502</td>\n",
       "      <td>7173.4</td>\n",
       "      <td>3</td>\n",
       "      <td>2</td>\n",
       "      <td>No</td>\n",
       "      <td>0.006173</td>\n",
       "    </tr>\n",
       "    <tr>\n",
       "      <th>37589</th>\n",
       "      <td>3</td>\n",
       "      <td>RIGHT</td>\n",
       "      <td>1913.9</td>\n",
       "      <td>194.8</td>\n",
       "      <td>34461.0</td>\n",
       "      <td>373</td>\n",
       "      <td>NONE</td>\n",
       "      <td>1955.7</td>\n",
       "      <td>92.9</td>\n",
       "      <td>2.62</td>\n",
       "      <td>...</td>\n",
       "      <td>0.0</td>\n",
       "      <td>1107.0</td>\n",
       "      <td>1</td>\n",
       "      <td>2018-04-03 14:56:32.456</td>\n",
       "      <td>5427</td>\n",
       "      <td>5621.8</td>\n",
       "      <td>3</td>\n",
       "      <td>2</td>\n",
       "      <td>No</td>\n",
       "      <td>0.006173</td>\n",
       "    </tr>\n",
       "    <tr>\n",
       "      <th>37590</th>\n",
       "      <td>3</td>\n",
       "      <td>RIGHT</td>\n",
       "      <td>1938.6</td>\n",
       "      <td>94.7</td>\n",
       "      <td>34861.0</td>\n",
       "      <td>439</td>\n",
       "      <td>NONE</td>\n",
       "      <td>1579.7</td>\n",
       "      <td>12.9</td>\n",
       "      <td>8.59</td>\n",
       "      <td>...</td>\n",
       "      <td>0.0</td>\n",
       "      <td>1107.0</td>\n",
       "      <td>1</td>\n",
       "      <td>2018-04-03 14:56:32.856</td>\n",
       "      <td>5427</td>\n",
       "      <td>5521.7</td>\n",
       "      <td>3</td>\n",
       "      <td>2</td>\n",
       "      <td>No</td>\n",
       "      <td>0.006173</td>\n",
       "    </tr>\n",
       "    <tr>\n",
       "      <th>37591</th>\n",
       "      <td>3</td>\n",
       "      <td>RIGHT</td>\n",
       "      <td>1555.9</td>\n",
       "      <td>15.5</td>\n",
       "      <td>35355.0</td>\n",
       "      <td>124</td>\n",
       "      <td>NONE</td>\n",
       "      <td>1236.2</td>\n",
       "      <td>158.9</td>\n",
       "      <td>9.29</td>\n",
       "      <td>...</td>\n",
       "      <td>0.0</td>\n",
       "      <td>1107.0</td>\n",
       "      <td>1</td>\n",
       "      <td>2018-04-03 14:56:33.350</td>\n",
       "      <td>5427</td>\n",
       "      <td>5442.5</td>\n",
       "      <td>3</td>\n",
       "      <td>2</td>\n",
       "      <td>No</td>\n",
       "      <td>0.006173</td>\n",
       "    </tr>\n",
       "    <tr>\n",
       "      <th>37592</th>\n",
       "      <td>3</td>\n",
       "      <td>RIGHT</td>\n",
       "      <td>1233.3</td>\n",
       "      <td>169.1</td>\n",
       "      <td>35542.0</td>\n",
       "      <td>159</td>\n",
       "      <td>NONE</td>\n",
       "      <td>900.1</td>\n",
       "      <td>422.8</td>\n",
       "      <td>11.36</td>\n",
       "      <td>...</td>\n",
       "      <td>0.0</td>\n",
       "      <td>1107.0</td>\n",
       "      <td>1</td>\n",
       "      <td>2018-04-03 14:56:33.537</td>\n",
       "      <td>5427</td>\n",
       "      <td>5596.1</td>\n",
       "      <td>3</td>\n",
       "      <td>2</td>\n",
       "      <td>No</td>\n",
       "      <td>0.006173</td>\n",
       "    </tr>\n",
       "    <tr>\n",
       "      <th>37593</th>\n",
       "      <td>3</td>\n",
       "      <td>RIGHT</td>\n",
       "      <td>892.3</td>\n",
       "      <td>448.2</td>\n",
       "      <td>35750.0</td>\n",
       "      <td>114</td>\n",
       "      <td>NONE</td>\n",
       "      <td>896.5</td>\n",
       "      <td>599.6</td>\n",
       "      <td>3.67</td>\n",
       "      <td>...</td>\n",
       "      <td>0.0</td>\n",
       "      <td>1107.0</td>\n",
       "      <td>1</td>\n",
       "      <td>2018-04-03 14:56:33.745</td>\n",
       "      <td>5427</td>\n",
       "      <td>5875.2</td>\n",
       "      <td>3</td>\n",
       "      <td>2</td>\n",
       "      <td>No</td>\n",
       "      <td>0.006173</td>\n",
       "    </tr>\n",
       "    <tr>\n",
       "      <th>37594</th>\n",
       "      <td>3</td>\n",
       "      <td>RIGHT</td>\n",
       "      <td>902.6</td>\n",
       "      <td>608.2</td>\n",
       "      <td>35890.0</td>\n",
       "      <td>181</td>\n",
       "      <td>NONE</td>\n",
       "      <td>617.3</td>\n",
       "      <td>614.7</td>\n",
       "      <td>8.03</td>\n",
       "      <td>...</td>\n",
       "      <td>0.0</td>\n",
       "      <td>1107.0</td>\n",
       "      <td>1</td>\n",
       "      <td>2018-04-03 14:56:33.885</td>\n",
       "      <td>5427</td>\n",
       "      <td>6035.2</td>\n",
       "      <td>3</td>\n",
       "      <td>2</td>\n",
       "      <td>No</td>\n",
       "      <td>0.006173</td>\n",
       "    </tr>\n",
       "    <tr>\n",
       "      <th>37595</th>\n",
       "      <td>3</td>\n",
       "      <td>RIGHT</td>\n",
       "      <td>604.4</td>\n",
       "      <td>620.9</td>\n",
       "      <td>36123.0</td>\n",
       "      <td>137</td>\n",
       "      <td>NONE</td>\n",
       "      <td>441.9</td>\n",
       "      <td>457.6</td>\n",
       "      <td>6.43</td>\n",
       "      <td>...</td>\n",
       "      <td>0.0</td>\n",
       "      <td>1107.0</td>\n",
       "      <td>1</td>\n",
       "      <td>2018-04-03 14:56:34.118</td>\n",
       "      <td>4974</td>\n",
       "      <td>5594.9</td>\n",
       "      <td>3</td>\n",
       "      <td>2</td>\n",
       "      <td>No</td>\n",
       "      <td>0.006173</td>\n",
       "    </tr>\n",
       "  </tbody>\n",
       "</table>\n",
       "<p>16 rows × 26 columns</p>\n",
       "</div>"
      ],
      "text/plain": [
       "       TRIAL_INDEX EYE_USED  CURRENT_FIX_X  CURRENT_FIX_Y  CURRENT_FIX_START  \\\n",
       "37580            3    RIGHT          658.9          305.8            31332.0   \n",
       "37581            3    RIGHT          547.7          340.3            31504.0   \n",
       "37582            3    RIGHT          764.2          286.2            31759.0   \n",
       "37583            3    RIGHT         1061.9           61.2            32142.0   \n",
       "37584            3    RIGHT         1569.5          148.2            32294.0   \n",
       "37585            3    RIGHT         1930.8          281.8            32472.0   \n",
       "37586            3    RIGHT         1881.5          573.5            32646.0   \n",
       "37587            3    RIGHT         1897.3          626.9            32893.0   \n",
       "37588            3    RIGHT         1911.7          671.4            33288.0   \n",
       "37589            3    RIGHT         1913.9          194.8            34461.0   \n",
       "37590            3    RIGHT         1938.6           94.7            34861.0   \n",
       "37591            3    RIGHT         1555.9           15.5            35355.0   \n",
       "37592            3    RIGHT         1233.3          169.1            35542.0   \n",
       "37593            3    RIGHT          892.3          448.2            35750.0   \n",
       "37594            3    RIGHT          902.6          608.2            35890.0   \n",
       "37595            3    RIGHT          604.4          620.9            36123.0   \n",
       "\n",
       "       CURRENT_FIX_DURATION CURRENT_FIX_BLINK_AROUND  NEXT_SAC_END_X  \\\n",
       "37580                   146                     NONE           551.2   \n",
       "37581                   221                     NONE           762.5   \n",
       "37582                   330                     NONE          1063.3   \n",
       "37583                   100                     NONE          1573.9   \n",
       "37584                   130                     NONE          1938.8   \n",
       "37585                   113                     NONE          1884.6   \n",
       "37586                   224                     NONE          1898.9   \n",
       "37587                   372                     NONE          1911.4   \n",
       "37588                  1115                     NONE          1928.6   \n",
       "37589                   373                     NONE          1955.7   \n",
       "37590                   439                     NONE          1579.7   \n",
       "37591                   124                     NONE          1236.2   \n",
       "37592                   159                     NONE           900.1   \n",
       "37593                   114                     NONE           896.5   \n",
       "37594                   181                     NONE           617.3   \n",
       "37595                   137                     NONE           441.9   \n",
       "\n",
       "       NEXT_SAC_END_Y  NEXT_SAC_AMPLITUDE     ...     NEXT_SAC_BLINK_DURATION  \\\n",
       "37580           328.8                2.99     ...                         0.0   \n",
       "37581           235.8                7.01     ...                         0.0   \n",
       "37582            53.9               11.38     ...                         0.0   \n",
       "37583           139.3               13.91     ...                         0.0   \n",
       "37584           286.8                9.70     ...                         0.0   \n",
       "37585           580.7                7.52     ...                         0.0   \n",
       "37586           638.7                1.78     ...                         0.0   \n",
       "37587           668.1                0.97     ...                         0.0   \n",
       "37588           209.6               11.50     ...                         0.0   \n",
       "37589            92.9                2.62     ...                         0.0   \n",
       "37590            12.9                8.59     ...                         0.0   \n",
       "37591           158.9                9.29     ...                         0.0   \n",
       "37592           422.8               11.36     ...                         0.0   \n",
       "37593           599.6                3.67     ...                         0.0   \n",
       "37594           614.7                8.03     ...                         0.0   \n",
       "37595           457.6                6.43     ...                         0.0   \n",
       "\n",
       "       CUMSUM_BLINK_DURATION  PART_ID                 DATETIME OFFSET  \\\n",
       "37580                 1107.0        1  2018-04-03 14:56:29.327   7769   \n",
       "37581                 1107.0        1  2018-04-03 14:56:29.499   7727   \n",
       "37582                 1107.0        1  2018-04-03 14:56:29.754   7709   \n",
       "37583                 1107.0        1  2018-04-03 14:56:30.137   7140   \n",
       "37584                 1107.0        1  2018-04-03 14:56:30.289   7127   \n",
       "37585                 1107.0        1  2018-04-03 14:56:30.467   7114   \n",
       "37586                 1107.0        1  2018-04-03 14:56:30.641   6718   \n",
       "37587                 1107.0        1  2018-04-03 14:56:30.888   6527   \n",
       "37588                 1107.0        1  2018-04-03 14:56:31.283   6502   \n",
       "37589                 1107.0        1  2018-04-03 14:56:32.456   5427   \n",
       "37590                 1107.0        1  2018-04-03 14:56:32.856   5427   \n",
       "37591                 1107.0        1  2018-04-03 14:56:33.350   5427   \n",
       "37592                 1107.0        1  2018-04-03 14:56:33.537   5427   \n",
       "37593                 1107.0        1  2018-04-03 14:56:33.745   5427   \n",
       "37594                 1107.0        1  2018-04-03 14:56:33.885   5427   \n",
       "37595                 1107.0        1  2018-04-03 14:56:34.118   4974   \n",
       "\n",
       "      Y_OFFSET  WEBSITE_ID  CONDITION  CALIBRATION_PROBLEM error_ratio  \n",
       "37580   8074.8           3          2                   No    0.006173  \n",
       "37581   8067.3           3          2                   No    0.006173  \n",
       "37582   7995.2           3          2                   No    0.006173  \n",
       "37583   7201.2           3          2                   No    0.006173  \n",
       "37584   7275.2           3          2                   No    0.006173  \n",
       "37585   7395.8           3          2                   No    0.006173  \n",
       "37586   7291.5           3          2                   No    0.006173  \n",
       "37587   7153.9           3          2                   No    0.006173  \n",
       "37588   7173.4           3          2                   No    0.006173  \n",
       "37589   5621.8           3          2                   No    0.006173  \n",
       "37590   5521.7           3          2                   No    0.006173  \n",
       "37591   5442.5           3          2                   No    0.006173  \n",
       "37592   5596.1           3          2                   No    0.006173  \n",
       "37593   5875.2           3          2                   No    0.006173  \n",
       "37594   6035.2           3          2                   No    0.006173  \n",
       "37595   5594.9           3          2                   No    0.006173  \n",
       "\n",
       "[16 rows x 26 columns]"
      ]
     },
     "execution_count": 70,
     "metadata": {},
     "output_type": "execute_result"
    }
   ],
   "source": [
    "# Is there a blink around ?\n",
    "df1.ix[37580:37595]"
   ]
  },
  {
   "cell_type": "markdown",
   "metadata": {},
   "source": [
    "No blink around, so let's check how far the participant looked"
   ]
  },
  {
   "cell_type": "code",
   "execution_count": 79,
   "metadata": {},
   "outputs": [
    {
     "name": "stdout",
     "output_type": "stream",
     "text": [
      "-- RIGHT -- \n",
      "Mean distance outside the screen is 14.7px (0.42°)\n",
      "Mean start time is 33.67s\n"
     ]
    },
    {
     "data": {
      "text/plain": [
       "<matplotlib.axes._subplots.AxesSubplot at 0x123744320>"
      ]
     },
     "execution_count": 79,
     "metadata": {},
     "output_type": "execute_result"
    },
    {
     "data": {
      "image/png": "[encoded data removed]",
      "text/plain": [
       "<Figure size 432x288 with 1 Axes>"
      ]
     },
     "metadata": {},
     "output_type": "display_data"
    }
   ],
   "source": [
    "d = (df1.query(\"CURRENT_FIX_X > 1920\")[\"CURRENT_FIX_X\"] - 1920).mean()\n",
    "s = df1.query(\"CURRENT_FIX_X > 1920\")[\"CURRENT_FIX_START\"].mean()\n",
    "print(\"-- RIGHT -- \")\n",
    "print(\"Mean distance outside the screen is {}px ({}°)\".format(round(d, 2), round(d/35, 2)))\n",
    "print(\"Mean start time is {}s\".format(round(s/1000, 2)))\n",
    "df1.query(\"CURRENT_FIX_X > 1920\")[\"CURRENT_FIX_X\"].hist()"
   ]
  },
  {
   "cell_type": "code",
   "execution_count": 81,
   "metadata": {},
   "outputs": [
    {
     "data": {
      "text/plain": [
       "37585    0.308571\n",
       "37590    0.531429\n",
       "Name: CURRENT_FIX_X, dtype: float64"
      ]
     },
     "execution_count": 81,
     "metadata": {},
     "output_type": "execute_result"
    }
   ],
   "source": [
    "# Degree error of each error\n",
    "(df1.query(\"CURRENT_FIX_X > 1920\")[\"CURRENT_FIX_X\"] - 1920)/35"
   ]
  },
  {
   "cell_type": "markdown",
   "metadata": {},
   "source": [
    "**Since the fovea is 2-3° we can consider this type of outlier (<1°) can be edited to max value of X (1920).**"
   ]
  },
  {
   "cell_type": "markdown",
   "metadata": {},
   "source": [
    "**DOWN**"
   ]
  },
  {
   "cell_type": "code",
   "execution_count": 83,
   "metadata": {},
   "outputs": [
    {
     "data": {
      "text/plain": [
       "2"
      ]
     },
     "execution_count": 83,
     "metadata": {},
     "output_type": "execute_result"
    }
   ],
   "source": [
    "# Count of blinks during the saccade\n",
    "df1.query(\"CURRENT_FIX_Y > 1080\").query(\"NEXT_SAC_CONTAINS_BLINK == 'true'\")[\"EYE_USED\"].count()"
   ]
  },
  {
   "cell_type": "code",
   "execution_count": 84,
   "metadata": {},
   "outputs": [
    {
     "data": {
      "text/html": [
       "<div>\n",
       "<table border=\"1\" class=\"dataframe\">\n",
       "  <thead>\n",
       "    <tr style=\"text-align: right;\">\n",
       "      <th></th>\n",
       "      <th>TRIAL_INDEX</th>\n",
       "      <th>EYE_USED</th>\n",
       "      <th>CURRENT_FIX_X</th>\n",
       "      <th>CURRENT_FIX_Y</th>\n",
       "      <th>CURRENT_FIX_START</th>\n",
       "      <th>CURRENT_FIX_DURATION</th>\n",
       "      <th>CURRENT_FIX_BLINK_AROUND</th>\n",
       "      <th>NEXT_SAC_END_X</th>\n",
       "      <th>NEXT_SAC_END_Y</th>\n",
       "      <th>NEXT_SAC_AMPLITUDE</th>\n",
       "      <th>...</th>\n",
       "      <th>NEXT_SAC_BLINK_DURATION</th>\n",
       "      <th>CUMSUM_BLINK_DURATION</th>\n",
       "      <th>PART_ID</th>\n",
       "      <th>DATETIME</th>\n",
       "      <th>OFFSET</th>\n",
       "      <th>Y_OFFSET</th>\n",
       "      <th>WEBSITE_ID</th>\n",
       "      <th>CONDITION</th>\n",
       "      <th>CALIBRATION_PROBLEM</th>\n",
       "      <th>error_ratio</th>\n",
       "    </tr>\n",
       "  </thead>\n",
       "  <tbody>\n",
       "    <tr>\n",
       "      <th>39368</th>\n",
       "      <td>11</td>\n",
       "      <td>RIGHT</td>\n",
       "      <td>520.1</td>\n",
       "      <td>1349.9</td>\n",
       "      <td>27394.0</td>\n",
       "      <td>72</td>\n",
       "      <td>AFTER</td>\n",
       "      <td>911.9</td>\n",
       "      <td>561.9</td>\n",
       "      <td>25.143689</td>\n",
       "      <td>...</td>\n",
       "      <td>544.0</td>\n",
       "      <td>1326.0</td>\n",
       "      <td>1</td>\n",
       "      <td>2018-04-03 15:11:36.388</td>\n",
       "      <td>14</td>\n",
       "      <td>1363.9</td>\n",
       "      <td>12</td>\n",
       "      <td>4</td>\n",
       "      <td>No</td>\n",
       "      <td>0.009524</td>\n",
       "    </tr>\n",
       "    <tr>\n",
       "      <th>40113</th>\n",
       "      <td>16</td>\n",
       "      <td>RIGHT</td>\n",
       "      <td>202.6</td>\n",
       "      <td>2003.1</td>\n",
       "      <td>54298.0</td>\n",
       "      <td>215</td>\n",
       "      <td>BOTH</td>\n",
       "      <td>600.0</td>\n",
       "      <td>481.3</td>\n",
       "      <td>44.938071</td>\n",
       "      <td>...</td>\n",
       "      <td>369.0</td>\n",
       "      <td>2630.0</td>\n",
       "      <td>1</td>\n",
       "      <td>2018-04-03 15:18:22.292</td>\n",
       "      <td>858</td>\n",
       "      <td>2861.1</td>\n",
       "      <td>17</td>\n",
       "      <td>4</td>\n",
       "      <td>No</td>\n",
       "      <td>0.004695</td>\n",
       "    </tr>\n",
       "  </tbody>\n",
       "</table>\n",
       "<p>2 rows × 26 columns</p>\n",
       "</div>"
      ],
      "text/plain": [
       "       TRIAL_INDEX EYE_USED  CURRENT_FIX_X  CURRENT_FIX_Y  CURRENT_FIX_START  \\\n",
       "39368           11    RIGHT          520.1         1349.9            27394.0   \n",
       "40113           16    RIGHT          202.6         2003.1            54298.0   \n",
       "\n",
       "       CURRENT_FIX_DURATION CURRENT_FIX_BLINK_AROUND  NEXT_SAC_END_X  \\\n",
       "39368                    72                    AFTER           911.9   \n",
       "40113                   215                     BOTH           600.0   \n",
       "\n",
       "       NEXT_SAC_END_Y  NEXT_SAC_AMPLITUDE     ...     NEXT_SAC_BLINK_DURATION  \\\n",
       "39368           561.9           25.143689     ...                       544.0   \n",
       "40113           481.3           44.938071     ...                       369.0   \n",
       "\n",
       "       CUMSUM_BLINK_DURATION  PART_ID                 DATETIME OFFSET  \\\n",
       "39368                 1326.0        1  2018-04-03 15:11:36.388     14   \n",
       "40113                 2630.0        1  2018-04-03 15:18:22.292    858   \n",
       "\n",
       "      Y_OFFSET  WEBSITE_ID  CONDITION  CALIBRATION_PROBLEM error_ratio  \n",
       "39368   1363.9          12          4                   No    0.009524  \n",
       "40113   2861.1          17          4                   No    0.004695  \n",
       "\n",
       "[2 rows x 26 columns]"
      ]
     },
     "execution_count": 84,
     "metadata": {},
     "output_type": "execute_result"
    }
   ],
   "source": [
    "df1.query(\"CURRENT_FIX_Y > 1080\")"
   ]
  },
  {
   "cell_type": "markdown",
   "metadata": {},
   "source": [
    "The second fixation contains blinks in both rows after and before so let's investigate on this one first"
   ]
  },
  {
   "cell_type": "code",
   "execution_count": 86,
   "metadata": {},
   "outputs": [
    {
     "data": {
      "text/html": [
       "<div>\n",
       "<table border=\"1\" class=\"dataframe\">\n",
       "  <thead>\n",
       "    <tr style=\"text-align: right;\">\n",
       "      <th></th>\n",
       "      <th>TRIAL_INDEX</th>\n",
       "      <th>EYE_USED</th>\n",
       "      <th>CURRENT_FIX_X</th>\n",
       "      <th>CURRENT_FIX_Y</th>\n",
       "      <th>CURRENT_FIX_START</th>\n",
       "      <th>CURRENT_FIX_DURATION</th>\n",
       "      <th>CURRENT_FIX_BLINK_AROUND</th>\n",
       "      <th>NEXT_SAC_END_X</th>\n",
       "      <th>NEXT_SAC_END_Y</th>\n",
       "      <th>NEXT_SAC_AMPLITUDE</th>\n",
       "      <th>...</th>\n",
       "      <th>NEXT_SAC_BLINK_DURATION</th>\n",
       "      <th>CUMSUM_BLINK_DURATION</th>\n",
       "      <th>PART_ID</th>\n",
       "      <th>DATETIME</th>\n",
       "      <th>OFFSET</th>\n",
       "      <th>Y_OFFSET</th>\n",
       "      <th>WEBSITE_ID</th>\n",
       "      <th>CONDITION</th>\n",
       "      <th>CALIBRATION_PROBLEM</th>\n",
       "      <th>error_ratio</th>\n",
       "    </tr>\n",
       "  </thead>\n",
       "  <tbody>\n",
       "    <tr>\n",
       "      <th>40110</th>\n",
       "      <td>16</td>\n",
       "      <td>RIGHT</td>\n",
       "      <td>1245.4</td>\n",
       "      <td>266.3</td>\n",
       "      <td>53225.0</td>\n",
       "      <td>187</td>\n",
       "      <td>NONE</td>\n",
       "      <td>1240.2</td>\n",
       "      <td>136.3</td>\n",
       "      <td>3.630000</td>\n",
       "      <td>...</td>\n",
       "      <td>0.0</td>\n",
       "      <td>2112.0</td>\n",
       "      <td>1</td>\n",
       "      <td>2018-04-03 15:18:21.219</td>\n",
       "      <td>916</td>\n",
       "      <td>1182.3</td>\n",
       "      <td>17</td>\n",
       "      <td>4</td>\n",
       "      <td>No</td>\n",
       "      <td>0.004695</td>\n",
       "    </tr>\n",
       "    <tr>\n",
       "      <th>40111</th>\n",
       "      <td>16</td>\n",
       "      <td>RIGHT</td>\n",
       "      <td>1246.3</td>\n",
       "      <td>147.0</td>\n",
       "      <td>53443.0</td>\n",
       "      <td>269</td>\n",
       "      <td>NONE</td>\n",
       "      <td>440.2</td>\n",
       "      <td>290.2</td>\n",
       "      <td>22.230000</td>\n",
       "      <td>...</td>\n",
       "      <td>0.0</td>\n",
       "      <td>2112.0</td>\n",
       "      <td>1</td>\n",
       "      <td>2018-04-03 15:18:21.437</td>\n",
       "      <td>858</td>\n",
       "      <td>1005.0</td>\n",
       "      <td>17</td>\n",
       "      <td>4</td>\n",
       "      <td>No</td>\n",
       "      <td>0.004695</td>\n",
       "    </tr>\n",
       "    <tr>\n",
       "      <th>40112</th>\n",
       "      <td>16</td>\n",
       "      <td>RIGHT</td>\n",
       "      <td>409.5</td>\n",
       "      <td>371.0</td>\n",
       "      <td>53641.0</td>\n",
       "      <td>685</td>\n",
       "      <td>AFTER</td>\n",
       "      <td>206.7</td>\n",
       "      <td>2032.4</td>\n",
       "      <td>47.820906</td>\n",
       "      <td>...</td>\n",
       "      <td>149.0</td>\n",
       "      <td>2261.0</td>\n",
       "      <td>1</td>\n",
       "      <td>2018-04-03 15:18:21.635</td>\n",
       "      <td>858</td>\n",
       "      <td>1229.0</td>\n",
       "      <td>17</td>\n",
       "      <td>4</td>\n",
       "      <td>No</td>\n",
       "      <td>0.004695</td>\n",
       "    </tr>\n",
       "    <tr>\n",
       "      <th>40113</th>\n",
       "      <td>16</td>\n",
       "      <td>RIGHT</td>\n",
       "      <td>202.6</td>\n",
       "      <td>2003.1</td>\n",
       "      <td>54298.0</td>\n",
       "      <td>215</td>\n",
       "      <td>BOTH</td>\n",
       "      <td>600.0</td>\n",
       "      <td>481.3</td>\n",
       "      <td>44.938071</td>\n",
       "      <td>...</td>\n",
       "      <td>369.0</td>\n",
       "      <td>2630.0</td>\n",
       "      <td>1</td>\n",
       "      <td>2018-04-03 15:18:22.292</td>\n",
       "      <td>858</td>\n",
       "      <td>2861.1</td>\n",
       "      <td>17</td>\n",
       "      <td>4</td>\n",
       "      <td>No</td>\n",
       "      <td>0.004695</td>\n",
       "    </tr>\n",
       "    <tr>\n",
       "      <th>40114</th>\n",
       "      <td>16</td>\n",
       "      <td>RIGHT</td>\n",
       "      <td>584.6</td>\n",
       "      <td>470.3</td>\n",
       "      <td>54946.0</td>\n",
       "      <td>237</td>\n",
       "      <td>BEFORE</td>\n",
       "      <td>540.0</td>\n",
       "      <td>416.3</td>\n",
       "      <td>2.000000</td>\n",
       "      <td>...</td>\n",
       "      <td>0.0</td>\n",
       "      <td>2630.0</td>\n",
       "      <td>1</td>\n",
       "      <td>2018-04-03 15:18:22.940</td>\n",
       "      <td>858</td>\n",
       "      <td>1328.3</td>\n",
       "      <td>17</td>\n",
       "      <td>4</td>\n",
       "      <td>No</td>\n",
       "      <td>0.004695</td>\n",
       "    </tr>\n",
       "    <tr>\n",
       "      <th>40115</th>\n",
       "      <td>16</td>\n",
       "      <td>RIGHT</td>\n",
       "      <td>536.4</td>\n",
       "      <td>427.5</td>\n",
       "      <td>55207.0</td>\n",
       "      <td>180</td>\n",
       "      <td>NONE</td>\n",
       "      <td>480.1</td>\n",
       "      <td>434.0</td>\n",
       "      <td>1.360000</td>\n",
       "      <td>...</td>\n",
       "      <td>0.0</td>\n",
       "      <td>2630.0</td>\n",
       "      <td>1</td>\n",
       "      <td>2018-04-03 15:18:23.201</td>\n",
       "      <td>858</td>\n",
       "      <td>1285.5</td>\n",
       "      <td>17</td>\n",
       "      <td>4</td>\n",
       "      <td>No</td>\n",
       "      <td>0.004695</td>\n",
       "    </tr>\n",
       "  </tbody>\n",
       "</table>\n",
       "<p>6 rows × 26 columns</p>\n",
       "</div>"
      ],
      "text/plain": [
       "       TRIAL_INDEX EYE_USED  CURRENT_FIX_X  CURRENT_FIX_Y  CURRENT_FIX_START  \\\n",
       "40110           16    RIGHT         1245.4          266.3            53225.0   \n",
       "40111           16    RIGHT         1246.3          147.0            53443.0   \n",
       "40112           16    RIGHT          409.5          371.0            53641.0   \n",
       "40113           16    RIGHT          202.6         2003.1            54298.0   \n",
       "40114           16    RIGHT          584.6          470.3            54946.0   \n",
       "40115           16    RIGHT          536.4          427.5            55207.0   \n",
       "\n",
       "       CURRENT_FIX_DURATION CURRENT_FIX_BLINK_AROUND  NEXT_SAC_END_X  \\\n",
       "40110                   187                     NONE          1240.2   \n",
       "40111                   269                     NONE           440.2   \n",
       "40112                   685                    AFTER           206.7   \n",
       "40113                   215                     BOTH           600.0   \n",
       "40114                   237                   BEFORE           540.0   \n",
       "40115                   180                     NONE           480.1   \n",
       "\n",
       "       NEXT_SAC_END_Y  NEXT_SAC_AMPLITUDE     ...     NEXT_SAC_BLINK_DURATION  \\\n",
       "40110           136.3            3.630000     ...                         0.0   \n",
       "40111           290.2           22.230000     ...                         0.0   \n",
       "40112          2032.4           47.820906     ...                       149.0   \n",
       "40113           481.3           44.938071     ...                       369.0   \n",
       "40114           416.3            2.000000     ...                         0.0   \n",
       "40115           434.0            1.360000     ...                         0.0   \n",
       "\n",
       "       CUMSUM_BLINK_DURATION  PART_ID                 DATETIME OFFSET  \\\n",
       "40110                 2112.0        1  2018-04-03 15:18:21.219    916   \n",
       "40111                 2112.0        1  2018-04-03 15:18:21.437    858   \n",
       "40112                 2261.0        1  2018-04-03 15:18:21.635    858   \n",
       "40113                 2630.0        1  2018-04-03 15:18:22.292    858   \n",
       "40114                 2630.0        1  2018-04-03 15:18:22.940    858   \n",
       "40115                 2630.0        1  2018-04-03 15:18:23.201    858   \n",
       "\n",
       "      Y_OFFSET  WEBSITE_ID  CONDITION  CALIBRATION_PROBLEM error_ratio  \n",
       "40110   1182.3          17          4                   No    0.004695  \n",
       "40111   1005.0          17          4                   No    0.004695  \n",
       "40112   1229.0          17          4                   No    0.004695  \n",
       "40113   2861.1          17          4                   No    0.004695  \n",
       "40114   1328.3          17          4                   No    0.004695  \n",
       "40115   1285.5          17          4                   No    0.004695  \n",
       "\n",
       "[6 rows x 26 columns]"
      ]
     },
     "execution_count": 86,
     "metadata": {},
     "output_type": "execute_result"
    }
   ],
   "source": [
    "df1.ix[40110:40115]"
   ]
  },
  {
   "cell_type": "code",
   "execution_count": 88,
   "metadata": {},
   "outputs": [
    {
     "data": {
      "image/png": "[encoded data removed]",
      "text/plain": [
       "<PIL.Image.Image image mode=RGB size=1920x1080 at 0x126708828>"
      ]
     },
     "execution_count": 88,
     "metadata": {},
     "output_type": "execute_result"
    }
   ],
   "source": [
    "graphics.draw_scanpath(Image.new(\"RGB\", (1920, 1080), \"gray\"), [\n",
    "    [1245, 266],\n",
    "    [1246, 147],\n",
    "    [202, 2003],\n",
    "    [584, 470],\n",
    "    [536, 427],\n",
    "])"
   ]
  },
  {
   "cell_type": "markdown",
   "metadata": {},
   "source": [
    "This problem looks more like a blink issue than fixation outside the screen"
   ]
  },
  {
   "cell_type": "code",
   "execution_count": 89,
   "metadata": {},
   "outputs": [
    {
     "data": {
      "text/html": [
       "<div>\n",
       "<table border=\"1\" class=\"dataframe\">\n",
       "  <thead>\n",
       "    <tr style=\"text-align: right;\">\n",
       "      <th></th>\n",
       "      <th>TRIAL_INDEX</th>\n",
       "      <th>EYE_USED</th>\n",
       "      <th>CURRENT_FIX_X</th>\n",
       "      <th>CURRENT_FIX_Y</th>\n",
       "      <th>CURRENT_FIX_START</th>\n",
       "      <th>CURRENT_FIX_DURATION</th>\n",
       "      <th>CURRENT_FIX_BLINK_AROUND</th>\n",
       "      <th>NEXT_SAC_END_X</th>\n",
       "      <th>NEXT_SAC_END_Y</th>\n",
       "      <th>NEXT_SAC_AMPLITUDE</th>\n",
       "      <th>...</th>\n",
       "      <th>NEXT_SAC_BLINK_DURATION</th>\n",
       "      <th>CUMSUM_BLINK_DURATION</th>\n",
       "      <th>PART_ID</th>\n",
       "      <th>DATETIME</th>\n",
       "      <th>OFFSET</th>\n",
       "      <th>Y_OFFSET</th>\n",
       "      <th>WEBSITE_ID</th>\n",
       "      <th>CONDITION</th>\n",
       "      <th>CALIBRATION_PROBLEM</th>\n",
       "      <th>error_ratio</th>\n",
       "    </tr>\n",
       "  </thead>\n",
       "  <tbody>\n",
       "    <tr>\n",
       "      <th>39366</th>\n",
       "      <td>11</td>\n",
       "      <td>RIGHT</td>\n",
       "      <td>712.2</td>\n",
       "      <td>555.0</td>\n",
       "      <td>27112.0</td>\n",
       "      <td>249</td>\n",
       "      <td>BEFORE</td>\n",
       "      <td>610.1</td>\n",
       "      <td>290.4</td>\n",
       "      <td>7.560000</td>\n",
       "      <td>...</td>\n",
       "      <td>0.0</td>\n",
       "      <td>782.0</td>\n",
       "      <td>1</td>\n",
       "      <td>2018-04-03 15:11:36.106</td>\n",
       "      <td>15</td>\n",
       "      <td>570.0</td>\n",
       "      <td>12</td>\n",
       "      <td>4</td>\n",
       "      <td>No</td>\n",
       "      <td>0.009524</td>\n",
       "    </tr>\n",
       "    <tr>\n",
       "      <th>39367</th>\n",
       "      <td>11</td>\n",
       "      <td>RIGHT</td>\n",
       "      <td>615.5</td>\n",
       "      <td>299.8</td>\n",
       "      <td>27427.0</td>\n",
       "      <td>372</td>\n",
       "      <td>NONE</td>\n",
       "      <td>511.7</td>\n",
       "      <td>1360.4</td>\n",
       "      <td>26.660000</td>\n",
       "      <td>...</td>\n",
       "      <td>0.0</td>\n",
       "      <td>782.0</td>\n",
       "      <td>1</td>\n",
       "      <td>2018-04-03 15:11:36.421</td>\n",
       "      <td>13</td>\n",
       "      <td>312.8</td>\n",
       "      <td>12</td>\n",
       "      <td>4</td>\n",
       "      <td>No</td>\n",
       "      <td>0.009524</td>\n",
       "    </tr>\n",
       "    <tr>\n",
       "      <th>39368</th>\n",
       "      <td>11</td>\n",
       "      <td>RIGHT</td>\n",
       "      <td>520.1</td>\n",
       "      <td>1349.9</td>\n",
       "      <td>27394.0</td>\n",
       "      <td>72</td>\n",
       "      <td>AFTER</td>\n",
       "      <td>911.9</td>\n",
       "      <td>561.9</td>\n",
       "      <td>25.143689</td>\n",
       "      <td>...</td>\n",
       "      <td>544.0</td>\n",
       "      <td>1326.0</td>\n",
       "      <td>1</td>\n",
       "      <td>2018-04-03 15:11:36.388</td>\n",
       "      <td>14</td>\n",
       "      <td>1363.9</td>\n",
       "      <td>12</td>\n",
       "      <td>4</td>\n",
       "      <td>No</td>\n",
       "      <td>0.009524</td>\n",
       "    </tr>\n",
       "    <tr>\n",
       "      <th>39369</th>\n",
       "      <td>11</td>\n",
       "      <td>RIGHT</td>\n",
       "      <td>898.1</td>\n",
       "      <td>556.2</td>\n",
       "      <td>28210.0</td>\n",
       "      <td>299</td>\n",
       "      <td>BEFORE</td>\n",
       "      <td>870.1</td>\n",
       "      <td>458.1</td>\n",
       "      <td>2.550000</td>\n",
       "      <td>...</td>\n",
       "      <td>0.0</td>\n",
       "      <td>1326.0</td>\n",
       "      <td>1</td>\n",
       "      <td>2018-04-03 15:11:37.204</td>\n",
       "      <td>0</td>\n",
       "      <td>556.2</td>\n",
       "      <td>12</td>\n",
       "      <td>4</td>\n",
       "      <td>No</td>\n",
       "      <td>0.009524</td>\n",
       "    </tr>\n",
       "    <tr>\n",
       "      <th>39370</th>\n",
       "      <td>12</td>\n",
       "      <td>RIGHT</td>\n",
       "      <td>1590.1</td>\n",
       "      <td>86.1</td>\n",
       "      <td>8.0</td>\n",
       "      <td>261</td>\n",
       "      <td>NONE</td>\n",
       "      <td>1074.0</td>\n",
       "      <td>378.3</td>\n",
       "      <td>15.940000</td>\n",
       "      <td>...</td>\n",
       "      <td>0.0</td>\n",
       "      <td>0.0</td>\n",
       "      <td>1</td>\n",
       "      <td>2018-04-03 15:12:17.002</td>\n",
       "      <td>0</td>\n",
       "      <td>86.1</td>\n",
       "      <td>6</td>\n",
       "      <td>6</td>\n",
       "      <td>No</td>\n",
       "      <td>0.000000</td>\n",
       "    </tr>\n",
       "  </tbody>\n",
       "</table>\n",
       "<p>5 rows × 26 columns</p>\n",
       "</div>"
      ],
      "text/plain": [
       "       TRIAL_INDEX EYE_USED  CURRENT_FIX_X  CURRENT_FIX_Y  CURRENT_FIX_START  \\\n",
       "39366           11    RIGHT          712.2          555.0            27112.0   \n",
       "39367           11    RIGHT          615.5          299.8            27427.0   \n",
       "39368           11    RIGHT          520.1         1349.9            27394.0   \n",
       "39369           11    RIGHT          898.1          556.2            28210.0   \n",
       "39370           12    RIGHT         1590.1           86.1                8.0   \n",
       "\n",
       "       CURRENT_FIX_DURATION CURRENT_FIX_BLINK_AROUND  NEXT_SAC_END_X  \\\n",
       "39366                   249                   BEFORE           610.1   \n",
       "39367                   372                     NONE           511.7   \n",
       "39368                    72                    AFTER           911.9   \n",
       "39369                   299                   BEFORE           870.1   \n",
       "39370                   261                     NONE          1074.0   \n",
       "\n",
       "       NEXT_SAC_END_Y  NEXT_SAC_AMPLITUDE     ...     NEXT_SAC_BLINK_DURATION  \\\n",
       "39366           290.4            7.560000     ...                         0.0   \n",
       "39367          1360.4           26.660000     ...                         0.0   \n",
       "39368           561.9           25.143689     ...                       544.0   \n",
       "39369           458.1            2.550000     ...                         0.0   \n",
       "39370           378.3           15.940000     ...                         0.0   \n",
       "\n",
       "       CUMSUM_BLINK_DURATION  PART_ID                 DATETIME OFFSET  \\\n",
       "39366                  782.0        1  2018-04-03 15:11:36.106     15   \n",
       "39367                  782.0        1  2018-04-03 15:11:36.421     13   \n",
       "39368                 1326.0        1  2018-04-03 15:11:36.388     14   \n",
       "39369                 1326.0        1  2018-04-03 15:11:37.204      0   \n",
       "39370                    0.0        1  2018-04-03 15:12:17.002      0   \n",
       "\n",
       "      Y_OFFSET  WEBSITE_ID  CONDITION  CALIBRATION_PROBLEM error_ratio  \n",
       "39366    570.0          12          4                   No    0.009524  \n",
       "39367    312.8          12          4                   No    0.009524  \n",
       "39368   1363.9          12          4                   No    0.009524  \n",
       "39369    556.2          12          4                   No    0.009524  \n",
       "39370     86.1           6          6                   No    0.000000  \n",
       "\n",
       "[5 rows x 26 columns]"
      ]
     },
     "execution_count": 89,
     "metadata": {},
     "output_type": "execute_result"
    }
   ],
   "source": [
    "df1.ix[39366:39370]"
   ]
  },
  {
   "cell_type": "code",
   "execution_count": 91,
   "metadata": {},
   "outputs": [
    {
     "data": {
      "image/png": "[encoded data removed]",
      "text/plain": [
       "<PIL.Image.Image image mode=RGB size=1920x1080 at 0x1267126A0>"
      ]
     },
     "execution_count": 91,
     "metadata": {},
     "output_type": "execute_result"
    }
   ],
   "source": [
    "graphics.draw_scanpath(Image.new(\"RGB\", (1920, 1080), \"gray\"), [\n",
    "    [712, 555],\n",
    "    [615, 299],\n",
    "    [520, 1349],\n",
    "    [898, 556]\n",
    "])"
   ]
  },
  {
   "cell_type": "markdown",
   "metadata": {},
   "source": [
    "Here we have a blink AND the end of the trial, which means the participant tends to look down to press the space bar to end the trial. So this outsider is a blink matter too."
   ]
  },
  {
   "cell_type": "markdown",
   "metadata": {},
   "source": [
    "## Single participant: PART_710"
   ]
  },
  {
   "cell_type": "code",
   "execution_count": 93,
   "metadata": {},
   "outputs": [
    {
     "data": {
      "text/plain": [
       "(2979, 26)"
      ]
     },
     "execution_count": 93,
     "metadata": {},
     "output_type": "execute_result"
    }
   ],
   "source": [
    "df710 = alld.query(\"PART_ID == 710\").copy()\n",
    "df710.shape"
   ]
  },
  {
   "cell_type": "code",
   "execution_count": 94,
   "metadata": {},
   "outputs": [
    {
     "data": {
      "text/plain": [
       "19"
      ]
     },
     "execution_count": 94,
     "metadata": {},
     "output_type": "execute_result"
    }
   ],
   "source": [
    "# Number of looks on the LEFT of the screen\n",
    "df1.query(\"CURRENT_FIX_X < 0\")[\"EYE_USED\"].count()"
   ]
  },
  {
   "cell_type": "code",
   "execution_count": 95,
   "metadata": {},
   "outputs": [
    {
     "data": {
      "text/plain": [
       "0"
      ]
     },
     "execution_count": 95,
     "metadata": {},
     "output_type": "execute_result"
    }
   ],
   "source": [
    "# Number of looks on the RIGHT of the screen\n",
    "df1.query(\"CURRENT_FIX_X > 1920\")[\"EYE_USED\"].count()"
   ]
  },
  {
   "cell_type": "code",
   "execution_count": 96,
   "metadata": {},
   "outputs": [
    {
     "data": {
      "text/plain": [
       "87"
      ]
     },
     "execution_count": 96,
     "metadata": {},
     "output_type": "execute_result"
    }
   ],
   "source": [
    "# Number of looks on the TOP of the screen\n",
    "df1.query(\"CURRENT_FIX_Y < 0\")[\"EYE_USED\"].count()"
   ]
  },
  {
   "cell_type": "code",
   "execution_count": 97,
   "metadata": {},
   "outputs": [
    {
     "data": {
      "text/plain": [
       "2"
      ]
     },
     "execution_count": 97,
     "metadata": {},
     "output_type": "execute_result"
    }
   ],
   "source": [
    "# Number of looks on the BOTTOM of the screen\n",
    "df1.query(\"CURRENT_FIX_Y > 1080\")[\"EYE_USED\"].count()"
   ]
  },
  {
   "cell_type": "markdown",
   "metadata": {},
   "source": [
    "**DOWN**"
   ]
  },
  {
   "cell_type": "markdown",
   "metadata": {},
   "source": [
    "This situation looks similar to previous participant. Let's see the condition to know if this is related to space bar"
   ]
  },
  {
   "cell_type": "code",
   "execution_count": 98,
   "metadata": {},
   "outputs": [
    {
     "data": {
      "text/plain": [
       "array([2])"
      ]
     },
     "execution_count": 98,
     "metadata": {},
     "output_type": "execute_result"
    }
   ],
   "source": [
    "df1.query(\"CURRENT_FIX_Y > 1080\")[\"CONDITION\"].unique()"
   ]
  },
  {
   "cell_type": "markdown",
   "metadata": {},
   "source": [
    "These are TF tasks. Let's see if it is at the end of the trial"
   ]
  },
  {
   "cell_type": "code",
   "execution_count": 99,
   "metadata": {},
   "outputs": [
    {
     "data": {
      "text/html": [
       "<div>\n",
       "<table border=\"1\" class=\"dataframe\">\n",
       "  <thead>\n",
       "    <tr style=\"text-align: right;\">\n",
       "      <th></th>\n",
       "      <th>TRIAL_INDEX</th>\n",
       "      <th>EYE_USED</th>\n",
       "      <th>CURRENT_FIX_X</th>\n",
       "      <th>CURRENT_FIX_Y</th>\n",
       "      <th>CURRENT_FIX_START</th>\n",
       "      <th>CURRENT_FIX_DURATION</th>\n",
       "      <th>CURRENT_FIX_BLINK_AROUND</th>\n",
       "      <th>NEXT_SAC_END_X</th>\n",
       "      <th>NEXT_SAC_END_Y</th>\n",
       "      <th>NEXT_SAC_AMPLITUDE</th>\n",
       "      <th>...</th>\n",
       "      <th>NEXT_SAC_BLINK_DURATION</th>\n",
       "      <th>CUMSUM_BLINK_DURATION</th>\n",
       "      <th>PART_ID</th>\n",
       "      <th>DATETIME</th>\n",
       "      <th>OFFSET</th>\n",
       "      <th>Y_OFFSET</th>\n",
       "      <th>WEBSITE_ID</th>\n",
       "      <th>CONDITION</th>\n",
       "      <th>CALIBRATION_PROBLEM</th>\n",
       "      <th>error_ratio</th>\n",
       "    </tr>\n",
       "  </thead>\n",
       "  <tbody>\n",
       "    <tr>\n",
       "      <th>27990</th>\n",
       "      <td>5</td>\n",
       "      <td>RIGHT</td>\n",
       "      <td>857.4</td>\n",
       "      <td>1564.5</td>\n",
       "      <td>68775.0</td>\n",
       "      <td>44</td>\n",
       "      <td>BOTH</td>\n",
       "      <td>787.5</td>\n",
       "      <td>1490.1</td>\n",
       "      <td>2.916717</td>\n",
       "      <td>...</td>\n",
       "      <td>28.0</td>\n",
       "      <td>280.0</td>\n",
       "      <td>710</td>\n",
       "      <td>2018-03-20 13:59:15.768</td>\n",
       "      <td>258</td>\n",
       "      <td>1822.5</td>\n",
       "      <td>17</td>\n",
       "      <td>2</td>\n",
       "      <td>Yes</td>\n",
       "      <td>0.018519</td>\n",
       "    </tr>\n",
       "    <tr>\n",
       "      <th>27991</th>\n",
       "      <td>5</td>\n",
       "      <td>RIGHT</td>\n",
       "      <td>854.2</td>\n",
       "      <td>1563.4</td>\n",
       "      <td>68706.0</td>\n",
       "      <td>29</td>\n",
       "      <td>BOTH</td>\n",
       "      <td>529.6</td>\n",
       "      <td>409.5</td>\n",
       "      <td>34.248198</td>\n",
       "      <td>...</td>\n",
       "      <td>160.0</td>\n",
       "      <td>440.0</td>\n",
       "      <td>710</td>\n",
       "      <td>2018-03-20 13:59:15.699</td>\n",
       "      <td>258</td>\n",
       "      <td>1821.4</td>\n",
       "      <td>17</td>\n",
       "      <td>2</td>\n",
       "      <td>Yes</td>\n",
       "      <td>0.018519</td>\n",
       "    </tr>\n",
       "  </tbody>\n",
       "</table>\n",
       "<p>2 rows × 26 columns</p>\n",
       "</div>"
      ],
      "text/plain": [
       "       TRIAL_INDEX EYE_USED  CURRENT_FIX_X  CURRENT_FIX_Y  CURRENT_FIX_START  \\\n",
       "27990            5    RIGHT          857.4         1564.5            68775.0   \n",
       "27991            5    RIGHT          854.2         1563.4            68706.0   \n",
       "\n",
       "       CURRENT_FIX_DURATION CURRENT_FIX_BLINK_AROUND  NEXT_SAC_END_X  \\\n",
       "27990                    44                     BOTH           787.5   \n",
       "27991                    29                     BOTH           529.6   \n",
       "\n",
       "       NEXT_SAC_END_Y  NEXT_SAC_AMPLITUDE     ...     NEXT_SAC_BLINK_DURATION  \\\n",
       "27990          1490.1            2.916717     ...                        28.0   \n",
       "27991           409.5           34.248198     ...                       160.0   \n",
       "\n",
       "       CUMSUM_BLINK_DURATION  PART_ID                 DATETIME OFFSET  \\\n",
       "27990                  280.0      710  2018-03-20 13:59:15.768    258   \n",
       "27991                  440.0      710  2018-03-20 13:59:15.699    258   \n",
       "\n",
       "      Y_OFFSET  WEBSITE_ID  CONDITION  CALIBRATION_PROBLEM error_ratio  \n",
       "27990   1822.5          17          2                  Yes    0.018519  \n",
       "27991   1821.4          17          2                  Yes    0.018519  \n",
       "\n",
       "[2 rows x 26 columns]"
      ]
     },
     "execution_count": 99,
     "metadata": {},
     "output_type": "execute_result"
    }
   ],
   "source": [
    "df1.query(\"CURRENT_FIX_Y > 1080\")"
   ]
  },
  {
   "cell_type": "code",
   "execution_count": 100,
   "metadata": {},
   "outputs": [
    {
     "data": {
      "text/html": [
       "<div>\n",
       "<table border=\"1\" class=\"dataframe\">\n",
       "  <thead>\n",
       "    <tr style=\"text-align: right;\">\n",
       "      <th></th>\n",
       "      <th>TRIAL_INDEX</th>\n",
       "      <th>EYE_USED</th>\n",
       "      <th>CURRENT_FIX_X</th>\n",
       "      <th>CURRENT_FIX_Y</th>\n",
       "      <th>CURRENT_FIX_START</th>\n",
       "      <th>CURRENT_FIX_DURATION</th>\n",
       "      <th>CURRENT_FIX_BLINK_AROUND</th>\n",
       "      <th>NEXT_SAC_END_X</th>\n",
       "      <th>NEXT_SAC_END_Y</th>\n",
       "      <th>NEXT_SAC_AMPLITUDE</th>\n",
       "      <th>...</th>\n",
       "      <th>NEXT_SAC_BLINK_DURATION</th>\n",
       "      <th>CUMSUM_BLINK_DURATION</th>\n",
       "      <th>PART_ID</th>\n",
       "      <th>DATETIME</th>\n",
       "      <th>OFFSET</th>\n",
       "      <th>Y_OFFSET</th>\n",
       "      <th>WEBSITE_ID</th>\n",
       "      <th>CONDITION</th>\n",
       "      <th>CALIBRATION_PROBLEM</th>\n",
       "      <th>error_ratio</th>\n",
       "    </tr>\n",
       "  </thead>\n",
       "  <tbody>\n",
       "    <tr>\n",
       "      <th>27989</th>\n",
       "      <td>5</td>\n",
       "      <td>RIGHT</td>\n",
       "      <td>407.8</td>\n",
       "      <td>567.3</td>\n",
       "      <td>68399.0</td>\n",
       "      <td>127</td>\n",
       "      <td>AFTER</td>\n",
       "      <td>787.5</td>\n",
       "      <td>1490.1</td>\n",
       "      <td>28.510391</td>\n",
       "      <td>...</td>\n",
       "      <td>130.0</td>\n",
       "      <td>252.0</td>\n",
       "      <td>710</td>\n",
       "      <td>2018-03-20 13:59:15.392</td>\n",
       "      <td>258</td>\n",
       "      <td>825.3</td>\n",
       "      <td>17</td>\n",
       "      <td>2</td>\n",
       "      <td>Yes</td>\n",
       "      <td>0.018519</td>\n",
       "    </tr>\n",
       "    <tr>\n",
       "      <th>27990</th>\n",
       "      <td>5</td>\n",
       "      <td>RIGHT</td>\n",
       "      <td>857.4</td>\n",
       "      <td>1564.5</td>\n",
       "      <td>68775.0</td>\n",
       "      <td>44</td>\n",
       "      <td>BOTH</td>\n",
       "      <td>787.5</td>\n",
       "      <td>1490.1</td>\n",
       "      <td>2.916717</td>\n",
       "      <td>...</td>\n",
       "      <td>28.0</td>\n",
       "      <td>280.0</td>\n",
       "      <td>710</td>\n",
       "      <td>2018-03-20 13:59:15.768</td>\n",
       "      <td>258</td>\n",
       "      <td>1822.5</td>\n",
       "      <td>17</td>\n",
       "      <td>2</td>\n",
       "      <td>Yes</td>\n",
       "      <td>0.018519</td>\n",
       "    </tr>\n",
       "    <tr>\n",
       "      <th>27991</th>\n",
       "      <td>5</td>\n",
       "      <td>RIGHT</td>\n",
       "      <td>854.2</td>\n",
       "      <td>1563.4</td>\n",
       "      <td>68706.0</td>\n",
       "      <td>29</td>\n",
       "      <td>BOTH</td>\n",
       "      <td>529.6</td>\n",
       "      <td>409.5</td>\n",
       "      <td>34.248198</td>\n",
       "      <td>...</td>\n",
       "      <td>160.0</td>\n",
       "      <td>440.0</td>\n",
       "      <td>710</td>\n",
       "      <td>2018-03-20 13:59:15.699</td>\n",
       "      <td>258</td>\n",
       "      <td>1821.4</td>\n",
       "      <td>17</td>\n",
       "      <td>2</td>\n",
       "      <td>Yes</td>\n",
       "      <td>0.018519</td>\n",
       "    </tr>\n",
       "    <tr>\n",
       "      <th>27992</th>\n",
       "      <td>5</td>\n",
       "      <td>RIGHT</td>\n",
       "      <td>525.9</td>\n",
       "      <td>404.4</td>\n",
       "      <td>68964.0</td>\n",
       "      <td>209</td>\n",
       "      <td>BEFORE</td>\n",
       "      <td>NaN</td>\n",
       "      <td>NaN</td>\n",
       "      <td>NaN</td>\n",
       "      <td>...</td>\n",
       "      <td>0.0</td>\n",
       "      <td>440.0</td>\n",
       "      <td>710</td>\n",
       "      <td>2018-03-20 13:59:15.957</td>\n",
       "      <td>171</td>\n",
       "      <td>575.4</td>\n",
       "      <td>17</td>\n",
       "      <td>2</td>\n",
       "      <td>Yes</td>\n",
       "      <td>0.018519</td>\n",
       "    </tr>\n",
       "    <tr>\n",
       "      <th>27993</th>\n",
       "      <td>6</td>\n",
       "      <td>RIGHT</td>\n",
       "      <td>763.8</td>\n",
       "      <td>602.0</td>\n",
       "      <td>421.0</td>\n",
       "      <td>314</td>\n",
       "      <td>NONE</td>\n",
       "      <td>697.1</td>\n",
       "      <td>619.9</td>\n",
       "      <td>2.060000</td>\n",
       "      <td>...</td>\n",
       "      <td>0.0</td>\n",
       "      <td>0.0</td>\n",
       "      <td>710</td>\n",
       "      <td>2018-03-20 13:59:53.414</td>\n",
       "      <td>0</td>\n",
       "      <td>602.0</td>\n",
       "      <td>3</td>\n",
       "      <td>2</td>\n",
       "      <td>No</td>\n",
       "      <td>0.007576</td>\n",
       "    </tr>\n",
       "    <tr>\n",
       "      <th>27994</th>\n",
       "      <td>6</td>\n",
       "      <td>RIGHT</td>\n",
       "      <td>687.2</td>\n",
       "      <td>619.7</td>\n",
       "      <td>693.0</td>\n",
       "      <td>138</td>\n",
       "      <td>AFTER</td>\n",
       "      <td>797.0</td>\n",
       "      <td>684.2</td>\n",
       "      <td>3.638377</td>\n",
       "      <td>...</td>\n",
       "      <td>86.0</td>\n",
       "      <td>86.0</td>\n",
       "      <td>710</td>\n",
       "      <td>2018-03-20 13:59:53.686</td>\n",
       "      <td>0</td>\n",
       "      <td>619.7</td>\n",
       "      <td>3</td>\n",
       "      <td>2</td>\n",
       "      <td>No</td>\n",
       "      <td>0.007576</td>\n",
       "    </tr>\n",
       "    <tr>\n",
       "      <th>27995</th>\n",
       "      <td>6</td>\n",
       "      <td>RIGHT</td>\n",
       "      <td>789.9</td>\n",
       "      <td>633.7</td>\n",
       "      <td>898.0</td>\n",
       "      <td>70</td>\n",
       "      <td>BOTH</td>\n",
       "      <td>1346.9</td>\n",
       "      <td>957.5</td>\n",
       "      <td>18.407972</td>\n",
       "      <td>...</td>\n",
       "      <td>90.0</td>\n",
       "      <td>176.0</td>\n",
       "      <td>710</td>\n",
       "      <td>2018-03-20 13:59:53.891</td>\n",
       "      <td>0</td>\n",
       "      <td>633.7</td>\n",
       "      <td>3</td>\n",
       "      <td>2</td>\n",
       "      <td>No</td>\n",
       "      <td>0.007576</td>\n",
       "    </tr>\n",
       "  </tbody>\n",
       "</table>\n",
       "<p>7 rows × 26 columns</p>\n",
       "</div>"
      ],
      "text/plain": [
       "       TRIAL_INDEX EYE_USED  CURRENT_FIX_X  CURRENT_FIX_Y  CURRENT_FIX_START  \\\n",
       "27989            5    RIGHT          407.8          567.3            68399.0   \n",
       "27990            5    RIGHT          857.4         1564.5            68775.0   \n",
       "27991            5    RIGHT          854.2         1563.4            68706.0   \n",
       "27992            5    RIGHT          525.9          404.4            68964.0   \n",
       "27993            6    RIGHT          763.8          602.0              421.0   \n",
       "27994            6    RIGHT          687.2          619.7              693.0   \n",
       "27995            6    RIGHT          789.9          633.7              898.0   \n",
       "\n",
       "       CURRENT_FIX_DURATION CURRENT_FIX_BLINK_AROUND  NEXT_SAC_END_X  \\\n",
       "27989                   127                    AFTER           787.5   \n",
       "27990                    44                     BOTH           787.5   \n",
       "27991                    29                     BOTH           529.6   \n",
       "27992                   209                   BEFORE             NaN   \n",
       "27993                   314                     NONE           697.1   \n",
       "27994                   138                    AFTER           797.0   \n",
       "27995                    70                     BOTH          1346.9   \n",
       "\n",
       "       NEXT_SAC_END_Y  NEXT_SAC_AMPLITUDE     ...     NEXT_SAC_BLINK_DURATION  \\\n",
       "27989          1490.1           28.510391     ...                       130.0   \n",
       "27990          1490.1            2.916717     ...                        28.0   \n",
       "27991           409.5           34.248198     ...                       160.0   \n",
       "27992             NaN                 NaN     ...                         0.0   \n",
       "27993           619.9            2.060000     ...                         0.0   \n",
       "27994           684.2            3.638377     ...                        86.0   \n",
       "27995           957.5           18.407972     ...                        90.0   \n",
       "\n",
       "       CUMSUM_BLINK_DURATION  PART_ID                 DATETIME OFFSET  \\\n",
       "27989                  252.0      710  2018-03-20 13:59:15.392    258   \n",
       "27990                  280.0      710  2018-03-20 13:59:15.768    258   \n",
       "27991                  440.0      710  2018-03-20 13:59:15.699    258   \n",
       "27992                  440.0      710  2018-03-20 13:59:15.957    171   \n",
       "27993                    0.0      710  2018-03-20 13:59:53.414      0   \n",
       "27994                   86.0      710  2018-03-20 13:59:53.686      0   \n",
       "27995                  176.0      710  2018-03-20 13:59:53.891      0   \n",
       "\n",
       "      Y_OFFSET  WEBSITE_ID  CONDITION  CALIBRATION_PROBLEM error_ratio  \n",
       "27989    825.3          17          2                  Yes    0.018519  \n",
       "27990   1822.5          17          2                  Yes    0.018519  \n",
       "27991   1821.4          17          2                  Yes    0.018519  \n",
       "27992    575.4          17          2                  Yes    0.018519  \n",
       "27993    602.0           3          2                   No    0.007576  \n",
       "27994    619.7           3          2                   No    0.007576  \n",
       "27995    633.7           3          2                   No    0.007576  \n",
       "\n",
       "[7 rows x 26 columns]"
      ]
     },
     "execution_count": 100,
     "metadata": {},
     "output_type": "execute_result"
    }
   ],
   "source": [
    "df1.ix[27989:27995]"
   ]
  },
  {
   "cell_type": "markdown",
   "metadata": {},
   "source": [
    "Conclusion: End of a TF trial AND blinks in both directions !"
   ]
  },
  {
   "cell_type": "markdown",
   "metadata": {},
   "source": [
    "**UP**"
   ]
  },
  {
   "cell_type": "code",
   "execution_count": 102,
   "metadata": {},
   "outputs": [
    {
     "data": {
      "text/plain": [
       "87"
      ]
     },
     "execution_count": 102,
     "metadata": {},
     "output_type": "execute_result"
    }
   ],
   "source": [
    "# Number of looks on the TOP of the screen\n",
    "df710.query(\"CURRENT_FIX_Y < 0\")[\"EYE_USED\"].count()"
   ]
  },
  {
   "cell_type": "code",
   "execution_count": 111,
   "metadata": {},
   "outputs": [
    {
     "data": {
      "text/plain": [
       "4    44\n",
       "2    14\n",
       "3    11\n",
       "5     8\n",
       "6     6\n",
       "1     4\n",
       "Name: CONDITION, dtype: int64"
      ]
     },
     "execution_count": 111,
     "metadata": {},
     "output_type": "execute_result"
    }
   ],
   "source": [
    "# Number of looks on the TOP of the screen\n",
    "df710.query(\"CURRENT_FIX_Y < 0\")[\"CONDITION\"].value_counts()"
   ]
  },
  {
   "cell_type": "code",
   "execution_count": 114,
   "metadata": {},
   "outputs": [
    {
     "data": {
      "text/plain": [
       "73.5632183908046"
      ]
     },
     "execution_count": 114,
     "metadata": {},
     "output_type": "execute_result"
    }
   ],
   "source": [
    "# Percentage of TF tasks\n",
    "(44+14+6)*100/87"
   ]
  },
  {
   "cell_type": "code",
   "execution_count": 133,
   "metadata": {},
   "outputs": [
    {
     "data": {
      "text/plain": [
       "35"
      ]
     },
     "execution_count": 133,
     "metadata": {},
     "output_type": "execute_result"
    }
   ],
   "source": [
    "# Number of looks on the TOP of the screen\n",
    "df1.query(\"CURRENT_FIX_Y < 0 and CURRENT_FIX_DURATION <= 120\")[\"EYE_USED\"].count()"
   ]
  },
  {
   "cell_type": "code",
   "execution_count": 104,
   "metadata": {},
   "outputs": [
    {
     "name": "stdout",
     "output_type": "stream",
     "text": [
      "-- UP -- \n",
      "On 87, 11(13.0%) where blinks\n",
      "Mean distance is -138.0 (-4.0°)\n",
      "Mean start time is 13.0s\n"
     ]
    },
    {
     "data": {
      "text/plain": [
       "<matplotlib.axes._subplots.AxesSubplot at 0x12494fcf8>"
      ]
     },
     "execution_count": 104,
     "metadata": {},
     "output_type": "execute_result"
    },
    {
     "data": {
      "image/png": "[encoded data removed]",
      "text/plain": [
       "<Figure size 432x288 with 1 Axes>"
      ]
     },
     "metadata": {},
     "output_type": "display_data"
    }
   ],
   "source": [
    "t = df710.query(\"CURRENT_FIX_Y < 0\")[\"CURRENT_FIX_Y\"].count()\n",
    "c = df710.query(\"CURRENT_FIX_Y < 0\").query(\"NEXT_SAC_CONTAINS_BLINK == 'true'\")[\"CURRENT_FIX_Y\"].count()\n",
    "d = df710.query(\"CURRENT_FIX_Y < 0\")[\"CURRENT_FIX_Y\"].mean()\n",
    "s = df710.query(\"CURRENT_FIX_Y < 0\")[\"CURRENT_FIX_START\"].mean()\n",
    "print(\"-- UP -- \")\n",
    "print(\"On {}, {}({}%) where blinks\".format(t, c, round(c/t*100, 0)))\n",
    "print(\"Mean distance is {} ({}°)\".format(round(d, 0), round(d/35, 0)))\n",
    "print(\"Mean start time is {}s\".format(round(s/1000, 0)))\n",
    "alld.query(\"CURRENT_FIX_Y < 0\")[\"CURRENT_FIX_Y\"].hist()"
   ]
  },
  {
   "cell_type": "code",
   "execution_count": null,
   "metadata": {},
   "outputs": [],
   "source": []
  },
  {
   "cell_type": "code",
   "execution_count": null,
   "metadata": {},
   "outputs": [],
   "source": []
  },
  {
   "cell_type": "code",
   "execution_count": null,
   "metadata": {},
   "outputs": [],
   "source": []
  },
  {
   "cell_type": "code",
   "execution_count": 146,
   "metadata": {},
   "outputs": [
    {
     "data": {
      "text/plain": [
       "3704"
      ]
     },
     "execution_count": 146,
     "metadata": {},
     "output_type": "execute_result"
    }
   ],
   "source": [
    "alld.query(\"CURRENT_FIX_DURATION < 120 and CURRENT_FIX_BLINK_AROUND == 'NONE'\")[\"TRIAL_INDEX\"].count()"
   ]
  },
  {
   "cell_type": "code",
   "execution_count": 147,
   "metadata": {},
   "outputs": [
    {
     "data": {
      "text/plain": [
       "1252"
      ]
     },
     "execution_count": 147,
     "metadata": {},
     "output_type": "execute_result"
    }
   ],
   "source": [
    "alld.query(\"CURRENT_FIX_DURATION < 120 and CURRENT_FIX_BLINK_AROUND != 'NONE'\")[\"TRIAL_INDEX\"].count()"
   ]
  },
  {
   "cell_type": "code",
   "execution_count": 86,
   "metadata": {},
   "outputs": [
    {
     "name": "stdout",
     "output_type": "stream",
     "text": [
      "-- LEFT -- \n",
      "On 79, 12(15.0%) where blinks\n",
      "Mean distance is -102.0 (-3.0°)\n",
      "Mean start time is 14.0s\n"
     ]
    },
    {
     "data": {
      "text/plain": [
       "<matplotlib.axes._subplots.AxesSubplot at 0x11b975400>"
      ]
     },
     "execution_count": 86,
     "metadata": {},
     "output_type": "execute_result"
    },
    {
     "data": {
      "image/png": "[encoded data removed]",
      "text/plain": [
       "<Figure size 432x288 with 1 Axes>"
      ]
     },
     "metadata": {},
     "output_type": "display_data"
    }
   ],
   "source": [
    "t = alld.query(\"CURRENT_FIX_X < 0\")[\"EYE_USED\"].count()\n",
    "c = alld.query(\"CURRENT_FIX_X < 0\").query(\"NEXT_SAC_CONTAINS_BLINK == 'true'\")[\"EYE_USED\"].count()\n",
    "d = alld.query(\"CURRENT_FIX_X < 0\")[\"CURRENT_FIX_X\"].mean()\n",
    "s = alld.query(\"CURRENT_FIX_X < 0\")[\"CURRENT_FIX_START\"].mean()\n",
    "print(\"-- LEFT -- \")\n",
    "print(\"On {}, {}({}%) where blinks\".format(t, c, round(c/t*100, 0)))\n",
    "print(\"Mean distance is {} ({}°)\".format(round(d, 0), round(d/35, 0)))\n",
    "print(\"Mean start time is {}s\".format(round(s/1000, 0)))\n",
    "alld.query(\"CURRENT_FIX_X < 0\")[\"CURRENT_FIX_X\"].hist()"
   ]
  },
  {
   "cell_type": "code",
   "execution_count": 100,
   "metadata": {},
   "outputs": [
    {
     "name": "stdout",
     "output_type": "stream",
     "text": [
      "-- RIGHT -- \n",
      "On 49, 8(16.0%) where blinks\n",
      "Mean distance is 90.0 (3.0°)\n",
      "Mean start time is 37.0s\n"
     ]
    },
    {
     "data": {
      "text/plain": [
       "<matplotlib.axes._subplots.AxesSubplot at 0x11ad8fda0>"
      ]
     },
     "execution_count": 100,
     "metadata": {},
     "output_type": "execute_result"
    },
    {
     "data": {
      "image/png": "[encoded data removed]",
      "text/plain": [
       "<Figure size 432x288 with 1 Axes>"
      ]
     },
     "metadata": {},
     "output_type": "display_data"
    }
   ],
   "source": [
    "t = alld.query(\"CURRENT_FIX_X > 1920\")[\"CURRENT_FIX_X\"].count()\n",
    "c = alld.query(\"CURRENT_FIX_X > 1920\").query(\"NEXT_SAC_CONTAINS_BLINK == 'true'\")[\"CURRENT_FIX_X\"].count()\n",
    "d = (alld.query(\"CURRENT_FIX_X > 1920\")[\"CURRENT_FIX_X\"] - 1920).mean()\n",
    "s = alld.query(\"CURRENT_FIX_X > 1920\")[\"CURRENT_FIX_START\"].mean()\n",
    "print(\"-- RIGHT -- \")\n",
    "print(\"On {}, {}({}%) where blinks\".format(t, c, round(c/t*100, 0)))\n",
    "print(\"Mean distance is {} ({}°)\".format(round(d, 0), round(d/35, 0)))\n",
    "print(\"Mean start time is {}s\".format(round(s/1000, 0)))\n",
    "alld.query(\"CURRENT_FIX_X > 1920\")[\"CURRENT_FIX_X\"].hist()"
   ]
  },
  {
   "cell_type": "code",
   "execution_count": 88,
   "metadata": {},
   "outputs": [
    {
     "name": "stdout",
     "output_type": "stream",
     "text": [
      "-- UP -- \n",
      "On 282, 41(15.0%) where blinks\n",
      "Mean distance is -113.0 (-3.0°)\n",
      "Mean start time is 19.0s\n"
     ]
    },
    {
     "data": {
      "text/plain": [
       "<matplotlib.axes._subplots.AxesSubplot at 0x11b976128>"
      ]
     },
     "execution_count": 88,
     "metadata": {},
     "output_type": "execute_result"
    },
    {
     "data": {
      "image/png": "[encoded data removed]",
      "text/plain": [
       "<Figure size 432x288 with 1 Axes>"
      ]
     },
     "metadata": {},
     "output_type": "display_data"
    }
   ],
   "source": [
    "t = alld.query(\"CURRENT_FIX_Y < 0\")[\"CURRENT_FIX_Y\"].count()\n",
    "c = alld.query(\"CURRENT_FIX_Y < 0\").query(\"NEXT_SAC_CONTAINS_BLINK == 'true'\")[\"CURRENT_FIX_Y\"].count()\n",
    "d = alld.query(\"CURRENT_FIX_Y < 0\")[\"CURRENT_FIX_Y\"].mean()\n",
    "s = alld.query(\"CURRENT_FIX_Y < 0\")[\"CURRENT_FIX_START\"].mean()\n",
    "print(\"-- UP -- \")\n",
    "print(\"On {}, {}({}%) where blinks\".format(t, c, round(c/t*100, 0)))\n",
    "print(\"Mean distance is {} ({}°)\".format(round(d, 0), round(d/35, 0)))\n",
    "print(\"Mean start time is {}s\".format(round(s/1000, 0)))\n",
    "alld.query(\"CURRENT_FIX_Y < 0\")[\"CURRENT_FIX_Y\"].hist()"
   ]
  },
  {
   "cell_type": "code",
   "execution_count": 98,
   "metadata": {},
   "outputs": [
    {
     "name": "stdout",
     "output_type": "stream",
     "text": [
      "-- DOWN -- \n",
      "On 42, 13(31.0%) where blinks\n",
      "Mean distance is 169.0 (5.0°)\n",
      "Mean start time is 42.0s\n"
     ]
    },
    {
     "data": {
      "text/plain": [
       "<matplotlib.axes._subplots.AxesSubplot at 0x11b39a198>"
      ]
     },
     "execution_count": 98,
     "metadata": {},
     "output_type": "execute_result"
    },
    {
     "data": {
      "image/png": "[encoded data removed]",
      "text/plain": [
       "<Figure size 432x288 with 1 Axes>"
      ]
     },
     "metadata": {},
     "output_type": "display_data"
    }
   ],
   "source": [
    "t = alld.query(\"CURRENT_FIX_Y > 1080\")[\"CURRENT_FIX_Y\"].count()\n",
    "c = alld.query(\"CURRENT_FIX_Y > 1080\").query(\"NEXT_SAC_CONTAINS_BLINK == 'true'\")[\"CURRENT_FIX_Y\"].count()\n",
    "d = (alld.query(\"CURRENT_FIX_Y > 1080\")[\"CURRENT_FIX_Y\"] - 1080).mean()\n",
    "s = alld.query(\"CURRENT_FIX_Y > 1080\")[\"CURRENT_FIX_START\"].mean()\n",
    "print(\"-- DOWN -- \")\n",
    "print(\"On {}, {}({}%) where blinks\".format(t, c, round(c/t*100, 0)))\n",
    "print(\"Mean distance is {} ({}°)\".format(round(d, 0), round(d/35, 0)))\n",
    "print(\"Mean start time is {}s\".format(round(s/1000, 0)))\n",
    "alld.query(\"CURRENT_FIX_Y > 1080\")[\"CURRENT_FIX_Y\"].hist()"
   ]
  },
  {
   "cell_type": "code",
   "execution_count": 27,
   "metadata": {},
   "outputs": [
    {
     "data": {
      "text/plain": [
       "CONDITION\n",
       "2     5\n",
       "4    15\n",
       "5     4\n",
       "6    18\n",
       "Name: CURRENT_FIX_Y, dtype: int64"
      ]
     },
     "execution_count": 27,
     "metadata": {},
     "output_type": "execute_result"
    }
   ],
   "source": [
    "alld.query(\"CURRENT_FIX_Y > 1080\").groupby(\"CONDITION\")[\"CURRENT_FIX_Y\"].count()"
   ]
  },
  {
   "cell_type": "code",
   "execution_count": 28,
   "metadata": {},
   "outputs": [
    {
     "data": {
      "text/plain": [
       "CONDITION\n",
       "1    65\n",
       "2    45\n",
       "3    39\n",
       "4    77\n",
       "5    23\n",
       "6    33\n",
       "Name: CURRENT_FIX_Y, dtype: int64"
      ]
     },
     "execution_count": 28,
     "metadata": {},
     "output_type": "execute_result"
    }
   ],
   "source": [
    "alld.query(\"CURRENT_FIX_Y < 0\").groupby(\"CONDITION\")[\"CURRENT_FIX_Y\"].count()"
   ]
  },
  {
   "cell_type": "code",
   "execution_count": 29,
   "metadata": {},
   "outputs": [
    {
     "data": {
      "text/plain": [
       "CONDITION\n",
       "1    27\n",
       "2     2\n",
       "3    11\n",
       "4    14\n",
       "5     6\n",
       "6    19\n",
       "Name: CURRENT_FIX_X, dtype: int64"
      ]
     },
     "execution_count": 29,
     "metadata": {},
     "output_type": "execute_result"
    }
   ],
   "source": [
    "alld.query(\"CURRENT_FIX_X < 0\").groupby(\"CONDITION\")[\"CURRENT_FIX_X\"].count()"
   ]
  },
  {
   "cell_type": "code",
   "execution_count": 30,
   "metadata": {},
   "outputs": [
    {
     "data": {
      "text/plain": [
       "CONDITION\n",
       "1     6\n",
       "2     3\n",
       "3    17\n",
       "4     5\n",
       "5     9\n",
       "6     9\n",
       "Name: CURRENT_FIX_X, dtype: int64"
      ]
     },
     "execution_count": 30,
     "metadata": {},
     "output_type": "execute_result"
    }
   ],
   "source": [
    "alld.query(\"CURRENT_FIX_X > 1920\").groupby(\"CONDITION\")[\"CURRENT_FIX_X\"].count()"
   ]
  },
  {
   "cell_type": "code",
   "execution_count": 35,
   "metadata": {},
   "outputs": [
    {
     "data": {
      "text/plain": [
       "CONDITION\n",
       "1    28367.346094\n",
       "2    28312.133736\n",
       "3    28956.823996\n",
       "4    27689.579189\n",
       "5    28567.750804\n",
       "6    26867.042294\n",
       "Name: CURRENT_FIX_START, dtype: float64"
      ]
     },
     "execution_count": 35,
     "metadata": {},
     "output_type": "execute_result"
    }
   ],
   "source": [
    "alld.groupby(\"CONDITION\")[\"CURRENT_FIX_START\"].mean()"
   ]
  },
  {
   "cell_type": "code",
   "execution_count": 36,
   "metadata": {},
   "outputs": [
    {
     "data": {
      "text/plain": [
       "2.2857142857142856"
      ]
     },
     "execution_count": 36,
     "metadata": {},
     "output_type": "execute_result"
    }
   ],
   "source": [
    "(2000-1920)/35"
   ]
  },
  {
   "cell_type": "code",
   "execution_count": 38,
   "metadata": {},
   "outputs": [
    {
     "data": {
      "text/plain": [
       "<matplotlib.axes._subplots.AxesSubplot at 0x11a320da0>"
      ]
     },
     "execution_count": 38,
     "metadata": {},
     "output_type": "execute_result"
    },
    {
     "data": {
      "image/png": "[encoded data removed]",
      "text/plain": [
       "<Figure size 432x288 with 1 Axes>"
      ]
     },
     "metadata": {},
     "output_type": "display_data"
    }
   ],
   "source": [
    "alld.query(\"CURRENT_FIX_X > 1920\")[\"CURRENT_FIX_X\"].hist()"
   ]
  },
  {
   "cell_type": "code",
   "execution_count": 90,
   "metadata": {},
   "outputs": [
    {
     "name": "stdout",
     "output_type": "stream",
     "text": [
      "Out of the zone:\n"
     ]
    },
    {
     "data": {
      "text/plain": [
       "9"
      ]
     },
     "execution_count": 90,
     "metadata": {},
     "output_type": "execute_result"
    }
   ],
   "source": [
    "print(\"Out of the zone:\")\n",
    "alld.query(\"CURRENT_FIX_X < 0 and CURRENT_FIX_X < -180\")[\"EYE_USED\"].count()"
   ]
  },
  {
   "cell_type": "code",
   "execution_count": 91,
   "metadata": {},
   "outputs": [
    {
     "name": "stdout",
     "output_type": "stream",
     "text": [
      "In the zone:\n"
     ]
    },
    {
     "data": {
      "text/plain": [
       "70"
      ]
     },
     "execution_count": 91,
     "metadata": {},
     "output_type": "execute_result"
    }
   ],
   "source": [
    "print(\"In the zone:\")\n",
    "alld.query(\"CURRENT_FIX_X < 0 and CURRENT_FIX_X > -180\")[\"EYE_USED\"].count()"
   ]
  },
  {
   "cell_type": "code",
   "execution_count": 41,
   "metadata": {},
   "outputs": [
    {
     "name": "stdout",
     "output_type": "stream",
     "text": [
      "In the zone:\n"
     ]
    },
    {
     "data": {
      "text/plain": [
       "43"
      ]
     },
     "execution_count": 41,
     "metadata": {},
     "output_type": "execute_result"
    }
   ],
   "source": [
    "print(\"In the zone:\")\n",
    "alld.query(\"CURRENT_FIX_X > 1920 and CURRENT_FIX_X < 2095\")[\"EYE_USED\"].count()"
   ]
  },
  {
   "cell_type": "code",
   "execution_count": 42,
   "metadata": {},
   "outputs": [
    {
     "name": "stdout",
     "output_type": "stream",
     "text": [
      "Out of the zone:\n"
     ]
    },
    {
     "data": {
      "text/plain": [
       "6"
      ]
     },
     "execution_count": 42,
     "metadata": {},
     "output_type": "execute_result"
    }
   ],
   "source": [
    "print(\"Out of the zone:\")\n",
    "alld.query(\"CURRENT_FIX_X > 1920 and CURRENT_FIX_X > 2095\")[\"EYE_USED\"].count()"
   ]
  },
  {
   "cell_type": "code",
   "execution_count": 43,
   "metadata": {},
   "outputs": [
    {
     "name": "stdout",
     "output_type": "stream",
     "text": [
      "In the zone:\n"
     ]
    },
    {
     "data": {
      "text/plain": [
       "29"
      ]
     },
     "execution_count": 43,
     "metadata": {},
     "output_type": "execute_result"
    }
   ],
   "source": [
    "print(\"In the zone:\")\n",
    "alld.query(\"CURRENT_FIX_Y > 1080 and CURRENT_FIX_Y < 1255\")[\"EYE_USED\"].count()"
   ]
  },
  {
   "cell_type": "code",
   "execution_count": 44,
   "metadata": {},
   "outputs": [
    {
     "name": "stdout",
     "output_type": "stream",
     "text": [
      "Out of the zone:\n"
     ]
    },
    {
     "data": {
      "text/plain": [
       "13"
      ]
     },
     "execution_count": 44,
     "metadata": {},
     "output_type": "execute_result"
    }
   ],
   "source": [
    "print(\"Out of the zone:\")\n",
    "alld.query(\"CURRENT_FIX_Y > 1080 and CURRENT_FIX_Y > 1255\")[\"EYE_USED\"].count()"
   ]
  },
  {
   "cell_type": "code",
   "execution_count": 45,
   "metadata": {},
   "outputs": [
    {
     "name": "stdout",
     "output_type": "stream",
     "text": [
      "Out of the zone:\n"
     ]
    },
    {
     "data": {
      "text/plain": [
       "84"
      ]
     },
     "execution_count": 45,
     "metadata": {},
     "output_type": "execute_result"
    }
   ],
   "source": [
    "print(\"Out of the zone:\")\n",
    "alld.query(\"CURRENT_FIX_Y < 0 and CURRENT_FIX_Y < -180\")[\"EYE_USED\"].count()"
   ]
  },
  {
   "cell_type": "code",
   "execution_count": 46,
   "metadata": {},
   "outputs": [
    {
     "name": "stdout",
     "output_type": "stream",
     "text": [
      "In the zone:\n"
     ]
    },
    {
     "data": {
      "text/plain": [
       "198"
      ]
     },
     "execution_count": 46,
     "metadata": {},
     "output_type": "execute_result"
    }
   ],
   "source": [
    "print(\"In the zone:\")\n",
    "alld.query(\"CURRENT_FIX_Y < 0 and CURRENT_FIX_Y > -180\")[\"EYE_USED\"].count()"
   ]
  },
  {
   "cell_type": "code",
   "execution_count": null,
   "metadata": {},
   "outputs": [],
   "source": []
  },
  {
   "cell_type": "code",
   "execution_count": 47,
   "metadata": {},
   "outputs": [
    {
     "data": {
      "text/plain": [
       "<matplotlib.axes._subplots.AxesSubplot at 0x11c543710>"
      ]
     },
     "execution_count": 47,
     "metadata": {},
     "output_type": "execute_result"
    },
    {
     "data": {
      "image/png": "[encoded data removed]",
      "text/plain": [
       "<Figure size 432x288 with 1 Axes>"
      ]
     },
     "metadata": {},
     "output_type": "display_data"
    }
   ],
   "source": [
    "alld.query(\"CURRENT_FIX_Y < 0\")[\"CURRENT_FIX_Y\"].hist()"
   ]
  },
  {
   "cell_type": "code",
   "execution_count": 48,
   "metadata": {},
   "outputs": [
    {
     "data": {
      "text/plain": [
       "<matplotlib.axes._subplots.AxesSubplot at 0x11a6864e0>"
      ]
     },
     "execution_count": 48,
     "metadata": {},
     "output_type": "execute_result"
    },
    {
     "data": {
      "image/png": "[encoded data removed]",
      "text/plain": [
       "<Figure size 432x288 with 1 Axes>"
      ]
     },
     "metadata": {},
     "output_type": "display_data"
    }
   ],
   "source": [
    "alld.query(\"CURRENT_FIX_Y > 1080\")[\"CURRENT_FIX_Y\"].hist()"
   ]
  },
  {
   "cell_type": "code",
   "execution_count": 49,
   "metadata": {},
   "outputs": [
    {
     "data": {
      "text/plain": [
       "175"
      ]
     },
     "execution_count": 49,
     "metadata": {},
     "output_type": "execute_result"
    }
   ],
   "source": [
    "5*35"
   ]
  },
  {
   "cell_type": "code",
   "execution_count": 50,
   "metadata": {},
   "outputs": [
    {
     "data": {
      "text/plain": [
       "TRIAL_INDEX\n",
       "2      1\n",
       "4      4\n",
       "5      1\n",
       "6      5\n",
       "7      3\n",
       "9      6\n",
       "11    10\n",
       "12     7\n",
       "14    21\n",
       "17    12\n",
       "Name: EYE_USED, dtype: int64"
      ]
     },
     "execution_count": 50,
     "metadata": {},
     "output_type": "execute_result"
    }
   ],
   "source": [
    "alld.query(\"CURRENT_FIX_X < 0 and CURRENT_FIX_X > -180\").groupby(\"TRIAL_INDEX\")[\"EYE_USED\"].count()"
   ]
  },
  {
   "cell_type": "code",
   "execution_count": 51,
   "metadata": {},
   "outputs": [
    {
     "data": {
      "text/plain": [
       "TRIAL_INDEX\n",
       "1      2\n",
       "2     14\n",
       "3      7\n",
       "4     14\n",
       "5      5\n",
       "7      6\n",
       "8     18\n",
       "9      3\n",
       "10     9\n",
       "11    16\n",
       "12     8\n",
       "13     4\n",
       "14    41\n",
       "16    15\n",
       "17    20\n",
       "18    16\n",
       "Name: EYE_USED, dtype: int64"
      ]
     },
     "execution_count": 51,
     "metadata": {},
     "output_type": "execute_result"
    }
   ],
   "source": [
    "alld.query(\"CURRENT_FIX_Y < 0 and CURRENT_FIX_Y > -180\").groupby(\"TRIAL_INDEX\")[\"EYE_USED\"].count()"
   ]
  },
  {
   "cell_type": "code",
   "execution_count": null,
   "metadata": {},
   "outputs": [],
   "source": []
  },
  {
   "cell_type": "code",
   "execution_count": null,
   "metadata": {},
   "outputs": [],
   "source": []
  }
 ],
 "metadata": {
  "anaconda-cloud": {},
  "kernelspec": {
   "display_name": "Python [default]",
   "language": "python",
   "name": "python3"
  },
  "language_info": {
   "codemirror_mode": {
    "name": "ipython",
    "version": 3
   },
   "file_extension": ".py",
   "mimetype": "text/x-python",
   "name": "python",
   "nbconvert_exporter": "python",
   "pygments_lexer": "ipython3",
   "version": "3.5.2"
  },
  "varInspector": {
   "cols": {
    "lenName": 16,
    "lenType": 16,
    "lenVar": 40
   },
   "kernels_config": {
    "python": {
     "delete_cmd_postfix": "",
     "delete_cmd_prefix": "del ",
     "library": "var_list.py",
     "varRefreshCmd": "print(var_dic_list())"
    },
    "r": {
     "delete_cmd_postfix": ") ",
     "delete_cmd_prefix": "rm(",
     "library": "var_list.r",
     "varRefreshCmd": "cat(var_dic_list()) "
    }
   },
   "types_to_exclude": [
    "module",
    "function",
    "builtin_function_or_method",
    "instance",
    "_Feature"
   ],
   "window_display": false
  }
 },
 "nbformat": 4,
 "nbformat_minor": 2
}
