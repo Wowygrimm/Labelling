{
 "cells": [
  {
   "cell_type": "code",
   "execution_count": 1,
   "metadata": {
    "collapsed": true
   },
   "outputs": [],
   "source": [
    "%matplotlib inline"
   ]
  },
  {
   "cell_type": "code",
   "execution_count": 2,
   "metadata": {
    "collapsed": true
   },
   "outputs": [],
   "source": [
    "import pandas as pd\n",
    "import numpy as np\n",
    "\n",
    "import pickle\n",
    "import os\n",
    "import glob\n",
    "import re\n",
    "\n",
    "import matplotlib.pyplot as plt\n",
    "import matplotlib as mpl\n",
    "\n",
    "from ast import literal_eval"
   ]
  },
  {
   "cell_type": "markdown",
   "metadata": {},
   "source": [
    "# Calibration Problems and Drop trials"
   ]
  },
  {
   "cell_type": "code",
   "execution_count": 3,
   "metadata": {
    "collapsed": true
   },
   "outputs": [],
   "source": [
    "rootPath = '../data/'\n",
    "file_suffix = \"_no_outsider.csv\"\n",
    "export_suffix = \"_drop.csv\""
   ]
  },
  {
   "cell_type": "code",
   "execution_count": 4,
   "metadata": {
    "collapsed": true
   },
   "outputs": [],
   "source": [
    "trials_to_drop = pd.read_csv(\"{}trials_droplist.csv\".format(rootPath))\n",
    "trials_to_drop[\"TYPE\"] = \"checking\""
   ]
  },
  {
   "cell_type": "code",
   "execution_count": 5,
   "metadata": {},
   "outputs": [
    {
     "data": {
      "text/html": [
       "<div>\n",
       "<table border=\"1\" class=\"dataframe\">\n",
       "  <thead>\n",
       "    <tr style=\"text-align: right;\">\n",
       "      <th></th>\n",
       "      <th>PART_ID</th>\n",
       "      <th>TRIALS</th>\n",
       "      <th>TYPE</th>\n",
       "    </tr>\n",
       "  </thead>\n",
       "  <tbody>\n",
       "    <tr>\n",
       "      <th>0</th>\n",
       "      <td>1</td>\n",
       "      <td>[None, None, None, None]</td>\n",
       "      <td>checking</td>\n",
       "    </tr>\n",
       "    <tr>\n",
       "      <th>1</th>\n",
       "      <td>2</td>\n",
       "      <td>[None, None, None, None]</td>\n",
       "      <td>checking</td>\n",
       "    </tr>\n",
       "    <tr>\n",
       "      <th>2</th>\n",
       "      <td>3</td>\n",
       "      <td>[None, None, None, None]</td>\n",
       "      <td>checking</td>\n",
       "    </tr>\n",
       "    <tr>\n",
       "      <th>3</th>\n",
       "      <td>4</td>\n",
       "      <td>[None, None, None, None]</td>\n",
       "      <td>checking</td>\n",
       "    </tr>\n",
       "    <tr>\n",
       "      <th>4</th>\n",
       "      <td>7</td>\n",
       "      <td>[None, None, None, None]</td>\n",
       "      <td>checking</td>\n",
       "    </tr>\n",
       "    <tr>\n",
       "      <th>5</th>\n",
       "      <td>8</td>\n",
       "      <td>[None, None, None, None]</td>\n",
       "      <td>checking</td>\n",
       "    </tr>\n",
       "    <tr>\n",
       "      <th>6</th>\n",
       "      <td>10</td>\n",
       "      <td>[None, None, None, None]</td>\n",
       "      <td>checking</td>\n",
       "    </tr>\n",
       "    <tr>\n",
       "      <th>7</th>\n",
       "      <td>11</td>\n",
       "      <td>[None, None, None, None]</td>\n",
       "      <td>checking</td>\n",
       "    </tr>\n",
       "    <tr>\n",
       "      <th>8</th>\n",
       "      <td>709</td>\n",
       "      <td>[None, None, None, None]</td>\n",
       "      <td>checking</td>\n",
       "    </tr>\n",
       "    <tr>\n",
       "      <th>9</th>\n",
       "      <td>710</td>\n",
       "      <td>[None, None, None, None]</td>\n",
       "      <td>checking</td>\n",
       "    </tr>\n",
       "    <tr>\n",
       "      <th>10</th>\n",
       "      <td>711</td>\n",
       "      <td>[None, None, None, None]</td>\n",
       "      <td>checking</td>\n",
       "    </tr>\n",
       "    <tr>\n",
       "      <th>11</th>\n",
       "      <td>712</td>\n",
       "      <td>[None, None, None, None]</td>\n",
       "      <td>checking</td>\n",
       "    </tr>\n",
       "    <tr>\n",
       "      <th>12</th>\n",
       "      <td>713</td>\n",
       "      <td>[None, None, None, None]</td>\n",
       "      <td>checking</td>\n",
       "    </tr>\n",
       "    <tr>\n",
       "      <th>13</th>\n",
       "      <td>714</td>\n",
       "      <td>[None, None, None, None]</td>\n",
       "      <td>checking</td>\n",
       "    </tr>\n",
       "    <tr>\n",
       "      <th>14</th>\n",
       "      <td>715</td>\n",
       "      <td>[None, None, None, None]</td>\n",
       "      <td>checking</td>\n",
       "    </tr>\n",
       "    <tr>\n",
       "      <th>15</th>\n",
       "      <td>716</td>\n",
       "      <td>[None, None, None, None]</td>\n",
       "      <td>checking</td>\n",
       "    </tr>\n",
       "  </tbody>\n",
       "</table>\n",
       "</div>"
      ],
      "text/plain": [
       "    PART_ID                    TRIALS      TYPE\n",
       "0         1  [None, None, None, None]  checking\n",
       "1         2  [None, None, None, None]  checking\n",
       "2         3  [None, None, None, None]  checking\n",
       "3         4  [None, None, None, None]  checking\n",
       "4         7  [None, None, None, None]  checking\n",
       "5         8  [None, None, None, None]  checking\n",
       "6        10  [None, None, None, None]  checking\n",
       "7        11  [None, None, None, None]  checking\n",
       "8       709  [None, None, None, None]  checking\n",
       "9       710  [None, None, None, None]  checking\n",
       "10      711  [None, None, None, None]  checking\n",
       "11      712  [None, None, None, None]  checking\n",
       "12      713  [None, None, None, None]  checking\n",
       "13      714  [None, None, None, None]  checking\n",
       "14      715  [None, None, None, None]  checking\n",
       "15      716  [None, None, None, None]  checking"
      ]
     },
     "execution_count": 5,
     "metadata": {},
     "output_type": "execute_result"
    }
   ],
   "source": [
    "trials_to_drop"
   ]
  },
  {
   "cell_type": "code",
   "execution_count": 7,
   "metadata": {
    "collapsed": true
   },
   "outputs": [],
   "source": [
    "# Trials with problems\n",
    "trials_to_drop = trials_to_drop.append([\n",
    "    {\"PART_ID\": 2, \"TRIALS\": [8], \"TYPE\": \"other\"},\n",
    "    {\"PART_ID\": 3, \"TRIALS\": [15], \"TYPE\": \"other\"},\n",
    "    {\"PART_ID\": 710, \"TRIALS\": [15], \"TYPE\": \"other\"},\n",
    "    {\"PART_ID\": 711, \"TRIALS\": [16], \"TYPE\": \"other\"},\n",
    "    {\"PART_ID\": 712, \"TRIALS\": [10], \"TYPE\": \"other\"},\n",
    "    {\"PART_ID\": 715, \"TRIALS\": [8], \"TYPE\": \"other\"},\n",
    "    {\"PART_ID\": 716, \"TRIALS\": [12, 13], \"TYPE\": \"other\"}\n",
    "])"
   ]
  },
  {
   "cell_type": "code",
   "execution_count": 9,
   "metadata": {
    "collapsed": true
   },
   "outputs": [],
   "source": [
    "# Trials with calibration problems\n",
    "trials_to_drop = trials_to_drop.append([\n",
    "    {\"PART_ID\": 4, \"TRIALS\": [1], \"TYPE\": \"calibration\"},\n",
    "    {\"PART_ID\": 710, \"TRIALS\": [1, 5], \"TYPE\": \"calibration\"},\n",
    "    {\"PART_ID\": 711, \"TRIALS\": [1], \"TYPE\": \"calibration\"},\n",
    "    {\"PART_ID\": 713, \"TRIALS\": [1], \"TYPE\": \"calibration\"},\n",
    "    {\"PART_ID\": 714, \"TRIALS\": [1], \"TYPE\": \"calibration\"},\n",
    "    {\"PART_ID\": 716, \"TRIALS\": [1], \"TYPE\": \"calibration\"}\n",
    "])"
   ]
  },
  {
   "cell_type": "code",
   "execution_count": 10,
   "metadata": {},
   "outputs": [
    {
     "name": "stdout",
     "output_type": "stream",
     "text": [
      "Cleaning ../data/part_713/part_713_no_outsider.csv\n",
      "-- Exporting to ../data/part_713/part_713_drop.csv\n",
      "Cleaning ../data/part_10/part_10_no_outsider.csv\n",
      "-- Exporting to ../data/part_10/part_10_drop.csv\n",
      "Cleaning ../data/part_714/part_714_no_outsider.csv\n",
      "-- Exporting to ../data/part_714/part_714_drop.csv\n",
      "Cleaning ../data/part_715/part_715_no_outsider.csv\n",
      "-- Exporting to ../data/part_715/part_715_drop.csv\n",
      "Cleaning ../data/part_11/part_11_no_outsider.csv\n",
      "-- Exporting to ../data/part_11/part_11_drop.csv\n",
      "Cleaning ../data/part_712/part_712_no_outsider.csv\n",
      "-- Exporting to ../data/part_712/part_712_drop.csv\n",
      "Cleaning ../data/part_2/part_2_no_outsider.csv\n",
      "-- Exporting to ../data/part_2/part_2_drop.csv\n",
      "Cleaning ../data/part_3/part_3_no_outsider.csv\n",
      "-- Exporting to ../data/part_3/part_3_drop.csv\n",
      "Cleaning ../data/part_4/part_4_no_outsider.csv\n",
      "-- Exporting to ../data/part_4/part_4_drop.csv\n",
      "Cleaning ../data/part_709/part_709_no_outsider.csv\n",
      "-- Exporting to ../data/part_709/part_709_drop.csv\n",
      "Cleaning ../data/part_710/part_710_no_outsider.csv\n",
      "-- Exporting to ../data/part_710/part_710_drop.csv\n",
      "Cleaning ../data/part_711/part_711_no_outsider.csv\n",
      "-- Exporting to ../data/part_711/part_711_drop.csv\n",
      "Cleaning ../data/part_716/part_716_no_outsider.csv\n",
      "-- Exporting to ../data/part_716/part_716_drop.csv\n",
      "Cleaning ../data/part_1/part_1_no_outsider.csv\n",
      "-- Exporting to ../data/part_1/part_1_drop.csv\n",
      "Cleaning ../data/part_8/part_8_no_outsider.csv\n",
      "-- Exporting to ../data/part_8/part_8_drop.csv\n",
      "Cleaning ../data/part_7/part_7_no_outsider.csv\n",
      "-- Exporting to ../data/part_7/part_7_drop.csv\n",
      "Done\n"
     ]
    }
   ],
   "source": [
    "\n",
    "def delete_trials(data, trials):\n",
    "    data[\"CALIBRATION_PROBLEM\"] = 'No'\n",
    "    \n",
    "    checking = trials.query(\"TYPE == 'checking'\")\n",
    "    other = trials.query(\"TYPE == 'other'\")\n",
    "    calibration = trials.query(\"TYPE == 'calibration'\")\n",
    "    \n",
    "    if(not checking.empty):\n",
    "        checking = checking[\"TRIALS\"].values[0]\n",
    "        if(type(checking) == str):\n",
    "            checking = literal_eval(checking.replace(\"array(\", \"\").replace(\")\", \"\"))\n",
    "        trials_del = np.hstack(checking)\n",
    "        data = data[~data[\"TRIAL_INDEX\"].isin(trials_del)]\n",
    "    \n",
    "    if(not other.empty):\n",
    "        other = other[\"TRIALS\"].values[0]\n",
    "        if(type(other) == str):\n",
    "            other = literal_eval(other.replace(\"array(\", \"\").replace(\")\", \"\"))\n",
    "        trials_del = np.hstack(other)\n",
    "        data = data[~data[\"TRIAL_INDEX\"].isin(trials_del)]\n",
    "    \"\"\"\n",
    "    if(not calibration.empty):\n",
    "        calibration = calibration[\"TRIALS\"].values[0]\n",
    "        if(type(calibration) == str):\n",
    "            calibration = literal_eval(calibration.replace(\"array(\", \"\").replace(\")\", \"\"))\n",
    "        trials_edit = np.hstack(calibration)\n",
    "        data.loc[data.loc[:,\"TRIAL_INDEX\"].isin(trials_edit), \"CALIBRATION_PROBLEM\"] = \"Yes\"\n",
    "    \"\"\"\n",
    "    return data\n",
    "\n",
    "files = glob.glob(\"{0}part_*/part_*{1}\".format(rootPath, file_suffix))\n",
    "for filename in files:\n",
    "    df = pd.read_csv(filename)\n",
    "    print(\"Cleaning {}\".format(filename))\n",
    "    df[\"CALIBRATION_PROBLEM\"] = 'No'\n",
    "    \n",
    "    part_id = df[\"PART_ID\"].unique()[0]\n",
    "    to_delete = trials_to_drop.query(\"PART_ID == @part_id\")\n",
    "    \n",
    "    if(not to_delete.empty):\n",
    "        df = delete_trials(df, to_delete)\n",
    "    \n",
    "    print(\"-- Exporting to {}\".format(filename.replace(file_suffix, export_suffix)))\n",
    "    df.to_csv(filename.replace(file_suffix, export_suffix), index = False)\n",
    "print(\"Done\")\n"
   ]
  },
  {
   "cell_type": "code",
   "execution_count": null,
   "metadata": {
    "collapsed": true
   },
   "outputs": [],
   "source": []
  }
 ],
 "metadata": {
  "anaconda-cloud": {},
  "kernelspec": {
   "display_name": "Python 3",
   "language": "python",
   "name": "python3"
  },
  "language_info": {
   "codemirror_mode": {
    "name": "ipython",
    "version": 3
   },
   "file_extension": ".py",
   "mimetype": "text/x-python",
   "name": "python",
   "nbconvert_exporter": "python",
   "pygments_lexer": "ipython3",
   "version": "3.6.3"
  },
  "varInspector": {
   "cols": {
    "lenName": 16,
    "lenType": 16,
    "lenVar": 40
   },
   "kernels_config": {
    "python": {
     "delete_cmd_postfix": "",
     "delete_cmd_prefix": "del ",
     "library": "var_list.py",
     "varRefreshCmd": "print(var_dic_list())"
    },
    "r": {
     "delete_cmd_postfix": ") ",
     "delete_cmd_prefix": "rm(",
     "library": "var_list.r",
     "varRefreshCmd": "cat(var_dic_list()) "
    }
   },
   "types_to_exclude": [
    "module",
    "function",
    "builtin_function_or_method",
    "instance",
    "_Feature"
   ],
   "window_display": false
  }
 },
 "nbformat": 4,
 "nbformat_minor": 2
}
