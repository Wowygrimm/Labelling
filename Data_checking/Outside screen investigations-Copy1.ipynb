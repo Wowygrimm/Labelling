{
 "cells": [
  {
   "cell_type": "code",
   "execution_count": 1,
   "metadata": {},
   "outputs": [],
   "source": [
    "%matplotlib inline"
   ]
  },
  {
   "cell_type": "code",
   "execution_count": 2,
   "metadata": {},
   "outputs": [],
   "source": [
    "import pandas as pd\n",
    "import numpy as np\n",
    "import pickle\n",
    "import matplotlib.pyplot as plt\n",
    "import os\n",
    "import sys\n",
    "import glob\n",
    "import matplotlib as mpl\n",
    "import math\n",
    "\n",
    "from PIL import Image, ImageDraw, ImageFont, ImageChops"
   ]
  },
  {
   "cell_type": "code",
   "execution_count": 3,
   "metadata": {},
   "outputs": [],
   "source": [
    "sys.path.append('../../../Libraries/')"
   ]
  },
  {
   "cell_type": "code",
   "execution_count": 4,
   "metadata": {},
   "outputs": [],
   "source": [
    "from Utils.Toolbox import graphics"
   ]
  },
  {
   "cell_type": "code",
   "execution_count": 5,
   "metadata": {},
   "outputs": [],
   "source": [
    "rootPath = '../data/'"
   ]
  },
  {
   "cell_type": "markdown",
   "metadata": {},
   "source": [
    "# OVERALL"
   ]
  },
  {
   "cell_type": "code",
   "execution_count": 6,
   "metadata": {},
   "outputs": [
    {
     "name": "stderr",
     "output_type": "stream",
     "text": [
      "/Applications/anaconda/lib/python3.5/site-packages/IPython/core/interactiveshell.py:2785: DtypeWarning: Columns (11,12) have mixed types. Specify dtype option on import or set low_memory=False.\n",
      "  interactivity=interactivity, compiler=compiler, result=result)\n"
     ]
    },
    {
     "data": {
      "text/plain": [
       "(54471, 30)"
      ]
     },
     "execution_count": 6,
     "metadata": {},
     "output_type": "execute_result"
    }
   ],
   "source": [
    "alld = pd.read_csv(\"../data/all_data.csv\")\n",
    "alld.shape"
   ]
  },
  {
   "cell_type": "code",
   "execution_count": 7,
   "metadata": {},
   "outputs": [
    {
     "data": {
      "text/plain": [
       "(54471, 30)"
      ]
     },
     "execution_count": 7,
     "metadata": {},
     "output_type": "execute_result"
    }
   ],
   "source": [
    "alld.shape"
   ]
  },
  {
   "cell_type": "code",
   "execution_count": 8,
   "metadata": {},
   "outputs": [],
   "source": [
    "#graphics.draw_scanpath(Image.new(\"RGB\", (1920, 1080), \"gray\"), scanpath)"
   ]
  },
  {
   "cell_type": "markdown",
   "metadata": {},
   "source": [
    "# X&Y"
   ]
  },
  {
   "cell_type": "markdown",
   "metadata": {},
   "source": [
    "### Overall look"
   ]
  },
  {
   "cell_type": "markdown",
   "metadata": {},
   "source": [
    "First of all, let's look for stats of those outliers"
   ]
  },
  {
   "cell_type": "code",
   "execution_count": 9,
   "metadata": {},
   "outputs": [
    {
     "data": {
      "text/plain": [
       "Index(['CALIBRATION_PROBLEM', 'CONDITION', 'CURRENT_FIX_BLINK_AROUND',\n",
       "       'CURRENT_FIX_DURATION', 'CURRENT_FIX_END', 'CURRENT_FIX_START',\n",
       "       'CURRENT_FIX_X', 'CURRENT_FIX_Y', 'DATETIME', 'DISTRACTOR', 'EYE_USED',\n",
       "       'IP_INDEX', 'IP_LABEL', 'NEXT_SAC_AMPLITUDE', 'NEXT_SAC_ANGLE',\n",
       "       'NEXT_SAC_AVG_VELOCITY', 'NEXT_SAC_BLINK_DURATION',\n",
       "       'NEXT_SAC_BLINK_END', 'NEXT_SAC_BLINK_START', 'NEXT_SAC_CONTAINS_BLINK',\n",
       "       'NEXT_SAC_DIRECTION', 'NEXT_SAC_DURATION', 'NEXT_SAC_END_X',\n",
       "       'NEXT_SAC_END_Y', 'OFFSET', 'PART_ID', 'TASK', 'TRIAL_INDEX',\n",
       "       'WEBSITE_ID', 'Y_OFFSET'],\n",
       "      dtype='object')"
      ]
     },
     "execution_count": 9,
     "metadata": {},
     "output_type": "execute_result"
    }
   ],
   "source": [
    "alld.columns"
   ]
  },
  {
   "cell_type": "code",
   "execution_count": 10,
   "metadata": {},
   "outputs": [],
   "source": [
    "def count_errors(group):\n",
    "    count = group.query(\"CURRENT_FIX_X < 0 or CURRENT_FIX_X > 1920 or CURRENT_FIX_Y < 0 or CURRENT_FIX_Y > 1080\")[\"EYE_USED\"].count()\n",
    "    group[\"error_ratio\"] = count / group.shape[0]\n",
    "    return group\n",
    "\n",
    "# Compute the overall ratio of fixations outside the screen on the full dataset\n",
    "alld = alld.groupby([\"PART_ID\",\"TRIAL_INDEX\"]).apply(count_errors)"
   ]
  },
  {
   "cell_type": "code",
   "execution_count": 11,
   "metadata": {},
   "outputs": [
    {
     "name": "stdout",
     "output_type": "stream",
     "text": [
      "error_ratio    0.007907\n",
      "dtype: float64\n"
     ]
    },
    {
     "data": {
      "text/html": [
       "<div>\n",
       "<table border=\"1\" class=\"dataframe\">\n",
       "  <thead>\n",
       "    <tr style=\"text-align: right;\">\n",
       "      <th>TRIAL_INDEX</th>\n",
       "      <th>1</th>\n",
       "      <th>2</th>\n",
       "      <th>3</th>\n",
       "      <th>4</th>\n",
       "      <th>5</th>\n",
       "      <th>6</th>\n",
       "      <th>7</th>\n",
       "      <th>8</th>\n",
       "      <th>9</th>\n",
       "      <th>10</th>\n",
       "      <th>11</th>\n",
       "      <th>12</th>\n",
       "      <th>13</th>\n",
       "      <th>14</th>\n",
       "      <th>15</th>\n",
       "      <th>16</th>\n",
       "      <th>17</th>\n",
       "      <th>18</th>\n",
       "    </tr>\n",
       "  </thead>\n",
       "  <tbody>\n",
       "    <tr>\n",
       "      <th>error_ratio</th>\n",
       "      <td>0.005043</td>\n",
       "      <td>0.004732</td>\n",
       "      <td>0.004031</td>\n",
       "      <td>0.006008</td>\n",
       "      <td>0.002704</td>\n",
       "      <td>0.004573</td>\n",
       "      <td>0.005177</td>\n",
       "      <td>0.009979</td>\n",
       "      <td>0.005415</td>\n",
       "      <td>0.00571</td>\n",
       "      <td>0.011026</td>\n",
       "      <td>0.008559</td>\n",
       "      <td>0.003729</td>\n",
       "      <td>0.030109</td>\n",
       "      <td>0.008286</td>\n",
       "      <td>0.006252</td>\n",
       "      <td>0.012241</td>\n",
       "      <td>0.008751</td>\n",
       "    </tr>\n",
       "  </tbody>\n",
       "</table>\n",
       "</div>"
      ],
      "text/plain": [
       "TRIAL_INDEX        1         2         3         4         5         6   \\\n",
       "error_ratio  0.005043  0.004732  0.004031  0.006008  0.002704  0.004573   \n",
       "\n",
       "TRIAL_INDEX        7         8         9        10        11        12  \\\n",
       "error_ratio  0.005177  0.009979  0.005415  0.00571  0.011026  0.008559   \n",
       "\n",
       "TRIAL_INDEX        13        14        15        16        17        18  \n",
       "error_ratio  0.003729  0.030109  0.008286  0.006252  0.012241  0.008751  "
      ]
     },
     "execution_count": 11,
     "metadata": {},
     "output_type": "execute_result"
    },
    {
     "data": {
      "image/png": "[encoded data removed]",
      "text/plain": [
       "<Figure size 432x288 with 1 Axes>"
      ]
     },
     "metadata": {},
     "output_type": "display_data"
    }
   ],
   "source": [
    "# Mean error rate by trial\n",
    "calcul_by = \"TRIAL_INDEX\"\n",
    "pd.DataFrame(alld.groupby(calcul_by)[\"error_ratio\"].mean()).plot()\n",
    "print(pd.DataFrame(alld.groupby(calcul_by)[\"error_ratio\"].mean()).mean())\n",
    "pd.DataFrame(alld.groupby(calcul_by)[\"error_ratio\"].mean()).transpose()"
   ]
  },
  {
   "cell_type": "code",
   "execution_count": 12,
   "metadata": {},
   "outputs": [
    {
     "name": "stdout",
     "output_type": "stream",
     "text": [
      "error_ratio    0.008033\n",
      "dtype: float64\n"
     ]
    },
    {
     "data": {
      "text/html": [
       "<div>\n",
       "<table border=\"1\" class=\"dataframe\">\n",
       "  <thead>\n",
       "    <tr style=\"text-align: right;\">\n",
       "      <th>PART_ID</th>\n",
       "      <th>1</th>\n",
       "      <th>2</th>\n",
       "      <th>3</th>\n",
       "      <th>4</th>\n",
       "      <th>7</th>\n",
       "      <th>8</th>\n",
       "      <th>10</th>\n",
       "      <th>11</th>\n",
       "      <th>709</th>\n",
       "      <th>710</th>\n",
       "      <th>711</th>\n",
       "      <th>712</th>\n",
       "      <th>713</th>\n",
       "      <th>714</th>\n",
       "      <th>715</th>\n",
       "      <th>716</th>\n",
       "    </tr>\n",
       "  </thead>\n",
       "  <tbody>\n",
       "    <tr>\n",
       "      <th>error_ratio</th>\n",
       "      <td>0.000633</td>\n",
       "      <td>0.005193</td>\n",
       "      <td>0.002438</td>\n",
       "      <td>0.004673</td>\n",
       "      <td>0.003955</td>\n",
       "      <td>0.002237</td>\n",
       "      <td>0.000348</td>\n",
       "      <td>0.004332</td>\n",
       "      <td>0.00726</td>\n",
       "      <td>0.029678</td>\n",
       "      <td>0.029252</td>\n",
       "      <td>0.01539</td>\n",
       "      <td>0.008021</td>\n",
       "      <td>0.003654</td>\n",
       "      <td>0.005207</td>\n",
       "      <td>0.006264</td>\n",
       "    </tr>\n",
       "  </tbody>\n",
       "</table>\n",
       "</div>"
      ],
      "text/plain": [
       "PART_ID           1         2         3         4         7         8    \\\n",
       "error_ratio  0.000633  0.005193  0.002438  0.004673  0.003955  0.002237   \n",
       "\n",
       "PART_ID           10        11       709       710       711      712  \\\n",
       "error_ratio  0.000348  0.004332  0.00726  0.029678  0.029252  0.01539   \n",
       "\n",
       "PART_ID           713       714       715       716  \n",
       "error_ratio  0.008021  0.003654  0.005207  0.006264  "
      ]
     },
     "execution_count": 12,
     "metadata": {},
     "output_type": "execute_result"
    },
    {
     "data": {
      "image/png": "[encoded data removed]",
      "text/plain": [
       "<Figure size 432x288 with 1 Axes>"
      ]
     },
     "metadata": {},
     "output_type": "display_data"
    },
    {
     "data": {
      "image/png": "[encoded data removed]",
      "text/plain": [
       "<Figure size 432x288 with 1 Axes>"
      ]
     },
     "metadata": {},
     "output_type": "display_data"
    }
   ],
   "source": [
    "# Mean error rate by Participant\n",
    "calcul_by = \"PART_ID\"\n",
    "pd.DataFrame(alld.groupby(calcul_by)[\"error_ratio\"].mean()).query(\"PART_ID < 700\").plot()\n",
    "pd.DataFrame(alld.groupby(calcul_by)[\"error_ratio\"].mean()).query(\"PART_ID > 700\").plot()\n",
    "print(pd.DataFrame(alld.groupby(calcul_by)[\"error_ratio\"].mean()).mean())\n",
    "pd.DataFrame(alld.groupby(calcul_by)[\"error_ratio\"].mean()).transpose()"
   ]
  },
  {
   "cell_type": "code",
   "execution_count": 13,
   "metadata": {},
   "outputs": [
    {
     "name": "stdout",
     "output_type": "stream",
     "text": [
      "error_ratio    0.007959\n",
      "dtype: float64\n"
     ]
    },
    {
     "data": {
      "text/html": [
       "<div>\n",
       "<table border=\"1\" class=\"dataframe\">\n",
       "  <thead>\n",
       "    <tr style=\"text-align: right;\">\n",
       "      <th>CONDITION</th>\n",
       "      <th>1</th>\n",
       "      <th>2</th>\n",
       "      <th>3</th>\n",
       "      <th>4</th>\n",
       "      <th>5</th>\n",
       "      <th>6</th>\n",
       "    </tr>\n",
       "  </thead>\n",
       "  <tbody>\n",
       "    <tr>\n",
       "      <th>error_ratio</th>\n",
       "      <td>0.007869</td>\n",
       "      <td>0.008346</td>\n",
       "      <td>0.005996</td>\n",
       "      <td>0.012163</td>\n",
       "      <td>0.004945</td>\n",
       "      <td>0.008436</td>\n",
       "    </tr>\n",
       "  </tbody>\n",
       "</table>\n",
       "</div>"
      ],
      "text/plain": [
       "CONDITION           1         2         3         4         5         6\n",
       "error_ratio  0.007869  0.008346  0.005996  0.012163  0.004945  0.008436"
      ]
     },
     "execution_count": 13,
     "metadata": {},
     "output_type": "execute_result"
    },
    {
     "data": {
      "image/png": "[encoded data removed]",
      "text/plain": [
       "<Figure size 432x288 with 1 Axes>"
      ]
     },
     "metadata": {},
     "output_type": "display_data"
    }
   ],
   "source": [
    "# Mean error rate by Condition\n",
    "calcul_by = \"CONDITION\"\n",
    "pd.DataFrame(alld.groupby(calcul_by)[\"error_ratio\"].mean()).plot()\n",
    "print(pd.DataFrame(alld.groupby(calcul_by)[\"error_ratio\"].mean()).mean())\n",
    "pd.DataFrame(alld.groupby(calcul_by)[\"error_ratio\"].mean()).transpose()"
   ]
  },
  {
   "cell_type": "code",
   "execution_count": 14,
   "metadata": {},
   "outputs": [],
   "source": [
    "alld[\"TASK\"] = 'Target'\n",
    "alld.loc[alld.query(\"CONDITION in [1,3,5]\").index, \"TASK\"] = \"Free\""
   ]
  },
  {
   "cell_type": "code",
   "execution_count": 15,
   "metadata": {},
   "outputs": [
    {
     "name": "stdout",
     "output_type": "stream",
     "text": [
      "error_ratio    0.007979\n",
      "dtype: float64\n"
     ]
    },
    {
     "data": {
      "text/html": [
       "<div>\n",
       "<table border=\"1\" class=\"dataframe\">\n",
       "  <thead>\n",
       "    <tr style=\"text-align: right;\">\n",
       "      <th>TASK</th>\n",
       "      <th>Free</th>\n",
       "      <th>Target</th>\n",
       "    </tr>\n",
       "  </thead>\n",
       "  <tbody>\n",
       "    <tr>\n",
       "      <th>error_ratio</th>\n",
       "      <td>0.006258</td>\n",
       "      <td>0.0097</td>\n",
       "    </tr>\n",
       "  </tbody>\n",
       "</table>\n",
       "</div>"
      ],
      "text/plain": [
       "TASK             Free  Target\n",
       "error_ratio  0.006258  0.0097"
      ]
     },
     "execution_count": 15,
     "metadata": {},
     "output_type": "execute_result"
    },
    {
     "data": {
      "image/png": "[encoded data removed]",
      "text/plain": [
       "<Figure size 432x288 with 1 Axes>"
      ]
     },
     "metadata": {},
     "output_type": "display_data"
    }
   ],
   "source": [
    "# Mean error rate by trial\n",
    "calcul_by = \"TASK\"\n",
    "pd.DataFrame(alld.groupby(calcul_by)[\"error_ratio\"].mean()).plot()\n",
    "print(pd.DataFrame(alld.groupby(calcul_by)[\"error_ratio\"].mean()).mean())\n",
    "pd.DataFrame(alld.groupby(calcul_by)[\"error_ratio\"].mean()).transpose()"
   ]
  },
  {
   "cell_type": "markdown",
   "metadata": {},
   "source": [
    "We can see that participants have a higher rate of error even if it is not very big. Let's look how it turns when we remove participants 710, 711 and then 7th. "
   ]
  },
  {
   "cell_type": "markdown",
   "metadata": {},
   "source": [
    "### 710 and 711"
   ]
  },
  {
   "cell_type": "code",
   "execution_count": 16,
   "metadata": {},
   "outputs": [
    {
     "name": "stdout",
     "output_type": "stream",
     "text": [
      "error_ratio    0.004931\n",
      "dtype: float64\n"
     ]
    },
    {
     "data": {
      "text/html": [
       "<div>\n",
       "<table border=\"1\" class=\"dataframe\">\n",
       "  <thead>\n",
       "    <tr style=\"text-align: right;\">\n",
       "      <th>TRIAL_INDEX</th>\n",
       "      <th>1</th>\n",
       "      <th>2</th>\n",
       "      <th>3</th>\n",
       "      <th>4</th>\n",
       "      <th>5</th>\n",
       "      <th>6</th>\n",
       "      <th>7</th>\n",
       "      <th>8</th>\n",
       "      <th>9</th>\n",
       "      <th>10</th>\n",
       "      <th>11</th>\n",
       "      <th>12</th>\n",
       "      <th>13</th>\n",
       "      <th>14</th>\n",
       "      <th>15</th>\n",
       "      <th>16</th>\n",
       "      <th>17</th>\n",
       "      <th>18</th>\n",
       "    </tr>\n",
       "  </thead>\n",
       "  <tbody>\n",
       "    <tr>\n",
       "      <th>error_ratio</th>\n",
       "      <td>0.005816</td>\n",
       "      <td>0.00476</td>\n",
       "      <td>0.003928</td>\n",
       "      <td>0.003065</td>\n",
       "      <td>0.001761</td>\n",
       "      <td>0.004223</td>\n",
       "      <td>0.005298</td>\n",
       "      <td>0.004979</td>\n",
       "      <td>0.006081</td>\n",
       "      <td>0.004108</td>\n",
       "      <td>0.00813</td>\n",
       "      <td>0.005834</td>\n",
       "      <td>0.002884</td>\n",
       "      <td>0.006748</td>\n",
       "      <td>0.002674</td>\n",
       "      <td>0.006609</td>\n",
       "      <td>0.008935</td>\n",
       "      <td>0.00293</td>\n",
       "    </tr>\n",
       "  </tbody>\n",
       "</table>\n",
       "</div>"
      ],
      "text/plain": [
       "TRIAL_INDEX        1        2         3         4         5         6   \\\n",
       "error_ratio  0.005816  0.00476  0.003928  0.003065  0.001761  0.004223   \n",
       "\n",
       "TRIAL_INDEX        7         8         9         10       11        12  \\\n",
       "error_ratio  0.005298  0.004979  0.006081  0.004108  0.00813  0.005834   \n",
       "\n",
       "TRIAL_INDEX        13        14        15        16        17       18  \n",
       "error_ratio  0.002884  0.006748  0.002674  0.006609  0.008935  0.00293  "
      ]
     },
     "execution_count": 16,
     "metadata": {},
     "output_type": "execute_result"
    },
    {
     "data": {
      "image/png": "[encoded data removed]",
      "text/plain": [
       "<Figure size 432x288 with 1 Axes>"
      ]
     },
     "metadata": {},
     "output_type": "display_data"
    }
   ],
   "source": [
    "# Mean error rate by trial\n",
    "calcul_by = \"TRIAL_INDEX\"\n",
    "parts_to_drop = [710, 711]\n",
    "pd.DataFrame(alld[~alld[\"PART_ID\"].isin(parts_to_drop)].groupby(calcul_by)[\"error_ratio\"].mean()).plot()\n",
    "print(pd.DataFrame(alld[~alld[\"PART_ID\"].isin(parts_to_drop)].groupby(calcul_by)[\"error_ratio\"].mean()).mean())\n",
    "pd.DataFrame(alld[~alld[\"PART_ID\"].isin(parts_to_drop)].groupby(calcul_by)[\"error_ratio\"].mean()).transpose()"
   ]
  },
  {
   "cell_type": "code",
   "execution_count": 17,
   "metadata": {},
   "outputs": [
    {
     "name": "stdout",
     "output_type": "stream",
     "text": [
      "error_ratio    0.005072\n",
      "dtype: float64\n"
     ]
    },
    {
     "data": {
      "text/html": [
       "<div>\n",
       "<table border=\"1\" class=\"dataframe\">\n",
       "  <thead>\n",
       "    <tr style=\"text-align: right;\">\n",
       "      <th>CONDITION</th>\n",
       "      <th>1</th>\n",
       "      <th>2</th>\n",
       "      <th>3</th>\n",
       "      <th>4</th>\n",
       "      <th>5</th>\n",
       "      <th>6</th>\n",
       "    </tr>\n",
       "  </thead>\n",
       "  <tbody>\n",
       "    <tr>\n",
       "      <th>error_ratio</th>\n",
       "      <td>0.003806</td>\n",
       "      <td>0.005594</td>\n",
       "      <td>0.004686</td>\n",
       "      <td>0.006354</td>\n",
       "      <td>0.004092</td>\n",
       "      <td>0.005898</td>\n",
       "    </tr>\n",
       "  </tbody>\n",
       "</table>\n",
       "</div>"
      ],
      "text/plain": [
       "CONDITION           1         2         3         4         5         6\n",
       "error_ratio  0.003806  0.005594  0.004686  0.006354  0.004092  0.005898"
      ]
     },
     "execution_count": 17,
     "metadata": {},
     "output_type": "execute_result"
    },
    {
     "data": {
      "image/png": "[encoded data removed]",
      "text/plain": [
       "<Figure size 432x288 with 1 Axes>"
      ]
     },
     "metadata": {},
     "output_type": "display_data"
    }
   ],
   "source": [
    "# Mean error rate by trial\n",
    "calcul_by = \"CONDITION\"\n",
    "parts_to_drop = [710, 711]\n",
    "pd.DataFrame(alld[~alld[\"PART_ID\"].isin(parts_to_drop)].groupby(calcul_by)[\"error_ratio\"].mean()).plot()\n",
    "print(pd.DataFrame(alld[~alld[\"PART_ID\"].isin(parts_to_drop)].groupby(calcul_by)[\"error_ratio\"].mean()).mean())\n",
    "pd.DataFrame(alld[~alld[\"PART_ID\"].isin(parts_to_drop)].groupby(calcul_by)[\"error_ratio\"].mean()).transpose()"
   ]
  },
  {
   "cell_type": "markdown",
   "metadata": {},
   "source": [
    "### 710, 711 and 7"
   ]
  },
  {
   "cell_type": "code",
   "execution_count": 18,
   "metadata": {},
   "outputs": [
    {
     "name": "stdout",
     "output_type": "stream",
     "text": [
      "error_ratio    0.004999\n",
      "dtype: float64\n"
     ]
    },
    {
     "data": {
      "text/html": [
       "<div>\n",
       "<table border=\"1\" class=\"dataframe\">\n",
       "  <thead>\n",
       "    <tr style=\"text-align: right;\">\n",
       "      <th>TRIAL_INDEX</th>\n",
       "      <th>1</th>\n",
       "      <th>2</th>\n",
       "      <th>3</th>\n",
       "      <th>4</th>\n",
       "      <th>5</th>\n",
       "      <th>6</th>\n",
       "      <th>7</th>\n",
       "      <th>8</th>\n",
       "      <th>9</th>\n",
       "      <th>10</th>\n",
       "      <th>11</th>\n",
       "      <th>12</th>\n",
       "      <th>13</th>\n",
       "      <th>14</th>\n",
       "      <th>15</th>\n",
       "      <th>16</th>\n",
       "      <th>17</th>\n",
       "      <th>18</th>\n",
       "    </tr>\n",
       "  </thead>\n",
       "  <tbody>\n",
       "    <tr>\n",
       "      <th>error_ratio</th>\n",
       "      <td>0.004822</td>\n",
       "      <td>0.005195</td>\n",
       "      <td>0.004209</td>\n",
       "      <td>0.003183</td>\n",
       "      <td>0.00193</td>\n",
       "      <td>0.004733</td>\n",
       "      <td>0.00543</td>\n",
       "      <td>0.005444</td>\n",
       "      <td>0.005503</td>\n",
       "      <td>0.003096</td>\n",
       "      <td>0.008413</td>\n",
       "      <td>0.006017</td>\n",
       "      <td>0.002721</td>\n",
       "      <td>0.007098</td>\n",
       "      <td>0.002504</td>\n",
       "      <td>0.007194</td>\n",
       "      <td>0.009885</td>\n",
       "      <td>0.002612</td>\n",
       "    </tr>\n",
       "  </tbody>\n",
       "</table>\n",
       "</div>"
      ],
      "text/plain": [
       "TRIAL_INDEX        1         2         3         4        5         6   \\\n",
       "error_ratio  0.004822  0.005195  0.004209  0.003183  0.00193  0.004733   \n",
       "\n",
       "TRIAL_INDEX       7         8         9         10        11        12  \\\n",
       "error_ratio  0.00543  0.005444  0.005503  0.003096  0.008413  0.006017   \n",
       "\n",
       "TRIAL_INDEX        13        14        15        16        17        18  \n",
       "error_ratio  0.002721  0.007098  0.002504  0.007194  0.009885  0.002612  "
      ]
     },
     "execution_count": 18,
     "metadata": {},
     "output_type": "execute_result"
    },
    {
     "data": {
      "image/png": "[encoded data removed]",
      "text/plain": [
       "<Figure size 432x288 with 1 Axes>"
      ]
     },
     "metadata": {},
     "output_type": "display_data"
    }
   ],
   "source": [
    "# Mean error rate by trial\n",
    "calcul_by = \"TRIAL_INDEX\"\n",
    "parts_to_drop = [710, 711, 7]\n",
    "pd.DataFrame(alld[~alld[\"PART_ID\"].isin(parts_to_drop)].groupby(calcul_by)[\"error_ratio\"].mean()).plot()\n",
    "print(pd.DataFrame(alld[~alld[\"PART_ID\"].isin(parts_to_drop)].groupby(calcul_by)[\"error_ratio\"].mean()).mean())\n",
    "pd.DataFrame(alld[~alld[\"PART_ID\"].isin(parts_to_drop)].groupby(calcul_by)[\"error_ratio\"].mean()).transpose()"
   ]
  },
  {
   "cell_type": "code",
   "execution_count": 19,
   "metadata": {},
   "outputs": [
    {
     "name": "stdout",
     "output_type": "stream",
     "text": [
      "error_ratio    0.005174\n",
      "dtype: float64\n"
     ]
    },
    {
     "data": {
      "text/html": [
       "<div>\n",
       "<table border=\"1\" class=\"dataframe\">\n",
       "  <thead>\n",
       "    <tr style=\"text-align: right;\">\n",
       "      <th>CONDITION</th>\n",
       "      <th>1</th>\n",
       "      <th>2</th>\n",
       "      <th>3</th>\n",
       "      <th>4</th>\n",
       "      <th>5</th>\n",
       "      <th>6</th>\n",
       "    </tr>\n",
       "  </thead>\n",
       "  <tbody>\n",
       "    <tr>\n",
       "      <th>error_ratio</th>\n",
       "      <td>0.003511</td>\n",
       "      <td>0.005437</td>\n",
       "      <td>0.004951</td>\n",
       "      <td>0.006871</td>\n",
       "      <td>0.004102</td>\n",
       "      <td>0.006172</td>\n",
       "    </tr>\n",
       "  </tbody>\n",
       "</table>\n",
       "</div>"
      ],
      "text/plain": [
       "CONDITION           1         2         3         4         5         6\n",
       "error_ratio  0.003511  0.005437  0.004951  0.006871  0.004102  0.006172"
      ]
     },
     "execution_count": 19,
     "metadata": {},
     "output_type": "execute_result"
    },
    {
     "data": {
      "image/png": "[encoded data removed]",
      "text/plain": [
       "<Figure size 432x288 with 1 Axes>"
      ]
     },
     "metadata": {},
     "output_type": "display_data"
    }
   ],
   "source": [
    "# Mean error rate by trial\n",
    "calcul_by = \"CONDITION\"\n",
    "parts_to_drop = [710, 711, 7]\n",
    "pd.DataFrame(alld[~alld[\"PART_ID\"].isin(parts_to_drop)].groupby(calcul_by)[\"error_ratio\"].mean()).plot()\n",
    "print(pd.DataFrame(alld[~alld[\"PART_ID\"].isin(parts_to_drop)].groupby(calcul_by)[\"error_ratio\"].mean()).mean())\n",
    "pd.DataFrame(alld[~alld[\"PART_ID\"].isin(parts_to_drop)].groupby(calcul_by)[\"error_ratio\"].mean()).transpose()"
   ]
  },
  {
   "cell_type": "markdown",
   "metadata": {},
   "source": [
    "## Single participant: PART_1"
   ]
  },
  {
   "cell_type": "markdown",
   "metadata": {},
   "source": [
    "Participant n°1 is the one with the minimum error ration (0.002), so let's investigate the easy case before looking for more complicated cases"
   ]
  },
  {
   "cell_type": "code",
   "execution_count": 20,
   "metadata": {},
   "outputs": [
    {
     "data": {
      "text/plain": [
       "(3162, 31)"
      ]
     },
     "execution_count": 20,
     "metadata": {},
     "output_type": "execute_result"
    }
   ],
   "source": [
    "df1 = alld.query(\"PART_ID == 1\").copy()\n",
    "df1.shape"
   ]
  },
  {
   "cell_type": "code",
   "execution_count": 21,
   "metadata": {},
   "outputs": [
    {
     "data": {
      "text/plain": [
       "0"
      ]
     },
     "execution_count": 21,
     "metadata": {},
     "output_type": "execute_result"
    }
   ],
   "source": [
    "# Number of looks on the LEFT of the screen\n",
    "df1.query(\"CURRENT_FIX_X < 0\")[\"EYE_USED\"].count()"
   ]
  },
  {
   "cell_type": "markdown",
   "metadata": {},
   "source": [
    "No look on the left of the screen"
   ]
  },
  {
   "cell_type": "code",
   "execution_count": 22,
   "metadata": {},
   "outputs": [
    {
     "data": {
      "text/plain": [
       "2"
      ]
     },
     "execution_count": 22,
     "metadata": {},
     "output_type": "execute_result"
    }
   ],
   "source": [
    "# Number of looks on the RIGHT of the screen\n",
    "df1.query(\"CURRENT_FIX_X > 1920\")[\"EYE_USED\"].count()"
   ]
  },
  {
   "cell_type": "code",
   "execution_count": 23,
   "metadata": {},
   "outputs": [
    {
     "data": {
      "text/plain": [
       "0"
      ]
     },
     "execution_count": 23,
     "metadata": {},
     "output_type": "execute_result"
    }
   ],
   "source": [
    "# Number of looks on the LEFT of the screen\n",
    "df1.query(\"CURRENT_FIX_Y < 0\")[\"EYE_USED\"].count()"
   ]
  },
  {
   "cell_type": "code",
   "execution_count": 24,
   "metadata": {},
   "outputs": [
    {
     "data": {
      "text/plain": [
       "0"
      ]
     },
     "execution_count": 24,
     "metadata": {},
     "output_type": "execute_result"
    }
   ],
   "source": [
    "# Number of looks on the LEFT of the screen\n",
    "df1.query(\"CURRENT_FIX_Y > 1080\")[\"EYE_USED\"].count()"
   ]
  },
  {
   "cell_type": "markdown",
   "metadata": {},
   "source": [
    "Are these related to a blink ?"
   ]
  },
  {
   "cell_type": "markdown",
   "metadata": {},
   "source": [
    "**RIGHT**"
   ]
  },
  {
   "cell_type": "code",
   "execution_count": 25,
   "metadata": {},
   "outputs": [
    {
     "data": {
      "text/plain": [
       "0"
      ]
     },
     "execution_count": 25,
     "metadata": {},
     "output_type": "execute_result"
    }
   ],
   "source": [
    "# Count of blinks during the saccade\n",
    "df1.query(\"CURRENT_FIX_X > 1920\").query(\"NEXT_SAC_CONTAINS_BLINK == 'true'\")[\"EYE_USED\"].count()"
   ]
  },
  {
   "cell_type": "code",
   "execution_count": 26,
   "metadata": {},
   "outputs": [
    {
     "data": {
      "text/html": [
       "<div>\n",
       "<table border=\"1\" class=\"dataframe\">\n",
       "  <thead>\n",
       "    <tr style=\"text-align: right;\">\n",
       "      <th></th>\n",
       "      <th>CALIBRATION_PROBLEM</th>\n",
       "      <th>CONDITION</th>\n",
       "      <th>CURRENT_FIX_BLINK_AROUND</th>\n",
       "      <th>CURRENT_FIX_DURATION</th>\n",
       "      <th>CURRENT_FIX_END</th>\n",
       "      <th>CURRENT_FIX_START</th>\n",
       "      <th>CURRENT_FIX_X</th>\n",
       "      <th>CURRENT_FIX_Y</th>\n",
       "      <th>DATETIME</th>\n",
       "      <th>DISTRACTOR</th>\n",
       "      <th>...</th>\n",
       "      <th>NEXT_SAC_DURATION</th>\n",
       "      <th>NEXT_SAC_END_X</th>\n",
       "      <th>NEXT_SAC_END_Y</th>\n",
       "      <th>OFFSET</th>\n",
       "      <th>PART_ID</th>\n",
       "      <th>TASK</th>\n",
       "      <th>TRIAL_INDEX</th>\n",
       "      <th>WEBSITE_ID</th>\n",
       "      <th>Y_OFFSET</th>\n",
       "      <th>error_ratio</th>\n",
       "    </tr>\n",
       "  </thead>\n",
       "  <tbody>\n",
       "    <tr>\n",
       "      <th>43572</th>\n",
       "      <td>No</td>\n",
       "      <td>2</td>\n",
       "      <td>NONE</td>\n",
       "      <td>113</td>\n",
       "      <td>NaN</td>\n",
       "      <td>31337.0</td>\n",
       "      <td>1930.8</td>\n",
       "      <td>281.8</td>\n",
       "      <td>2018-04-03 14:56:31.574</td>\n",
       "      <td>NoAd</td>\n",
       "      <td>...</td>\n",
       "      <td>61.0</td>\n",
       "      <td>1881.5</td>\n",
       "      <td>573.5</td>\n",
       "      <td>5937</td>\n",
       "      <td>1</td>\n",
       "      <td>Target</td>\n",
       "      <td>3</td>\n",
       "      <td>3</td>\n",
       "      <td>6218.8</td>\n",
       "      <td>0.006645</td>\n",
       "    </tr>\n",
       "    <tr>\n",
       "      <th>43577</th>\n",
       "      <td>No</td>\n",
       "      <td>2</td>\n",
       "      <td>NONE</td>\n",
       "      <td>439</td>\n",
       "      <td>NaN</td>\n",
       "      <td>33726.0</td>\n",
       "      <td>1938.6</td>\n",
       "      <td>94.7</td>\n",
       "      <td>2018-04-03 14:56:33.963</td>\n",
       "      <td>NoAd</td>\n",
       "      <td>...</td>\n",
       "      <td>55.0</td>\n",
       "      <td>1555.9</td>\n",
       "      <td>15.5</td>\n",
       "      <td>5427</td>\n",
       "      <td>1</td>\n",
       "      <td>Target</td>\n",
       "      <td>3</td>\n",
       "      <td>3</td>\n",
       "      <td>5521.7</td>\n",
       "      <td>0.006645</td>\n",
       "    </tr>\n",
       "  </tbody>\n",
       "</table>\n",
       "<p>2 rows × 31 columns</p>\n",
       "</div>"
      ],
      "text/plain": [
       "      CALIBRATION_PROBLEM  CONDITION CURRENT_FIX_BLINK_AROUND  \\\n",
       "43572                  No          2                     NONE   \n",
       "43577                  No          2                     NONE   \n",
       "\n",
       "       CURRENT_FIX_DURATION  CURRENT_FIX_END  CURRENT_FIX_START  \\\n",
       "43572                   113              NaN            31337.0   \n",
       "43577                   439              NaN            33726.0   \n",
       "\n",
       "       CURRENT_FIX_X  CURRENT_FIX_Y                 DATETIME DISTRACTOR  \\\n",
       "43572         1930.8          281.8  2018-04-03 14:56:31.574       NoAd   \n",
       "43577         1938.6           94.7  2018-04-03 14:56:33.963       NoAd   \n",
       "\n",
       "          ...     NEXT_SAC_DURATION NEXT_SAC_END_X NEXT_SAC_END_Y  OFFSET  \\\n",
       "43572     ...                  61.0         1881.5          573.5    5937   \n",
       "43577     ...                  55.0         1555.9           15.5    5427   \n",
       "\n",
       "       PART_ID    TASK  TRIAL_INDEX  WEBSITE_ID  Y_OFFSET error_ratio  \n",
       "43572        1  Target            3           3    6218.8    0.006645  \n",
       "43577        1  Target            3           3    5521.7    0.006645  \n",
       "\n",
       "[2 rows x 31 columns]"
      ]
     },
     "execution_count": 26,
     "metadata": {},
     "output_type": "execute_result"
    }
   ],
   "source": [
    "df1.query(\"CURRENT_FIX_X > 1920\")"
   ]
  },
  {
   "cell_type": "code",
   "execution_count": 27,
   "metadata": {},
   "outputs": [
    {
     "data": {
      "text/html": [
       "<div>\n",
       "<table border=\"1\" class=\"dataframe\">\n",
       "  <thead>\n",
       "    <tr style=\"text-align: right;\">\n",
       "      <th></th>\n",
       "      <th>CALIBRATION_PROBLEM</th>\n",
       "      <th>CONDITION</th>\n",
       "      <th>CURRENT_FIX_BLINK_AROUND</th>\n",
       "      <th>CURRENT_FIX_DURATION</th>\n",
       "      <th>CURRENT_FIX_END</th>\n",
       "      <th>CURRENT_FIX_START</th>\n",
       "      <th>CURRENT_FIX_X</th>\n",
       "      <th>CURRENT_FIX_Y</th>\n",
       "      <th>DATETIME</th>\n",
       "      <th>DISTRACTOR</th>\n",
       "      <th>...</th>\n",
       "      <th>NEXT_SAC_DURATION</th>\n",
       "      <th>NEXT_SAC_END_X</th>\n",
       "      <th>NEXT_SAC_END_Y</th>\n",
       "      <th>OFFSET</th>\n",
       "      <th>PART_ID</th>\n",
       "      <th>TASK</th>\n",
       "      <th>TRIAL_INDEX</th>\n",
       "      <th>WEBSITE_ID</th>\n",
       "      <th>Y_OFFSET</th>\n",
       "      <th>error_ratio</th>\n",
       "    </tr>\n",
       "  </thead>\n",
       "  <tbody>\n",
       "  </tbody>\n",
       "</table>\n",
       "<p>0 rows × 31 columns</p>\n",
       "</div>"
      ],
      "text/plain": [
       "Empty DataFrame\n",
       "Columns: [CALIBRATION_PROBLEM, CONDITION, CURRENT_FIX_BLINK_AROUND, CURRENT_FIX_DURATION, CURRENT_FIX_END, CURRENT_FIX_START, CURRENT_FIX_X, CURRENT_FIX_Y, DATETIME, DISTRACTOR, EYE_USED, IP_INDEX, IP_LABEL, NEXT_SAC_AMPLITUDE, NEXT_SAC_ANGLE, NEXT_SAC_AVG_VELOCITY, NEXT_SAC_BLINK_DURATION, NEXT_SAC_BLINK_END, NEXT_SAC_BLINK_START, NEXT_SAC_CONTAINS_BLINK, NEXT_SAC_DIRECTION, NEXT_SAC_DURATION, NEXT_SAC_END_X, NEXT_SAC_END_Y, OFFSET, PART_ID, TASK, TRIAL_INDEX, WEBSITE_ID, Y_OFFSET, error_ratio]\n",
       "Index: []\n",
       "\n",
       "[0 rows x 31 columns]"
      ]
     },
     "execution_count": 27,
     "metadata": {},
     "output_type": "execute_result"
    }
   ],
   "source": [
    "# Is there a blink around ?\n",
    "df1.ix[37580:37595]"
   ]
  },
  {
   "cell_type": "markdown",
   "metadata": {},
   "source": [
    "No blink around, so let's check how far the participant looked"
   ]
  },
  {
   "cell_type": "code",
   "execution_count": 28,
   "metadata": {},
   "outputs": [
    {
     "name": "stdout",
     "output_type": "stream",
     "text": [
      "-- RIGHT -- \n",
      "Mean distance outside the screen is 14.7px (0.42°)\n",
      "Mean start time is 32.53s\n"
     ]
    },
    {
     "data": {
      "text/plain": [
       "<matplotlib.axes._subplots.AxesSubplot at 0x1238d1128>"
      ]
     },
     "execution_count": 28,
     "metadata": {},
     "output_type": "execute_result"
    },
    {
     "data": {
      "image/png": "[encoded data removed]",
      "text/plain": [
       "<Figure size 432x288 with 1 Axes>"
      ]
     },
     "metadata": {},
     "output_type": "display_data"
    }
   ],
   "source": [
    "d = (df1.query(\"CURRENT_FIX_X > 1920\")[\"CURRENT_FIX_X\"] - 1920).mean()\n",
    "s = df1.query(\"CURRENT_FIX_X > 1920\")[\"CURRENT_FIX_START\"].mean()\n",
    "print(\"-- RIGHT -- \")\n",
    "print(\"Mean distance outside the screen is {}px ({}°)\".format(round(d, 2), round(d/35, 2)))\n",
    "print(\"Mean start time is {}s\".format(round(s/1000, 2)))\n",
    "df1.query(\"CURRENT_FIX_X > 1920\")[\"CURRENT_FIX_X\"].hist()"
   ]
  },
  {
   "cell_type": "code",
   "execution_count": 29,
   "metadata": {},
   "outputs": [
    {
     "data": {
      "text/plain": [
       "43572    0.308571\n",
       "43577    0.531429\n",
       "Name: CURRENT_FIX_X, dtype: float64"
      ]
     },
     "execution_count": 29,
     "metadata": {},
     "output_type": "execute_result"
    }
   ],
   "source": [
    "# Degree error of each error\n",
    "(df1.query(\"CURRENT_FIX_X > 1920\")[\"CURRENT_FIX_X\"] - 1920)/35"
   ]
  },
  {
   "cell_type": "markdown",
   "metadata": {},
   "source": [
    "**Since the fovea is 2-3° we can consider this type of outlier (<1°) can be edited to max value of X (1920).**"
   ]
  },
  {
   "cell_type": "markdown",
   "metadata": {},
   "source": [
    "**DOWN**"
   ]
  },
  {
   "cell_type": "code",
   "execution_count": 30,
   "metadata": {},
   "outputs": [
    {
     "data": {
      "text/plain": [
       "0"
      ]
     },
     "execution_count": 30,
     "metadata": {},
     "output_type": "execute_result"
    }
   ],
   "source": [
    "# Count of blinks during the saccade\n",
    "df1.query(\"CURRENT_FIX_Y > 1080\").query(\"NEXT_SAC_CONTAINS_BLINK == 'true'\")[\"EYE_USED\"].count()"
   ]
  },
  {
   "cell_type": "code",
   "execution_count": 31,
   "metadata": {},
   "outputs": [
    {
     "data": {
      "text/html": [
       "<div>\n",
       "<table border=\"1\" class=\"dataframe\">\n",
       "  <thead>\n",
       "    <tr style=\"text-align: right;\">\n",
       "      <th></th>\n",
       "      <th>CALIBRATION_PROBLEM</th>\n",
       "      <th>CONDITION</th>\n",
       "      <th>CURRENT_FIX_BLINK_AROUND</th>\n",
       "      <th>CURRENT_FIX_DURATION</th>\n",
       "      <th>CURRENT_FIX_END</th>\n",
       "      <th>CURRENT_FIX_START</th>\n",
       "      <th>CURRENT_FIX_X</th>\n",
       "      <th>CURRENT_FIX_Y</th>\n",
       "      <th>DATETIME</th>\n",
       "      <th>DISTRACTOR</th>\n",
       "      <th>...</th>\n",
       "      <th>NEXT_SAC_DURATION</th>\n",
       "      <th>NEXT_SAC_END_X</th>\n",
       "      <th>NEXT_SAC_END_Y</th>\n",
       "      <th>OFFSET</th>\n",
       "      <th>PART_ID</th>\n",
       "      <th>TASK</th>\n",
       "      <th>TRIAL_INDEX</th>\n",
       "      <th>WEBSITE_ID</th>\n",
       "      <th>Y_OFFSET</th>\n",
       "      <th>error_ratio</th>\n",
       "    </tr>\n",
       "  </thead>\n",
       "  <tbody>\n",
       "  </tbody>\n",
       "</table>\n",
       "<p>0 rows × 31 columns</p>\n",
       "</div>"
      ],
      "text/plain": [
       "Empty DataFrame\n",
       "Columns: [CALIBRATION_PROBLEM, CONDITION, CURRENT_FIX_BLINK_AROUND, CURRENT_FIX_DURATION, CURRENT_FIX_END, CURRENT_FIX_START, CURRENT_FIX_X, CURRENT_FIX_Y, DATETIME, DISTRACTOR, EYE_USED, IP_INDEX, IP_LABEL, NEXT_SAC_AMPLITUDE, NEXT_SAC_ANGLE, NEXT_SAC_AVG_VELOCITY, NEXT_SAC_BLINK_DURATION, NEXT_SAC_BLINK_END, NEXT_SAC_BLINK_START, NEXT_SAC_CONTAINS_BLINK, NEXT_SAC_DIRECTION, NEXT_SAC_DURATION, NEXT_SAC_END_X, NEXT_SAC_END_Y, OFFSET, PART_ID, TASK, TRIAL_INDEX, WEBSITE_ID, Y_OFFSET, error_ratio]\n",
       "Index: []\n",
       "\n",
       "[0 rows x 31 columns]"
      ]
     },
     "execution_count": 31,
     "metadata": {},
     "output_type": "execute_result"
    }
   ],
   "source": [
    "df1.query(\"CURRENT_FIX_Y > 1080\")"
   ]
  },
  {
   "cell_type": "markdown",
   "metadata": {},
   "source": [
    "The second fixation contains blinks in both rows after and before so let's investigate on this one first"
   ]
  },
  {
   "cell_type": "code",
   "execution_count": 32,
   "metadata": {},
   "outputs": [
    {
     "data": {
      "text/html": [
       "<div>\n",
       "<table border=\"1\" class=\"dataframe\">\n",
       "  <thead>\n",
       "    <tr style=\"text-align: right;\">\n",
       "      <th></th>\n",
       "      <th>CALIBRATION_PROBLEM</th>\n",
       "      <th>CONDITION</th>\n",
       "      <th>CURRENT_FIX_BLINK_AROUND</th>\n",
       "      <th>CURRENT_FIX_DURATION</th>\n",
       "      <th>CURRENT_FIX_END</th>\n",
       "      <th>CURRENT_FIX_START</th>\n",
       "      <th>CURRENT_FIX_X</th>\n",
       "      <th>CURRENT_FIX_Y</th>\n",
       "      <th>DATETIME</th>\n",
       "      <th>DISTRACTOR</th>\n",
       "      <th>...</th>\n",
       "      <th>NEXT_SAC_DURATION</th>\n",
       "      <th>NEXT_SAC_END_X</th>\n",
       "      <th>NEXT_SAC_END_Y</th>\n",
       "      <th>OFFSET</th>\n",
       "      <th>PART_ID</th>\n",
       "      <th>TASK</th>\n",
       "      <th>TRIAL_INDEX</th>\n",
       "      <th>WEBSITE_ID</th>\n",
       "      <th>Y_OFFSET</th>\n",
       "      <th>error_ratio</th>\n",
       "    </tr>\n",
       "  </thead>\n",
       "  <tbody>\n",
       "  </tbody>\n",
       "</table>\n",
       "<p>0 rows × 31 columns</p>\n",
       "</div>"
      ],
      "text/plain": [
       "Empty DataFrame\n",
       "Columns: [CALIBRATION_PROBLEM, CONDITION, CURRENT_FIX_BLINK_AROUND, CURRENT_FIX_DURATION, CURRENT_FIX_END, CURRENT_FIX_START, CURRENT_FIX_X, CURRENT_FIX_Y, DATETIME, DISTRACTOR, EYE_USED, IP_INDEX, IP_LABEL, NEXT_SAC_AMPLITUDE, NEXT_SAC_ANGLE, NEXT_SAC_AVG_VELOCITY, NEXT_SAC_BLINK_DURATION, NEXT_SAC_BLINK_END, NEXT_SAC_BLINK_START, NEXT_SAC_CONTAINS_BLINK, NEXT_SAC_DIRECTION, NEXT_SAC_DURATION, NEXT_SAC_END_X, NEXT_SAC_END_Y, OFFSET, PART_ID, TASK, TRIAL_INDEX, WEBSITE_ID, Y_OFFSET, error_ratio]\n",
       "Index: []\n",
       "\n",
       "[0 rows x 31 columns]"
      ]
     },
     "execution_count": 32,
     "metadata": {},
     "output_type": "execute_result"
    }
   ],
   "source": [
    "df1.ix[40110:40115]"
   ]
  },
  {
   "cell_type": "code",
   "execution_count": 33,
   "metadata": {},
   "outputs": [
    {
     "data": {
      "image/png": "[encoded data removed]",
      "text/plain": [
       "<PIL.Image.Image image mode=RGB size=1920x1080 at 0x10DF4CF60>"
      ]
     },
     "execution_count": 33,
     "metadata": {},
     "output_type": "execute_result"
    }
   ],
   "source": [
    "graphics.draw_scanpath(Image.new(\"RGB\", (1920, 1080), \"gray\"), [\n",
    "    [1245, 266],\n",
    "    [1246, 147],\n",
    "    [202, 2003],\n",
    "    [584, 470],\n",
    "    [536, 427],\n",
    "])"
   ]
  },
  {
   "cell_type": "markdown",
   "metadata": {},
   "source": [
    "This problem looks more like a blink issue than fixation outside the screen"
   ]
  },
  {
   "cell_type": "code",
   "execution_count": 34,
   "metadata": {},
   "outputs": [
    {
     "data": {
      "text/html": [
       "<div>\n",
       "<table border=\"1\" class=\"dataframe\">\n",
       "  <thead>\n",
       "    <tr style=\"text-align: right;\">\n",
       "      <th></th>\n",
       "      <th>CALIBRATION_PROBLEM</th>\n",
       "      <th>CONDITION</th>\n",
       "      <th>CURRENT_FIX_BLINK_AROUND</th>\n",
       "      <th>CURRENT_FIX_DURATION</th>\n",
       "      <th>CURRENT_FIX_END</th>\n",
       "      <th>CURRENT_FIX_START</th>\n",
       "      <th>CURRENT_FIX_X</th>\n",
       "      <th>CURRENT_FIX_Y</th>\n",
       "      <th>DATETIME</th>\n",
       "      <th>DISTRACTOR</th>\n",
       "      <th>...</th>\n",
       "      <th>NEXT_SAC_DURATION</th>\n",
       "      <th>NEXT_SAC_END_X</th>\n",
       "      <th>NEXT_SAC_END_Y</th>\n",
       "      <th>OFFSET</th>\n",
       "      <th>PART_ID</th>\n",
       "      <th>TASK</th>\n",
       "      <th>TRIAL_INDEX</th>\n",
       "      <th>WEBSITE_ID</th>\n",
       "      <th>Y_OFFSET</th>\n",
       "      <th>error_ratio</th>\n",
       "    </tr>\n",
       "  </thead>\n",
       "  <tbody>\n",
       "  </tbody>\n",
       "</table>\n",
       "<p>0 rows × 31 columns</p>\n",
       "</div>"
      ],
      "text/plain": [
       "Empty DataFrame\n",
       "Columns: [CALIBRATION_PROBLEM, CONDITION, CURRENT_FIX_BLINK_AROUND, CURRENT_FIX_DURATION, CURRENT_FIX_END, CURRENT_FIX_START, CURRENT_FIX_X, CURRENT_FIX_Y, DATETIME, DISTRACTOR, EYE_USED, IP_INDEX, IP_LABEL, NEXT_SAC_AMPLITUDE, NEXT_SAC_ANGLE, NEXT_SAC_AVG_VELOCITY, NEXT_SAC_BLINK_DURATION, NEXT_SAC_BLINK_END, NEXT_SAC_BLINK_START, NEXT_SAC_CONTAINS_BLINK, NEXT_SAC_DIRECTION, NEXT_SAC_DURATION, NEXT_SAC_END_X, NEXT_SAC_END_Y, OFFSET, PART_ID, TASK, TRIAL_INDEX, WEBSITE_ID, Y_OFFSET, error_ratio]\n",
       "Index: []\n",
       "\n",
       "[0 rows x 31 columns]"
      ]
     },
     "execution_count": 34,
     "metadata": {},
     "output_type": "execute_result"
    }
   ],
   "source": [
    "df1.ix[39366:39370]"
   ]
  },
  {
   "cell_type": "code",
   "execution_count": 35,
   "metadata": {},
   "outputs": [
    {
     "data": {
      "image/png": "[encoded data removed]",
      "text/plain": [
       "<PIL.Image.Image image mode=RGB size=1920x1080 at 0x123B60748>"
      ]
     },
     "execution_count": 35,
     "metadata": {},
     "output_type": "execute_result"
    }
   ],
   "source": [
    "graphics.draw_scanpath(Image.new(\"RGB\", (1920, 1080), \"gray\"), [\n",
    "    [712, 555],\n",
    "    [615, 299],\n",
    "    [520, 1349],\n",
    "    [898, 556]\n",
    "])"
   ]
  },
  {
   "cell_type": "markdown",
   "metadata": {},
   "source": [
    "Here we have a blink AND the end of the trial, which means the participant tends to look down to press the space bar to end the trial. So this outsider is a blink matter too."
   ]
  },
  {
   "cell_type": "markdown",
   "metadata": {},
   "source": [
    "## Single participant: PART_710"
   ]
  },
  {
   "cell_type": "code",
   "execution_count": 36,
   "metadata": {},
   "outputs": [
    {
     "data": {
      "text/plain": [
       "(3201, 31)"
      ]
     },
     "execution_count": 36,
     "metadata": {},
     "output_type": "execute_result"
    }
   ],
   "source": [
    "df710 = alld.query(\"PART_ID == 710\").copy()\n",
    "df710.shape"
   ]
  },
  {
   "cell_type": "code",
   "execution_count": 37,
   "metadata": {},
   "outputs": [
    {
     "data": {
      "text/plain": [
       "0"
      ]
     },
     "execution_count": 37,
     "metadata": {},
     "output_type": "execute_result"
    }
   ],
   "source": [
    "# Number of looks on the LEFT of the screen\n",
    "df1.query(\"CURRENT_FIX_X < 0\")[\"EYE_USED\"].count()"
   ]
  },
  {
   "cell_type": "code",
   "execution_count": 38,
   "metadata": {},
   "outputs": [
    {
     "data": {
      "text/plain": [
       "2"
      ]
     },
     "execution_count": 38,
     "metadata": {},
     "output_type": "execute_result"
    }
   ],
   "source": [
    "# Number of looks on the RIGHT of the screen\n",
    "df1.query(\"CURRENT_FIX_X > 1920\")[\"EYE_USED\"].count()"
   ]
  },
  {
   "cell_type": "code",
   "execution_count": 39,
   "metadata": {},
   "outputs": [
    {
     "data": {
      "text/plain": [
       "0"
      ]
     },
     "execution_count": 39,
     "metadata": {},
     "output_type": "execute_result"
    }
   ],
   "source": [
    "# Number of looks on the TOP of the screen\n",
    "df1.query(\"CURRENT_FIX_Y < 0\")[\"EYE_USED\"].count()"
   ]
  },
  {
   "cell_type": "code",
   "execution_count": 40,
   "metadata": {},
   "outputs": [
    {
     "data": {
      "text/plain": [
       "0"
      ]
     },
     "execution_count": 40,
     "metadata": {},
     "output_type": "execute_result"
    }
   ],
   "source": [
    "# Number of looks on the BOTTOM of the screen\n",
    "df1.query(\"CURRENT_FIX_Y > 1080\")[\"EYE_USED\"].count()"
   ]
  },
  {
   "cell_type": "markdown",
   "metadata": {},
   "source": [
    "**DOWN**"
   ]
  },
  {
   "cell_type": "markdown",
   "metadata": {},
   "source": [
    "This situation looks similar to previous participant. Let's see the condition to know if this is related to space bar"
   ]
  },
  {
   "cell_type": "code",
   "execution_count": 41,
   "metadata": {},
   "outputs": [
    {
     "data": {
      "text/plain": [
       "array([], dtype=int64)"
      ]
     },
     "execution_count": 41,
     "metadata": {},
     "output_type": "execute_result"
    }
   ],
   "source": [
    "df1.query(\"CURRENT_FIX_Y > 1080\")[\"CONDITION\"].unique()"
   ]
  },
  {
   "cell_type": "markdown",
   "metadata": {},
   "source": [
    "These are TF tasks. Let's see if it is at the end of the trial"
   ]
  },
  {
   "cell_type": "code",
   "execution_count": 42,
   "metadata": {},
   "outputs": [
    {
     "data": {
      "text/html": [
       "<div>\n",
       "<table border=\"1\" class=\"dataframe\">\n",
       "  <thead>\n",
       "    <tr style=\"text-align: right;\">\n",
       "      <th></th>\n",
       "      <th>CALIBRATION_PROBLEM</th>\n",
       "      <th>CONDITION</th>\n",
       "      <th>CURRENT_FIX_BLINK_AROUND</th>\n",
       "      <th>CURRENT_FIX_DURATION</th>\n",
       "      <th>CURRENT_FIX_END</th>\n",
       "      <th>CURRENT_FIX_START</th>\n",
       "      <th>CURRENT_FIX_X</th>\n",
       "      <th>CURRENT_FIX_Y</th>\n",
       "      <th>DATETIME</th>\n",
       "      <th>DISTRACTOR</th>\n",
       "      <th>...</th>\n",
       "      <th>NEXT_SAC_DURATION</th>\n",
       "      <th>NEXT_SAC_END_X</th>\n",
       "      <th>NEXT_SAC_END_Y</th>\n",
       "      <th>OFFSET</th>\n",
       "      <th>PART_ID</th>\n",
       "      <th>TASK</th>\n",
       "      <th>TRIAL_INDEX</th>\n",
       "      <th>WEBSITE_ID</th>\n",
       "      <th>Y_OFFSET</th>\n",
       "      <th>error_ratio</th>\n",
       "    </tr>\n",
       "  </thead>\n",
       "  <tbody>\n",
       "  </tbody>\n",
       "</table>\n",
       "<p>0 rows × 31 columns</p>\n",
       "</div>"
      ],
      "text/plain": [
       "Empty DataFrame\n",
       "Columns: [CALIBRATION_PROBLEM, CONDITION, CURRENT_FIX_BLINK_AROUND, CURRENT_FIX_DURATION, CURRENT_FIX_END, CURRENT_FIX_START, CURRENT_FIX_X, CURRENT_FIX_Y, DATETIME, DISTRACTOR, EYE_USED, IP_INDEX, IP_LABEL, NEXT_SAC_AMPLITUDE, NEXT_SAC_ANGLE, NEXT_SAC_AVG_VELOCITY, NEXT_SAC_BLINK_DURATION, NEXT_SAC_BLINK_END, NEXT_SAC_BLINK_START, NEXT_SAC_CONTAINS_BLINK, NEXT_SAC_DIRECTION, NEXT_SAC_DURATION, NEXT_SAC_END_X, NEXT_SAC_END_Y, OFFSET, PART_ID, TASK, TRIAL_INDEX, WEBSITE_ID, Y_OFFSET, error_ratio]\n",
       "Index: []\n",
       "\n",
       "[0 rows x 31 columns]"
      ]
     },
     "execution_count": 42,
     "metadata": {},
     "output_type": "execute_result"
    }
   ],
   "source": [
    "df1.query(\"CURRENT_FIX_Y > 1080\")"
   ]
  },
  {
   "cell_type": "code",
   "execution_count": 43,
   "metadata": {},
   "outputs": [
    {
     "data": {
      "text/html": [
       "<div>\n",
       "<table border=\"1\" class=\"dataframe\">\n",
       "  <thead>\n",
       "    <tr style=\"text-align: right;\">\n",
       "      <th></th>\n",
       "      <th>CALIBRATION_PROBLEM</th>\n",
       "      <th>CONDITION</th>\n",
       "      <th>CURRENT_FIX_BLINK_AROUND</th>\n",
       "      <th>CURRENT_FIX_DURATION</th>\n",
       "      <th>CURRENT_FIX_END</th>\n",
       "      <th>CURRENT_FIX_START</th>\n",
       "      <th>CURRENT_FIX_X</th>\n",
       "      <th>CURRENT_FIX_Y</th>\n",
       "      <th>DATETIME</th>\n",
       "      <th>DISTRACTOR</th>\n",
       "      <th>...</th>\n",
       "      <th>NEXT_SAC_DURATION</th>\n",
       "      <th>NEXT_SAC_END_X</th>\n",
       "      <th>NEXT_SAC_END_Y</th>\n",
       "      <th>OFFSET</th>\n",
       "      <th>PART_ID</th>\n",
       "      <th>TASK</th>\n",
       "      <th>TRIAL_INDEX</th>\n",
       "      <th>WEBSITE_ID</th>\n",
       "      <th>Y_OFFSET</th>\n",
       "      <th>error_ratio</th>\n",
       "    </tr>\n",
       "  </thead>\n",
       "  <tbody>\n",
       "  </tbody>\n",
       "</table>\n",
       "<p>0 rows × 31 columns</p>\n",
       "</div>"
      ],
      "text/plain": [
       "Empty DataFrame\n",
       "Columns: [CALIBRATION_PROBLEM, CONDITION, CURRENT_FIX_BLINK_AROUND, CURRENT_FIX_DURATION, CURRENT_FIX_END, CURRENT_FIX_START, CURRENT_FIX_X, CURRENT_FIX_Y, DATETIME, DISTRACTOR, EYE_USED, IP_INDEX, IP_LABEL, NEXT_SAC_AMPLITUDE, NEXT_SAC_ANGLE, NEXT_SAC_AVG_VELOCITY, NEXT_SAC_BLINK_DURATION, NEXT_SAC_BLINK_END, NEXT_SAC_BLINK_START, NEXT_SAC_CONTAINS_BLINK, NEXT_SAC_DIRECTION, NEXT_SAC_DURATION, NEXT_SAC_END_X, NEXT_SAC_END_Y, OFFSET, PART_ID, TASK, TRIAL_INDEX, WEBSITE_ID, Y_OFFSET, error_ratio]\n",
       "Index: []\n",
       "\n",
       "[0 rows x 31 columns]"
      ]
     },
     "execution_count": 43,
     "metadata": {},
     "output_type": "execute_result"
    }
   ],
   "source": [
    "df1.ix[27989:27995]"
   ]
  },
  {
   "cell_type": "markdown",
   "metadata": {},
   "source": [
    "Conclusion: End of a TF trial AND blinks in both directions !"
   ]
  },
  {
   "cell_type": "markdown",
   "metadata": {},
   "source": [
    "**UP**"
   ]
  },
  {
   "cell_type": "code",
   "execution_count": 44,
   "metadata": {},
   "outputs": [
    {
     "data": {
      "text/plain": [
       "85"
      ]
     },
     "execution_count": 44,
     "metadata": {},
     "output_type": "execute_result"
    }
   ],
   "source": [
    "# Number of looks on the TOP of the screen\n",
    "df710.query(\"CURRENT_FIX_Y < 0\")[\"EYE_USED\"].count()"
   ]
  },
  {
   "cell_type": "code",
   "execution_count": 45,
   "metadata": {},
   "outputs": [
    {
     "data": {
      "text/plain": [
       "4    40\n",
       "2    12\n",
       "6    11\n",
       "3    10\n",
       "5     8\n",
       "1     4\n",
       "Name: CONDITION, dtype: int64"
      ]
     },
     "execution_count": 45,
     "metadata": {},
     "output_type": "execute_result"
    }
   ],
   "source": [
    "# Number of looks on the TOP of the screen\n",
    "df710.query(\"CURRENT_FIX_Y < 0\")[\"CONDITION\"].value_counts()"
   ]
  },
  {
   "cell_type": "code",
   "execution_count": 46,
   "metadata": {},
   "outputs": [
    {
     "data": {
      "text/plain": [
       "73.5632183908046"
      ]
     },
     "execution_count": 46,
     "metadata": {},
     "output_type": "execute_result"
    }
   ],
   "source": [
    "# Percentage of TF tasks\n",
    "(44+14+6)*100/87"
   ]
  },
  {
   "cell_type": "code",
   "execution_count": 47,
   "metadata": {},
   "outputs": [
    {
     "data": {
      "text/plain": [
       "0"
      ]
     },
     "execution_count": 47,
     "metadata": {},
     "output_type": "execute_result"
    }
   ],
   "source": [
    "# Number of looks on the TOP of the screen\n",
    "df1.query(\"CURRENT_FIX_Y < 0 and CURRENT_FIX_DURATION <= 120\")[\"EYE_USED\"].count()"
   ]
  },
  {
   "cell_type": "code",
   "execution_count": 48,
   "metadata": {},
   "outputs": [
    {
     "name": "stdout",
     "output_type": "stream",
     "text": [
      "-- UP -- \n",
      "On 85, 0(0.0%) where blinks\n",
      "Mean distance is -135.0 (-4.0°)\n",
      "Mean start time is 17.0s\n"
     ]
    },
    {
     "data": {
      "text/plain": [
       "<matplotlib.axes._subplots.AxesSubplot at 0x1238d4a20>"
      ]
     },
     "execution_count": 48,
     "metadata": {},
     "output_type": "execute_result"
    },
    {
     "data": {
      "image/png": "[encoded data removed]",
      "text/plain": [
       "<Figure size 432x288 with 1 Axes>"
      ]
     },
     "metadata": {},
     "output_type": "display_data"
    }
   ],
   "source": [
    "t = df710.query(\"CURRENT_FIX_Y < 0\")[\"CURRENT_FIX_Y\"].count()\n",
    "c = df710.query(\"CURRENT_FIX_Y < 0\").query(\"NEXT_SAC_CONTAINS_BLINK == 'true'\")[\"CURRENT_FIX_Y\"].count()\n",
    "d = df710.query(\"CURRENT_FIX_Y < 0\")[\"CURRENT_FIX_Y\"].mean()\n",
    "s = df710.query(\"CURRENT_FIX_Y < 0\")[\"CURRENT_FIX_START\"].mean()\n",
    "print(\"-- UP -- \")\n",
    "print(\"On {}, {}({}%) where blinks\".format(t, c, round(c/t*100, 0)))\n",
    "print(\"Mean distance is {} ({}°)\".format(round(d, 0), round(d/35, 0)))\n",
    "print(\"Mean start time is {}s\".format(round(s/1000, 0)))\n",
    "alld.query(\"CURRENT_FIX_Y < 0\")[\"CURRENT_FIX_Y\"].hist()"
   ]
  },
  {
   "cell_type": "code",
   "execution_count": null,
   "metadata": {},
   "outputs": [],
   "source": []
  },
  {
   "cell_type": "code",
   "execution_count": null,
   "metadata": {},
   "outputs": [],
   "source": []
  },
  {
   "cell_type": "markdown",
   "metadata": {},
   "source": [
    "# Other"
   ]
  },
  {
   "cell_type": "code",
   "execution_count": 90,
   "metadata": {},
   "outputs": [
    {
     "data": {
      "text/plain": [
       "5506"
      ]
     },
     "execution_count": 90,
     "metadata": {},
     "output_type": "execute_result"
    }
   ],
   "source": [
    "alld.query(\"CURRENT_FIX_DURATION < 120 and CURRENT_FIX_BLINK_AROUND == 'NONE'\")[\"TRIAL_INDEX\"].count()"
   ]
  },
  {
   "cell_type": "code",
   "execution_count": 50,
   "metadata": {},
   "outputs": [
    {
     "data": {
      "text/plain": [
       "74"
      ]
     },
     "execution_count": 50,
     "metadata": {},
     "output_type": "execute_result"
    }
   ],
   "source": [
    "alld.query(\"CURRENT_FIX_DURATION < 120 and CURRENT_FIX_BLINK_AROUND != 'NONE'\")[\"TRIAL_INDEX\"].count()"
   ]
  },
  {
   "cell_type": "code",
   "execution_count": 91,
   "metadata": {},
   "outputs": [
    {
     "data": {
      "text/plain": [
       "0"
      ]
     },
     "execution_count": 91,
     "metadata": {},
     "output_type": "execute_result"
    }
   ],
   "source": [
    "alld.query(\"CURRENT_FIX_DURATION < 120 and CURRENT_FIX_BLINK_AROUND == 'AFTER'\")[\"TRIAL_INDEX\"].count()"
   ]
  },
  {
   "cell_type": "code",
   "execution_count": 92,
   "metadata": {},
   "outputs": [
    {
     "data": {
      "text/plain": [
       "74"
      ]
     },
     "execution_count": 92,
     "metadata": {},
     "output_type": "execute_result"
    }
   ],
   "source": [
    "alld.query(\"CURRENT_FIX_DURATION < 120 and CURRENT_FIX_BLINK_AROUND == 'BEFORE'\")[\"TRIAL_INDEX\"].count()"
   ]
  },
  {
   "cell_type": "code",
   "execution_count": 93,
   "metadata": {},
   "outputs": [
    {
     "data": {
      "text/plain": [
       "0"
      ]
     },
     "execution_count": 93,
     "metadata": {},
     "output_type": "execute_result"
    }
   ],
   "source": [
    "alld.query(\"CURRENT_FIX_DURATION < 120 and CURRENT_FIX_BLINK_AROUND == 'BOTH'\")[\"TRIAL_INDEX\"].count()"
   ]
  },
  {
   "cell_type": "code",
   "execution_count": 51,
   "metadata": {},
   "outputs": [
    {
     "name": "stdout",
     "output_type": "stream",
     "text": [
      "-- LEFT -- \n",
      "On 84, 0(0.0%) where blinks\n",
      "Mean distance is -96.0 (-3.0°)\n",
      "Mean start time is 15.0s\n"
     ]
    },
    {
     "data": {
      "text/plain": [
       "<matplotlib.axes._subplots.AxesSubplot at 0x123b55828>"
      ]
     },
     "execution_count": 51,
     "metadata": {},
     "output_type": "execute_result"
    },
    {
     "data": {
      "image/png": "[encoded data removed]",
      "text/plain": [
       "<Figure size 432x288 with 1 Axes>"
      ]
     },
     "metadata": {},
     "output_type": "display_data"
    }
   ],
   "source": [
    "t = alld.query(\"CURRENT_FIX_X < 0\")[\"EYE_USED\"].count()\n",
    "c = alld.query(\"CURRENT_FIX_X < 0\").query(\"NEXT_SAC_CONTAINS_BLINK == 'true'\")[\"EYE_USED\"].count()\n",
    "d = alld.query(\"CURRENT_FIX_X < 0\")[\"CURRENT_FIX_X\"].mean()\n",
    "s = alld.query(\"CURRENT_FIX_X < 0\")[\"CURRENT_FIX_START\"].mean()\n",
    "print(\"-- LEFT -- \")\n",
    "print(\"On {}, {}({}%) where blinks\".format(t, c, round(c/t*100, 0)))\n",
    "print(\"Mean distance is {} ({}°)\".format(round(d, 0), round(d/35, 0)))\n",
    "print(\"Mean start time is {}s\".format(round(s/1000, 0)))\n",
    "alld.query(\"CURRENT_FIX_X < 0\")[\"CURRENT_FIX_X\"].hist()"
   ]
  },
  {
   "cell_type": "code",
   "execution_count": 52,
   "metadata": {},
   "outputs": [
    {
     "name": "stdout",
     "output_type": "stream",
     "text": [
      "-- RIGHT -- \n",
      "On 76, 0(0.0%) where blinks\n",
      "Mean distance is 77.0 (2.0°)\n",
      "Mean start time is 35.0s\n"
     ]
    },
    {
     "data": {
      "text/plain": [
       "<matplotlib.axes._subplots.AxesSubplot at 0x123b563c8>"
      ]
     },
     "execution_count": 52,
     "metadata": {},
     "output_type": "execute_result"
    },
    {
     "data": {
      "image/png": "[encoded data removed]",
      "text/plain": [
       "<Figure size 432x288 with 1 Axes>"
      ]
     },
     "metadata": {},
     "output_type": "display_data"
    }
   ],
   "source": [
    "t = alld.query(\"CURRENT_FIX_X > 1920\")[\"CURRENT_FIX_X\"].count()\n",
    "c = alld.query(\"CURRENT_FIX_X > 1920\").query(\"NEXT_SAC_CONTAINS_BLINK == 'true'\")[\"CURRENT_FIX_X\"].count()\n",
    "d = (alld.query(\"CURRENT_FIX_X > 1920\")[\"CURRENT_FIX_X\"] - 1920).mean()\n",
    "s = alld.query(\"CURRENT_FIX_X > 1920\")[\"CURRENT_FIX_START\"].mean()\n",
    "print(\"-- RIGHT -- \")\n",
    "print(\"On {}, {}({}%) where blinks\".format(t, c, round(c/t*100, 0)))\n",
    "print(\"Mean distance is {} ({}°)\".format(round(d, 0), round(d/35, 0)))\n",
    "print(\"Mean start time is {}s\".format(round(s/1000, 0)))\n",
    "alld.query(\"CURRENT_FIX_X > 1920\")[\"CURRENT_FIX_X\"].hist()"
   ]
  },
  {
   "cell_type": "code",
   "execution_count": 53,
   "metadata": {},
   "outputs": [
    {
     "name": "stdout",
     "output_type": "stream",
     "text": [
      "-- UP -- \n",
      "On 280, 0(0.0%) where blinks\n",
      "Mean distance is -110.0 (-3.0°)\n",
      "Mean start time is 19.0s\n"
     ]
    },
    {
     "data": {
      "text/plain": [
       "<matplotlib.axes._subplots.AxesSubplot at 0x123d12908>"
      ]
     },
     "execution_count": 53,
     "metadata": {},
     "output_type": "execute_result"
    },
    {
     "data": {
      "image/png": "[encoded data removed]",
      "text/plain": [
       "<Figure size 432x288 with 1 Axes>"
      ]
     },
     "metadata": {},
     "output_type": "display_data"
    }
   ],
   "source": [
    "t = alld.query(\"CURRENT_FIX_Y < 0\")[\"CURRENT_FIX_Y\"].count()\n",
    "c = alld.query(\"CURRENT_FIX_Y < 0\").query(\"NEXT_SAC_CONTAINS_BLINK == 'true'\")[\"CURRENT_FIX_Y\"].count()\n",
    "d = alld.query(\"CURRENT_FIX_Y < 0\")[\"CURRENT_FIX_Y\"].mean()\n",
    "s = alld.query(\"CURRENT_FIX_Y < 0\")[\"CURRENT_FIX_START\"].mean()\n",
    "print(\"-- UP -- \")\n",
    "print(\"On {}, {}({}%) where blinks\".format(t, c, round(c/t*100, 0)))\n",
    "print(\"Mean distance is {} ({}°)\".format(round(d, 0), round(d/35, 0)))\n",
    "print(\"Mean start time is {}s\".format(round(s/1000, 0)))\n",
    "alld.query(\"CURRENT_FIX_Y < 0\")[\"CURRENT_FIX_Y\"].hist()"
   ]
  },
  {
   "cell_type": "code",
   "execution_count": 54,
   "metadata": {},
   "outputs": [
    {
     "name": "stdout",
     "output_type": "stream",
     "text": [
      "-- DOWN -- \n",
      "On 40, 0(0.0%) where blinks\n",
      "Mean distance is 148.0 (4.0°)\n",
      "Mean start time is 44.0s\n"
     ]
    },
    {
     "data": {
      "text/plain": [
       "<matplotlib.axes._subplots.AxesSubplot at 0x1245bfba8>"
      ]
     },
     "execution_count": 54,
     "metadata": {},
     "output_type": "execute_result"
    },
    {
     "data": {
      "image/png": "[encoded data removed]",
      "text/plain": [
       "<Figure size 432x288 with 1 Axes>"
      ]
     },
     "metadata": {},
     "output_type": "display_data"
    }
   ],
   "source": [
    "t = alld.query(\"CURRENT_FIX_Y > 1080\")[\"CURRENT_FIX_Y\"].count()\n",
    "c = alld.query(\"CURRENT_FIX_Y > 1080\").query(\"NEXT_SAC_CONTAINS_BLINK == 'true'\")[\"CURRENT_FIX_Y\"].count()\n",
    "d = (alld.query(\"CURRENT_FIX_Y > 1080\")[\"CURRENT_FIX_Y\"] - 1080).mean()\n",
    "s = alld.query(\"CURRENT_FIX_Y > 1080\")[\"CURRENT_FIX_START\"].mean()\n",
    "print(\"-- DOWN -- \")\n",
    "print(\"On {}, {}({}%) where blinks\".format(t, c, round(c/t*100, 0)))\n",
    "print(\"Mean distance is {} ({}°)\".format(round(d, 0), round(d/35, 0)))\n",
    "print(\"Mean start time is {}s\".format(round(s/1000, 0)))\n",
    "alld.query(\"CURRENT_FIX_Y > 1080\")[\"CURRENT_FIX_Y\"].hist()"
   ]
  },
  {
   "cell_type": "code",
   "execution_count": 55,
   "metadata": {},
   "outputs": [
    {
     "data": {
      "text/plain": [
       "CONDITION\n",
       "2     1\n",
       "4    16\n",
       "5     6\n",
       "6    17\n",
       "Name: CURRENT_FIX_Y, dtype: int64"
      ]
     },
     "execution_count": 55,
     "metadata": {},
     "output_type": "execute_result"
    }
   ],
   "source": [
    "alld.query(\"CURRENT_FIX_Y > 1080\").groupby(\"CONDITION\")[\"CURRENT_FIX_Y\"].count()"
   ]
  },
  {
   "cell_type": "code",
   "execution_count": 56,
   "metadata": {},
   "outputs": [
    {
     "data": {
      "text/plain": [
       "CONDITION\n",
       "1    62\n",
       "2    53\n",
       "3    35\n",
       "4    74\n",
       "5    24\n",
       "6    32\n",
       "Name: CURRENT_FIX_Y, dtype: int64"
      ]
     },
     "execution_count": 56,
     "metadata": {},
     "output_type": "execute_result"
    }
   ],
   "source": [
    "alld.query(\"CURRENT_FIX_Y < 0\").groupby(\"CONDITION\")[\"CURRENT_FIX_Y\"].count()"
   ]
  },
  {
   "cell_type": "code",
   "execution_count": 57,
   "metadata": {},
   "outputs": [
    {
     "data": {
      "text/plain": [
       "CONDITION\n",
       "1    27\n",
       "2     2\n",
       "3    12\n",
       "4    16\n",
       "5    13\n",
       "6    14\n",
       "Name: CURRENT_FIX_X, dtype: int64"
      ]
     },
     "execution_count": 57,
     "metadata": {},
     "output_type": "execute_result"
    }
   ],
   "source": [
    "alld.query(\"CURRENT_FIX_X < 0\").groupby(\"CONDITION\")[\"CURRENT_FIX_X\"].count()"
   ]
  },
  {
   "cell_type": "code",
   "execution_count": 58,
   "metadata": {},
   "outputs": [
    {
     "data": {
      "text/plain": [
       "CONDITION\n",
       "1    10\n",
       "2    12\n",
       "3    22\n",
       "4     7\n",
       "5    11\n",
       "6    14\n",
       "Name: CURRENT_FIX_X, dtype: int64"
      ]
     },
     "execution_count": 58,
     "metadata": {},
     "output_type": "execute_result"
    }
   ],
   "source": [
    "alld.query(\"CURRENT_FIX_X > 1920\").groupby(\"CONDITION\")[\"CURRENT_FIX_X\"].count()"
   ]
  },
  {
   "cell_type": "code",
   "execution_count": 59,
   "metadata": {},
   "outputs": [
    {
     "data": {
      "text/plain": [
       "CONDITION\n",
       "1    28080.112212\n",
       "2    27287.867561\n",
       "3    28508.171929\n",
       "4    28319.284013\n",
       "5    28193.395588\n",
       "6    30261.392862\n",
       "Name: CURRENT_FIX_START, dtype: float64"
      ]
     },
     "execution_count": 59,
     "metadata": {},
     "output_type": "execute_result"
    }
   ],
   "source": [
    "alld.groupby(\"CONDITION\")[\"CURRENT_FIX_START\"].mean()"
   ]
  },
  {
   "cell_type": "code",
   "execution_count": 60,
   "metadata": {},
   "outputs": [
    {
     "data": {
      "text/plain": [
       "2.2857142857142856"
      ]
     },
     "execution_count": 60,
     "metadata": {},
     "output_type": "execute_result"
    }
   ],
   "source": [
    "(2000-1920)/35"
   ]
  },
  {
   "cell_type": "code",
   "execution_count": 61,
   "metadata": {},
   "outputs": [
    {
     "data": {
      "text/plain": [
       "<matplotlib.axes._subplots.AxesSubplot at 0x123bc7b00>"
      ]
     },
     "execution_count": 61,
     "metadata": {},
     "output_type": "execute_result"
    },
    {
     "data": {
      "image/png": "[encoded data removed]",
      "text/plain": [
       "<Figure size 432x288 with 1 Axes>"
      ]
     },
     "metadata": {},
     "output_type": "display_data"
    }
   ],
   "source": [
    "alld.query(\"CURRENT_FIX_X > 1920\")[\"CURRENT_FIX_X\"].hist()"
   ]
  },
  {
   "cell_type": "code",
   "execution_count": 62,
   "metadata": {},
   "outputs": [
    {
     "name": "stdout",
     "output_type": "stream",
     "text": [
      "Out of the zone:\n"
     ]
    },
    {
     "data": {
      "text/plain": [
       "9"
      ]
     },
     "execution_count": 62,
     "metadata": {},
     "output_type": "execute_result"
    }
   ],
   "source": [
    "print(\"Out of the zone:\")\n",
    "alld.query(\"CURRENT_FIX_X < 0 and CURRENT_FIX_X < -180\")[\"EYE_USED\"].count()"
   ]
  },
  {
   "cell_type": "code",
   "execution_count": 63,
   "metadata": {},
   "outputs": [
    {
     "name": "stdout",
     "output_type": "stream",
     "text": [
      "In the zone:\n"
     ]
    },
    {
     "data": {
      "text/plain": [
       "75"
      ]
     },
     "execution_count": 63,
     "metadata": {},
     "output_type": "execute_result"
    }
   ],
   "source": [
    "print(\"In the zone:\")\n",
    "alld.query(\"CURRENT_FIX_X < 0 and CURRENT_FIX_X > -180\")[\"EYE_USED\"].count()"
   ]
  },
  {
   "cell_type": "code",
   "execution_count": 64,
   "metadata": {},
   "outputs": [
    {
     "name": "stdout",
     "output_type": "stream",
     "text": [
      "In the zone:\n"
     ]
    },
    {
     "data": {
      "text/plain": [
       "68"
      ]
     },
     "execution_count": 64,
     "metadata": {},
     "output_type": "execute_result"
    }
   ],
   "source": [
    "print(\"In the zone:\")\n",
    "alld.query(\"CURRENT_FIX_X > 1920 and CURRENT_FIX_X < 2095\")[\"EYE_USED\"].count()"
   ]
  },
  {
   "cell_type": "code",
   "execution_count": 65,
   "metadata": {},
   "outputs": [
    {
     "name": "stdout",
     "output_type": "stream",
     "text": [
      "Out of the zone:\n"
     ]
    },
    {
     "data": {
      "text/plain": [
       "8"
      ]
     },
     "execution_count": 65,
     "metadata": {},
     "output_type": "execute_result"
    }
   ],
   "source": [
    "print(\"Out of the zone:\")\n",
    "alld.query(\"CURRENT_FIX_X > 1920 and CURRENT_FIX_X > 2095\")[\"EYE_USED\"].count()"
   ]
  },
  {
   "cell_type": "code",
   "execution_count": 66,
   "metadata": {},
   "outputs": [
    {
     "name": "stdout",
     "output_type": "stream",
     "text": [
      "In the zone:\n"
     ]
    },
    {
     "data": {
      "text/plain": [
       "29"
      ]
     },
     "execution_count": 66,
     "metadata": {},
     "output_type": "execute_result"
    }
   ],
   "source": [
    "print(\"In the zone:\")\n",
    "alld.query(\"CURRENT_FIX_Y > 1080 and CURRENT_FIX_Y < 1255\")[\"EYE_USED\"].count()"
   ]
  },
  {
   "cell_type": "code",
   "execution_count": 67,
   "metadata": {},
   "outputs": [
    {
     "name": "stdout",
     "output_type": "stream",
     "text": [
      "Out of the zone:\n"
     ]
    },
    {
     "data": {
      "text/plain": [
       "11"
      ]
     },
     "execution_count": 67,
     "metadata": {},
     "output_type": "execute_result"
    }
   ],
   "source": [
    "print(\"Out of the zone:\")\n",
    "alld.query(\"CURRENT_FIX_Y > 1080 and CURRENT_FIX_Y > 1255\")[\"EYE_USED\"].count()"
   ]
  },
  {
   "cell_type": "code",
   "execution_count": 68,
   "metadata": {},
   "outputs": [
    {
     "name": "stdout",
     "output_type": "stream",
     "text": [
      "Out of the zone:\n"
     ]
    },
    {
     "data": {
      "text/plain": [
       "78"
      ]
     },
     "execution_count": 68,
     "metadata": {},
     "output_type": "execute_result"
    }
   ],
   "source": [
    "print(\"Out of the zone:\")\n",
    "alld.query(\"CURRENT_FIX_Y < 0 and CURRENT_FIX_Y < -180\")[\"EYE_USED\"].count()"
   ]
  },
  {
   "cell_type": "code",
   "execution_count": 69,
   "metadata": {},
   "outputs": [
    {
     "name": "stdout",
     "output_type": "stream",
     "text": [
      "In the zone:\n"
     ]
    },
    {
     "data": {
      "text/plain": [
       "202"
      ]
     },
     "execution_count": 69,
     "metadata": {},
     "output_type": "execute_result"
    }
   ],
   "source": [
    "print(\"In the zone:\")\n",
    "alld.query(\"CURRENT_FIX_Y < 0 and CURRENT_FIX_Y > -180\")[\"EYE_USED\"].count()"
   ]
  },
  {
   "cell_type": "code",
   "execution_count": null,
   "metadata": {},
   "outputs": [],
   "source": []
  },
  {
   "cell_type": "code",
   "execution_count": 70,
   "metadata": {},
   "outputs": [
    {
     "data": {
      "text/plain": [
       "<matplotlib.axes._subplots.AxesSubplot at 0x105f3c048>"
      ]
     },
     "execution_count": 70,
     "metadata": {},
     "output_type": "execute_result"
    },
    {
     "data": {
      "image/png": "[encoded data removed]",
      "text/plain": [
       "<Figure size 432x288 with 1 Axes>"
      ]
     },
     "metadata": {},
     "output_type": "display_data"
    }
   ],
   "source": [
    "alld.query(\"CURRENT_FIX_Y < 0\")[\"CURRENT_FIX_Y\"].hist()"
   ]
  },
  {
   "cell_type": "code",
   "execution_count": 71,
   "metadata": {},
   "outputs": [
    {
     "data": {
      "text/plain": [
       "<matplotlib.axes._subplots.AxesSubplot at 0x106575f60>"
      ]
     },
     "execution_count": 71,
     "metadata": {},
     "output_type": "execute_result"
    },
    {
     "data": {
      "image/png": "[encoded data removed]",
      "text/plain": [
       "<Figure size 432x288 with 1 Axes>"
      ]
     },
     "metadata": {},
     "output_type": "display_data"
    }
   ],
   "source": [
    "alld.query(\"CURRENT_FIX_Y > 1080\")[\"CURRENT_FIX_Y\"].hist()"
   ]
  },
  {
   "cell_type": "code",
   "execution_count": 72,
   "metadata": {},
   "outputs": [
    {
     "data": {
      "text/plain": [
       "175"
      ]
     },
     "execution_count": 72,
     "metadata": {},
     "output_type": "execute_result"
    }
   ],
   "source": [
    "5*35"
   ]
  },
  {
   "cell_type": "code",
   "execution_count": 73,
   "metadata": {},
   "outputs": [
    {
     "data": {
      "text/plain": [
       "TRIAL_INDEX\n",
       "2      1\n",
       "3      1\n",
       "4      5\n",
       "5      1\n",
       "6     10\n",
       "7      4\n",
       "8      2\n",
       "9      4\n",
       "11     7\n",
       "12     7\n",
       "14    21\n",
       "17    12\n",
       "Name: EYE_USED, dtype: int64"
      ]
     },
     "execution_count": 73,
     "metadata": {},
     "output_type": "execute_result"
    }
   ],
   "source": [
    "alld.query(\"CURRENT_FIX_X < 0 and CURRENT_FIX_X > -180\").groupby(\"TRIAL_INDEX\")[\"EYE_USED\"].count()"
   ]
  },
  {
   "cell_type": "code",
   "execution_count": 74,
   "metadata": {},
   "outputs": [
    {
     "data": {
      "text/plain": [
       "TRIAL_INDEX\n",
       "1      6\n",
       "2     11\n",
       "3      7\n",
       "4     11\n",
       "5      2\n",
       "7      4\n",
       "8     21\n",
       "9      6\n",
       "10    12\n",
       "11    16\n",
       "12     7\n",
       "13     7\n",
       "14    36\n",
       "15     9\n",
       "16    13\n",
       "17    18\n",
       "18    16\n",
       "Name: EYE_USED, dtype: int64"
      ]
     },
     "execution_count": 74,
     "metadata": {},
     "output_type": "execute_result"
    }
   ],
   "source": [
    "alld.query(\"CURRENT_FIX_Y < 0 and CURRENT_FIX_Y > -180\").groupby(\"TRIAL_INDEX\")[\"EYE_USED\"].count()"
   ]
  },
  {
   "cell_type": "code",
   "execution_count": 77,
   "metadata": {},
   "outputs": [
    {
     "data": {
      "text/plain": [
       "40"
      ]
     },
     "execution_count": 77,
     "metadata": {},
     "output_type": "execute_result"
    }
   ],
   "source": [
    "alld.query(\"CURRENT_FIX_Y > 1080\")[\"EYE_USED\"].count()"
   ]
  },
  {
   "cell_type": "code",
   "execution_count": 78,
   "metadata": {},
   "outputs": [
    {
     "data": {
      "text/plain": [
       "76"
      ]
     },
     "execution_count": 78,
     "metadata": {},
     "output_type": "execute_result"
    }
   ],
   "source": [
    "alld.query(\"CURRENT_FIX_X > 1920\")[\"EYE_USED\"].count()"
   ]
  },
  {
   "cell_type": "code",
   "execution_count": 79,
   "metadata": {},
   "outputs": [
    {
     "data": {
      "text/plain": [
       "280"
      ]
     },
     "execution_count": 79,
     "metadata": {},
     "output_type": "execute_result"
    }
   ],
   "source": [
    "alld.query(\"CURRENT_FIX_Y < 0\")[\"EYE_USED\"].count()"
   ]
  },
  {
   "cell_type": "code",
   "execution_count": 80,
   "metadata": {},
   "outputs": [
    {
     "data": {
      "text/plain": [
       "84"
      ]
     },
     "execution_count": 80,
     "metadata": {},
     "output_type": "execute_result"
    }
   ],
   "source": [
    "alld.query(\"CURRENT_FIX_X < 0\")[\"EYE_USED\"].count()"
   ]
  },
  {
   "cell_type": "code",
   "execution_count": 85,
   "metadata": {},
   "outputs": [
    {
     "data": {
      "text/plain": [
       "PART_ID\n",
       "2       2\n",
       "7       1\n",
       "8       3\n",
       "10      1\n",
       "709    16\n",
       "710     2\n",
       "712     4\n",
       "713     3\n",
       "714     1\n",
       "715     1\n",
       "716     6\n",
       "Name: EYE_USED, dtype: int64"
      ]
     },
     "execution_count": 85,
     "metadata": {},
     "output_type": "execute_result"
    }
   ],
   "source": [
    "alld.query(\"CURRENT_FIX_Y > 1080\").groupby([\"PART_ID\"])[\"EYE_USED\"].count()"
   ]
  },
  {
   "cell_type": "code",
   "execution_count": 86,
   "metadata": {},
   "outputs": [
    {
     "data": {
      "text/plain": [
       "PART_ID\n",
       "2      10\n",
       "3       8\n",
       "4       1\n",
       "7      14\n",
       "8       7\n",
       "709     5\n",
       "710    85\n",
       "711    79\n",
       "712    30\n",
       "713    13\n",
       "714     9\n",
       "715    19\n",
       "Name: EYE_USED, dtype: int64"
      ]
     },
     "execution_count": 86,
     "metadata": {},
     "output_type": "execute_result"
    }
   ],
   "source": [
    "alld.query(\"CURRENT_FIX_Y < 0\").groupby([\"PART_ID\"])[\"EYE_USED\"].count()"
   ]
  },
  {
   "cell_type": "code",
   "execution_count": 88,
   "metadata": {},
   "outputs": [
    {
     "data": {
      "text/plain": [
       "PART_ID\n",
       "1       2\n",
       "2       9\n",
       "3       3\n",
       "4      12\n",
       "7       3\n",
       "8       4\n",
       "11      5\n",
       "710     6\n",
       "711     5\n",
       "712    18\n",
       "713     6\n",
       "714     2\n",
       "715     1\n",
       "Name: EYE_USED, dtype: int64"
      ]
     },
     "execution_count": 88,
     "metadata": {},
     "output_type": "execute_result"
    }
   ],
   "source": [
    "alld.query(\"CURRENT_FIX_X > 1920\").groupby([\"PART_ID\"])[\"EYE_USED\"].count()"
   ]
  },
  {
   "cell_type": "code",
   "execution_count": 89,
   "metadata": {},
   "outputs": [
    {
     "data": {
      "text/plain": [
       "PART_ID\n",
       "2       3\n",
       "11      8\n",
       "709     7\n",
       "710    18\n",
       "711    18\n",
       "712     1\n",
       "713     2\n",
       "714     1\n",
       "716    26\n",
       "Name: EYE_USED, dtype: int64"
      ]
     },
     "execution_count": 89,
     "metadata": {},
     "output_type": "execute_result"
    }
   ],
   "source": [
    "alld.query(\"CURRENT_FIX_X < 0\").groupby([\"PART_ID\"])[\"EYE_USED\"].count()"
   ]
  },
  {
   "cell_type": "code",
   "execution_count": 108,
   "metadata": {},
   "outputs": [
    {
     "name": "stdout",
     "output_type": "stream",
     "text": [
      "-- LEFT -- \n",
      "On 84, 0(0.0%) where blinks\n",
      "Mean distance is -96.0 (-3.0°)\n",
      "Number of fix within the 3°: 46 (54.76%)\n",
      "Mean start time is 15.0s\n"
     ]
    },
    {
     "data": {
      "text/plain": [
       "<matplotlib.axes._subplots.AxesSubplot at 0x124fe7358>"
      ]
     },
     "execution_count": 108,
     "metadata": {},
     "output_type": "execute_result"
    },
    {
     "data": {
      "image/png": "[encoded data removed]",
      "text/plain": [
       "<Figure size 432x288 with 1 Axes>"
      ]
     },
     "metadata": {},
     "output_type": "display_data"
    }
   ],
   "source": [
    "t = alld.query(\"CURRENT_FIX_X < 0\")[\"EYE_USED\"].count()\n",
    "l = alld.query(\"CURRENT_FIX_X < 0 and CURRENT_FIX_X > -100\")[\"CURRENT_FIX_X\"].count()\n",
    "c = alld.query(\"CURRENT_FIX_X < 0\").query(\"NEXT_SAC_CONTAINS_BLINK == 'true'\")[\"EYE_USED\"].count()\n",
    "d = alld.query(\"CURRENT_FIX_X < 0\")[\"CURRENT_FIX_X\"].mean()\n",
    "s = alld.query(\"CURRENT_FIX_X < 0\")[\"CURRENT_FIX_START\"].mean()\n",
    "print(\"-- LEFT -- \")\n",
    "print(\"On {}, {}({}%) where blinks\".format(t, c, round(c/t*100, 0)))\n",
    "print(\"Mean distance is {} ({}°)\".format(round(d, 0), round(d/35, 0)))\n",
    "print(\"Number of fix within the 3°: {} ({}%)\".format(l, round(l*100/t, 2)))\n",
    "print(\"Mean start time is {}s\".format(round(s/1000, 0)))\n",
    "alld.query(\"CURRENT_FIX_X < 0\")[\"CURRENT_FIX_X\"].hist()"
   ]
  },
  {
   "cell_type": "code",
   "execution_count": 107,
   "metadata": {},
   "outputs": [
    {
     "name": "stdout",
     "output_type": "stream",
     "text": [
      "-- RIGHT -- \n",
      "On 76, 0(0.0%) where blinks\n",
      "Mean distance is 77.0 (2.0°)\n",
      "Number of fix within the 3°: 61 (80.26%)\n",
      "Mean start time is 35.0s\n"
     ]
    },
    {
     "data": {
      "text/plain": [
       "<matplotlib.axes._subplots.AxesSubplot at 0x12380ee10>"
      ]
     },
     "execution_count": 107,
     "metadata": {},
     "output_type": "execute_result"
    },
    {
     "data": {
      "image/png": "[encoded data removed]",
      "text/plain": [
       "<Figure size 432x288 with 1 Axes>"
      ]
     },
     "metadata": {},
     "output_type": "display_data"
    }
   ],
   "source": [
    "t = alld.query(\"CURRENT_FIX_X > 1920\")[\"CURRENT_FIX_X\"].count()\n",
    "l = alld.query(\"CURRENT_FIX_X > 1920 and CURRENT_FIX_X < 2020\")[\"CURRENT_FIX_X\"].count()\n",
    "c = alld.query(\"CURRENT_FIX_X > 1920\").query(\"NEXT_SAC_CONTAINS_BLINK == 'true'\")[\"CURRENT_FIX_X\"].count()\n",
    "d = (alld.query(\"CURRENT_FIX_X > 1920\")[\"CURRENT_FIX_X\"] - 1920).mean()\n",
    "s = alld.query(\"CURRENT_FIX_X > 1920\")[\"CURRENT_FIX_START\"].mean()\n",
    "print(\"-- RIGHT -- \")\n",
    "print(\"On {}, {}({}%) where blinks\".format(t, c, round(c/t*100, 0)))\n",
    "print(\"Mean distance is {} ({}°)\".format(round(d, 0), round(d/35, 0)))\n",
    "print(\"Number of fix within the 3°: {} ({}%)\".format(l, round(l*100/t, 2)))\n",
    "print(\"Mean start time is {}s\".format(round(s/1000, 0)))\n",
    "alld.query(\"CURRENT_FIX_X > 1920\")[\"CURRENT_FIX_X\"].hist()"
   ]
  },
  {
   "cell_type": "code",
   "execution_count": 105,
   "metadata": {},
   "outputs": [
    {
     "name": "stdout",
     "output_type": "stream",
     "text": [
      "-- UP -- \n",
      "On 280, 0(0.0%) where blinks\n",
      "Mean distance is -110.0 (-3.0°)\n",
      "Number of fix within the 3°: 165 (58.93%)\n",
      "Mean start time is 19.0s\n"
     ]
    },
    {
     "data": {
      "text/plain": [
       "<matplotlib.axes._subplots.AxesSubplot at 0x124c0dd68>"
      ]
     },
     "execution_count": 105,
     "metadata": {},
     "output_type": "execute_result"
    },
    {
     "data": {
      "image/png": "[encoded data removed]",
      "text/plain": [
       "<Figure size 432x288 with 1 Axes>"
      ]
     },
     "metadata": {},
     "output_type": "display_data"
    }
   ],
   "source": [
    "t = alld.query(\"CURRENT_FIX_Y < 0\")[\"CURRENT_FIX_Y\"].count()\n",
    "l = alld.query(\"CURRENT_FIX_Y < 0 and CURRENT_FIX_Y > -100\")[\"CURRENT_FIX_Y\"].count()\n",
    "c = alld.query(\"CURRENT_FIX_Y < 0\").query(\"NEXT_SAC_CONTAINS_BLINK == 'true'\")[\"CURRENT_FIX_Y\"].count()\n",
    "d = alld.query(\"CURRENT_FIX_Y < 0\")[\"CURRENT_FIX_Y\"].mean()\n",
    "s = alld.query(\"CURRENT_FIX_Y < 0\")[\"CURRENT_FIX_START\"].mean()\n",
    "print(\"-- UP -- \")\n",
    "print(\"On {}, {}({}%) where blinks\".format(t, c, round(c/t*100, 0)))\n",
    "print(\"Mean distance is {} ({}°)\".format(round(d, 0), round(d/35, 0)))\n",
    "print(\"Number of fix within the 3°: {} ({}%)\".format(l, round(l*100/t, 2)))\n",
    "print(\"Mean start time is {}s\".format(round(s/1000, 0)))\n",
    "alld.query(\"CURRENT_FIX_Y < 0\")[\"CURRENT_FIX_Y\"].hist()"
   ]
  },
  {
   "cell_type": "code",
   "execution_count": 106,
   "metadata": {},
   "outputs": [
    {
     "name": "stdout",
     "output_type": "stream",
     "text": [
      "-- DOWN -- \n",
      "On 40, 0(0.0%) where blinks\n",
      "Mean distance is 148.0 (4.0°)\n",
      "Number of fix within the 3°: 28 (70.0%)\n",
      "Mean start time is 44.0s\n"
     ]
    },
    {
     "data": {
      "text/plain": [
       "<matplotlib.axes._subplots.AxesSubplot at 0x123729240>"
      ]
     },
     "execution_count": 106,
     "metadata": {},
     "output_type": "execute_result"
    },
    {
     "data": {
      "image/png": "[encoded data removed]",
      "text/plain": [
       "<Figure size 432x288 with 1 Axes>"
      ]
     },
     "metadata": {},
     "output_type": "display_data"
    }
   ],
   "source": [
    "t = alld.query(\"CURRENT_FIX_Y > 1080\")[\"CURRENT_FIX_Y\"].count()\n",
    "l = alld.query(\"CURRENT_FIX_Y > 1080 and CURRENT_FIX_Y < 1180\")[\"CURRENT_FIX_Y\"].count()\n",
    "c = alld.query(\"CURRENT_FIX_Y > 1080\").query(\"NEXT_SAC_CONTAINS_BLINK == 'true'\")[\"CURRENT_FIX_Y\"].count()\n",
    "d = (alld.query(\"CURRENT_FIX_Y > 1080\")[\"CURRENT_FIX_Y\"] - 1080).mean()\n",
    "s = alld.query(\"CURRENT_FIX_Y > 1080\")[\"CURRENT_FIX_START\"].mean()\n",
    "print(\"-- DOWN -- \")\n",
    "print(\"On {}, {}({}%) where blinks\".format(t, c, round(c/t*100, 0)))\n",
    "print(\"Mean distance is {} ({}°)\".format(round(d, 0), round(d/35, 0)))\n",
    "print(\"Number of fix within the 3°: {} ({}%)\".format(l, round(l*100/t, 2)))\n",
    "print(\"Mean start time is {}s\".format(round(s/1000, 0)))\n",
    "alld.query(\"CURRENT_FIX_Y > 1080\")[\"CURRENT_FIX_Y\"].hist()"
   ]
  },
  {
   "cell_type": "code",
   "execution_count": 103,
   "metadata": {},
   "outputs": [
    {
     "data": {
      "text/plain": [
       "5580"
      ]
     },
     "execution_count": 103,
     "metadata": {},
     "output_type": "execute_result"
    }
   ],
   "source": [
    "alld.query(\"CURRENT_FIX_DURATION < 120\")[\"EYE_USED\"].count()"
   ]
  },
  {
   "cell_type": "code",
   "execution_count": 102,
   "metadata": {},
   "outputs": [
    {
     "data": {
      "text/html": [
       "<div>\n",
       "<table border=\"1\" class=\"dataframe\">\n",
       "  <thead>\n",
       "    <tr style=\"text-align: right;\">\n",
       "      <th></th>\n",
       "      <th>CALIBRATION_PROBLEM</th>\n",
       "      <th>CONDITION</th>\n",
       "      <th>CURRENT_FIX_BLINK_AROUND</th>\n",
       "      <th>CURRENT_FIX_DURATION</th>\n",
       "      <th>CURRENT_FIX_END</th>\n",
       "      <th>CURRENT_FIX_START</th>\n",
       "      <th>CURRENT_FIX_X</th>\n",
       "      <th>CURRENT_FIX_Y</th>\n",
       "      <th>DATETIME</th>\n",
       "      <th>DISTRACTOR</th>\n",
       "      <th>...</th>\n",
       "      <th>NEXT_SAC_DURATION</th>\n",
       "      <th>NEXT_SAC_END_X</th>\n",
       "      <th>NEXT_SAC_END_Y</th>\n",
       "      <th>OFFSET</th>\n",
       "      <th>PART_ID</th>\n",
       "      <th>TASK</th>\n",
       "      <th>TRIAL_INDEX</th>\n",
       "      <th>WEBSITE_ID</th>\n",
       "      <th>Y_OFFSET</th>\n",
       "      <th>error_ratio</th>\n",
       "    </tr>\n",
       "  </thead>\n",
       "  <tbody>\n",
       "    <tr>\n",
       "      <th>723</th>\n",
       "      <td>No</td>\n",
       "      <td>4</td>\n",
       "      <td>BEFORE</td>\n",
       "      <td>48</td>\n",
       "      <td>10418.0</td>\n",
       "      <td>10371.0</td>\n",
       "      <td>1061.2</td>\n",
       "      <td>-7.2</td>\n",
       "      <td>2018-03-27 11:02:50.298</td>\n",
       "      <td>Skin</td>\n",
       "      <td>...</td>\n",
       "      <td>28.0</td>\n",
       "      <td>922.8</td>\n",
       "      <td>42.1</td>\n",
       "      <td>2600</td>\n",
       "      <td>713</td>\n",
       "      <td>Target</td>\n",
       "      <td>5</td>\n",
       "      <td>2</td>\n",
       "      <td>2592.8</td>\n",
       "      <td>0.010830</td>\n",
       "    </tr>\n",
       "    <tr>\n",
       "      <th>12287</th>\n",
       "      <td>No</td>\n",
       "      <td>2</td>\n",
       "      <td>NONE</td>\n",
       "      <td>104</td>\n",
       "      <td>67823.0</td>\n",
       "      <td>67720.0</td>\n",
       "      <td>1863.6</td>\n",
       "      <td>-200.0</td>\n",
       "      <td>2018-03-27 15:14:20.757</td>\n",
       "      <td>NoAd</td>\n",
       "      <td>...</td>\n",
       "      <td>13.0</td>\n",
       "      <td>1865.0</td>\n",
       "      <td>-198.4</td>\n",
       "      <td>2745</td>\n",
       "      <td>715</td>\n",
       "      <td>Target</td>\n",
       "      <td>16</td>\n",
       "      <td>2</td>\n",
       "      <td>2545.0</td>\n",
       "      <td>0.033482</td>\n",
       "    </tr>\n",
       "    <tr>\n",
       "      <th>12291</th>\n",
       "      <td>No</td>\n",
       "      <td>2</td>\n",
       "      <td>NONE</td>\n",
       "      <td>113</td>\n",
       "      <td>68477.0</td>\n",
       "      <td>68365.0</td>\n",
       "      <td>1550.2</td>\n",
       "      <td>-86.1</td>\n",
       "      <td>2018-03-27 15:14:21.402</td>\n",
       "      <td>NoAd</td>\n",
       "      <td>...</td>\n",
       "      <td>73.0</td>\n",
       "      <td>940.7</td>\n",
       "      <td>-22.4</td>\n",
       "      <td>2293</td>\n",
       "      <td>715</td>\n",
       "      <td>Target</td>\n",
       "      <td>16</td>\n",
       "      <td>2</td>\n",
       "      <td>2206.9</td>\n",
       "      <td>0.033482</td>\n",
       "    </tr>\n",
       "    <tr>\n",
       "      <th>20965</th>\n",
       "      <td>No</td>\n",
       "      <td>1</td>\n",
       "      <td>NONE</td>\n",
       "      <td>93</td>\n",
       "      <td>16247.0</td>\n",
       "      <td>16155.0</td>\n",
       "      <td>2029.2</td>\n",
       "      <td>-117.6</td>\n",
       "      <td>2018-04-03 16:14:25.149</td>\n",
       "      <td>NoAd</td>\n",
       "      <td>...</td>\n",
       "      <td>115.0</td>\n",
       "      <td>-39.4</td>\n",
       "      <td>31.8</td>\n",
       "      <td>900</td>\n",
       "      <td>2</td>\n",
       "      <td>Free</td>\n",
       "      <td>11</td>\n",
       "      <td>2</td>\n",
       "      <td>782.4</td>\n",
       "      <td>0.027907</td>\n",
       "    </tr>\n",
       "    <tr>\n",
       "      <th>24540</th>\n",
       "      <td>No</td>\n",
       "      <td>5</td>\n",
       "      <td>NONE</td>\n",
       "      <td>94</td>\n",
       "      <td>5392.0</td>\n",
       "      <td>5299.0</td>\n",
       "      <td>1833.9</td>\n",
       "      <td>-163.0</td>\n",
       "      <td>2018-04-03 17:39:09.629</td>\n",
       "      <td>SkinMpu</td>\n",
       "      <td>...</td>\n",
       "      <td>26.0</td>\n",
       "      <td>1794.8</td>\n",
       "      <td>-211.8</td>\n",
       "      <td>200</td>\n",
       "      <td>3</td>\n",
       "      <td>Free</td>\n",
       "      <td>12</td>\n",
       "      <td>15</td>\n",
       "      <td>37.0</td>\n",
       "      <td>0.009009</td>\n",
       "    </tr>\n",
       "    <tr>\n",
       "      <th>33557</th>\n",
       "      <td>No</td>\n",
       "      <td>2</td>\n",
       "      <td>NONE</td>\n",
       "      <td>29</td>\n",
       "      <td>5584.0</td>\n",
       "      <td>5556.0</td>\n",
       "      <td>1506.1</td>\n",
       "      <td>-220.8</td>\n",
       "      <td>2018-03-20 13:59:59.001</td>\n",
       "      <td>NoAd</td>\n",
       "      <td>...</td>\n",
       "      <td>46.0</td>\n",
       "      <td>1406.8</td>\n",
       "      <td>13.0</td>\n",
       "      <td>1000</td>\n",
       "      <td>710</td>\n",
       "      <td>Target</td>\n",
       "      <td>6</td>\n",
       "      <td>3</td>\n",
       "      <td>779.2</td>\n",
       "      <td>0.008000</td>\n",
       "    </tr>\n",
       "    <tr>\n",
       "      <th>33709</th>\n",
       "      <td>No</td>\n",
       "      <td>4</td>\n",
       "      <td>NONE</td>\n",
       "      <td>109</td>\n",
       "      <td>4169.0</td>\n",
       "      <td>4061.0</td>\n",
       "      <td>1449.1</td>\n",
       "      <td>-78.7</td>\n",
       "      <td>2018-03-20 14:03:13.054</td>\n",
       "      <td>Skin</td>\n",
       "      <td>...</td>\n",
       "      <td>6.0</td>\n",
       "      <td>1437.1</td>\n",
       "      <td>-50.0</td>\n",
       "      <td>0</td>\n",
       "      <td>710</td>\n",
       "      <td>Target</td>\n",
       "      <td>8</td>\n",
       "      <td>10</td>\n",
       "      <td>-78.7</td>\n",
       "      <td>0.054422</td>\n",
       "    </tr>\n",
       "    <tr>\n",
       "      <th>33710</th>\n",
       "      <td>No</td>\n",
       "      <td>4</td>\n",
       "      <td>NONE</td>\n",
       "      <td>61</td>\n",
       "      <td>4236.0</td>\n",
       "      <td>4176.0</td>\n",
       "      <td>1437.1</td>\n",
       "      <td>-50.0</td>\n",
       "      <td>2018-03-20 14:03:13.169</td>\n",
       "      <td>Skin</td>\n",
       "      <td>...</td>\n",
       "      <td>15.0</td>\n",
       "      <td>1448.1</td>\n",
       "      <td>-74.3</td>\n",
       "      <td>0</td>\n",
       "      <td>710</td>\n",
       "      <td>Target</td>\n",
       "      <td>8</td>\n",
       "      <td>10</td>\n",
       "      <td>-50.0</td>\n",
       "      <td>0.054422</td>\n",
       "    </tr>\n",
       "    <tr>\n",
       "      <th>33711</th>\n",
       "      <td>No</td>\n",
       "      <td>4</td>\n",
       "      <td>NONE</td>\n",
       "      <td>53</td>\n",
       "      <td>4304.0</td>\n",
       "      <td>4252.0</td>\n",
       "      <td>1448.1</td>\n",
       "      <td>-74.3</td>\n",
       "      <td>2018-03-20 14:03:13.245</td>\n",
       "      <td>Skin</td>\n",
       "      <td>...</td>\n",
       "      <td>23.0</td>\n",
       "      <td>1400.4</td>\n",
       "      <td>-23.3</td>\n",
       "      <td>0</td>\n",
       "      <td>710</td>\n",
       "      <td>Target</td>\n",
       "      <td>8</td>\n",
       "      <td>10</td>\n",
       "      <td>-74.3</td>\n",
       "      <td>0.054422</td>\n",
       "    </tr>\n",
       "    <tr>\n",
       "      <th>33714</th>\n",
       "      <td>No</td>\n",
       "      <td>4</td>\n",
       "      <td>NONE</td>\n",
       "      <td>26</td>\n",
       "      <td>5159.0</td>\n",
       "      <td>5134.0</td>\n",
       "      <td>1437.4</td>\n",
       "      <td>-8.4</td>\n",
       "      <td>2018-03-20 14:03:14.283</td>\n",
       "      <td>Skin</td>\n",
       "      <td>...</td>\n",
       "      <td>17.0</td>\n",
       "      <td>1424.4</td>\n",
       "      <td>13.9</td>\n",
       "      <td>0</td>\n",
       "      <td>710</td>\n",
       "      <td>Target</td>\n",
       "      <td>8</td>\n",
       "      <td>10</td>\n",
       "      <td>-8.4</td>\n",
       "      <td>0.054422</td>\n",
       "    </tr>\n",
       "    <tr>\n",
       "      <th>34135</th>\n",
       "      <td>No</td>\n",
       "      <td>5</td>\n",
       "      <td>NONE</td>\n",
       "      <td>80</td>\n",
       "      <td>29079.0</td>\n",
       "      <td>29000.0</td>\n",
       "      <td>1485.2</td>\n",
       "      <td>-133.6</td>\n",
       "      <td>2018-03-20 14:06:32.777</td>\n",
       "      <td>SkinMpu</td>\n",
       "      <td>...</td>\n",
       "      <td>10.0</td>\n",
       "      <td>1488.5</td>\n",
       "      <td>-158.9</td>\n",
       "      <td>0</td>\n",
       "      <td>710</td>\n",
       "      <td>Free</td>\n",
       "      <td>10</td>\n",
       "      <td>8</td>\n",
       "      <td>-133.6</td>\n",
       "      <td>0.013761</td>\n",
       "    </tr>\n",
       "    <tr>\n",
       "      <th>34136</th>\n",
       "      <td>No</td>\n",
       "      <td>5</td>\n",
       "      <td>NONE</td>\n",
       "      <td>51</td>\n",
       "      <td>29140.0</td>\n",
       "      <td>29090.0</td>\n",
       "      <td>1488.5</td>\n",
       "      <td>-158.9</td>\n",
       "      <td>2018-03-20 14:06:32.867</td>\n",
       "      <td>SkinMpu</td>\n",
       "      <td>...</td>\n",
       "      <td>35.0</td>\n",
       "      <td>1489.3</td>\n",
       "      <td>-156.5</td>\n",
       "      <td>0</td>\n",
       "      <td>710</td>\n",
       "      <td>Free</td>\n",
       "      <td>10</td>\n",
       "      <td>8</td>\n",
       "      <td>-158.9</td>\n",
       "      <td>0.013761</td>\n",
       "    </tr>\n",
       "    <tr>\n",
       "      <th>34137</th>\n",
       "      <td>No</td>\n",
       "      <td>5</td>\n",
       "      <td>NONE</td>\n",
       "      <td>113</td>\n",
       "      <td>29288.0</td>\n",
       "      <td>29176.0</td>\n",
       "      <td>1489.3</td>\n",
       "      <td>-156.5</td>\n",
       "      <td>2018-03-20 14:06:32.953</td>\n",
       "      <td>SkinMpu</td>\n",
       "      <td>...</td>\n",
       "      <td>51.0</td>\n",
       "      <td>1386.2</td>\n",
       "      <td>144.7</td>\n",
       "      <td>0</td>\n",
       "      <td>710</td>\n",
       "      <td>Free</td>\n",
       "      <td>10</td>\n",
       "      <td>8</td>\n",
       "      <td>-156.5</td>\n",
       "      <td>0.013761</td>\n",
       "    </tr>\n",
       "    <tr>\n",
       "      <th>34297</th>\n",
       "      <td>No</td>\n",
       "      <td>6</td>\n",
       "      <td>NONE</td>\n",
       "      <td>43</td>\n",
       "      <td>17161.0</td>\n",
       "      <td>17119.0</td>\n",
       "      <td>1844.7</td>\n",
       "      <td>-17.0</td>\n",
       "      <td>2018-03-20 14:07:56.398</td>\n",
       "      <td>SkinMpu</td>\n",
       "      <td>...</td>\n",
       "      <td>7.0</td>\n",
       "      <td>1848.6</td>\n",
       "      <td>-0.4</td>\n",
       "      <td>4400</td>\n",
       "      <td>710</td>\n",
       "      <td>Target</td>\n",
       "      <td>11</td>\n",
       "      <td>13</td>\n",
       "      <td>4383.0</td>\n",
       "      <td>0.060976</td>\n",
       "    </tr>\n",
       "    <tr>\n",
       "      <th>34333</th>\n",
       "      <td>No</td>\n",
       "      <td>5</td>\n",
       "      <td>NONE</td>\n",
       "      <td>29</td>\n",
       "      <td>1704.0</td>\n",
       "      <td>1676.0</td>\n",
       "      <td>65.1</td>\n",
       "      <td>-188.6</td>\n",
       "      <td>2018-03-20 14:08:42.669</td>\n",
       "      <td>SkinMpu</td>\n",
       "      <td>...</td>\n",
       "      <td>40.0</td>\n",
       "      <td>-53.9</td>\n",
       "      <td>-183.3</td>\n",
       "      <td>0</td>\n",
       "      <td>710</td>\n",
       "      <td>Free</td>\n",
       "      <td>12</td>\n",
       "      <td>14</td>\n",
       "      <td>-188.6</td>\n",
       "      <td>0.023697</td>\n",
       "    </tr>\n",
       "    <tr>\n",
       "      <th>34561</th>\n",
       "      <td>No</td>\n",
       "      <td>3</td>\n",
       "      <td>NONE</td>\n",
       "      <td>102</td>\n",
       "      <td>5967.0</td>\n",
       "      <td>5866.0</td>\n",
       "      <td>525.3</td>\n",
       "      <td>-1.5</td>\n",
       "      <td>2018-03-20 14:10:28.859</td>\n",
       "      <td>Skin</td>\n",
       "      <td>...</td>\n",
       "      <td>25.0</td>\n",
       "      <td>420.0</td>\n",
       "      <td>-4.1</td>\n",
       "      <td>0</td>\n",
       "      <td>710</td>\n",
       "      <td>Free</td>\n",
       "      <td>13</td>\n",
       "      <td>15</td>\n",
       "      <td>-1.5</td>\n",
       "      <td>0.008889</td>\n",
       "    </tr>\n",
       "    <tr>\n",
       "      <th>34775</th>\n",
       "      <td>No</td>\n",
       "      <td>4</td>\n",
       "      <td>NONE</td>\n",
       "      <td>56</td>\n",
       "      <td>2610.0</td>\n",
       "      <td>2555.0</td>\n",
       "      <td>10.7</td>\n",
       "      <td>-187.2</td>\n",
       "      <td>2018-03-20 14:12:01.548</td>\n",
       "      <td>Skin</td>\n",
       "      <td>...</td>\n",
       "      <td>7.0</td>\n",
       "      <td>9.8</td>\n",
       "      <td>-194.3</td>\n",
       "      <td>0</td>\n",
       "      <td>710</td>\n",
       "      <td>Target</td>\n",
       "      <td>14</td>\n",
       "      <td>2</td>\n",
       "      <td>-187.2</td>\n",
       "      <td>0.230216</td>\n",
       "    </tr>\n",
       "    <tr>\n",
       "      <th>34776</th>\n",
       "      <td>No</td>\n",
       "      <td>4</td>\n",
       "      <td>NONE</td>\n",
       "      <td>36</td>\n",
       "      <td>2653.0</td>\n",
       "      <td>2618.0</td>\n",
       "      <td>9.8</td>\n",
       "      <td>-194.3</td>\n",
       "      <td>2018-03-20 14:12:01.611</td>\n",
       "      <td>Skin</td>\n",
       "      <td>...</td>\n",
       "      <td>7.0</td>\n",
       "      <td>14.1</td>\n",
       "      <td>-173.7</td>\n",
       "      <td>0</td>\n",
       "      <td>710</td>\n",
       "      <td>Target</td>\n",
       "      <td>14</td>\n",
       "      <td>2</td>\n",
       "      <td>-194.3</td>\n",
       "      <td>0.230216</td>\n",
       "    </tr>\n",
       "    <tr>\n",
       "      <th>34777</th>\n",
       "      <td>No</td>\n",
       "      <td>4</td>\n",
       "      <td>NONE</td>\n",
       "      <td>29</td>\n",
       "      <td>2689.0</td>\n",
       "      <td>2661.0</td>\n",
       "      <td>14.1</td>\n",
       "      <td>-173.7</td>\n",
       "      <td>2018-03-20 14:12:01.654</td>\n",
       "      <td>Skin</td>\n",
       "      <td>...</td>\n",
       "      <td>6.0</td>\n",
       "      <td>11.7</td>\n",
       "      <td>-187.2</td>\n",
       "      <td>0</td>\n",
       "      <td>710</td>\n",
       "      <td>Target</td>\n",
       "      <td>14</td>\n",
       "      <td>2</td>\n",
       "      <td>-173.7</td>\n",
       "      <td>0.230216</td>\n",
       "    </tr>\n",
       "    <tr>\n",
       "      <th>34778</th>\n",
       "      <td>No</td>\n",
       "      <td>4</td>\n",
       "      <td>NONE</td>\n",
       "      <td>22</td>\n",
       "      <td>2717.0</td>\n",
       "      <td>2696.0</td>\n",
       "      <td>11.7</td>\n",
       "      <td>-187.2</td>\n",
       "      <td>2018-03-20 14:12:01.689</td>\n",
       "      <td>Skin</td>\n",
       "      <td>...</td>\n",
       "      <td>28.0</td>\n",
       "      <td>-98.5</td>\n",
       "      <td>-212.8</td>\n",
       "      <td>0</td>\n",
       "      <td>710</td>\n",
       "      <td>Target</td>\n",
       "      <td>14</td>\n",
       "      <td>2</td>\n",
       "      <td>-187.2</td>\n",
       "      <td>0.230216</td>\n",
       "    </tr>\n",
       "    <tr>\n",
       "      <th>34782</th>\n",
       "      <td>No</td>\n",
       "      <td>4</td>\n",
       "      <td>BEFORE</td>\n",
       "      <td>111</td>\n",
       "      <td>3669.0</td>\n",
       "      <td>3559.0</td>\n",
       "      <td>1140.5</td>\n",
       "      <td>-63.6</td>\n",
       "      <td>2018-03-20 14:12:03.411</td>\n",
       "      <td>Skin</td>\n",
       "      <td>...</td>\n",
       "      <td>71.0</td>\n",
       "      <td>752.7</td>\n",
       "      <td>-39.6</td>\n",
       "      <td>0</td>\n",
       "      <td>710</td>\n",
       "      <td>Target</td>\n",
       "      <td>14</td>\n",
       "      <td>2</td>\n",
       "      <td>-63.6</td>\n",
       "      <td>0.230216</td>\n",
       "    </tr>\n",
       "    <tr>\n",
       "      <th>34783</th>\n",
       "      <td>No</td>\n",
       "      <td>4</td>\n",
       "      <td>NONE</td>\n",
       "      <td>118</td>\n",
       "      <td>3858.0</td>\n",
       "      <td>3741.0</td>\n",
       "      <td>752.7</td>\n",
       "      <td>-39.6</td>\n",
       "      <td>2018-03-20 14:12:03.593</td>\n",
       "      <td>Skin</td>\n",
       "      <td>...</td>\n",
       "      <td>31.0</td>\n",
       "      <td>669.3</td>\n",
       "      <td>-28.6</td>\n",
       "      <td>0</td>\n",
       "      <td>710</td>\n",
       "      <td>Target</td>\n",
       "      <td>14</td>\n",
       "      <td>2</td>\n",
       "      <td>-39.6</td>\n",
       "      <td>0.230216</td>\n",
       "    </tr>\n",
       "    <tr>\n",
       "      <th>34785</th>\n",
       "      <td>No</td>\n",
       "      <td>4</td>\n",
       "      <td>NONE</td>\n",
       "      <td>43</td>\n",
       "      <td>4144.0</td>\n",
       "      <td>4102.0</td>\n",
       "      <td>356.1</td>\n",
       "      <td>-77.6</td>\n",
       "      <td>2018-03-20 14:12:03.954</td>\n",
       "      <td>Skin</td>\n",
       "      <td>...</td>\n",
       "      <td>10.0</td>\n",
       "      <td>351.8</td>\n",
       "      <td>-83.8</td>\n",
       "      <td>0</td>\n",
       "      <td>710</td>\n",
       "      <td>Target</td>\n",
       "      <td>14</td>\n",
       "      <td>2</td>\n",
       "      <td>-77.6</td>\n",
       "      <td>0.230216</td>\n",
       "    </tr>\n",
       "    <tr>\n",
       "      <th>34786</th>\n",
       "      <td>No</td>\n",
       "      <td>4</td>\n",
       "      <td>NONE</td>\n",
       "      <td>42</td>\n",
       "      <td>4196.0</td>\n",
       "      <td>4155.0</td>\n",
       "      <td>351.8</td>\n",
       "      <td>-83.8</td>\n",
       "      <td>2018-03-20 14:12:04.007</td>\n",
       "      <td>Skin</td>\n",
       "      <td>...</td>\n",
       "      <td>53.0</td>\n",
       "      <td>87.5</td>\n",
       "      <td>-231.3</td>\n",
       "      <td>0</td>\n",
       "      <td>710</td>\n",
       "      <td>Target</td>\n",
       "      <td>14</td>\n",
       "      <td>2</td>\n",
       "      <td>-83.8</td>\n",
       "      <td>0.230216</td>\n",
       "    </tr>\n",
       "    <tr>\n",
       "      <th>34787</th>\n",
       "      <td>No</td>\n",
       "      <td>4</td>\n",
       "      <td>NONE</td>\n",
       "      <td>118</td>\n",
       "      <td>4367.0</td>\n",
       "      <td>4250.0</td>\n",
       "      <td>87.5</td>\n",
       "      <td>-231.3</td>\n",
       "      <td>2018-03-20 14:12:04.102</td>\n",
       "      <td>Skin</td>\n",
       "      <td>...</td>\n",
       "      <td>50.0</td>\n",
       "      <td>-144.1</td>\n",
       "      <td>-235.7</td>\n",
       "      <td>0</td>\n",
       "      <td>710</td>\n",
       "      <td>Target</td>\n",
       "      <td>14</td>\n",
       "      <td>2</td>\n",
       "      <td>-231.3</td>\n",
       "      <td>0.230216</td>\n",
       "    </tr>\n",
       "    <tr>\n",
       "      <th>34807</th>\n",
       "      <td>No</td>\n",
       "      <td>4</td>\n",
       "      <td>NONE</td>\n",
       "      <td>35</td>\n",
       "      <td>8803.0</td>\n",
       "      <td>8769.0</td>\n",
       "      <td>-1.2</td>\n",
       "      <td>-182.2</td>\n",
       "      <td>2018-03-20 14:12:08.621</td>\n",
       "      <td>Skin</td>\n",
       "      <td>...</td>\n",
       "      <td>6.0</td>\n",
       "      <td>9.2</td>\n",
       "      <td>-161.9</td>\n",
       "      <td>0</td>\n",
       "      <td>710</td>\n",
       "      <td>Target</td>\n",
       "      <td>14</td>\n",
       "      <td>2</td>\n",
       "      <td>-182.2</td>\n",
       "      <td>0.230216</td>\n",
       "    </tr>\n",
       "    <tr>\n",
       "      <th>34808</th>\n",
       "      <td>No</td>\n",
       "      <td>4</td>\n",
       "      <td>NONE</td>\n",
       "      <td>46</td>\n",
       "      <td>8855.0</td>\n",
       "      <td>8810.0</td>\n",
       "      <td>9.2</td>\n",
       "      <td>-161.9</td>\n",
       "      <td>2018-03-20 14:12:08.662</td>\n",
       "      <td>Skin</td>\n",
       "      <td>...</td>\n",
       "      <td>57.0</td>\n",
       "      <td>-146.1</td>\n",
       "      <td>-251.5</td>\n",
       "      <td>0</td>\n",
       "      <td>710</td>\n",
       "      <td>Target</td>\n",
       "      <td>14</td>\n",
       "      <td>2</td>\n",
       "      <td>-161.9</td>\n",
       "      <td>0.230216</td>\n",
       "    </tr>\n",
       "    <tr>\n",
       "      <th>34818</th>\n",
       "      <td>No</td>\n",
       "      <td>4</td>\n",
       "      <td>NONE</td>\n",
       "      <td>61</td>\n",
       "      <td>11549.0</td>\n",
       "      <td>11489.0</td>\n",
       "      <td>-143.7</td>\n",
       "      <td>-260.8</td>\n",
       "      <td>2018-03-20 14:12:11.341</td>\n",
       "      <td>Skin</td>\n",
       "      <td>...</td>\n",
       "      <td>78.0</td>\n",
       "      <td>607.6</td>\n",
       "      <td>378.1</td>\n",
       "      <td>499</td>\n",
       "      <td>710</td>\n",
       "      <td>Target</td>\n",
       "      <td>14</td>\n",
       "      <td>2</td>\n",
       "      <td>238.2</td>\n",
       "      <td>0.230216</td>\n",
       "    </tr>\n",
       "    <tr>\n",
       "      <th>34891</th>\n",
       "      <td>No</td>\n",
       "      <td>4</td>\n",
       "      <td>NONE</td>\n",
       "      <td>79</td>\n",
       "      <td>29632.0</td>\n",
       "      <td>29554.0</td>\n",
       "      <td>1654.1</td>\n",
       "      <td>-135.3</td>\n",
       "      <td>2018-03-20 14:12:29.968</td>\n",
       "      <td>Skin</td>\n",
       "      <td>...</td>\n",
       "      <td>41.0</td>\n",
       "      <td>1534.1</td>\n",
       "      <td>-235.6</td>\n",
       "      <td>3449</td>\n",
       "      <td>710</td>\n",
       "      <td>Target</td>\n",
       "      <td>14</td>\n",
       "      <td>2</td>\n",
       "      <td>3313.7</td>\n",
       "      <td>0.230216</td>\n",
       "    </tr>\n",
       "    <tr>\n",
       "      <th>34892</th>\n",
       "      <td>No</td>\n",
       "      <td>4</td>\n",
       "      <td>NONE</td>\n",
       "      <td>96</td>\n",
       "      <td>29769.0</td>\n",
       "      <td>29674.0</td>\n",
       "      <td>1534.1</td>\n",
       "      <td>-235.6</td>\n",
       "      <td>2018-03-20 14:12:30.088</td>\n",
       "      <td>Skin</td>\n",
       "      <td>...</td>\n",
       "      <td>23.0</td>\n",
       "      <td>1592.1</td>\n",
       "      <td>-196.2</td>\n",
       "      <td>3449</td>\n",
       "      <td>710</td>\n",
       "      <td>Target</td>\n",
       "      <td>14</td>\n",
       "      <td>2</td>\n",
       "      <td>3213.4</td>\n",
       "      <td>0.230216</td>\n",
       "    </tr>\n",
       "    <tr>\n",
       "      <th>...</th>\n",
       "      <td>...</td>\n",
       "      <td>...</td>\n",
       "      <td>...</td>\n",
       "      <td>...</td>\n",
       "      <td>...</td>\n",
       "      <td>...</td>\n",
       "      <td>...</td>\n",
       "      <td>...</td>\n",
       "      <td>...</td>\n",
       "      <td>...</td>\n",
       "      <td>...</td>\n",
       "      <td>...</td>\n",
       "      <td>...</td>\n",
       "      <td>...</td>\n",
       "      <td>...</td>\n",
       "      <td>...</td>\n",
       "      <td>...</td>\n",
       "      <td>...</td>\n",
       "      <td>...</td>\n",
       "      <td>...</td>\n",
       "      <td>...</td>\n",
       "    </tr>\n",
       "    <tr>\n",
       "      <th>36884</th>\n",
       "      <td>No</td>\n",
       "      <td>2</td>\n",
       "      <td>NONE</td>\n",
       "      <td>26</td>\n",
       "      <td>5159.0</td>\n",
       "      <td>5134.0</td>\n",
       "      <td>1437.4</td>\n",
       "      <td>-8.4</td>\n",
       "      <td>2018-03-20 16:11:30.282</td>\n",
       "      <td>NoAd</td>\n",
       "      <td>...</td>\n",
       "      <td>17.0</td>\n",
       "      <td>1424.4</td>\n",
       "      <td>13.9</td>\n",
       "      <td>0</td>\n",
       "      <td>711</td>\n",
       "      <td>Target</td>\n",
       "      <td>8</td>\n",
       "      <td>15</td>\n",
       "      <td>-8.4</td>\n",
       "      <td>0.054054</td>\n",
       "    </tr>\n",
       "    <tr>\n",
       "      <th>37300</th>\n",
       "      <td>No</td>\n",
       "      <td>3</td>\n",
       "      <td>NONE</td>\n",
       "      <td>80</td>\n",
       "      <td>29079.0</td>\n",
       "      <td>29000.0</td>\n",
       "      <td>1485.2</td>\n",
       "      <td>-133.6</td>\n",
       "      <td>2018-03-20 16:16:00.777</td>\n",
       "      <td>Skin</td>\n",
       "      <td>...</td>\n",
       "      <td>10.0</td>\n",
       "      <td>1488.5</td>\n",
       "      <td>-158.9</td>\n",
       "      <td>600</td>\n",
       "      <td>711</td>\n",
       "      <td>Free</td>\n",
       "      <td>10</td>\n",
       "      <td>14</td>\n",
       "      <td>466.4</td>\n",
       "      <td>0.013761</td>\n",
       "    </tr>\n",
       "    <tr>\n",
       "      <th>37301</th>\n",
       "      <td>No</td>\n",
       "      <td>3</td>\n",
       "      <td>NONE</td>\n",
       "      <td>51</td>\n",
       "      <td>29140.0</td>\n",
       "      <td>29090.0</td>\n",
       "      <td>1488.5</td>\n",
       "      <td>-158.9</td>\n",
       "      <td>2018-03-20 16:16:00.867</td>\n",
       "      <td>Skin</td>\n",
       "      <td>...</td>\n",
       "      <td>35.0</td>\n",
       "      <td>1489.3</td>\n",
       "      <td>-156.5</td>\n",
       "      <td>600</td>\n",
       "      <td>711</td>\n",
       "      <td>Free</td>\n",
       "      <td>10</td>\n",
       "      <td>14</td>\n",
       "      <td>441.1</td>\n",
       "      <td>0.013761</td>\n",
       "    </tr>\n",
       "    <tr>\n",
       "      <th>37302</th>\n",
       "      <td>No</td>\n",
       "      <td>3</td>\n",
       "      <td>NONE</td>\n",
       "      <td>113</td>\n",
       "      <td>29288.0</td>\n",
       "      <td>29176.0</td>\n",
       "      <td>1489.3</td>\n",
       "      <td>-156.5</td>\n",
       "      <td>2018-03-20 16:16:00.953</td>\n",
       "      <td>Skin</td>\n",
       "      <td>...</td>\n",
       "      <td>51.0</td>\n",
       "      <td>1386.2</td>\n",
       "      <td>144.7</td>\n",
       "      <td>600</td>\n",
       "      <td>711</td>\n",
       "      <td>Free</td>\n",
       "      <td>10</td>\n",
       "      <td>14</td>\n",
       "      <td>443.5</td>\n",
       "      <td>0.013761</td>\n",
       "    </tr>\n",
       "    <tr>\n",
       "      <th>37462</th>\n",
       "      <td>No</td>\n",
       "      <td>6</td>\n",
       "      <td>NONE</td>\n",
       "      <td>43</td>\n",
       "      <td>17161.0</td>\n",
       "      <td>17119.0</td>\n",
       "      <td>1844.7</td>\n",
       "      <td>-17.0</td>\n",
       "      <td>2018-03-20 16:17:36.399</td>\n",
       "      <td>SkinMpu</td>\n",
       "      <td>...</td>\n",
       "      <td>7.0</td>\n",
       "      <td>1848.6</td>\n",
       "      <td>-0.4</td>\n",
       "      <td>3300</td>\n",
       "      <td>711</td>\n",
       "      <td>Target</td>\n",
       "      <td>11</td>\n",
       "      <td>3</td>\n",
       "      <td>3283.0</td>\n",
       "      <td>0.060976</td>\n",
       "    </tr>\n",
       "    <tr>\n",
       "      <th>37498</th>\n",
       "      <td>No</td>\n",
       "      <td>2</td>\n",
       "      <td>NONE</td>\n",
       "      <td>29</td>\n",
       "      <td>1704.0</td>\n",
       "      <td>1676.0</td>\n",
       "      <td>65.1</td>\n",
       "      <td>-188.6</td>\n",
       "      <td>2018-03-20 16:21:55.669</td>\n",
       "      <td>NoAd</td>\n",
       "      <td>...</td>\n",
       "      <td>40.0</td>\n",
       "      <td>-53.9</td>\n",
       "      <td>-183.3</td>\n",
       "      <td>0</td>\n",
       "      <td>711</td>\n",
       "      <td>Target</td>\n",
       "      <td>12</td>\n",
       "      <td>8</td>\n",
       "      <td>-188.6</td>\n",
       "      <td>0.035971</td>\n",
       "    </tr>\n",
       "    <tr>\n",
       "      <th>37654</th>\n",
       "      <td>No</td>\n",
       "      <td>4</td>\n",
       "      <td>NONE</td>\n",
       "      <td>102</td>\n",
       "      <td>5967.0</td>\n",
       "      <td>5866.0</td>\n",
       "      <td>525.3</td>\n",
       "      <td>-1.5</td>\n",
       "      <td>2018-03-20 16:23:19.859</td>\n",
       "      <td>Skin</td>\n",
       "      <td>...</td>\n",
       "      <td>25.0</td>\n",
       "      <td>420.0</td>\n",
       "      <td>-4.1</td>\n",
       "      <td>0</td>\n",
       "      <td>711</td>\n",
       "      <td>Target</td>\n",
       "      <td>13</td>\n",
       "      <td>1</td>\n",
       "      <td>-1.5</td>\n",
       "      <td>0.009132</td>\n",
       "    </tr>\n",
       "    <tr>\n",
       "      <th>37862</th>\n",
       "      <td>No</td>\n",
       "      <td>1</td>\n",
       "      <td>NONE</td>\n",
       "      <td>56</td>\n",
       "      <td>2610.0</td>\n",
       "      <td>2555.0</td>\n",
       "      <td>10.7</td>\n",
       "      <td>-187.2</td>\n",
       "      <td>2018-03-20 16:25:10.547</td>\n",
       "      <td>NoAd</td>\n",
       "      <td>...</td>\n",
       "      <td>7.0</td>\n",
       "      <td>9.8</td>\n",
       "      <td>-194.3</td>\n",
       "      <td>0</td>\n",
       "      <td>711</td>\n",
       "      <td>Free</td>\n",
       "      <td>14</td>\n",
       "      <td>10</td>\n",
       "      <td>-187.2</td>\n",
       "      <td>0.217687</td>\n",
       "    </tr>\n",
       "    <tr>\n",
       "      <th>37863</th>\n",
       "      <td>No</td>\n",
       "      <td>1</td>\n",
       "      <td>NONE</td>\n",
       "      <td>36</td>\n",
       "      <td>2653.0</td>\n",
       "      <td>2618.0</td>\n",
       "      <td>9.8</td>\n",
       "      <td>-194.3</td>\n",
       "      <td>2018-03-20 16:25:10.610</td>\n",
       "      <td>NoAd</td>\n",
       "      <td>...</td>\n",
       "      <td>7.0</td>\n",
       "      <td>14.1</td>\n",
       "      <td>-173.7</td>\n",
       "      <td>0</td>\n",
       "      <td>711</td>\n",
       "      <td>Free</td>\n",
       "      <td>14</td>\n",
       "      <td>10</td>\n",
       "      <td>-194.3</td>\n",
       "      <td>0.217687</td>\n",
       "    </tr>\n",
       "    <tr>\n",
       "      <th>37864</th>\n",
       "      <td>No</td>\n",
       "      <td>1</td>\n",
       "      <td>NONE</td>\n",
       "      <td>29</td>\n",
       "      <td>2689.0</td>\n",
       "      <td>2661.0</td>\n",
       "      <td>14.1</td>\n",
       "      <td>-173.7</td>\n",
       "      <td>2018-03-20 16:25:10.653</td>\n",
       "      <td>NoAd</td>\n",
       "      <td>...</td>\n",
       "      <td>6.0</td>\n",
       "      <td>11.7</td>\n",
       "      <td>-187.2</td>\n",
       "      <td>0</td>\n",
       "      <td>711</td>\n",
       "      <td>Free</td>\n",
       "      <td>14</td>\n",
       "      <td>10</td>\n",
       "      <td>-173.7</td>\n",
       "      <td>0.217687</td>\n",
       "    </tr>\n",
       "    <tr>\n",
       "      <th>37865</th>\n",
       "      <td>No</td>\n",
       "      <td>1</td>\n",
       "      <td>NONE</td>\n",
       "      <td>22</td>\n",
       "      <td>2717.0</td>\n",
       "      <td>2696.0</td>\n",
       "      <td>11.7</td>\n",
       "      <td>-187.2</td>\n",
       "      <td>2018-03-20 16:25:10.688</td>\n",
       "      <td>NoAd</td>\n",
       "      <td>...</td>\n",
       "      <td>28.0</td>\n",
       "      <td>-98.5</td>\n",
       "      <td>-212.8</td>\n",
       "      <td>0</td>\n",
       "      <td>711</td>\n",
       "      <td>Free</td>\n",
       "      <td>14</td>\n",
       "      <td>10</td>\n",
       "      <td>-187.2</td>\n",
       "      <td>0.217687</td>\n",
       "    </tr>\n",
       "    <tr>\n",
       "      <th>37869</th>\n",
       "      <td>No</td>\n",
       "      <td>1</td>\n",
       "      <td>BEFORE</td>\n",
       "      <td>111</td>\n",
       "      <td>3669.0</td>\n",
       "      <td>3559.0</td>\n",
       "      <td>1140.5</td>\n",
       "      <td>-63.6</td>\n",
       "      <td>2018-03-20 16:25:12.410</td>\n",
       "      <td>NoAd</td>\n",
       "      <td>...</td>\n",
       "      <td>71.0</td>\n",
       "      <td>752.7</td>\n",
       "      <td>-39.6</td>\n",
       "      <td>0</td>\n",
       "      <td>711</td>\n",
       "      <td>Free</td>\n",
       "      <td>14</td>\n",
       "      <td>10</td>\n",
       "      <td>-63.6</td>\n",
       "      <td>0.217687</td>\n",
       "    </tr>\n",
       "    <tr>\n",
       "      <th>37870</th>\n",
       "      <td>No</td>\n",
       "      <td>1</td>\n",
       "      <td>NONE</td>\n",
       "      <td>118</td>\n",
       "      <td>3858.0</td>\n",
       "      <td>3741.0</td>\n",
       "      <td>752.7</td>\n",
       "      <td>-39.6</td>\n",
       "      <td>2018-03-20 16:25:12.592</td>\n",
       "      <td>NoAd</td>\n",
       "      <td>...</td>\n",
       "      <td>31.0</td>\n",
       "      <td>669.3</td>\n",
       "      <td>-28.6</td>\n",
       "      <td>0</td>\n",
       "      <td>711</td>\n",
       "      <td>Free</td>\n",
       "      <td>14</td>\n",
       "      <td>10</td>\n",
       "      <td>-39.6</td>\n",
       "      <td>0.217687</td>\n",
       "    </tr>\n",
       "    <tr>\n",
       "      <th>37872</th>\n",
       "      <td>No</td>\n",
       "      <td>1</td>\n",
       "      <td>NONE</td>\n",
       "      <td>43</td>\n",
       "      <td>4144.0</td>\n",
       "      <td>4102.0</td>\n",
       "      <td>356.1</td>\n",
       "      <td>-77.6</td>\n",
       "      <td>2018-03-20 16:25:12.953</td>\n",
       "      <td>NoAd</td>\n",
       "      <td>...</td>\n",
       "      <td>10.0</td>\n",
       "      <td>351.8</td>\n",
       "      <td>-83.8</td>\n",
       "      <td>0</td>\n",
       "      <td>711</td>\n",
       "      <td>Free</td>\n",
       "      <td>14</td>\n",
       "      <td>10</td>\n",
       "      <td>-77.6</td>\n",
       "      <td>0.217687</td>\n",
       "    </tr>\n",
       "    <tr>\n",
       "      <th>37873</th>\n",
       "      <td>No</td>\n",
       "      <td>1</td>\n",
       "      <td>NONE</td>\n",
       "      <td>42</td>\n",
       "      <td>4196.0</td>\n",
       "      <td>4155.0</td>\n",
       "      <td>351.8</td>\n",
       "      <td>-83.8</td>\n",
       "      <td>2018-03-20 16:25:13.006</td>\n",
       "      <td>NoAd</td>\n",
       "      <td>...</td>\n",
       "      <td>53.0</td>\n",
       "      <td>87.5</td>\n",
       "      <td>-231.3</td>\n",
       "      <td>0</td>\n",
       "      <td>711</td>\n",
       "      <td>Free</td>\n",
       "      <td>14</td>\n",
       "      <td>10</td>\n",
       "      <td>-83.8</td>\n",
       "      <td>0.217687</td>\n",
       "    </tr>\n",
       "    <tr>\n",
       "      <th>37874</th>\n",
       "      <td>No</td>\n",
       "      <td>1</td>\n",
       "      <td>NONE</td>\n",
       "      <td>118</td>\n",
       "      <td>4367.0</td>\n",
       "      <td>4250.0</td>\n",
       "      <td>87.5</td>\n",
       "      <td>-231.3</td>\n",
       "      <td>2018-03-20 16:25:13.101</td>\n",
       "      <td>NoAd</td>\n",
       "      <td>...</td>\n",
       "      <td>50.0</td>\n",
       "      <td>-144.1</td>\n",
       "      <td>-235.7</td>\n",
       "      <td>0</td>\n",
       "      <td>711</td>\n",
       "      <td>Free</td>\n",
       "      <td>14</td>\n",
       "      <td>10</td>\n",
       "      <td>-231.3</td>\n",
       "      <td>0.217687</td>\n",
       "    </tr>\n",
       "    <tr>\n",
       "      <th>37894</th>\n",
       "      <td>No</td>\n",
       "      <td>1</td>\n",
       "      <td>NONE</td>\n",
       "      <td>35</td>\n",
       "      <td>8803.0</td>\n",
       "      <td>8769.0</td>\n",
       "      <td>-1.2</td>\n",
       "      <td>-182.2</td>\n",
       "      <td>2018-03-20 16:25:17.620</td>\n",
       "      <td>NoAd</td>\n",
       "      <td>...</td>\n",
       "      <td>6.0</td>\n",
       "      <td>9.2</td>\n",
       "      <td>-161.9</td>\n",
       "      <td>0</td>\n",
       "      <td>711</td>\n",
       "      <td>Free</td>\n",
       "      <td>14</td>\n",
       "      <td>10</td>\n",
       "      <td>-182.2</td>\n",
       "      <td>0.217687</td>\n",
       "    </tr>\n",
       "    <tr>\n",
       "      <th>37895</th>\n",
       "      <td>No</td>\n",
       "      <td>1</td>\n",
       "      <td>NONE</td>\n",
       "      <td>46</td>\n",
       "      <td>8855.0</td>\n",
       "      <td>8810.0</td>\n",
       "      <td>9.2</td>\n",
       "      <td>-161.9</td>\n",
       "      <td>2018-03-20 16:25:17.661</td>\n",
       "      <td>NoAd</td>\n",
       "      <td>...</td>\n",
       "      <td>57.0</td>\n",
       "      <td>-146.1</td>\n",
       "      <td>-251.5</td>\n",
       "      <td>0</td>\n",
       "      <td>711</td>\n",
       "      <td>Free</td>\n",
       "      <td>14</td>\n",
       "      <td>10</td>\n",
       "      <td>-161.9</td>\n",
       "      <td>0.217687</td>\n",
       "    </tr>\n",
       "    <tr>\n",
       "      <th>37905</th>\n",
       "      <td>No</td>\n",
       "      <td>1</td>\n",
       "      <td>NONE</td>\n",
       "      <td>61</td>\n",
       "      <td>11549.0</td>\n",
       "      <td>11489.0</td>\n",
       "      <td>-143.7</td>\n",
       "      <td>-260.8</td>\n",
       "      <td>2018-03-20 16:25:20.340</td>\n",
       "      <td>NoAd</td>\n",
       "      <td>...</td>\n",
       "      <td>78.0</td>\n",
       "      <td>607.6</td>\n",
       "      <td>378.1</td>\n",
       "      <td>300</td>\n",
       "      <td>711</td>\n",
       "      <td>Free</td>\n",
       "      <td>14</td>\n",
       "      <td>10</td>\n",
       "      <td>39.2</td>\n",
       "      <td>0.217687</td>\n",
       "    </tr>\n",
       "    <tr>\n",
       "      <th>37978</th>\n",
       "      <td>No</td>\n",
       "      <td>1</td>\n",
       "      <td>NONE</td>\n",
       "      <td>79</td>\n",
       "      <td>29632.0</td>\n",
       "      <td>29554.0</td>\n",
       "      <td>1654.1</td>\n",
       "      <td>-135.3</td>\n",
       "      <td>2018-03-20 16:25:38.967</td>\n",
       "      <td>NoAd</td>\n",
       "      <td>...</td>\n",
       "      <td>41.0</td>\n",
       "      <td>1534.1</td>\n",
       "      <td>-235.6</td>\n",
       "      <td>1200</td>\n",
       "      <td>711</td>\n",
       "      <td>Free</td>\n",
       "      <td>14</td>\n",
       "      <td>10</td>\n",
       "      <td>1064.7</td>\n",
       "      <td>0.217687</td>\n",
       "    </tr>\n",
       "    <tr>\n",
       "      <th>37979</th>\n",
       "      <td>No</td>\n",
       "      <td>1</td>\n",
       "      <td>NONE</td>\n",
       "      <td>96</td>\n",
       "      <td>29769.0</td>\n",
       "      <td>29674.0</td>\n",
       "      <td>1534.1</td>\n",
       "      <td>-235.6</td>\n",
       "      <td>2018-03-20 16:25:39.087</td>\n",
       "      <td>NoAd</td>\n",
       "      <td>...</td>\n",
       "      <td>23.0</td>\n",
       "      <td>1592.1</td>\n",
       "      <td>-196.2</td>\n",
       "      <td>1200</td>\n",
       "      <td>711</td>\n",
       "      <td>Free</td>\n",
       "      <td>14</td>\n",
       "      <td>10</td>\n",
       "      <td>964.4</td>\n",
       "      <td>0.217687</td>\n",
       "    </tr>\n",
       "    <tr>\n",
       "      <th>38408</th>\n",
       "      <td>No</td>\n",
       "      <td>1</td>\n",
       "      <td>NONE</td>\n",
       "      <td>52</td>\n",
       "      <td>45259.0</td>\n",
       "      <td>45208.0</td>\n",
       "      <td>34.7</td>\n",
       "      <td>-87.8</td>\n",
       "      <td>2018-03-20 16:32:10.981</td>\n",
       "      <td>NoAd</td>\n",
       "      <td>...</td>\n",
       "      <td>126.0</td>\n",
       "      <td>987.1</td>\n",
       "      <td>744.6</td>\n",
       "      <td>5700</td>\n",
       "      <td>711</td>\n",
       "      <td>Free</td>\n",
       "      <td>17</td>\n",
       "      <td>6</td>\n",
       "      <td>5612.2</td>\n",
       "      <td>0.036082</td>\n",
       "    </tr>\n",
       "    <tr>\n",
       "      <th>38469</th>\n",
       "      <td>No</td>\n",
       "      <td>4</td>\n",
       "      <td>NONE</td>\n",
       "      <td>99</td>\n",
       "      <td>3500.0</td>\n",
       "      <td>3402.0</td>\n",
       "      <td>800.7</td>\n",
       "      <td>-59.2</td>\n",
       "      <td>2018-03-20 16:33:23.611</td>\n",
       "      <td>Skin</td>\n",
       "      <td>...</td>\n",
       "      <td>70.0</td>\n",
       "      <td>438.5</td>\n",
       "      <td>-49.0</td>\n",
       "      <td>0</td>\n",
       "      <td>711</td>\n",
       "      <td>Target</td>\n",
       "      <td>18</td>\n",
       "      <td>13</td>\n",
       "      <td>-59.2</td>\n",
       "      <td>0.074380</td>\n",
       "    </tr>\n",
       "    <tr>\n",
       "      <th>49193</th>\n",
       "      <td>No</td>\n",
       "      <td>2</td>\n",
       "      <td>NONE</td>\n",
       "      <td>64</td>\n",
       "      <td>3713.0</td>\n",
       "      <td>3650.0</td>\n",
       "      <td>1971.0</td>\n",
       "      <td>-117.6</td>\n",
       "      <td>2018-04-24 17:14:26.643</td>\n",
       "      <td>NoAd</td>\n",
       "      <td>...</td>\n",
       "      <td>17.0</td>\n",
       "      <td>1940.8</td>\n",
       "      <td>-81.3</td>\n",
       "      <td>0</td>\n",
       "      <td>8</td>\n",
       "      <td>Target</td>\n",
       "      <td>13</td>\n",
       "      <td>13</td>\n",
       "      <td>-117.6</td>\n",
       "      <td>0.006250</td>\n",
       "    </tr>\n",
       "    <tr>\n",
       "      <th>49705</th>\n",
       "      <td>No</td>\n",
       "      <td>2</td>\n",
       "      <td>NONE</td>\n",
       "      <td>25</td>\n",
       "      <td>2042.0</td>\n",
       "      <td>2018.0</td>\n",
       "      <td>1846.6</td>\n",
       "      <td>-8.3</td>\n",
       "      <td>2018-04-24 17:18:07.011</td>\n",
       "      <td>NoAd</td>\n",
       "      <td>...</td>\n",
       "      <td>17.0</td>\n",
       "      <td>1845.1</td>\n",
       "      <td>-6.9</td>\n",
       "      <td>0</td>\n",
       "      <td>8</td>\n",
       "      <td>Target</td>\n",
       "      <td>15</td>\n",
       "      <td>2</td>\n",
       "      <td>-8.3</td>\n",
       "      <td>0.024490</td>\n",
       "    </tr>\n",
       "    <tr>\n",
       "      <th>49706</th>\n",
       "      <td>No</td>\n",
       "      <td>2</td>\n",
       "      <td>NONE</td>\n",
       "      <td>25</td>\n",
       "      <td>2084.0</td>\n",
       "      <td>2060.0</td>\n",
       "      <td>1845.1</td>\n",
       "      <td>-6.9</td>\n",
       "      <td>2018-04-24 17:18:07.053</td>\n",
       "      <td>NoAd</td>\n",
       "      <td>...</td>\n",
       "      <td>74.0</td>\n",
       "      <td>2015.3</td>\n",
       "      <td>-120.8</td>\n",
       "      <td>0</td>\n",
       "      <td>8</td>\n",
       "      <td>Target</td>\n",
       "      <td>15</td>\n",
       "      <td>2</td>\n",
       "      <td>-6.9</td>\n",
       "      <td>0.024490</td>\n",
       "    </tr>\n",
       "    <tr>\n",
       "      <th>49707</th>\n",
       "      <td>No</td>\n",
       "      <td>2</td>\n",
       "      <td>NONE</td>\n",
       "      <td>23</td>\n",
       "      <td>2181.0</td>\n",
       "      <td>2159.0</td>\n",
       "      <td>2015.3</td>\n",
       "      <td>-120.8</td>\n",
       "      <td>2018-04-24 17:18:07.152</td>\n",
       "      <td>NoAd</td>\n",
       "      <td>...</td>\n",
       "      <td>16.0</td>\n",
       "      <td>2018.3</td>\n",
       "      <td>-119.3</td>\n",
       "      <td>0</td>\n",
       "      <td>8</td>\n",
       "      <td>Target</td>\n",
       "      <td>15</td>\n",
       "      <td>2</td>\n",
       "      <td>-120.8</td>\n",
       "      <td>0.024490</td>\n",
       "    </tr>\n",
       "    <tr>\n",
       "      <th>49708</th>\n",
       "      <td>No</td>\n",
       "      <td>2</td>\n",
       "      <td>NONE</td>\n",
       "      <td>23</td>\n",
       "      <td>2220.0</td>\n",
       "      <td>2198.0</td>\n",
       "      <td>2018.3</td>\n",
       "      <td>-119.3</td>\n",
       "      <td>2018-04-24 17:18:07.191</td>\n",
       "      <td>NoAd</td>\n",
       "      <td>...</td>\n",
       "      <td>58.0</td>\n",
       "      <td>1489.0</td>\n",
       "      <td>37.0</td>\n",
       "      <td>0</td>\n",
       "      <td>8</td>\n",
       "      <td>Target</td>\n",
       "      <td>15</td>\n",
       "      <td>2</td>\n",
       "      <td>-119.3</td>\n",
       "      <td>0.024490</td>\n",
       "    </tr>\n",
       "    <tr>\n",
       "      <th>50704</th>\n",
       "      <td>No</td>\n",
       "      <td>1</td>\n",
       "      <td>NONE</td>\n",
       "      <td>28</td>\n",
       "      <td>6356.0</td>\n",
       "      <td>6330.0</td>\n",
       "      <td>1351.3</td>\n",
       "      <td>-17.1</td>\n",
       "      <td>2018-04-24 14:12:15.462</td>\n",
       "      <td>NoAd</td>\n",
       "      <td>...</td>\n",
       "      <td>32.0</td>\n",
       "      <td>1277.8</td>\n",
       "      <td>13.6</td>\n",
       "      <td>0</td>\n",
       "      <td>7</td>\n",
       "      <td>Free</td>\n",
       "      <td>1</td>\n",
       "      <td>7</td>\n",
       "      <td>-17.1</td>\n",
       "      <td>0.017621</td>\n",
       "    </tr>\n",
       "    <tr>\n",
       "      <th>52481</th>\n",
       "      <td>No</td>\n",
       "      <td>5</td>\n",
       "      <td>NONE</td>\n",
       "      <td>85</td>\n",
       "      <td>3130.0</td>\n",
       "      <td>3046.0</td>\n",
       "      <td>1420.7</td>\n",
       "      <td>-62.5</td>\n",
       "      <td>2018-04-24 14:26:30.700</td>\n",
       "      <td>SkinMpu</td>\n",
       "      <td>...</td>\n",
       "      <td>87.0</td>\n",
       "      <td>1590.1</td>\n",
       "      <td>669.0</td>\n",
       "      <td>0</td>\n",
       "      <td>7</td>\n",
       "      <td>Free</td>\n",
       "      <td>10</td>\n",
       "      <td>18</td>\n",
       "      <td>-62.5</td>\n",
       "      <td>0.011858</td>\n",
       "    </tr>\n",
       "  </tbody>\n",
       "</table>\n",
       "<p>67 rows × 31 columns</p>\n",
       "</div>"
      ],
      "text/plain": [
       "      CALIBRATION_PROBLEM  CONDITION CURRENT_FIX_BLINK_AROUND  \\\n",
       "723                    No          4                   BEFORE   \n",
       "12287                  No          2                     NONE   \n",
       "12291                  No          2                     NONE   \n",
       "20965                  No          1                     NONE   \n",
       "24540                  No          5                     NONE   \n",
       "33557                  No          2                     NONE   \n",
       "33709                  No          4                     NONE   \n",
       "33710                  No          4                     NONE   \n",
       "33711                  No          4                     NONE   \n",
       "33714                  No          4                     NONE   \n",
       "34135                  No          5                     NONE   \n",
       "34136                  No          5                     NONE   \n",
       "34137                  No          5                     NONE   \n",
       "34297                  No          6                     NONE   \n",
       "34333                  No          5                     NONE   \n",
       "34561                  No          3                     NONE   \n",
       "34775                  No          4                     NONE   \n",
       "34776                  No          4                     NONE   \n",
       "34777                  No          4                     NONE   \n",
       "34778                  No          4                     NONE   \n",
       "34782                  No          4                   BEFORE   \n",
       "34783                  No          4                     NONE   \n",
       "34785                  No          4                     NONE   \n",
       "34786                  No          4                     NONE   \n",
       "34787                  No          4                     NONE   \n",
       "34807                  No          4                     NONE   \n",
       "34808                  No          4                     NONE   \n",
       "34818                  No          4                     NONE   \n",
       "34891                  No          4                     NONE   \n",
       "34892                  No          4                     NONE   \n",
       "...                   ...        ...                      ...   \n",
       "36884                  No          2                     NONE   \n",
       "37300                  No          3                     NONE   \n",
       "37301                  No          3                     NONE   \n",
       "37302                  No          3                     NONE   \n",
       "37462                  No          6                     NONE   \n",
       "37498                  No          2                     NONE   \n",
       "37654                  No          4                     NONE   \n",
       "37862                  No          1                     NONE   \n",
       "37863                  No          1                     NONE   \n",
       "37864                  No          1                     NONE   \n",
       "37865                  No          1                     NONE   \n",
       "37869                  No          1                   BEFORE   \n",
       "37870                  No          1                     NONE   \n",
       "37872                  No          1                     NONE   \n",
       "37873                  No          1                     NONE   \n",
       "37874                  No          1                     NONE   \n",
       "37894                  No          1                     NONE   \n",
       "37895                  No          1                     NONE   \n",
       "37905                  No          1                     NONE   \n",
       "37978                  No          1                     NONE   \n",
       "37979                  No          1                     NONE   \n",
       "38408                  No          1                     NONE   \n",
       "38469                  No          4                     NONE   \n",
       "49193                  No          2                     NONE   \n",
       "49705                  No          2                     NONE   \n",
       "49706                  No          2                     NONE   \n",
       "49707                  No          2                     NONE   \n",
       "49708                  No          2                     NONE   \n",
       "50704                  No          1                     NONE   \n",
       "52481                  No          5                     NONE   \n",
       "\n",
       "       CURRENT_FIX_DURATION  CURRENT_FIX_END  CURRENT_FIX_START  \\\n",
       "723                      48          10418.0            10371.0   \n",
       "12287                   104          67823.0            67720.0   \n",
       "12291                   113          68477.0            68365.0   \n",
       "20965                    93          16247.0            16155.0   \n",
       "24540                    94           5392.0             5299.0   \n",
       "33557                    29           5584.0             5556.0   \n",
       "33709                   109           4169.0             4061.0   \n",
       "33710                    61           4236.0             4176.0   \n",
       "33711                    53           4304.0             4252.0   \n",
       "33714                    26           5159.0             5134.0   \n",
       "34135                    80          29079.0            29000.0   \n",
       "34136                    51          29140.0            29090.0   \n",
       "34137                   113          29288.0            29176.0   \n",
       "34297                    43          17161.0            17119.0   \n",
       "34333                    29           1704.0             1676.0   \n",
       "34561                   102           5967.0             5866.0   \n",
       "34775                    56           2610.0             2555.0   \n",
       "34776                    36           2653.0             2618.0   \n",
       "34777                    29           2689.0             2661.0   \n",
       "34778                    22           2717.0             2696.0   \n",
       "34782                   111           3669.0             3559.0   \n",
       "34783                   118           3858.0             3741.0   \n",
       "34785                    43           4144.0             4102.0   \n",
       "34786                    42           4196.0             4155.0   \n",
       "34787                   118           4367.0             4250.0   \n",
       "34807                    35           8803.0             8769.0   \n",
       "34808                    46           8855.0             8810.0   \n",
       "34818                    61          11549.0            11489.0   \n",
       "34891                    79          29632.0            29554.0   \n",
       "34892                    96          29769.0            29674.0   \n",
       "...                     ...              ...                ...   \n",
       "36884                    26           5159.0             5134.0   \n",
       "37300                    80          29079.0            29000.0   \n",
       "37301                    51          29140.0            29090.0   \n",
       "37302                   113          29288.0            29176.0   \n",
       "37462                    43          17161.0            17119.0   \n",
       "37498                    29           1704.0             1676.0   \n",
       "37654                   102           5967.0             5866.0   \n",
       "37862                    56           2610.0             2555.0   \n",
       "37863                    36           2653.0             2618.0   \n",
       "37864                    29           2689.0             2661.0   \n",
       "37865                    22           2717.0             2696.0   \n",
       "37869                   111           3669.0             3559.0   \n",
       "37870                   118           3858.0             3741.0   \n",
       "37872                    43           4144.0             4102.0   \n",
       "37873                    42           4196.0             4155.0   \n",
       "37874                   118           4367.0             4250.0   \n",
       "37894                    35           8803.0             8769.0   \n",
       "37895                    46           8855.0             8810.0   \n",
       "37905                    61          11549.0            11489.0   \n",
       "37978                    79          29632.0            29554.0   \n",
       "37979                    96          29769.0            29674.0   \n",
       "38408                    52          45259.0            45208.0   \n",
       "38469                    99           3500.0             3402.0   \n",
       "49193                    64           3713.0             3650.0   \n",
       "49705                    25           2042.0             2018.0   \n",
       "49706                    25           2084.0             2060.0   \n",
       "49707                    23           2181.0             2159.0   \n",
       "49708                    23           2220.0             2198.0   \n",
       "50704                    28           6356.0             6330.0   \n",
       "52481                    85           3130.0             3046.0   \n",
       "\n",
       "       CURRENT_FIX_X  CURRENT_FIX_Y                 DATETIME DISTRACTOR  \\\n",
       "723           1061.2           -7.2  2018-03-27 11:02:50.298       Skin   \n",
       "12287         1863.6         -200.0  2018-03-27 15:14:20.757       NoAd   \n",
       "12291         1550.2          -86.1  2018-03-27 15:14:21.402       NoAd   \n",
       "20965         2029.2         -117.6  2018-04-03 16:14:25.149       NoAd   \n",
       "24540         1833.9         -163.0  2018-04-03 17:39:09.629    SkinMpu   \n",
       "33557         1506.1         -220.8  2018-03-20 13:59:59.001       NoAd   \n",
       "33709         1449.1          -78.7  2018-03-20 14:03:13.054       Skin   \n",
       "33710         1437.1          -50.0  2018-03-20 14:03:13.169       Skin   \n",
       "33711         1448.1          -74.3  2018-03-20 14:03:13.245       Skin   \n",
       "33714         1437.4           -8.4  2018-03-20 14:03:14.283       Skin   \n",
       "34135         1485.2         -133.6  2018-03-20 14:06:32.777    SkinMpu   \n",
       "34136         1488.5         -158.9  2018-03-20 14:06:32.867    SkinMpu   \n",
       "34137         1489.3         -156.5  2018-03-20 14:06:32.953    SkinMpu   \n",
       "34297         1844.7          -17.0  2018-03-20 14:07:56.398    SkinMpu   \n",
       "34333           65.1         -188.6  2018-03-20 14:08:42.669    SkinMpu   \n",
       "34561          525.3           -1.5  2018-03-20 14:10:28.859       Skin   \n",
       "34775           10.7         -187.2  2018-03-20 14:12:01.548       Skin   \n",
       "34776            9.8         -194.3  2018-03-20 14:12:01.611       Skin   \n",
       "34777           14.1         -173.7  2018-03-20 14:12:01.654       Skin   \n",
       "34778           11.7         -187.2  2018-03-20 14:12:01.689       Skin   \n",
       "34782         1140.5          -63.6  2018-03-20 14:12:03.411       Skin   \n",
       "34783          752.7          -39.6  2018-03-20 14:12:03.593       Skin   \n",
       "34785          356.1          -77.6  2018-03-20 14:12:03.954       Skin   \n",
       "34786          351.8          -83.8  2018-03-20 14:12:04.007       Skin   \n",
       "34787           87.5         -231.3  2018-03-20 14:12:04.102       Skin   \n",
       "34807           -1.2         -182.2  2018-03-20 14:12:08.621       Skin   \n",
       "34808            9.2         -161.9  2018-03-20 14:12:08.662       Skin   \n",
       "34818         -143.7         -260.8  2018-03-20 14:12:11.341       Skin   \n",
       "34891         1654.1         -135.3  2018-03-20 14:12:29.968       Skin   \n",
       "34892         1534.1         -235.6  2018-03-20 14:12:30.088       Skin   \n",
       "...              ...            ...                      ...        ...   \n",
       "36884         1437.4           -8.4  2018-03-20 16:11:30.282       NoAd   \n",
       "37300         1485.2         -133.6  2018-03-20 16:16:00.777       Skin   \n",
       "37301         1488.5         -158.9  2018-03-20 16:16:00.867       Skin   \n",
       "37302         1489.3         -156.5  2018-03-20 16:16:00.953       Skin   \n",
       "37462         1844.7          -17.0  2018-03-20 16:17:36.399    SkinMpu   \n",
       "37498           65.1         -188.6  2018-03-20 16:21:55.669       NoAd   \n",
       "37654          525.3           -1.5  2018-03-20 16:23:19.859       Skin   \n",
       "37862           10.7         -187.2  2018-03-20 16:25:10.547       NoAd   \n",
       "37863            9.8         -194.3  2018-03-20 16:25:10.610       NoAd   \n",
       "37864           14.1         -173.7  2018-03-20 16:25:10.653       NoAd   \n",
       "37865           11.7         -187.2  2018-03-20 16:25:10.688       NoAd   \n",
       "37869         1140.5          -63.6  2018-03-20 16:25:12.410       NoAd   \n",
       "37870          752.7          -39.6  2018-03-20 16:25:12.592       NoAd   \n",
       "37872          356.1          -77.6  2018-03-20 16:25:12.953       NoAd   \n",
       "37873          351.8          -83.8  2018-03-20 16:25:13.006       NoAd   \n",
       "37874           87.5         -231.3  2018-03-20 16:25:13.101       NoAd   \n",
       "37894           -1.2         -182.2  2018-03-20 16:25:17.620       NoAd   \n",
       "37895            9.2         -161.9  2018-03-20 16:25:17.661       NoAd   \n",
       "37905         -143.7         -260.8  2018-03-20 16:25:20.340       NoAd   \n",
       "37978         1654.1         -135.3  2018-03-20 16:25:38.967       NoAd   \n",
       "37979         1534.1         -235.6  2018-03-20 16:25:39.087       NoAd   \n",
       "38408           34.7          -87.8  2018-03-20 16:32:10.981       NoAd   \n",
       "38469          800.7          -59.2  2018-03-20 16:33:23.611       Skin   \n",
       "49193         1971.0         -117.6  2018-04-24 17:14:26.643       NoAd   \n",
       "49705         1846.6           -8.3  2018-04-24 17:18:07.011       NoAd   \n",
       "49706         1845.1           -6.9  2018-04-24 17:18:07.053       NoAd   \n",
       "49707         2015.3         -120.8  2018-04-24 17:18:07.152       NoAd   \n",
       "49708         2018.3         -119.3  2018-04-24 17:18:07.191       NoAd   \n",
       "50704         1351.3          -17.1  2018-04-24 14:12:15.462       NoAd   \n",
       "52481         1420.7          -62.5  2018-04-24 14:26:30.700    SkinMpu   \n",
       "\n",
       "          ...     NEXT_SAC_DURATION NEXT_SAC_END_X NEXT_SAC_END_Y  OFFSET  \\\n",
       "723       ...                  28.0          922.8           42.1    2600   \n",
       "12287     ...                  13.0         1865.0         -198.4    2745   \n",
       "12291     ...                  73.0          940.7          -22.4    2293   \n",
       "20965     ...                 115.0          -39.4           31.8     900   \n",
       "24540     ...                  26.0         1794.8         -211.8     200   \n",
       "33557     ...                  46.0         1406.8           13.0    1000   \n",
       "33709     ...                   6.0         1437.1          -50.0       0   \n",
       "33710     ...                  15.0         1448.1          -74.3       0   \n",
       "33711     ...                  23.0         1400.4          -23.3       0   \n",
       "33714     ...                  17.0         1424.4           13.9       0   \n",
       "34135     ...                  10.0         1488.5         -158.9       0   \n",
       "34136     ...                  35.0         1489.3         -156.5       0   \n",
       "34137     ...                  51.0         1386.2          144.7       0   \n",
       "34297     ...                   7.0         1848.6           -0.4    4400   \n",
       "34333     ...                  40.0          -53.9         -183.3       0   \n",
       "34561     ...                  25.0          420.0           -4.1       0   \n",
       "34775     ...                   7.0            9.8         -194.3       0   \n",
       "34776     ...                   7.0           14.1         -173.7       0   \n",
       "34777     ...                   6.0           11.7         -187.2       0   \n",
       "34778     ...                  28.0          -98.5         -212.8       0   \n",
       "34782     ...                  71.0          752.7          -39.6       0   \n",
       "34783     ...                  31.0          669.3          -28.6       0   \n",
       "34785     ...                  10.0          351.8          -83.8       0   \n",
       "34786     ...                  53.0           87.5         -231.3       0   \n",
       "34787     ...                  50.0         -144.1         -235.7       0   \n",
       "34807     ...                   6.0            9.2         -161.9       0   \n",
       "34808     ...                  57.0         -146.1         -251.5       0   \n",
       "34818     ...                  78.0          607.6          378.1     499   \n",
       "34891     ...                  41.0         1534.1         -235.6    3449   \n",
       "34892     ...                  23.0         1592.1         -196.2    3449   \n",
       "...       ...                   ...            ...            ...     ...   \n",
       "36884     ...                  17.0         1424.4           13.9       0   \n",
       "37300     ...                  10.0         1488.5         -158.9     600   \n",
       "37301     ...                  35.0         1489.3         -156.5     600   \n",
       "37302     ...                  51.0         1386.2          144.7     600   \n",
       "37462     ...                   7.0         1848.6           -0.4    3300   \n",
       "37498     ...                  40.0          -53.9         -183.3       0   \n",
       "37654     ...                  25.0          420.0           -4.1       0   \n",
       "37862     ...                   7.0            9.8         -194.3       0   \n",
       "37863     ...                   7.0           14.1         -173.7       0   \n",
       "37864     ...                   6.0           11.7         -187.2       0   \n",
       "37865     ...                  28.0          -98.5         -212.8       0   \n",
       "37869     ...                  71.0          752.7          -39.6       0   \n",
       "37870     ...                  31.0          669.3          -28.6       0   \n",
       "37872     ...                  10.0          351.8          -83.8       0   \n",
       "37873     ...                  53.0           87.5         -231.3       0   \n",
       "37874     ...                  50.0         -144.1         -235.7       0   \n",
       "37894     ...                   6.0            9.2         -161.9       0   \n",
       "37895     ...                  57.0         -146.1         -251.5       0   \n",
       "37905     ...                  78.0          607.6          378.1     300   \n",
       "37978     ...                  41.0         1534.1         -235.6    1200   \n",
       "37979     ...                  23.0         1592.1         -196.2    1200   \n",
       "38408     ...                 126.0          987.1          744.6    5700   \n",
       "38469     ...                  70.0          438.5          -49.0       0   \n",
       "49193     ...                  17.0         1940.8          -81.3       0   \n",
       "49705     ...                  17.0         1845.1           -6.9       0   \n",
       "49706     ...                  74.0         2015.3         -120.8       0   \n",
       "49707     ...                  16.0         2018.3         -119.3       0   \n",
       "49708     ...                  58.0         1489.0           37.0       0   \n",
       "50704     ...                  32.0         1277.8           13.6       0   \n",
       "52481     ...                  87.0         1590.1          669.0       0   \n",
       "\n",
       "       PART_ID    TASK  TRIAL_INDEX  WEBSITE_ID  Y_OFFSET error_ratio  \n",
       "723        713  Target            5           2    2592.8    0.010830  \n",
       "12287      715  Target           16           2    2545.0    0.033482  \n",
       "12291      715  Target           16           2    2206.9    0.033482  \n",
       "20965        2    Free           11           2     782.4    0.027907  \n",
       "24540        3    Free           12          15      37.0    0.009009  \n",
       "33557      710  Target            6           3     779.2    0.008000  \n",
       "33709      710  Target            8          10     -78.7    0.054422  \n",
       "33710      710  Target            8          10     -50.0    0.054422  \n",
       "33711      710  Target            8          10     -74.3    0.054422  \n",
       "33714      710  Target            8          10      -8.4    0.054422  \n",
       "34135      710    Free           10           8    -133.6    0.013761  \n",
       "34136      710    Free           10           8    -158.9    0.013761  \n",
       "34137      710    Free           10           8    -156.5    0.013761  \n",
       "34297      710  Target           11          13    4383.0    0.060976  \n",
       "34333      710    Free           12          14    -188.6    0.023697  \n",
       "34561      710    Free           13          15      -1.5    0.008889  \n",
       "34775      710  Target           14           2    -187.2    0.230216  \n",
       "34776      710  Target           14           2    -194.3    0.230216  \n",
       "34777      710  Target           14           2    -173.7    0.230216  \n",
       "34778      710  Target           14           2    -187.2    0.230216  \n",
       "34782      710  Target           14           2     -63.6    0.230216  \n",
       "34783      710  Target           14           2     -39.6    0.230216  \n",
       "34785      710  Target           14           2     -77.6    0.230216  \n",
       "34786      710  Target           14           2     -83.8    0.230216  \n",
       "34787      710  Target           14           2    -231.3    0.230216  \n",
       "34807      710  Target           14           2    -182.2    0.230216  \n",
       "34808      710  Target           14           2    -161.9    0.230216  \n",
       "34818      710  Target           14           2     238.2    0.230216  \n",
       "34891      710  Target           14           2    3313.7    0.230216  \n",
       "34892      710  Target           14           2    3213.4    0.230216  \n",
       "...        ...     ...          ...         ...       ...         ...  \n",
       "36884      711  Target            8          15      -8.4    0.054054  \n",
       "37300      711    Free           10          14     466.4    0.013761  \n",
       "37301      711    Free           10          14     441.1    0.013761  \n",
       "37302      711    Free           10          14     443.5    0.013761  \n",
       "37462      711  Target           11           3    3283.0    0.060976  \n",
       "37498      711  Target           12           8    -188.6    0.035971  \n",
       "37654      711  Target           13           1      -1.5    0.009132  \n",
       "37862      711    Free           14          10    -187.2    0.217687  \n",
       "37863      711    Free           14          10    -194.3    0.217687  \n",
       "37864      711    Free           14          10    -173.7    0.217687  \n",
       "37865      711    Free           14          10    -187.2    0.217687  \n",
       "37869      711    Free           14          10     -63.6    0.217687  \n",
       "37870      711    Free           14          10     -39.6    0.217687  \n",
       "37872      711    Free           14          10     -77.6    0.217687  \n",
       "37873      711    Free           14          10     -83.8    0.217687  \n",
       "37874      711    Free           14          10    -231.3    0.217687  \n",
       "37894      711    Free           14          10    -182.2    0.217687  \n",
       "37895      711    Free           14          10    -161.9    0.217687  \n",
       "37905      711    Free           14          10      39.2    0.217687  \n",
       "37978      711    Free           14          10    1064.7    0.217687  \n",
       "37979      711    Free           14          10     964.4    0.217687  \n",
       "38408      711    Free           17           6    5612.2    0.036082  \n",
       "38469      711  Target           18          13     -59.2    0.074380  \n",
       "49193        8  Target           13          13    -117.6    0.006250  \n",
       "49705        8  Target           15           2      -8.3    0.024490  \n",
       "49706        8  Target           15           2      -6.9    0.024490  \n",
       "49707        8  Target           15           2    -120.8    0.024490  \n",
       "49708        8  Target           15           2    -119.3    0.024490  \n",
       "50704        7    Free            1           7     -17.1    0.017621  \n",
       "52481        7    Free           10          18     -62.5    0.011858  \n",
       "\n",
       "[67 rows x 31 columns]"
      ]
     },
     "execution_count": 102,
     "metadata": {},
     "output_type": "execute_result"
    }
   ],
   "source": [
    "alld.query(\"CURRENT_FIX_Y < 0 and CURRENT_FIX_DURATION < 120\")"
   ]
  },
  {
   "cell_type": "code",
   "execution_count": 101,
   "metadata": {},
   "outputs": [
    {
     "data": {
      "text/html": [
       "<div>\n",
       "<table border=\"1\" class=\"dataframe\">\n",
       "  <thead>\n",
       "    <tr style=\"text-align: right;\">\n",
       "      <th></th>\n",
       "      <th>CALIBRATION_PROBLEM</th>\n",
       "      <th>CONDITION</th>\n",
       "      <th>CURRENT_FIX_BLINK_AROUND</th>\n",
       "      <th>CURRENT_FIX_DURATION</th>\n",
       "      <th>CURRENT_FIX_END</th>\n",
       "      <th>CURRENT_FIX_START</th>\n",
       "      <th>CURRENT_FIX_X</th>\n",
       "      <th>CURRENT_FIX_Y</th>\n",
       "      <th>DATETIME</th>\n",
       "      <th>DISTRACTOR</th>\n",
       "      <th>...</th>\n",
       "      <th>NEXT_SAC_DURATION</th>\n",
       "      <th>NEXT_SAC_END_X</th>\n",
       "      <th>NEXT_SAC_END_Y</th>\n",
       "      <th>OFFSET</th>\n",
       "      <th>PART_ID</th>\n",
       "      <th>TASK</th>\n",
       "      <th>TRIAL_INDEX</th>\n",
       "      <th>WEBSITE_ID</th>\n",
       "      <th>Y_OFFSET</th>\n",
       "      <th>error_ratio</th>\n",
       "    </tr>\n",
       "  </thead>\n",
       "  <tbody>\n",
       "    <tr>\n",
       "      <th>34807</th>\n",
       "      <td>No</td>\n",
       "      <td>4</td>\n",
       "      <td>NONE</td>\n",
       "      <td>35</td>\n",
       "      <td>8803.0</td>\n",
       "      <td>8769.0</td>\n",
       "      <td>-1.2</td>\n",
       "      <td>-182.2</td>\n",
       "      <td>2018-03-20 14:12:08.621</td>\n",
       "      <td>Skin</td>\n",
       "      <td>...</td>\n",
       "      <td>6.0</td>\n",
       "      <td>9.2</td>\n",
       "      <td>-161.9</td>\n",
       "      <td>0</td>\n",
       "      <td>710</td>\n",
       "      <td>Target</td>\n",
       "      <td>14</td>\n",
       "      <td>2</td>\n",
       "      <td>-182.2</td>\n",
       "      <td>0.230216</td>\n",
       "    </tr>\n",
       "    <tr>\n",
       "      <th>34818</th>\n",
       "      <td>No</td>\n",
       "      <td>4</td>\n",
       "      <td>NONE</td>\n",
       "      <td>61</td>\n",
       "      <td>11549.0</td>\n",
       "      <td>11489.0</td>\n",
       "      <td>-143.7</td>\n",
       "      <td>-260.8</td>\n",
       "      <td>2018-03-20 14:12:11.341</td>\n",
       "      <td>Skin</td>\n",
       "      <td>...</td>\n",
       "      <td>78.0</td>\n",
       "      <td>607.6</td>\n",
       "      <td>378.1</td>\n",
       "      <td>499</td>\n",
       "      <td>710</td>\n",
       "      <td>Target</td>\n",
       "      <td>14</td>\n",
       "      <td>2</td>\n",
       "      <td>238.2</td>\n",
       "      <td>0.230216</td>\n",
       "    </tr>\n",
       "    <tr>\n",
       "      <th>37894</th>\n",
       "      <td>No</td>\n",
       "      <td>1</td>\n",
       "      <td>NONE</td>\n",
       "      <td>35</td>\n",
       "      <td>8803.0</td>\n",
       "      <td>8769.0</td>\n",
       "      <td>-1.2</td>\n",
       "      <td>-182.2</td>\n",
       "      <td>2018-03-20 16:25:17.620</td>\n",
       "      <td>NoAd</td>\n",
       "      <td>...</td>\n",
       "      <td>6.0</td>\n",
       "      <td>9.2</td>\n",
       "      <td>-161.9</td>\n",
       "      <td>0</td>\n",
       "      <td>711</td>\n",
       "      <td>Free</td>\n",
       "      <td>14</td>\n",
       "      <td>10</td>\n",
       "      <td>-182.2</td>\n",
       "      <td>0.217687</td>\n",
       "    </tr>\n",
       "    <tr>\n",
       "      <th>37905</th>\n",
       "      <td>No</td>\n",
       "      <td>1</td>\n",
       "      <td>NONE</td>\n",
       "      <td>61</td>\n",
       "      <td>11549.0</td>\n",
       "      <td>11489.0</td>\n",
       "      <td>-143.7</td>\n",
       "      <td>-260.8</td>\n",
       "      <td>2018-03-20 16:25:20.340</td>\n",
       "      <td>NoAd</td>\n",
       "      <td>...</td>\n",
       "      <td>78.0</td>\n",
       "      <td>607.6</td>\n",
       "      <td>378.1</td>\n",
       "      <td>300</td>\n",
       "      <td>711</td>\n",
       "      <td>Free</td>\n",
       "      <td>14</td>\n",
       "      <td>10</td>\n",
       "      <td>39.2</td>\n",
       "      <td>0.217687</td>\n",
       "    </tr>\n",
       "    <tr>\n",
       "      <th>39953</th>\n",
       "      <td>No</td>\n",
       "      <td>6</td>\n",
       "      <td>NONE</td>\n",
       "      <td>113</td>\n",
       "      <td>2480.0</td>\n",
       "      <td>2368.0</td>\n",
       "      <td>-68.9</td>\n",
       "      <td>155.8</td>\n",
       "      <td>2018-04-03 14:03:03.362</td>\n",
       "      <td>SkinMpu</td>\n",
       "      <td>...</td>\n",
       "      <td>21.0</td>\n",
       "      <td>-151.5</td>\n",
       "      <td>163.6</td>\n",
       "      <td>0</td>\n",
       "      <td>716</td>\n",
       "      <td>Target</td>\n",
       "      <td>6</td>\n",
       "      <td>12</td>\n",
       "      <td>155.8</td>\n",
       "      <td>0.012821</td>\n",
       "    </tr>\n",
       "    <tr>\n",
       "      <th>42514</th>\n",
       "      <td>No</td>\n",
       "      <td>1</td>\n",
       "      <td>NONE</td>\n",
       "      <td>90</td>\n",
       "      <td>2297.0</td>\n",
       "      <td>2208.0</td>\n",
       "      <td>-231.4</td>\n",
       "      <td>219.5</td>\n",
       "      <td>2018-04-03 14:20:39.202</td>\n",
       "      <td>NoAd</td>\n",
       "      <td>...</td>\n",
       "      <td>67.0</td>\n",
       "      <td>508.4</td>\n",
       "      <td>516.2</td>\n",
       "      <td>0</td>\n",
       "      <td>716</td>\n",
       "      <td>Free</td>\n",
       "      <td>17</td>\n",
       "      <td>2</td>\n",
       "      <td>219.5</td>\n",
       "      <td>0.041985</td>\n",
       "    </tr>\n",
       "    <tr>\n",
       "      <th>42534</th>\n",
       "      <td>No</td>\n",
       "      <td>1</td>\n",
       "      <td>NONE</td>\n",
       "      <td>104</td>\n",
       "      <td>5996.0</td>\n",
       "      <td>5893.0</td>\n",
       "      <td>-131.6</td>\n",
       "      <td>221.2</td>\n",
       "      <td>2018-04-03 14:20:42.887</td>\n",
       "      <td>NoAd</td>\n",
       "      <td>...</td>\n",
       "      <td>36.0</td>\n",
       "      <td>80.6</td>\n",
       "      <td>179.8</td>\n",
       "      <td>0</td>\n",
       "      <td>716</td>\n",
       "      <td>Free</td>\n",
       "      <td>17</td>\n",
       "      <td>2</td>\n",
       "      <td>221.2</td>\n",
       "      <td>0.041985</td>\n",
       "    </tr>\n",
       "  </tbody>\n",
       "</table>\n",
       "<p>7 rows × 31 columns</p>\n",
       "</div>"
      ],
      "text/plain": [
       "      CALIBRATION_PROBLEM  CONDITION CURRENT_FIX_BLINK_AROUND  \\\n",
       "34807                  No          4                     NONE   \n",
       "34818                  No          4                     NONE   \n",
       "37894                  No          1                     NONE   \n",
       "37905                  No          1                     NONE   \n",
       "39953                  No          6                     NONE   \n",
       "42514                  No          1                     NONE   \n",
       "42534                  No          1                     NONE   \n",
       "\n",
       "       CURRENT_FIX_DURATION  CURRENT_FIX_END  CURRENT_FIX_START  \\\n",
       "34807                    35           8803.0             8769.0   \n",
       "34818                    61          11549.0            11489.0   \n",
       "37894                    35           8803.0             8769.0   \n",
       "37905                    61          11549.0            11489.0   \n",
       "39953                   113           2480.0             2368.0   \n",
       "42514                    90           2297.0             2208.0   \n",
       "42534                   104           5996.0             5893.0   \n",
       "\n",
       "       CURRENT_FIX_X  CURRENT_FIX_Y                 DATETIME DISTRACTOR  \\\n",
       "34807           -1.2         -182.2  2018-03-20 14:12:08.621       Skin   \n",
       "34818         -143.7         -260.8  2018-03-20 14:12:11.341       Skin   \n",
       "37894           -1.2         -182.2  2018-03-20 16:25:17.620       NoAd   \n",
       "37905         -143.7         -260.8  2018-03-20 16:25:20.340       NoAd   \n",
       "39953          -68.9          155.8  2018-04-03 14:03:03.362    SkinMpu   \n",
       "42514         -231.4          219.5  2018-04-03 14:20:39.202       NoAd   \n",
       "42534         -131.6          221.2  2018-04-03 14:20:42.887       NoAd   \n",
       "\n",
       "          ...     NEXT_SAC_DURATION NEXT_SAC_END_X NEXT_SAC_END_Y  OFFSET  \\\n",
       "34807     ...                   6.0            9.2         -161.9       0   \n",
       "34818     ...                  78.0          607.6          378.1     499   \n",
       "37894     ...                   6.0            9.2         -161.9       0   \n",
       "37905     ...                  78.0          607.6          378.1     300   \n",
       "39953     ...                  21.0         -151.5          163.6       0   \n",
       "42514     ...                  67.0          508.4          516.2       0   \n",
       "42534     ...                  36.0           80.6          179.8       0   \n",
       "\n",
       "       PART_ID    TASK  TRIAL_INDEX  WEBSITE_ID  Y_OFFSET error_ratio  \n",
       "34807      710  Target           14           2    -182.2    0.230216  \n",
       "34818      710  Target           14           2     238.2    0.230216  \n",
       "37894      711    Free           14          10    -182.2    0.217687  \n",
       "37905      711    Free           14          10      39.2    0.217687  \n",
       "39953      716  Target            6          12     155.8    0.012821  \n",
       "42514      716    Free           17           2     219.5    0.041985  \n",
       "42534      716    Free           17           2     221.2    0.041985  \n",
       "\n",
       "[7 rows x 31 columns]"
      ]
     },
     "execution_count": 101,
     "metadata": {},
     "output_type": "execute_result"
    }
   ],
   "source": [
    "alld.query(\"CURRENT_FIX_X < 0 and CURRENT_FIX_DURATION < 120\")"
   ]
  },
  {
   "cell_type": "code",
   "execution_count": 100,
   "metadata": {},
   "outputs": [
    {
     "data": {
      "text/html": [
       "<div>\n",
       "<table border=\"1\" class=\"dataframe\">\n",
       "  <thead>\n",
       "    <tr style=\"text-align: right;\">\n",
       "      <th></th>\n",
       "      <th>CALIBRATION_PROBLEM</th>\n",
       "      <th>CONDITION</th>\n",
       "      <th>CURRENT_FIX_BLINK_AROUND</th>\n",
       "      <th>CURRENT_FIX_DURATION</th>\n",
       "      <th>CURRENT_FIX_END</th>\n",
       "      <th>CURRENT_FIX_START</th>\n",
       "      <th>CURRENT_FIX_X</th>\n",
       "      <th>CURRENT_FIX_Y</th>\n",
       "      <th>DATETIME</th>\n",
       "      <th>DISTRACTOR</th>\n",
       "      <th>...</th>\n",
       "      <th>NEXT_SAC_DURATION</th>\n",
       "      <th>NEXT_SAC_END_X</th>\n",
       "      <th>NEXT_SAC_END_Y</th>\n",
       "      <th>OFFSET</th>\n",
       "      <th>PART_ID</th>\n",
       "      <th>TASK</th>\n",
       "      <th>TRIAL_INDEX</th>\n",
       "      <th>WEBSITE_ID</th>\n",
       "      <th>Y_OFFSET</th>\n",
       "      <th>error_ratio</th>\n",
       "    </tr>\n",
       "  </thead>\n",
       "  <tbody>\n",
       "    <tr>\n",
       "      <th>8096</th>\n",
       "      <td>No</td>\n",
       "      <td>3</td>\n",
       "      <td>NONE</td>\n",
       "      <td>74</td>\n",
       "      <td>23933.0</td>\n",
       "      <td>23860.0</td>\n",
       "      <td>1953.7</td>\n",
       "      <td>497.6</td>\n",
       "      <td>2018-03-27 14:01:57.663</td>\n",
       "      <td>Skin</td>\n",
       "      <td>...</td>\n",
       "      <td>99.0</td>\n",
       "      <td>965.2</td>\n",
       "      <td>711.5</td>\n",
       "      <td>1900</td>\n",
       "      <td>714</td>\n",
       "      <td>Free</td>\n",
       "      <td>13</td>\n",
       "      <td>1</td>\n",
       "      <td>2397.6</td>\n",
       "      <td>0.008889</td>\n",
       "    </tr>\n",
       "    <tr>\n",
       "      <th>13418</th>\n",
       "      <td>No</td>\n",
       "      <td>5</td>\n",
       "      <td>NONE</td>\n",
       "      <td>76</td>\n",
       "      <td>7985.0</td>\n",
       "      <td>7910.0</td>\n",
       "      <td>2002.0</td>\n",
       "      <td>416.7</td>\n",
       "      <td>2018-07-19 16:20:34.600</td>\n",
       "      <td>SkinMpu</td>\n",
       "      <td>...</td>\n",
       "      <td>111.0</td>\n",
       "      <td>826.4</td>\n",
       "      <td>739.4</td>\n",
       "      <td>1200</td>\n",
       "      <td>11</td>\n",
       "      <td>Free</td>\n",
       "      <td>3</td>\n",
       "      <td>2</td>\n",
       "      <td>1616.7</td>\n",
       "      <td>0.013100</td>\n",
       "    </tr>\n",
       "    <tr>\n",
       "      <th>16661</th>\n",
       "      <td>No</td>\n",
       "      <td>3</td>\n",
       "      <td>NONE</td>\n",
       "      <td>46</td>\n",
       "      <td>29269.0</td>\n",
       "      <td>29224.0</td>\n",
       "      <td>1970.1</td>\n",
       "      <td>60.9</td>\n",
       "      <td>2018-03-27 09:57:05.293</td>\n",
       "      <td>Skin</td>\n",
       "      <td>...</td>\n",
       "      <td>77.0</td>\n",
       "      <td>1857.8</td>\n",
       "      <td>791.9</td>\n",
       "      <td>3100</td>\n",
       "      <td>712</td>\n",
       "      <td>Free</td>\n",
       "      <td>4</td>\n",
       "      <td>1</td>\n",
       "      <td>3160.9</td>\n",
       "      <td>0.034483</td>\n",
       "    </tr>\n",
       "    <tr>\n",
       "      <th>19109</th>\n",
       "      <td>No</td>\n",
       "      <td>3</td>\n",
       "      <td>NONE</td>\n",
       "      <td>103</td>\n",
       "      <td>14008.0</td>\n",
       "      <td>13906.0</td>\n",
       "      <td>2554.3</td>\n",
       "      <td>98.8</td>\n",
       "      <td>2018-04-03 15:56:36.900</td>\n",
       "      <td>Skin</td>\n",
       "      <td>...</td>\n",
       "      <td>65.0</td>\n",
       "      <td>2529.0</td>\n",
       "      <td>88.6</td>\n",
       "      <td>1400</td>\n",
       "      <td>2</td>\n",
       "      <td>Free</td>\n",
       "      <td>1</td>\n",
       "      <td>7</td>\n",
       "      <td>1498.8</td>\n",
       "      <td>0.008658</td>\n",
       "    </tr>\n",
       "    <tr>\n",
       "      <th>19110</th>\n",
       "      <td>No</td>\n",
       "      <td>3</td>\n",
       "      <td>NONE</td>\n",
       "      <td>30</td>\n",
       "      <td>14103.0</td>\n",
       "      <td>14074.0</td>\n",
       "      <td>2529.0</td>\n",
       "      <td>88.6</td>\n",
       "      <td>2018-04-03 15:56:37.068</td>\n",
       "      <td>Skin</td>\n",
       "      <td>...</td>\n",
       "      <td>123.0</td>\n",
       "      <td>1096.8</td>\n",
       "      <td>820.9</td>\n",
       "      <td>1400</td>\n",
       "      <td>2</td>\n",
       "      <td>Free</td>\n",
       "      <td>1</td>\n",
       "      <td>7</td>\n",
       "      <td>1488.6</td>\n",
       "      <td>0.008658</td>\n",
       "    </tr>\n",
       "    <tr>\n",
       "      <th>20965</th>\n",
       "      <td>No</td>\n",
       "      <td>1</td>\n",
       "      <td>NONE</td>\n",
       "      <td>93</td>\n",
       "      <td>16247.0</td>\n",
       "      <td>16155.0</td>\n",
       "      <td>2029.2</td>\n",
       "      <td>-117.6</td>\n",
       "      <td>2018-04-03 16:14:25.149</td>\n",
       "      <td>NoAd</td>\n",
       "      <td>...</td>\n",
       "      <td>115.0</td>\n",
       "      <td>-39.4</td>\n",
       "      <td>31.8</td>\n",
       "      <td>900</td>\n",
       "      <td>2</td>\n",
       "      <td>Free</td>\n",
       "      <td>11</td>\n",
       "      <td>2</td>\n",
       "      <td>782.4</td>\n",
       "      <td>0.027907</td>\n",
       "    </tr>\n",
       "    <tr>\n",
       "      <th>25876</th>\n",
       "      <td>No</td>\n",
       "      <td>2</td>\n",
       "      <td>NONE</td>\n",
       "      <td>76</td>\n",
       "      <td>24167.0</td>\n",
       "      <td>24092.0</td>\n",
       "      <td>1944.5</td>\n",
       "      <td>830.8</td>\n",
       "      <td>2018-04-10 15:40:34.034</td>\n",
       "      <td>NoAd</td>\n",
       "      <td>...</td>\n",
       "      <td>72.0</td>\n",
       "      <td>1334.7</td>\n",
       "      <td>812.0</td>\n",
       "      <td>8300</td>\n",
       "      <td>4</td>\n",
       "      <td>Target</td>\n",
       "      <td>1</td>\n",
       "      <td>18</td>\n",
       "      <td>9130.8</td>\n",
       "      <td>0.032468</td>\n",
       "    </tr>\n",
       "    <tr>\n",
       "      <th>43572</th>\n",
       "      <td>No</td>\n",
       "      <td>2</td>\n",
       "      <td>NONE</td>\n",
       "      <td>113</td>\n",
       "      <td>NaN</td>\n",
       "      <td>31337.0</td>\n",
       "      <td>1930.8</td>\n",
       "      <td>281.8</td>\n",
       "      <td>2018-04-03 14:56:31.574</td>\n",
       "      <td>NoAd</td>\n",
       "      <td>...</td>\n",
       "      <td>61.0</td>\n",
       "      <td>1881.5</td>\n",
       "      <td>573.5</td>\n",
       "      <td>5937</td>\n",
       "      <td>1</td>\n",
       "      <td>Target</td>\n",
       "      <td>3</td>\n",
       "      <td>3</td>\n",
       "      <td>6218.8</td>\n",
       "      <td>0.006645</td>\n",
       "    </tr>\n",
       "    <tr>\n",
       "      <th>49193</th>\n",
       "      <td>No</td>\n",
       "      <td>2</td>\n",
       "      <td>NONE</td>\n",
       "      <td>64</td>\n",
       "      <td>3713.0</td>\n",
       "      <td>3650.0</td>\n",
       "      <td>1971.0</td>\n",
       "      <td>-117.6</td>\n",
       "      <td>2018-04-24 17:14:26.643</td>\n",
       "      <td>NoAd</td>\n",
       "      <td>...</td>\n",
       "      <td>17.0</td>\n",
       "      <td>1940.8</td>\n",
       "      <td>-81.3</td>\n",
       "      <td>0</td>\n",
       "      <td>8</td>\n",
       "      <td>Target</td>\n",
       "      <td>13</td>\n",
       "      <td>13</td>\n",
       "      <td>-117.6</td>\n",
       "      <td>0.006250</td>\n",
       "    </tr>\n",
       "    <tr>\n",
       "      <th>49707</th>\n",
       "      <td>No</td>\n",
       "      <td>2</td>\n",
       "      <td>NONE</td>\n",
       "      <td>23</td>\n",
       "      <td>2181.0</td>\n",
       "      <td>2159.0</td>\n",
       "      <td>2015.3</td>\n",
       "      <td>-120.8</td>\n",
       "      <td>2018-04-24 17:18:07.152</td>\n",
       "      <td>NoAd</td>\n",
       "      <td>...</td>\n",
       "      <td>16.0</td>\n",
       "      <td>2018.3</td>\n",
       "      <td>-119.3</td>\n",
       "      <td>0</td>\n",
       "      <td>8</td>\n",
       "      <td>Target</td>\n",
       "      <td>15</td>\n",
       "      <td>2</td>\n",
       "      <td>-120.8</td>\n",
       "      <td>0.024490</td>\n",
       "    </tr>\n",
       "    <tr>\n",
       "      <th>49708</th>\n",
       "      <td>No</td>\n",
       "      <td>2</td>\n",
       "      <td>NONE</td>\n",
       "      <td>23</td>\n",
       "      <td>2220.0</td>\n",
       "      <td>2198.0</td>\n",
       "      <td>2018.3</td>\n",
       "      <td>-119.3</td>\n",
       "      <td>2018-04-24 17:18:07.191</td>\n",
       "      <td>NoAd</td>\n",
       "      <td>...</td>\n",
       "      <td>58.0</td>\n",
       "      <td>1489.0</td>\n",
       "      <td>37.0</td>\n",
       "      <td>0</td>\n",
       "      <td>8</td>\n",
       "      <td>Target</td>\n",
       "      <td>15</td>\n",
       "      <td>2</td>\n",
       "      <td>-119.3</td>\n",
       "      <td>0.024490</td>\n",
       "    </tr>\n",
       "  </tbody>\n",
       "</table>\n",
       "<p>11 rows × 31 columns</p>\n",
       "</div>"
      ],
      "text/plain": [
       "      CALIBRATION_PROBLEM  CONDITION CURRENT_FIX_BLINK_AROUND  \\\n",
       "8096                   No          3                     NONE   \n",
       "13418                  No          5                     NONE   \n",
       "16661                  No          3                     NONE   \n",
       "19109                  No          3                     NONE   \n",
       "19110                  No          3                     NONE   \n",
       "20965                  No          1                     NONE   \n",
       "25876                  No          2                     NONE   \n",
       "43572                  No          2                     NONE   \n",
       "49193                  No          2                     NONE   \n",
       "49707                  No          2                     NONE   \n",
       "49708                  No          2                     NONE   \n",
       "\n",
       "       CURRENT_FIX_DURATION  CURRENT_FIX_END  CURRENT_FIX_START  \\\n",
       "8096                     74          23933.0            23860.0   \n",
       "13418                    76           7985.0             7910.0   \n",
       "16661                    46          29269.0            29224.0   \n",
       "19109                   103          14008.0            13906.0   \n",
       "19110                    30          14103.0            14074.0   \n",
       "20965                    93          16247.0            16155.0   \n",
       "25876                    76          24167.0            24092.0   \n",
       "43572                   113              NaN            31337.0   \n",
       "49193                    64           3713.0             3650.0   \n",
       "49707                    23           2181.0             2159.0   \n",
       "49708                    23           2220.0             2198.0   \n",
       "\n",
       "       CURRENT_FIX_X  CURRENT_FIX_Y                 DATETIME DISTRACTOR  \\\n",
       "8096          1953.7          497.6  2018-03-27 14:01:57.663       Skin   \n",
       "13418         2002.0          416.7  2018-07-19 16:20:34.600    SkinMpu   \n",
       "16661         1970.1           60.9  2018-03-27 09:57:05.293       Skin   \n",
       "19109         2554.3           98.8  2018-04-03 15:56:36.900       Skin   \n",
       "19110         2529.0           88.6  2018-04-03 15:56:37.068       Skin   \n",
       "20965         2029.2         -117.6  2018-04-03 16:14:25.149       NoAd   \n",
       "25876         1944.5          830.8  2018-04-10 15:40:34.034       NoAd   \n",
       "43572         1930.8          281.8  2018-04-03 14:56:31.574       NoAd   \n",
       "49193         1971.0         -117.6  2018-04-24 17:14:26.643       NoAd   \n",
       "49707         2015.3         -120.8  2018-04-24 17:18:07.152       NoAd   \n",
       "49708         2018.3         -119.3  2018-04-24 17:18:07.191       NoAd   \n",
       "\n",
       "          ...     NEXT_SAC_DURATION NEXT_SAC_END_X NEXT_SAC_END_Y  OFFSET  \\\n",
       "8096      ...                  99.0          965.2          711.5    1900   \n",
       "13418     ...                 111.0          826.4          739.4    1200   \n",
       "16661     ...                  77.0         1857.8          791.9    3100   \n",
       "19109     ...                  65.0         2529.0           88.6    1400   \n",
       "19110     ...                 123.0         1096.8          820.9    1400   \n",
       "20965     ...                 115.0          -39.4           31.8     900   \n",
       "25876     ...                  72.0         1334.7          812.0    8300   \n",
       "43572     ...                  61.0         1881.5          573.5    5937   \n",
       "49193     ...                  17.0         1940.8          -81.3       0   \n",
       "49707     ...                  16.0         2018.3         -119.3       0   \n",
       "49708     ...                  58.0         1489.0           37.0       0   \n",
       "\n",
       "       PART_ID    TASK  TRIAL_INDEX  WEBSITE_ID  Y_OFFSET error_ratio  \n",
       "8096       714    Free           13           1    2397.6    0.008889  \n",
       "13418       11    Free            3           2    1616.7    0.013100  \n",
       "16661      712    Free            4           1    3160.9    0.034483  \n",
       "19109        2    Free            1           7    1498.8    0.008658  \n",
       "19110        2    Free            1           7    1488.6    0.008658  \n",
       "20965        2    Free           11           2     782.4    0.027907  \n",
       "25876        4  Target            1          18    9130.8    0.032468  \n",
       "43572        1  Target            3           3    6218.8    0.006645  \n",
       "49193        8  Target           13          13    -117.6    0.006250  \n",
       "49707        8  Target           15           2    -120.8    0.024490  \n",
       "49708        8  Target           15           2    -119.3    0.024490  \n",
       "\n",
       "[11 rows x 31 columns]"
      ]
     },
     "execution_count": 100,
     "metadata": {},
     "output_type": "execute_result"
    }
   ],
   "source": [
    "alld.query(\"CURRENT_FIX_X > 1920 and CURRENT_FIX_DURATION < 120\")"
   ]
  },
  {
   "cell_type": "code",
   "execution_count": 112,
   "metadata": {
    "scrolled": true
   },
   "outputs": [
    {
     "data": {
      "text/html": [
       "<div>\n",
       "<table border=\"1\" class=\"dataframe\">\n",
       "  <thead>\n",
       "    <tr style=\"text-align: right;\">\n",
       "      <th></th>\n",
       "      <th>TRIAL_INDEX</th>\n",
       "      <th>WEBSITE_ID</th>\n",
       "      <th>PART_ID</th>\n",
       "      <th>CONDITION</th>\n",
       "      <th>CURRENT_FIX_Y</th>\n",
       "      <th>CURRENT_FIX_START</th>\n",
       "    </tr>\n",
       "  </thead>\n",
       "  <tbody>\n",
       "    <tr>\n",
       "      <th>1496</th>\n",
       "      <td>9</td>\n",
       "      <td>8</td>\n",
       "      <td>713</td>\n",
       "      <td>5</td>\n",
       "      <td>1100.4</td>\n",
       "      <td>45204.0</td>\n",
       "    </tr>\n",
       "    <tr>\n",
       "      <th>1497</th>\n",
       "      <td>9</td>\n",
       "      <td>8</td>\n",
       "      <td>713</td>\n",
       "      <td>5</td>\n",
       "      <td>1095.2</td>\n",
       "      <td>45394.0</td>\n",
       "    </tr>\n",
       "    <tr>\n",
       "      <th>2569</th>\n",
       "      <td>16</td>\n",
       "      <td>12</td>\n",
       "      <td>713</td>\n",
       "      <td>6</td>\n",
       "      <td>1080.6</td>\n",
       "      <td>6772.0</td>\n",
       "    </tr>\n",
       "    <tr>\n",
       "      <th>4823</th>\n",
       "      <td>11</td>\n",
       "      <td>13</td>\n",
       "      <td>10</td>\n",
       "      <td>4</td>\n",
       "      <td>1111.7</td>\n",
       "      <td>24892.0</td>\n",
       "    </tr>\n",
       "    <tr>\n",
       "      <th>6158</th>\n",
       "      <td>2</td>\n",
       "      <td>2</td>\n",
       "      <td>714</td>\n",
       "      <td>6</td>\n",
       "      <td>1107.1</td>\n",
       "      <td>37927.0</td>\n",
       "    </tr>\n",
       "    <tr>\n",
       "      <th>11418</th>\n",
       "      <td>12</td>\n",
       "      <td>12</td>\n",
       "      <td>715</td>\n",
       "      <td>4</td>\n",
       "      <td>1132.8</td>\n",
       "      <td>14262.0</td>\n",
       "    </tr>\n",
       "    <tr>\n",
       "      <th>17109</th>\n",
       "      <td>7</td>\n",
       "      <td>5</td>\n",
       "      <td>712</td>\n",
       "      <td>6</td>\n",
       "      <td>1130.1</td>\n",
       "      <td>37484.0</td>\n",
       "    </tr>\n",
       "    <tr>\n",
       "      <th>18246</th>\n",
       "      <td>13</td>\n",
       "      <td>8</td>\n",
       "      <td>712</td>\n",
       "      <td>5</td>\n",
       "      <td>1083.6</td>\n",
       "      <td>38235.0</td>\n",
       "    </tr>\n",
       "    <tr>\n",
       "      <th>18247</th>\n",
       "      <td>13</td>\n",
       "      <td>8</td>\n",
       "      <td>712</td>\n",
       "      <td>5</td>\n",
       "      <td>1084.9</td>\n",
       "      <td>38334.0</td>\n",
       "    </tr>\n",
       "    <tr>\n",
       "      <th>18373</th>\n",
       "      <td>14</td>\n",
       "      <td>2</td>\n",
       "      <td>712</td>\n",
       "      <td>4</td>\n",
       "      <td>1087.5</td>\n",
       "      <td>20054.0</td>\n",
       "    </tr>\n",
       "    <tr>\n",
       "      <th>20229</th>\n",
       "      <td>8</td>\n",
       "      <td>9</td>\n",
       "      <td>2</td>\n",
       "      <td>4</td>\n",
       "      <td>1283.8</td>\n",
       "      <td>35953.0</td>\n",
       "    </tr>\n",
       "    <tr>\n",
       "      <th>20327</th>\n",
       "      <td>8</td>\n",
       "      <td>9</td>\n",
       "      <td>2</td>\n",
       "      <td>4</td>\n",
       "      <td>1907.5</td>\n",
       "      <td>67229.0</td>\n",
       "    </tr>\n",
       "    <tr>\n",
       "      <th>30265</th>\n",
       "      <td>8</td>\n",
       "      <td>8</td>\n",
       "      <td>709</td>\n",
       "      <td>4</td>\n",
       "      <td>1082.5</td>\n",
       "      <td>25211.0</td>\n",
       "    </tr>\n",
       "    <tr>\n",
       "      <th>30380</th>\n",
       "      <td>8</td>\n",
       "      <td>8</td>\n",
       "      <td>709</td>\n",
       "      <td>4</td>\n",
       "      <td>1087.3</td>\n",
       "      <td>56078.0</td>\n",
       "    </tr>\n",
       "    <tr>\n",
       "      <th>30381</th>\n",
       "      <td>8</td>\n",
       "      <td>8</td>\n",
       "      <td>709</td>\n",
       "      <td>4</td>\n",
       "      <td>1102.6</td>\n",
       "      <td>56448.0</td>\n",
       "    </tr>\n",
       "    <tr>\n",
       "      <th>30382</th>\n",
       "      <td>8</td>\n",
       "      <td>8</td>\n",
       "      <td>709</td>\n",
       "      <td>4</td>\n",
       "      <td>1105.6</td>\n",
       "      <td>56652.0</td>\n",
       "    </tr>\n",
       "    <tr>\n",
       "      <th>30471</th>\n",
       "      <td>9</td>\n",
       "      <td>5</td>\n",
       "      <td>709</td>\n",
       "      <td>4</td>\n",
       "      <td>1106.9</td>\n",
       "      <td>18467.0</td>\n",
       "    </tr>\n",
       "    <tr>\n",
       "      <th>30573</th>\n",
       "      <td>9</td>\n",
       "      <td>5</td>\n",
       "      <td>709</td>\n",
       "      <td>4</td>\n",
       "      <td>1111.8</td>\n",
       "      <td>47657.0</td>\n",
       "    </tr>\n",
       "    <tr>\n",
       "      <th>30739</th>\n",
       "      <td>9</td>\n",
       "      <td>5</td>\n",
       "      <td>709</td>\n",
       "      <td>4</td>\n",
       "      <td>1136.6</td>\n",
       "      <td>93077.0</td>\n",
       "    </tr>\n",
       "    <tr>\n",
       "      <th>30741</th>\n",
       "      <td>9</td>\n",
       "      <td>5</td>\n",
       "      <td>709</td>\n",
       "      <td>4</td>\n",
       "      <td>1095.5</td>\n",
       "      <td>93494.0</td>\n",
       "    </tr>\n",
       "    <tr>\n",
       "      <th>31094</th>\n",
       "      <td>11</td>\n",
       "      <td>2</td>\n",
       "      <td>709</td>\n",
       "      <td>6</td>\n",
       "      <td>1155.0</td>\n",
       "      <td>28152.0</td>\n",
       "    </tr>\n",
       "    <tr>\n",
       "      <th>31095</th>\n",
       "      <td>11</td>\n",
       "      <td>2</td>\n",
       "      <td>709</td>\n",
       "      <td>6</td>\n",
       "      <td>1086.4</td>\n",
       "      <td>28278.0</td>\n",
       "    </tr>\n",
       "    <tr>\n",
       "      <th>31107</th>\n",
       "      <td>11</td>\n",
       "      <td>2</td>\n",
       "      <td>709</td>\n",
       "      <td>6</td>\n",
       "      <td>1080.6</td>\n",
       "      <td>31584.0</td>\n",
       "    </tr>\n",
       "    <tr>\n",
       "      <th>31108</th>\n",
       "      <td>11</td>\n",
       "      <td>2</td>\n",
       "      <td>709</td>\n",
       "      <td>6</td>\n",
       "      <td>1086.4</td>\n",
       "      <td>31754.0</td>\n",
       "    </tr>\n",
       "    <tr>\n",
       "      <th>31136</th>\n",
       "      <td>11</td>\n",
       "      <td>2</td>\n",
       "      <td>709</td>\n",
       "      <td>6</td>\n",
       "      <td>1094.5</td>\n",
       "      <td>38998.0</td>\n",
       "    </tr>\n",
       "    <tr>\n",
       "      <th>31143</th>\n",
       "      <td>11</td>\n",
       "      <td>2</td>\n",
       "      <td>709</td>\n",
       "      <td>6</td>\n",
       "      <td>1106.4</td>\n",
       "      <td>40653.0</td>\n",
       "    </tr>\n",
       "    <tr>\n",
       "      <th>31144</th>\n",
       "      <td>11</td>\n",
       "      <td>2</td>\n",
       "      <td>709</td>\n",
       "      <td>6</td>\n",
       "      <td>1099.9</td>\n",
       "      <td>40849.0</td>\n",
       "    </tr>\n",
       "    <tr>\n",
       "      <th>31148</th>\n",
       "      <td>11</td>\n",
       "      <td>2</td>\n",
       "      <td>709</td>\n",
       "      <td>6</td>\n",
       "      <td>1089.8</td>\n",
       "      <td>41813.0</td>\n",
       "    </tr>\n",
       "    <tr>\n",
       "      <th>35198</th>\n",
       "      <td>15</td>\n",
       "      <td>9</td>\n",
       "      <td>710</td>\n",
       "      <td>6</td>\n",
       "      <td>1359.2</td>\n",
       "      <td>93717.0</td>\n",
       "    </tr>\n",
       "    <tr>\n",
       "      <th>35199</th>\n",
       "      <td>15</td>\n",
       "      <td>9</td>\n",
       "      <td>710</td>\n",
       "      <td>6</td>\n",
       "      <td>1422.4</td>\n",
       "      <td>94238.0</td>\n",
       "    </tr>\n",
       "    <tr>\n",
       "      <th>40734</th>\n",
       "      <td>9</td>\n",
       "      <td>17</td>\n",
       "      <td>716</td>\n",
       "      <td>6</td>\n",
       "      <td>1453.7</td>\n",
       "      <td>47172.0</td>\n",
       "    </tr>\n",
       "    <tr>\n",
       "      <th>40735</th>\n",
       "      <td>9</td>\n",
       "      <td>17</td>\n",
       "      <td>716</td>\n",
       "      <td>6</td>\n",
       "      <td>1378.1</td>\n",
       "      <td>47421.0</td>\n",
       "    </tr>\n",
       "    <tr>\n",
       "      <th>40736</th>\n",
       "      <td>9</td>\n",
       "      <td>17</td>\n",
       "      <td>716</td>\n",
       "      <td>6</td>\n",
       "      <td>1258.8</td>\n",
       "      <td>47828.0</td>\n",
       "    </tr>\n",
       "    <tr>\n",
       "      <th>40737</th>\n",
       "      <td>9</td>\n",
       "      <td>17</td>\n",
       "      <td>716</td>\n",
       "      <td>6</td>\n",
       "      <td>1190.6</td>\n",
       "      <td>48109.0</td>\n",
       "    </tr>\n",
       "    <tr>\n",
       "      <th>41314</th>\n",
       "      <td>12</td>\n",
       "      <td>7</td>\n",
       "      <td>716</td>\n",
       "      <td>4</td>\n",
       "      <td>1081.6</td>\n",
       "      <td>33888.0</td>\n",
       "    </tr>\n",
       "    <tr>\n",
       "      <th>42896</th>\n",
       "      <td>18</td>\n",
       "      <td>3</td>\n",
       "      <td>716</td>\n",
       "      <td>4</td>\n",
       "      <td>1424.1</td>\n",
       "      <td>25973.0</td>\n",
       "    </tr>\n",
       "    <tr>\n",
       "      <th>47206</th>\n",
       "      <td>5</td>\n",
       "      <td>17</td>\n",
       "      <td>8</td>\n",
       "      <td>5</td>\n",
       "      <td>1982.5</td>\n",
       "      <td>32271.0</td>\n",
       "    </tr>\n",
       "    <tr>\n",
       "      <th>47207</th>\n",
       "      <td>5</td>\n",
       "      <td>17</td>\n",
       "      <td>8</td>\n",
       "      <td>5</td>\n",
       "      <td>1973.4</td>\n",
       "      <td>32418.0</td>\n",
       "    </tr>\n",
       "    <tr>\n",
       "      <th>49791</th>\n",
       "      <td>15</td>\n",
       "      <td>2</td>\n",
       "      <td>8</td>\n",
       "      <td>2</td>\n",
       "      <td>1098.3</td>\n",
       "      <td>21861.0</td>\n",
       "    </tr>\n",
       "    <tr>\n",
       "      <th>54027</th>\n",
       "      <td>17</td>\n",
       "      <td>9</td>\n",
       "      <td>7</td>\n",
       "      <td>4</td>\n",
       "      <td>1679.0</td>\n",
       "      <td>95225.0</td>\n",
       "    </tr>\n",
       "  </tbody>\n",
       "</table>\n",
       "</div>"
      ],
      "text/plain": [
       "       TRIAL_INDEX  WEBSITE_ID  PART_ID  CONDITION  CURRENT_FIX_Y  \\\n",
       "1496             9           8      713          5         1100.4   \n",
       "1497             9           8      713          5         1095.2   \n",
       "2569            16          12      713          6         1080.6   \n",
       "4823            11          13       10          4         1111.7   \n",
       "6158             2           2      714          6         1107.1   \n",
       "11418           12          12      715          4         1132.8   \n",
       "17109            7           5      712          6         1130.1   \n",
       "18246           13           8      712          5         1083.6   \n",
       "18247           13           8      712          5         1084.9   \n",
       "18373           14           2      712          4         1087.5   \n",
       "20229            8           9        2          4         1283.8   \n",
       "20327            8           9        2          4         1907.5   \n",
       "30265            8           8      709          4         1082.5   \n",
       "30380            8           8      709          4         1087.3   \n",
       "30381            8           8      709          4         1102.6   \n",
       "30382            8           8      709          4         1105.6   \n",
       "30471            9           5      709          4         1106.9   \n",
       "30573            9           5      709          4         1111.8   \n",
       "30739            9           5      709          4         1136.6   \n",
       "30741            9           5      709          4         1095.5   \n",
       "31094           11           2      709          6         1155.0   \n",
       "31095           11           2      709          6         1086.4   \n",
       "31107           11           2      709          6         1080.6   \n",
       "31108           11           2      709          6         1086.4   \n",
       "31136           11           2      709          6         1094.5   \n",
       "31143           11           2      709          6         1106.4   \n",
       "31144           11           2      709          6         1099.9   \n",
       "31148           11           2      709          6         1089.8   \n",
       "35198           15           9      710          6         1359.2   \n",
       "35199           15           9      710          6         1422.4   \n",
       "40734            9          17      716          6         1453.7   \n",
       "40735            9          17      716          6         1378.1   \n",
       "40736            9          17      716          6         1258.8   \n",
       "40737            9          17      716          6         1190.6   \n",
       "41314           12           7      716          4         1081.6   \n",
       "42896           18           3      716          4         1424.1   \n",
       "47206            5          17        8          5         1982.5   \n",
       "47207            5          17        8          5         1973.4   \n",
       "49791           15           2        8          2         1098.3   \n",
       "54027           17           9        7          4         1679.0   \n",
       "\n",
       "       CURRENT_FIX_START  \n",
       "1496             45204.0  \n",
       "1497             45394.0  \n",
       "2569              6772.0  \n",
       "4823             24892.0  \n",
       "6158             37927.0  \n",
       "11418            14262.0  \n",
       "17109            37484.0  \n",
       "18246            38235.0  \n",
       "18247            38334.0  \n",
       "18373            20054.0  \n",
       "20229            35953.0  \n",
       "20327            67229.0  \n",
       "30265            25211.0  \n",
       "30380            56078.0  \n",
       "30381            56448.0  \n",
       "30382            56652.0  \n",
       "30471            18467.0  \n",
       "30573            47657.0  \n",
       "30739            93077.0  \n",
       "30741            93494.0  \n",
       "31094            28152.0  \n",
       "31095            28278.0  \n",
       "31107            31584.0  \n",
       "31108            31754.0  \n",
       "31136            38998.0  \n",
       "31143            40653.0  \n",
       "31144            40849.0  \n",
       "31148            41813.0  \n",
       "35198            93717.0  \n",
       "35199            94238.0  \n",
       "40734            47172.0  \n",
       "40735            47421.0  \n",
       "40736            47828.0  \n",
       "40737            48109.0  \n",
       "41314            33888.0  \n",
       "42896            25973.0  \n",
       "47206            32271.0  \n",
       "47207            32418.0  \n",
       "49791            21861.0  \n",
       "54027            95225.0  "
      ]
     },
     "execution_count": 112,
     "metadata": {},
     "output_type": "execute_result"
    }
   ],
   "source": [
    "alld.query(\"CURRENT_FIX_Y > 1080\")[[\"TRIAL_INDEX\", \"WEBSITE_ID\", \"PART_ID\", \"CONDITION\", \"CURRENT_FIX_Y\", \"CURRENT_FIX_START\"]]\n"
   ]
  },
  {
   "cell_type": "code",
   "execution_count": 119,
   "metadata": {
    "scrolled": true
   },
   "outputs": [
    {
     "data": {
      "text/html": [
       "<div>\n",
       "<table border=\"1\" class=\"dataframe\">\n",
       "  <thead>\n",
       "    <tr style=\"text-align: right;\">\n",
       "      <th></th>\n",
       "      <th>TRIAL_INDEX</th>\n",
       "      <th>WEBSITE_ID</th>\n",
       "      <th>PART_ID</th>\n",
       "      <th>CONDITION</th>\n",
       "      <th>CURRENT_FIX_Y</th>\n",
       "      <th>CURRENT_FIX_START</th>\n",
       "    </tr>\n",
       "  </thead>\n",
       "  <tbody>\n",
       "    <tr>\n",
       "      <th>1495</th>\n",
       "      <td>9</td>\n",
       "      <td>8</td>\n",
       "      <td>713</td>\n",
       "      <td>5</td>\n",
       "      <td>1014.0</td>\n",
       "      <td>45026.0</td>\n",
       "    </tr>\n",
       "    <tr>\n",
       "      <th>1496</th>\n",
       "      <td>9</td>\n",
       "      <td>8</td>\n",
       "      <td>713</td>\n",
       "      <td>5</td>\n",
       "      <td>1100.4</td>\n",
       "      <td>45204.0</td>\n",
       "    </tr>\n",
       "    <tr>\n",
       "      <th>1497</th>\n",
       "      <td>9</td>\n",
       "      <td>8</td>\n",
       "      <td>713</td>\n",
       "      <td>5</td>\n",
       "      <td>1095.2</td>\n",
       "      <td>45394.0</td>\n",
       "    </tr>\n",
       "    <tr>\n",
       "      <th>1498</th>\n",
       "      <td>9</td>\n",
       "      <td>8</td>\n",
       "      <td>713</td>\n",
       "      <td>5</td>\n",
       "      <td>692.1</td>\n",
       "      <td>45548.0</td>\n",
       "    </tr>\n",
       "    <tr>\n",
       "      <th>1499</th>\n",
       "      <td>9</td>\n",
       "      <td>8</td>\n",
       "      <td>713</td>\n",
       "      <td>5</td>\n",
       "      <td>719.7</td>\n",
       "      <td>45842.0</td>\n",
       "    </tr>\n",
       "    <tr>\n",
       "      <th>1500</th>\n",
       "      <td>9</td>\n",
       "      <td>8</td>\n",
       "      <td>713</td>\n",
       "      <td>5</td>\n",
       "      <td>717.2</td>\n",
       "      <td>45945.0</td>\n",
       "    </tr>\n",
       "    <tr>\n",
       "      <th>1501</th>\n",
       "      <td>9</td>\n",
       "      <td>8</td>\n",
       "      <td>713</td>\n",
       "      <td>5</td>\n",
       "      <td>717.9</td>\n",
       "      <td>46172.0</td>\n",
       "    </tr>\n",
       "    <tr>\n",
       "      <th>1502</th>\n",
       "      <td>9</td>\n",
       "      <td>8</td>\n",
       "      <td>713</td>\n",
       "      <td>5</td>\n",
       "      <td>730.6</td>\n",
       "      <td>46345.0</td>\n",
       "    </tr>\n",
       "    <tr>\n",
       "      <th>1503</th>\n",
       "      <td>9</td>\n",
       "      <td>8</td>\n",
       "      <td>713</td>\n",
       "      <td>5</td>\n",
       "      <td>714.3</td>\n",
       "      <td>46620.0</td>\n",
       "    </tr>\n",
       "    <tr>\n",
       "      <th>1504</th>\n",
       "      <td>9</td>\n",
       "      <td>8</td>\n",
       "      <td>713</td>\n",
       "      <td>5</td>\n",
       "      <td>713.8</td>\n",
       "      <td>46829.0</td>\n",
       "    </tr>\n",
       "    <tr>\n",
       "      <th>1505</th>\n",
       "      <td>9</td>\n",
       "      <td>8</td>\n",
       "      <td>713</td>\n",
       "      <td>5</td>\n",
       "      <td>751.8</td>\n",
       "      <td>47195.0</td>\n",
       "    </tr>\n",
       "    <tr>\n",
       "      <th>1506</th>\n",
       "      <td>9</td>\n",
       "      <td>8</td>\n",
       "      <td>713</td>\n",
       "      <td>5</td>\n",
       "      <td>707.6</td>\n",
       "      <td>47589.0</td>\n",
       "    </tr>\n",
       "    <tr>\n",
       "      <th>1507</th>\n",
       "      <td>9</td>\n",
       "      <td>8</td>\n",
       "      <td>713</td>\n",
       "      <td>5</td>\n",
       "      <td>710.6</td>\n",
       "      <td>47785.0</td>\n",
       "    </tr>\n",
       "    <tr>\n",
       "      <th>1508</th>\n",
       "      <td>9</td>\n",
       "      <td>8</td>\n",
       "      <td>713</td>\n",
       "      <td>5</td>\n",
       "      <td>518.9</td>\n",
       "      <td>47974.0</td>\n",
       "    </tr>\n",
       "    <tr>\n",
       "      <th>1509</th>\n",
       "      <td>9</td>\n",
       "      <td>8</td>\n",
       "      <td>713</td>\n",
       "      <td>5</td>\n",
       "      <td>457.5</td>\n",
       "      <td>48474.0</td>\n",
       "    </tr>\n",
       "    <tr>\n",
       "      <th>1510</th>\n",
       "      <td>9</td>\n",
       "      <td>8</td>\n",
       "      <td>713</td>\n",
       "      <td>5</td>\n",
       "      <td>808.5</td>\n",
       "      <td>49124.0</td>\n",
       "    </tr>\n",
       "    <tr>\n",
       "      <th>1511</th>\n",
       "      <td>9</td>\n",
       "      <td>8</td>\n",
       "      <td>713</td>\n",
       "      <td>5</td>\n",
       "      <td>763.1</td>\n",
       "      <td>49367.0</td>\n",
       "    </tr>\n",
       "    <tr>\n",
       "      <th>1512</th>\n",
       "      <td>9</td>\n",
       "      <td>8</td>\n",
       "      <td>713</td>\n",
       "      <td>5</td>\n",
       "      <td>904.4</td>\n",
       "      <td>49593.0</td>\n",
       "    </tr>\n",
       "    <tr>\n",
       "      <th>1513</th>\n",
       "      <td>9</td>\n",
       "      <td>8</td>\n",
       "      <td>713</td>\n",
       "      <td>5</td>\n",
       "      <td>912.8</td>\n",
       "      <td>49801.0</td>\n",
       "    </tr>\n",
       "    <tr>\n",
       "      <th>1514</th>\n",
       "      <td>9</td>\n",
       "      <td>8</td>\n",
       "      <td>713</td>\n",
       "      <td>5</td>\n",
       "      <td>892.0</td>\n",
       "      <td>50051.0</td>\n",
       "    </tr>\n",
       "    <tr>\n",
       "      <th>1515</th>\n",
       "      <td>9</td>\n",
       "      <td>8</td>\n",
       "      <td>713</td>\n",
       "      <td>5</td>\n",
       "      <td>968.3</td>\n",
       "      <td>50352.0</td>\n",
       "    </tr>\n",
       "    <tr>\n",
       "      <th>1516</th>\n",
       "      <td>9</td>\n",
       "      <td>8</td>\n",
       "      <td>713</td>\n",
       "      <td>5</td>\n",
       "      <td>856.4</td>\n",
       "      <td>50756.0</td>\n",
       "    </tr>\n",
       "    <tr>\n",
       "      <th>1517</th>\n",
       "      <td>9</td>\n",
       "      <td>8</td>\n",
       "      <td>713</td>\n",
       "      <td>5</td>\n",
       "      <td>847.8</td>\n",
       "      <td>51288.0</td>\n",
       "    </tr>\n",
       "    <tr>\n",
       "      <th>1518</th>\n",
       "      <td>9</td>\n",
       "      <td>8</td>\n",
       "      <td>713</td>\n",
       "      <td>5</td>\n",
       "      <td>944.0</td>\n",
       "      <td>51597.0</td>\n",
       "    </tr>\n",
       "    <tr>\n",
       "      <th>1519</th>\n",
       "      <td>9</td>\n",
       "      <td>8</td>\n",
       "      <td>713</td>\n",
       "      <td>5</td>\n",
       "      <td>898.4</td>\n",
       "      <td>51893.0</td>\n",
       "    </tr>\n",
       "    <tr>\n",
       "      <th>1520</th>\n",
       "      <td>9</td>\n",
       "      <td>8</td>\n",
       "      <td>713</td>\n",
       "      <td>5</td>\n",
       "      <td>603.3</td>\n",
       "      <td>52234.0</td>\n",
       "    </tr>\n",
       "    <tr>\n",
       "      <th>1521</th>\n",
       "      <td>9</td>\n",
       "      <td>8</td>\n",
       "      <td>713</td>\n",
       "      <td>5</td>\n",
       "      <td>534.7</td>\n",
       "      <td>52483.0</td>\n",
       "    </tr>\n",
       "    <tr>\n",
       "      <th>1522</th>\n",
       "      <td>9</td>\n",
       "      <td>8</td>\n",
       "      <td>713</td>\n",
       "      <td>5</td>\n",
       "      <td>544.0</td>\n",
       "      <td>52772.0</td>\n",
       "    </tr>\n",
       "    <tr>\n",
       "      <th>1523</th>\n",
       "      <td>9</td>\n",
       "      <td>8</td>\n",
       "      <td>713</td>\n",
       "      <td>5</td>\n",
       "      <td>547.5</td>\n",
       "      <td>53035.0</td>\n",
       "    </tr>\n",
       "    <tr>\n",
       "      <th>1524</th>\n",
       "      <td>9</td>\n",
       "      <td>8</td>\n",
       "      <td>713</td>\n",
       "      <td>5</td>\n",
       "      <td>552.7</td>\n",
       "      <td>53256.0</td>\n",
       "    </tr>\n",
       "    <tr>\n",
       "      <th>1525</th>\n",
       "      <td>9</td>\n",
       "      <td>8</td>\n",
       "      <td>713</td>\n",
       "      <td>5</td>\n",
       "      <td>563.2</td>\n",
       "      <td>53752.0</td>\n",
       "    </tr>\n",
       "    <tr>\n",
       "      <th>1526</th>\n",
       "      <td>9</td>\n",
       "      <td>8</td>\n",
       "      <td>713</td>\n",
       "      <td>5</td>\n",
       "      <td>566.6</td>\n",
       "      <td>53975.0</td>\n",
       "    </tr>\n",
       "    <tr>\n",
       "      <th>1527</th>\n",
       "      <td>9</td>\n",
       "      <td>8</td>\n",
       "      <td>713</td>\n",
       "      <td>5</td>\n",
       "      <td>515.1</td>\n",
       "      <td>54314.0</td>\n",
       "    </tr>\n",
       "    <tr>\n",
       "      <th>1528</th>\n",
       "      <td>9</td>\n",
       "      <td>8</td>\n",
       "      <td>713</td>\n",
       "      <td>5</td>\n",
       "      <td>499.7</td>\n",
       "      <td>54665.0</td>\n",
       "    </tr>\n",
       "    <tr>\n",
       "      <th>1529</th>\n",
       "      <td>9</td>\n",
       "      <td>8</td>\n",
       "      <td>713</td>\n",
       "      <td>5</td>\n",
       "      <td>584.7</td>\n",
       "      <td>55045.0</td>\n",
       "    </tr>\n",
       "    <tr>\n",
       "      <th>1530</th>\n",
       "      <td>9</td>\n",
       "      <td>8</td>\n",
       "      <td>713</td>\n",
       "      <td>5</td>\n",
       "      <td>650.7</td>\n",
       "      <td>55365.0</td>\n",
       "    </tr>\n",
       "    <tr>\n",
       "      <th>1531</th>\n",
       "      <td>9</td>\n",
       "      <td>8</td>\n",
       "      <td>713</td>\n",
       "      <td>5</td>\n",
       "      <td>616.9</td>\n",
       "      <td>55577.0</td>\n",
       "    </tr>\n",
       "    <tr>\n",
       "      <th>1532</th>\n",
       "      <td>10</td>\n",
       "      <td>10</td>\n",
       "      <td>713</td>\n",
       "      <td>6</td>\n",
       "      <td>680.5</td>\n",
       "      <td>15.0</td>\n",
       "    </tr>\n",
       "  </tbody>\n",
       "</table>\n",
       "</div>"
      ],
      "text/plain": [
       "      TRIAL_INDEX  WEBSITE_ID  PART_ID  CONDITION  CURRENT_FIX_Y  \\\n",
       "1495            9           8      713          5         1014.0   \n",
       "1496            9           8      713          5         1100.4   \n",
       "1497            9           8      713          5         1095.2   \n",
       "1498            9           8      713          5          692.1   \n",
       "1499            9           8      713          5          719.7   \n",
       "1500            9           8      713          5          717.2   \n",
       "1501            9           8      713          5          717.9   \n",
       "1502            9           8      713          5          730.6   \n",
       "1503            9           8      713          5          714.3   \n",
       "1504            9           8      713          5          713.8   \n",
       "1505            9           8      713          5          751.8   \n",
       "1506            9           8      713          5          707.6   \n",
       "1507            9           8      713          5          710.6   \n",
       "1508            9           8      713          5          518.9   \n",
       "1509            9           8      713          5          457.5   \n",
       "1510            9           8      713          5          808.5   \n",
       "1511            9           8      713          5          763.1   \n",
       "1512            9           8      713          5          904.4   \n",
       "1513            9           8      713          5          912.8   \n",
       "1514            9           8      713          5          892.0   \n",
       "1515            9           8      713          5          968.3   \n",
       "1516            9           8      713          5          856.4   \n",
       "1517            9           8      713          5          847.8   \n",
       "1518            9           8      713          5          944.0   \n",
       "1519            9           8      713          5          898.4   \n",
       "1520            9           8      713          5          603.3   \n",
       "1521            9           8      713          5          534.7   \n",
       "1522            9           8      713          5          544.0   \n",
       "1523            9           8      713          5          547.5   \n",
       "1524            9           8      713          5          552.7   \n",
       "1525            9           8      713          5          563.2   \n",
       "1526            9           8      713          5          566.6   \n",
       "1527            9           8      713          5          515.1   \n",
       "1528            9           8      713          5          499.7   \n",
       "1529            9           8      713          5          584.7   \n",
       "1530            9           8      713          5          650.7   \n",
       "1531            9           8      713          5          616.9   \n",
       "1532           10          10      713          6          680.5   \n",
       "\n",
       "      CURRENT_FIX_START  \n",
       "1495            45026.0  \n",
       "1496            45204.0  \n",
       "1497            45394.0  \n",
       "1498            45548.0  \n",
       "1499            45842.0  \n",
       "1500            45945.0  \n",
       "1501            46172.0  \n",
       "1502            46345.0  \n",
       "1503            46620.0  \n",
       "1504            46829.0  \n",
       "1505            47195.0  \n",
       "1506            47589.0  \n",
       "1507            47785.0  \n",
       "1508            47974.0  \n",
       "1509            48474.0  \n",
       "1510            49124.0  \n",
       "1511            49367.0  \n",
       "1512            49593.0  \n",
       "1513            49801.0  \n",
       "1514            50051.0  \n",
       "1515            50352.0  \n",
       "1516            50756.0  \n",
       "1517            51288.0  \n",
       "1518            51597.0  \n",
       "1519            51893.0  \n",
       "1520            52234.0  \n",
       "1521            52483.0  \n",
       "1522            52772.0  \n",
       "1523            53035.0  \n",
       "1524            53256.0  \n",
       "1525            53752.0  \n",
       "1526            53975.0  \n",
       "1527            54314.0  \n",
       "1528            54665.0  \n",
       "1529            55045.0  \n",
       "1530            55365.0  \n",
       "1531            55577.0  \n",
       "1532               15.0  "
      ]
     },
     "execution_count": 119,
     "metadata": {},
     "output_type": "execute_result"
    }
   ],
   "source": [
    "alld.iloc[1495:1533][[\"TRIAL_INDEX\", \"WEBSITE_ID\", \"PART_ID\", \"CONDITION\", \"CURRENT_FIX_Y\", \"CURRENT_FIX_START\"]]"
   ]
  },
  {
   "cell_type": "code",
   "execution_count": 130,
   "metadata": {},
   "outputs": [
    {
     "data": {
      "text/plain": [
       "420"
      ]
     },
     "execution_count": 130,
     "metadata": {},
     "output_type": "execute_result"
    }
   ],
   "source": [
    "alld.query(\"CURRENT_FIX_Y > 1080 or CURRENT_FIX_Y < 0 or CURRENT_FIX_X > 1920 or CURRENT_FIX_X < 0\")[\"EYE_USED\"].count()"
   ]
  },
  {
   "cell_type": "code",
   "execution_count": 133,
   "metadata": {},
   "outputs": [],
   "source": [
    "def compute_advances_Y_1080(group):\n",
    "    last_row = group.tail(1).fillna(0)\n",
    "    end_time = last_row[\"CURRENT_FIX_START\"].values[0] + last_row[\"CURRENT_FIX_DURATION\"].values[0] + last_row[\"NEXT_SAC_DURATION\"].values[0]\n",
    "    \n",
    "    group[\"TIME_POS\"] = group[\"CURRENT_FIX_START\"] * 100 / end_time\n",
    "    group[\"REMAINING_TIME\"] = end_time - group[\"CURRENT_FIX_START\"]\n",
    "    group[\"DISTANCE_Y\"] = group[\"CURRENT_FIX_Y\"] - 1080\n",
    "    group[\"DEG\"] = group[\"DISTANCE\"]/35\n",
    "    \n",
    "    return group\n",
    "\n",
    "def compute_advances_Y_0(group):\n",
    "    last_row = group.tail(1).fillna(0)\n",
    "    end_time = last_row[\"CURRENT_FIX_START\"].values[0] + last_row[\"CURRENT_FIX_DURATION\"].values[0] + last_row[\"NEXT_SAC_DURATION\"].values[0]\n",
    "    \n",
    "    group[\"TIME_POS\"] = group[\"CURRENT_FIX_START\"] * 100 / end_time\n",
    "    group[\"REMAINING_TIME\"] = end_time - group[\"CURRENT_FIX_START\"]\n",
    "    group[\"DISTANCE_Y\"] = np.abs(group[\"CURRENT_FIX_Y\"])\n",
    "    group[\"DEG\"] = group[\"DISTANCE\"]/35\n",
    "    \n",
    "    return group\n",
    "\n",
    "alld = alld.groupby([\"PART_ID\", \"TRIAL_INDEX\"]).apply(compute_advances)"
   ]
  },
  {
   "cell_type": "code",
   "execution_count": 134,
   "metadata": {},
   "outputs": [
    {
     "data": {
      "text/plain": [
       "112     -21.797143\n",
       "202     -32.451429\n",
       "203     -31.962857\n",
       "204     -31.188571\n",
       "350     -23.937143\n",
       "351     -19.182857\n",
       "415     -32.668571\n",
       "416     -31.468571\n",
       "419     -30.905714\n",
       "535     -22.640000\n",
       "714     -28.971429\n",
       "722     -31.420000\n",
       "723     -31.062857\n",
       "1259    -31.945714\n",
       "1408    -14.745714\n",
       "1425    -32.100000\n",
       "1449    -23.951429\n",
       "1496      0.582857\n",
       "1497      0.434286\n",
       "1588    -33.362857\n",
       "1589    -34.382857\n",
       "2051    -30.814286\n",
       "2246    -32.800000\n",
       "2569      0.017143\n",
       "4823      0.905714\n",
       "6027    -31.445714\n",
       "6046    -30.994286\n",
       "6054    -34.294286\n",
       "6158      0.774286\n",
       "6180    -33.382857\n",
       "           ...    \n",
       "42558   -24.740000\n",
       "42559   -24.545714\n",
       "42896     9.831429\n",
       "43572   -22.805714\n",
       "43577   -28.151429\n",
       "47206    25.785714\n",
       "47207    25.525714\n",
       "49193   -34.217143\n",
       "49194   -33.180000\n",
       "49704   -31.351429\n",
       "49705   -31.094286\n",
       "49706   -31.054286\n",
       "49707   -34.308571\n",
       "49708   -34.265714\n",
       "49791     0.522857\n",
       "50701   -31.062857\n",
       "50703   -31.642857\n",
       "50704   -31.345714\n",
       "50878   -31.791429\n",
       "52365   -30.862857\n",
       "52366   -31.282857\n",
       "52367   -31.145714\n",
       "52479   -31.577143\n",
       "52480   -32.351429\n",
       "52481   -32.642857\n",
       "53009   -35.585714\n",
       "53258   -44.694286\n",
       "54027    17.114286\n",
       "54084   -40.931429\n",
       "54449   -43.154286\n",
       "Name: DEG, dtype: float64"
      ]
     },
     "execution_count": 134,
     "metadata": {},
     "output_type": "execute_result"
    }
   ],
   "source": [
    "alld.query(\"CURRENT_FIX_Y > 1080 or CURRENT_FIX_Y < 0 or CURRENT_FIX_X > 1920 or CURRENT_FIX_X < 0\")[\"DEG\"]"
   ]
  },
  {
   "cell_type": "code",
   "execution_count": null,
   "metadata": {},
   "outputs": [],
   "source": []
  },
  {
   "cell_type": "code",
   "execution_count": null,
   "metadata": {},
   "outputs": [],
   "source": []
  },
  {
   "cell_type": "code",
   "execution_count": null,
   "metadata": {},
   "outputs": [],
   "source": []
  }
 ],
 "metadata": {
  "anaconda-cloud": {},
  "kernelspec": {
   "display_name": "Python [default]",
   "language": "python",
   "name": "python3"
  },
  "language_info": {
   "codemirror_mode": {
    "name": "ipython",
    "version": 3
   },
   "file_extension": ".py",
   "mimetype": "text/x-python",
   "name": "python",
   "nbconvert_exporter": "python",
   "pygments_lexer": "ipython3",
   "version": "3.5.2"
  },
  "varInspector": {
   "cols": {
    "lenName": 16,
    "lenType": 16,
    "lenVar": 40
   },
   "kernels_config": {
    "python": {
     "delete_cmd_postfix": "",
     "delete_cmd_prefix": "del ",
     "library": "var_list.py",
     "varRefreshCmd": "print(var_dic_list())"
    },
    "r": {
     "delete_cmd_postfix": ") ",
     "delete_cmd_prefix": "rm(",
     "library": "var_list.r",
     "varRefreshCmd": "cat(var_dic_list()) "
    }
   },
   "types_to_exclude": [
    "module",
    "function",
    "builtin_function_or_method",
    "instance",
    "_Feature"
   ],
   "window_display": false
  }
 },
 "nbformat": 4,
 "nbformat_minor": 2
}
