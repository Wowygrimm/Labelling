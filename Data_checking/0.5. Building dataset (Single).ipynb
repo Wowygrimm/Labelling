{
 "cells": [
  {
   "cell_type": "code",
   "execution_count": 70,
   "metadata": {
    "cell_style": "center",
    "slideshow": {
     "slide_type": "-"
    }
   },
   "outputs": [],
   "source": [
    "%matplotlib inline"
   ]
  },
  {
   "cell_type": "code",
   "execution_count": 71,
   "metadata": {},
   "outputs": [],
   "source": [
    "import pandas as pd\n",
    "import numpy as np\n",
    "\n",
    "import json\n",
    "import pickle\n",
    "import re\n",
    "\n",
    "import matplotlib.pyplot as plt"
   ]
  },
  {
   "cell_type": "markdown",
   "metadata": {},
   "source": [
    "# Variables\n",
    "\n",
    "Here is the selected variables:\n",
    "\n",
    "- `TRIAL_INDEX`\n",
    "- `EYE_USED`\n",
    "- `CURRENT_FIX_X`\n",
    "- `CURRENT_FIX_Y`\n",
    "- `CURRENT_FIX_START`\n",
    "- `CURRENT_FIX_DURATION`\n",
    "- `NEXT_SAC_END_X`\n",
    "- `NEXT_SAC_END_Y`\n",
    "- `NEXT_SAC_AMPLITUDE`\n",
    "- `NEXT_SAC_DIRECTION`\n",
    "- `NEXT_SAC_DURATION`\n",
    "- `NEXT_SAC_ANGLE`\n",
    "- `NEXT_SAC_AVG_VELOCITY`\n",
    "\n",
    "Since the Timestamp of the events is not at the right time, we need to synchronize Mouse data and eyes data. To do such, we sent a MSG containing `TRIAL_START=XXX-XX-XX XX:XX:XX` at the begining of the trial and `TRIAL_END=XXX-XX-XX XX:XX:XX` at the end."
   ]
  },
  {
   "cell_type": "markdown",
   "metadata": {},
   "source": [
    "# Load Data"
   ]
  },
  {
   "cell_type": "code",
   "execution_count": 72,
   "metadata": {},
   "outputs": [],
   "source": [
    "part_id = 714"
   ]
  },
  {
   "cell_type": "code",
   "execution_count": 73,
   "metadata": {},
   "outputs": [
    {
     "data": {
      "text/html": [
       "<div>\n",
       "<style scoped>\n",
       "    .dataframe tbody tr th:only-of-type {\n",
       "        vertical-align: middle;\n",
       "    }\n",
       "\n",
       "    .dataframe tbody tr th {\n",
       "        vertical-align: top;\n",
       "    }\n",
       "\n",
       "    .dataframe thead th {\n",
       "        text-align: right;\n",
       "    }\n",
       "</style>\n",
       "<table border=\"1\" class=\"dataframe\">\n",
       "  <thead>\n",
       "    <tr style=\"text-align: right;\">\n",
       "      <th></th>\n",
       "      <th>TRIAL_INDEX</th>\n",
       "      <th>EYE_USED</th>\n",
       "      <th>CURRENT_FIX_X</th>\n",
       "      <th>CURRENT_FIX_Y</th>\n",
       "      <th>CURRENT_FIX_START</th>\n",
       "      <th>CURRENT_FIX_DURATION</th>\n",
       "      <th>NEXT_SAC_END_X</th>\n",
       "      <th>NEXT_SAC_END_Y</th>\n",
       "      <th>NEXT_SAC_AMPLITUDE</th>\n",
       "      <th>NEXT_SAC_DIRECTION</th>\n",
       "      <th>NEXT_SAC_DURATION</th>\n",
       "      <th>NEXT_SAC_ANGLE</th>\n",
       "      <th>NEXT_SAC_AVG_VELOCITY</th>\n",
       "    </tr>\n",
       "  </thead>\n",
       "  <tbody>\n",
       "    <tr>\n",
       "      <th>0</th>\n",
       "      <td>1</td>\n",
       "      <td>RIGHT</td>\n",
       "      <td>385,20</td>\n",
       "      <td>66,40</td>\n",
       "      <td>6</td>\n",
       "      <td>97</td>\n",
       "      <td>778,60</td>\n",
       "      <td>570,10</td>\n",
       "      <td>17,55</td>\n",
       "      <td>DOWN</td>\n",
       "      <td>73</td>\n",
       "      <td>-51,57</td>\n",
       "      <td>240,45</td>\n",
       "    </tr>\n",
       "    <tr>\n",
       "      <th>1</th>\n",
       "      <td>1</td>\n",
       "      <td>RIGHT</td>\n",
       "      <td>775,50</td>\n",
       "      <td>564,50</td>\n",
       "      <td>176</td>\n",
       "      <td>53</td>\n",
       "      <td>882,60</td>\n",
       "      <td>497,00</td>\n",
       "      <td>3,75</td>\n",
       "      <td>RIGHT</td>\n",
       "      <td>114</td>\n",
       "      <td>34,88</td>\n",
       "      <td>32,91</td>\n",
       "    </tr>\n",
       "    <tr>\n",
       "      <th>2</th>\n",
       "      <td>1</td>\n",
       "      <td>RIGHT</td>\n",
       "      <td>890,30</td>\n",
       "      <td>487,60</td>\n",
       "      <td>343</td>\n",
       "      <td>179</td>\n",
       "      <td>798,10</td>\n",
       "      <td>547,40</td>\n",
       "      <td>3,16</td>\n",
       "      <td>LEFT</td>\n",
       "      <td>37</td>\n",
       "      <td>-146,84</td>\n",
       "      <td>85,51</td>\n",
       "    </tr>\n",
       "    <tr>\n",
       "      <th>3</th>\n",
       "      <td>1</td>\n",
       "      <td>RIGHT</td>\n",
       "      <td>797,10</td>\n",
       "      <td>559,20</td>\n",
       "      <td>559</td>\n",
       "      <td>151</td>\n",
       "      <td>814,50</td>\n",
       "      <td>656,30</td>\n",
       "      <td>2,76</td>\n",
       "      <td>DOWN</td>\n",
       "      <td>27</td>\n",
       "      <td>-79,39</td>\n",
       "      <td>102,09</td>\n",
       "    </tr>\n",
       "    <tr>\n",
       "      <th>4</th>\n",
       "      <td>1</td>\n",
       "      <td>RIGHT</td>\n",
       "      <td>820,40</td>\n",
       "      <td>650,10</td>\n",
       "      <td>737</td>\n",
       "      <td>215</td>\n",
       "      <td>847,70</td>\n",
       "      <td>196,70</td>\n",
       "      <td>12,64</td>\n",
       "      <td>UP</td>\n",
       "      <td>52</td>\n",
       "      <td>86,35</td>\n",
       "      <td>243,03</td>\n",
       "    </tr>\n",
       "  </tbody>\n",
       "</table>\n",
       "</div>"
      ],
      "text/plain": [
       "   TRIAL_INDEX EYE_USED CURRENT_FIX_X CURRENT_FIX_Y  CURRENT_FIX_START  \\\n",
       "0            1    RIGHT        385,20         66,40                  6   \n",
       "1            1    RIGHT        775,50        564,50                176   \n",
       "2            1    RIGHT        890,30        487,60                343   \n",
       "3            1    RIGHT        797,10        559,20                559   \n",
       "4            1    RIGHT        820,40        650,10                737   \n",
       "\n",
       "   CURRENT_FIX_DURATION NEXT_SAC_END_X NEXT_SAC_END_Y NEXT_SAC_AMPLITUDE  \\\n",
       "0                    97         778,60         570,10              17,55   \n",
       "1                    53         882,60         497,00               3,75   \n",
       "2                   179         798,10         547,40               3,16   \n",
       "3                   151         814,50         656,30               2,76   \n",
       "4                   215         847,70         196,70              12,64   \n",
       "\n",
       "  NEXT_SAC_DIRECTION NEXT_SAC_DURATION NEXT_SAC_ANGLE NEXT_SAC_AVG_VELOCITY  \n",
       "0               DOWN                73         -51,57                240,45  \n",
       "1              RIGHT               114          34,88                 32,91  \n",
       "2               LEFT                37        -146,84                 85,51  \n",
       "3               DOWN                27         -79,39                102,09  \n",
       "4                 UP                52          86,35                243,03  "
      ]
     },
     "execution_count": 73,
     "metadata": {},
     "output_type": "execute_result"
    }
   ],
   "source": [
    "df = pd.read_csv(\"../data/part_{0}/part_{0}.csv\".format(part_id), sep=\"\\t\")\n",
    "df.head()"
   ]
  },
  {
   "cell_type": "code",
   "execution_count": 74,
   "metadata": {},
   "outputs": [
    {
     "data": {
      "text/html": [
       "<div>\n",
       "<style scoped>\n",
       "    .dataframe tbody tr th:only-of-type {\n",
       "        vertical-align: middle;\n",
       "    }\n",
       "\n",
       "    .dataframe tbody tr th {\n",
       "        vertical-align: top;\n",
       "    }\n",
       "\n",
       "    .dataframe thead th {\n",
       "        text-align: right;\n",
       "    }\n",
       "</style>\n",
       "<table border=\"1\" class=\"dataframe\">\n",
       "  <thead>\n",
       "    <tr style=\"text-align: right;\">\n",
       "      <th></th>\n",
       "      <th>TRIAL_INDEX</th>\n",
       "      <th>CURRENT_MSG_TIME</th>\n",
       "      <th>CURRENT_MSG_TEXT</th>\n",
       "    </tr>\n",
       "  </thead>\n",
       "  <tbody>\n",
       "    <tr>\n",
       "      <th>0</th>\n",
       "      <td>1</td>\n",
       "      <td>11</td>\n",
       "      <td>TRIAL START = 2018-04-03 17:21:14</td>\n",
       "    </tr>\n",
       "    <tr>\n",
       "      <th>1</th>\n",
       "      <td>1</td>\n",
       "      <td>59990</td>\n",
       "      <td>TRIAL END = 2018-04-03 17:22:14</td>\n",
       "    </tr>\n",
       "    <tr>\n",
       "      <th>2</th>\n",
       "      <td>2</td>\n",
       "      <td>6</td>\n",
       "      <td>TRIAL START = 2018-04-03 17:22:54</td>\n",
       "    </tr>\n",
       "    <tr>\n",
       "      <th>3</th>\n",
       "      <td>2</td>\n",
       "      <td>60290</td>\n",
       "      <td>TRIAL END = 2018-04-03 17:23:54</td>\n",
       "    </tr>\n",
       "    <tr>\n",
       "      <th>4</th>\n",
       "      <td>3</td>\n",
       "      <td>6</td>\n",
       "      <td>TRIAL START = 2018-04-03 17:24:26</td>\n",
       "    </tr>\n",
       "  </tbody>\n",
       "</table>\n",
       "</div>"
      ],
      "text/plain": [
       "   TRIAL_INDEX  CURRENT_MSG_TIME                   CURRENT_MSG_TEXT\n",
       "0            1                11  TRIAL START = 2018-04-03 17:21:14\n",
       "1            1             59990    TRIAL END = 2018-04-03 17:22:14\n",
       "2            2                 6  TRIAL START = 2018-04-03 17:22:54\n",
       "3            2             60290    TRIAL END = 2018-04-03 17:23:54\n",
       "4            3                 6  TRIAL START = 2018-04-03 17:24:26"
      ]
     },
     "execution_count": 74,
     "metadata": {},
     "output_type": "execute_result"
    }
   ],
   "source": [
    "msg = pd.read_csv(\"../data/part_{0}/part_{0}_msg.csv\".format(part_id), sep=\"\\t\")\n",
    "msg.head()"
   ]
  },
  {
   "cell_type": "code",
   "execution_count": 75,
   "metadata": {},
   "outputs": [],
   "source": [
    "mrs_json = json.load(open(\"../data/part_{0}/records-{0}.mrs\".format(part_id)))"
   ]
  },
  {
   "cell_type": "code",
   "execution_count": 76,
   "metadata": {},
   "outputs": [],
   "source": [
    "config = pickle.load(open(\"../data/part_{0}/part_{0}.cfg\".format(part_id), 'rb'))"
   ]
  },
  {
   "cell_type": "markdown",
   "metadata": {},
   "source": [
    "# Extract data"
   ]
  },
  {
   "cell_type": "code",
   "execution_count": 77,
   "metadata": {
    "scrolled": true
   },
   "outputs": [],
   "source": [
    "# Extract scroll data from json file\n",
    "def extract_scroll(mrs_json, idx):\n",
    "    # There is two key format: scroll|mouse-website_id-part_id or scroll|mouse-website_id\n",
    "    # So we need to check that out\n",
    "    r = re.compile(\"scroll-\"+str(idx)+\"(?!\\d)\")\n",
    "\n",
    "    for item in mrs_json:\n",
    "        match = list(filter(r.match, list(item.keys())))\n",
    "        \n",
    "        if(len(match) > 0):\n",
    "            return pd.DataFrame(item[match[0]])\n",
    "    \n",
    "    return None"
   ]
  },
  {
   "cell_type": "code",
   "execution_count": 78,
   "metadata": {},
   "outputs": [],
   "source": [
    "# Build scroll offset dataset\n",
    "df_scroll = pd.DataFrame()\n",
    "for i in range(1,19):\n",
    "    scroll = None\n",
    "    scroll = extract_scroll(mrs_json, i)\n",
    "    scroll[\"website_id\"] = i\n",
    "    df_scroll = pd.concat([df_scroll, scroll])"
   ]
  },
  {
   "cell_type": "code",
   "execution_count": 79,
   "metadata": {},
   "outputs": [],
   "source": [
    "# Extract right Datetime\n",
    "# Timestamp is gave by `new Date().getTime()` in Javascript which is in ms\n",
    "# And since this same function give UTC time, we need to add 1H\n",
    "\n",
    "\n",
    "time_to_add = 0\n",
    "# There was a time change on 25 March 2018, so the time shift between the datasets is not 1h anymore but 2h\n",
    "if(part_id > 700 and part_id < 712):\n",
    "    time_to_add = 1\n",
    "else:\n",
    "    time_to_add = 2\n",
    "\n",
    "df_scroll[\"datetime\"] = pd.to_datetime(df_scroll[\"timestamp\"], unit=\"ms\") + pd.Timedelta(hours=time_to_add)"
   ]
  },
  {
   "cell_type": "code",
   "execution_count": 80,
   "metadata": {},
   "outputs": [
    {
     "data": {
      "text/html": [
       "<div>\n",
       "<style scoped>\n",
       "    .dataframe tbody tr th:only-of-type {\n",
       "        vertical-align: middle;\n",
       "    }\n",
       "\n",
       "    .dataframe tbody tr th {\n",
       "        vertical-align: top;\n",
       "    }\n",
       "\n",
       "    .dataframe thead th {\n",
       "        text-align: right;\n",
       "    }\n",
       "</style>\n",
       "<table border=\"1\" class=\"dataframe\">\n",
       "  <thead>\n",
       "    <tr style=\"text-align: right;\">\n",
       "      <th></th>\n",
       "      <th>offset</th>\n",
       "      <th>timestamp</th>\n",
       "      <th>website_id</th>\n",
       "      <th>datetime</th>\n",
       "    </tr>\n",
       "  </thead>\n",
       "  <tbody>\n",
       "    <tr>\n",
       "      <th>0</th>\n",
       "      <td>1</td>\n",
       "      <td>1522769842319</td>\n",
       "      <td>1</td>\n",
       "      <td>2018-04-03 17:37:22.319</td>\n",
       "    </tr>\n",
       "    <tr>\n",
       "      <th>1</th>\n",
       "      <td>2</td>\n",
       "      <td>1522769842325</td>\n",
       "      <td>1</td>\n",
       "      <td>2018-04-03 17:37:22.325</td>\n",
       "    </tr>\n",
       "    <tr>\n",
       "      <th>2</th>\n",
       "      <td>4</td>\n",
       "      <td>1522769842333</td>\n",
       "      <td>1</td>\n",
       "      <td>2018-04-03 17:37:22.333</td>\n",
       "    </tr>\n",
       "    <tr>\n",
       "      <th>3</th>\n",
       "      <td>7</td>\n",
       "      <td>1522769842343</td>\n",
       "      <td>1</td>\n",
       "      <td>2018-04-03 17:37:22.343</td>\n",
       "    </tr>\n",
       "    <tr>\n",
       "      <th>4</th>\n",
       "      <td>13</td>\n",
       "      <td>1522769842355</td>\n",
       "      <td>1</td>\n",
       "      <td>2018-04-03 17:37:22.355</td>\n",
       "    </tr>\n",
       "  </tbody>\n",
       "</table>\n",
       "</div>"
      ],
      "text/plain": [
       "   offset      timestamp  website_id                datetime\n",
       "0       1  1522769842319           1 2018-04-03 17:37:22.319\n",
       "1       2  1522769842325           1 2018-04-03 17:37:22.325\n",
       "2       4  1522769842333           1 2018-04-03 17:37:22.333\n",
       "3       7  1522769842343           1 2018-04-03 17:37:22.343\n",
       "4      13  1522769842355           1 2018-04-03 17:37:22.355"
      ]
     },
     "execution_count": 80,
     "metadata": {},
     "output_type": "execute_result"
    }
   ],
   "source": [
    "df_scroll.head()"
   ]
  },
  {
   "cell_type": "markdown",
   "metadata": {},
   "source": [
    "# Messages cleaning"
   ]
  },
  {
   "cell_type": "code",
   "execution_count": 81,
   "metadata": {},
   "outputs": [
    {
     "data": {
      "text/html": [
       "<div>\n",
       "<style scoped>\n",
       "    .dataframe tbody tr th:only-of-type {\n",
       "        vertical-align: middle;\n",
       "    }\n",
       "\n",
       "    .dataframe tbody tr th {\n",
       "        vertical-align: top;\n",
       "    }\n",
       "\n",
       "    .dataframe thead th {\n",
       "        text-align: right;\n",
       "    }\n",
       "</style>\n",
       "<table border=\"1\" class=\"dataframe\">\n",
       "  <thead>\n",
       "    <tr style=\"text-align: right;\">\n",
       "      <th></th>\n",
       "      <th>TRIAL_INDEX</th>\n",
       "      <th>CURRENT_MSG_TIME</th>\n",
       "      <th>CURRENT_MSG_TEXT</th>\n",
       "    </tr>\n",
       "  </thead>\n",
       "  <tbody>\n",
       "    <tr>\n",
       "      <th>0</th>\n",
       "      <td>1</td>\n",
       "      <td>11</td>\n",
       "      <td>TRIAL START = 2018-04-03 17:21:14</td>\n",
       "    </tr>\n",
       "    <tr>\n",
       "      <th>1</th>\n",
       "      <td>1</td>\n",
       "      <td>59990</td>\n",
       "      <td>TRIAL END = 2018-04-03 17:22:14</td>\n",
       "    </tr>\n",
       "    <tr>\n",
       "      <th>2</th>\n",
       "      <td>2</td>\n",
       "      <td>6</td>\n",
       "      <td>TRIAL START = 2018-04-03 17:22:54</td>\n",
       "    </tr>\n",
       "    <tr>\n",
       "      <th>3</th>\n",
       "      <td>2</td>\n",
       "      <td>60290</td>\n",
       "      <td>TRIAL END = 2018-04-03 17:23:54</td>\n",
       "    </tr>\n",
       "    <tr>\n",
       "      <th>4</th>\n",
       "      <td>3</td>\n",
       "      <td>6</td>\n",
       "      <td>TRIAL START = 2018-04-03 17:24:26</td>\n",
       "    </tr>\n",
       "  </tbody>\n",
       "</table>\n",
       "</div>"
      ],
      "text/plain": [
       "   TRIAL_INDEX  CURRENT_MSG_TIME                   CURRENT_MSG_TEXT\n",
       "0            1                11  TRIAL START = 2018-04-03 17:21:14\n",
       "1            1             59990    TRIAL END = 2018-04-03 17:22:14\n",
       "2            2                 6  TRIAL START = 2018-04-03 17:22:54\n",
       "3            2             60290    TRIAL END = 2018-04-03 17:23:54\n",
       "4            3                 6  TRIAL START = 2018-04-03 17:24:26"
      ]
     },
     "execution_count": 81,
     "metadata": {},
     "output_type": "execute_result"
    }
   ],
   "source": [
    "# Delete useless msg\n",
    "msg = msg[~msg[\"CURRENT_MSG_TEXT\"].str.contains(\"!MODE RECORD\")].reset_index(drop=True)\n",
    "msg.head()"
   ]
  },
  {
   "cell_type": "code",
   "execution_count": 82,
   "metadata": {},
   "outputs": [
    {
     "data": {
      "text/html": [
       "<div>\n",
       "<style scoped>\n",
       "    .dataframe tbody tr th:only-of-type {\n",
       "        vertical-align: middle;\n",
       "    }\n",
       "\n",
       "    .dataframe tbody tr th {\n",
       "        vertical-align: top;\n",
       "    }\n",
       "\n",
       "    .dataframe thead th {\n",
       "        text-align: right;\n",
       "    }\n",
       "</style>\n",
       "<table border=\"1\" class=\"dataframe\">\n",
       "  <thead>\n",
       "    <tr style=\"text-align: right;\">\n",
       "      <th></th>\n",
       "      <th>TRIAL_INDEX</th>\n",
       "      <th>CURRENT_MSG_TIME</th>\n",
       "      <th>EVENT_NAME</th>\n",
       "      <th>EVENT_DATETIME</th>\n",
       "    </tr>\n",
       "  </thead>\n",
       "  <tbody>\n",
       "    <tr>\n",
       "      <th>0</th>\n",
       "      <td>1</td>\n",
       "      <td>11</td>\n",
       "      <td>TRIAL START</td>\n",
       "      <td>2018-04-03 17:21:14</td>\n",
       "    </tr>\n",
       "    <tr>\n",
       "      <th>1</th>\n",
       "      <td>1</td>\n",
       "      <td>59990</td>\n",
       "      <td>TRIAL END</td>\n",
       "      <td>2018-04-03 17:22:14</td>\n",
       "    </tr>\n",
       "    <tr>\n",
       "      <th>2</th>\n",
       "      <td>2</td>\n",
       "      <td>6</td>\n",
       "      <td>TRIAL START</td>\n",
       "      <td>2018-04-03 17:22:54</td>\n",
       "    </tr>\n",
       "    <tr>\n",
       "      <th>3</th>\n",
       "      <td>2</td>\n",
       "      <td>60290</td>\n",
       "      <td>TRIAL END</td>\n",
       "      <td>2018-04-03 17:23:54</td>\n",
       "    </tr>\n",
       "    <tr>\n",
       "      <th>4</th>\n",
       "      <td>3</td>\n",
       "      <td>6</td>\n",
       "      <td>TRIAL START</td>\n",
       "      <td>2018-04-03 17:24:26</td>\n",
       "    </tr>\n",
       "  </tbody>\n",
       "</table>\n",
       "</div>"
      ],
      "text/plain": [
       "   TRIAL_INDEX  CURRENT_MSG_TIME   EVENT_NAME       EVENT_DATETIME\n",
       "0            1                11  TRIAL START  2018-04-03 17:21:14\n",
       "1            1             59990    TRIAL END  2018-04-03 17:22:14\n",
       "2            2                 6  TRIAL START  2018-04-03 17:22:54\n",
       "3            2             60290    TRIAL END  2018-04-03 17:23:54\n",
       "4            3                 6  TRIAL START  2018-04-03 17:24:26"
      ]
     },
     "execution_count": 82,
     "metadata": {},
     "output_type": "execute_result"
    }
   ],
   "source": [
    "# Extract message datetime in a new column\n",
    "def split_equal(row):\n",
    "    string = row[\"CURRENT_MSG_TEXT\"].split(\"=\")\n",
    "    row[\"EVENT_NAME\"] = string[0].strip()\n",
    "    row[\"EVENT_DATETIME\"] = string[1].strip()\n",
    "    \n",
    "    del row[\"CURRENT_MSG_TEXT\"]\n",
    "    \n",
    "    return row\n",
    "\n",
    "msg = msg.apply(split_equal, axis=1)\n",
    "msg.head()"
   ]
  },
  {
   "cell_type": "code",
   "execution_count": 83,
   "metadata": {},
   "outputs": [],
   "source": [
    "msg[\"EVENT_DATETIME\"] = pd.to_datetime(msg[\"EVENT_DATETIME\"])"
   ]
  },
  {
   "cell_type": "markdown",
   "metadata": {},
   "source": [
    "# Other cleaning"
   ]
  },
  {
   "cell_type": "code",
   "execution_count": 84,
   "metadata": {},
   "outputs": [
    {
     "data": {
      "text/plain": [
       "Index(['.', 'DOWN', 'LEFT', 'RIGHT', 'UP'], dtype='object')"
      ]
     },
     "execution_count": 84,
     "metadata": {},
     "output_type": "execute_result"
    }
   ],
   "source": [
    "# Left, Right, Up or Down\n",
    "df[\"NEXT_SAC_DIRECTION\"] = df[\"NEXT_SAC_DIRECTION\"].astype(\"category\")\n",
    "df[\"NEXT_SAC_DIRECTION\"].cat.categories"
   ]
  },
  {
   "cell_type": "code",
   "execution_count": 85,
   "metadata": {
    "scrolled": true
   },
   "outputs": [],
   "source": [
    "df[\"CURRENT_FIX_Y\"] = pd.to_numeric(df[\"CURRENT_FIX_Y\"].str.replace(',','.'))\n",
    "df[\"CURRENT_FIX_X\"] = pd.to_numeric(df[\"CURRENT_FIX_X\"].str.replace(',','.'))\n",
    "\n",
    "\n",
    "# Last fixations does not have NEXT_SAC information\n",
    "df[\"NEXT_SAC_AMPLITUDE\"] = pd.to_numeric(df[\"NEXT_SAC_AMPLITUDE\"].str.replace(\".\", \"\").str.replace(\",\", \".\"))\n",
    "df[\"NEXT_SAC_END_X\"] = pd.to_numeric(df[\"NEXT_SAC_END_X\"].str.replace(\".\", \"\").str.replace(\",\", \".\"))\n",
    "df[\"NEXT_SAC_END_Y\"] = pd.to_numeric(df[\"NEXT_SAC_END_Y\"].str.replace(\".\", \"\").str.replace(\",\", \".\"))\n",
    "df[\"NEXT_SAC_DURATION\"] = pd.to_numeric(df[\"NEXT_SAC_DURATION\"].str.replace(\".\", \"\").str.replace(\",\", \".\"))\n",
    "df[\"NEXT_SAC_ANGLE\"] = pd.to_numeric(df[\"NEXT_SAC_ANGLE\"].str.replace(\".\", \"\").str.replace(\",\", \".\"))\n",
    "df[\"NEXT_SAC_AVG_VELOCITY\"] = pd.to_numeric(df[\"NEXT_SAC_AVG_VELOCITY\"].str.replace(\".\", \"\").str.replace(\",\", \".\"))"
   ]
  },
  {
   "cell_type": "markdown",
   "metadata": {},
   "source": [
    "# Time Sync"
   ]
  },
  {
   "cell_type": "code",
   "execution_count": 86,
   "metadata": {},
   "outputs": [],
   "source": [
    "# Time sync\n",
    "def sync_time(cell, msg):\n",
    "    timedelta = cell - msg[\"CURRENT_MSG_TIME\"][0]\n",
    "    to_return = msg.loc[0, \"EVENT_DATETIME\"] + pd.Timedelta(milliseconds=timedelta)\n",
    "    return to_return"
   ]
  },
  {
   "cell_type": "code",
   "execution_count": 87,
   "metadata": {
    "scrolled": false
   },
   "outputs": [],
   "source": [
    "def sync_and_clean(group):\n",
    "    trial_index = group['TRIAL_INDEX'].unique()[0]\n",
    "    \n",
    "    msg_start_trial = msg.query(\"TRIAL_INDEX == @trial_index and EVENT_NAME == 'TRIAL START'\").reset_index(drop=True)\n",
    "    msg_end_trial = msg.query(\"TRIAL_INDEX == @trial_index and EVENT_NAME == 'TRIAL END'\").reset_index(drop=True)\n",
    "\n",
    "    group[\"DATETIME\"] = group[\"CURRENT_FIX_START\"].apply(lambda x: sync_time(x, msg_start_trial))\n",
    "    \n",
    "    group = group[group[\"DATETIME\"] > msg_start_trial[\"EVENT_DATETIME\"][0]]\n",
    "    group = group[group[\"DATETIME\"] < msg_end_trial[\"EVENT_DATETIME\"][0]]\n",
    "    \n",
    "    return group"
   ]
  },
  {
   "cell_type": "code",
   "execution_count": 88,
   "metadata": {},
   "outputs": [],
   "source": [
    "df = df.groupby(\"TRIAL_INDEX\").apply(sync_and_clean).reset_index(drop = True)"
   ]
  },
  {
   "cell_type": "markdown",
   "metadata": {},
   "source": [
    "# Websites and Conditions"
   ]
  },
  {
   "cell_type": "code",
   "execution_count": 89,
   "metadata": {},
   "outputs": [],
   "source": [
    "# Condition 1:  Free    + NoPub\n",
    "# Condition 2:  Target  + NoPub\n",
    "# Condition 3:  Free    + Skin\n",
    "# Condition 4:  Target  + Skin\n",
    "# Condition 5:  Free    + Skin/MPU\n",
    "# Condition 6:  Target  + Skin/MPU\n",
    "def get_condition(trial_num):\n",
    "    data = config[\"rand_weblist\"][trial_num - 1]\n",
    "    if(data[\"type\"] == \"free\" and data[\"ad_id\"] == 0 and data[\"mpu_id\"] == 0):\n",
    "        return 1\n",
    "    elif(data[\"type\"] == \"target\" and data[\"ad_id\"] == 0 and data[\"mpu_id\"] == 0):\n",
    "        return 2\n",
    "    elif(data[\"type\"] == \"free\" and data[\"ad_id\"] > 0 and data[\"mpu_id\"] == 0):\n",
    "        return 3\n",
    "    elif(data[\"type\"] == \"target\" and data[\"ad_id\"] > 0 and data[\"mpu_id\"] == 0):\n",
    "        return 4\n",
    "    elif(data[\"type\"] == \"free\" and data[\"ad_id\"] > 0 and data[\"mpu_id\"] > 0):\n",
    "        return 5\n",
    "    elif(data[\"type\"] == \"target\" and data[\"ad_id\"] > 0 and data[\"mpu_id\"] > 0):\n",
    "        return 6\n",
    "    \n",
    "    return None\n",
    "\n",
    "def condition_string(num):\n",
    "    if(num == 1):\n",
    "        return \"Free + NoPub\"\n",
    "    elif(num == 2):\n",
    "        return \"Target + NoPub\"\n",
    "    elif(num == 3):\n",
    "        return \"Free + Skin\"\n",
    "    elif(num == 4):\n",
    "        return \"Target + Skin\"\n",
    "    elif(num == 5):\n",
    "        return \"Free + Skin/MPU\"\n",
    "    elif(num == 6):\n",
    "        return \"Target + Skin/MPU\"\n",
    "    else:\n",
    "        return None"
   ]
  },
  {
   "cell_type": "code",
   "execution_count": 90,
   "metadata": {},
   "outputs": [],
   "source": [
    "def get_website_id(trial_num):\n",
    "    return config[\"rand_weblist\"][trial_num - 1][\"id\"]"
   ]
  },
  {
   "cell_type": "code",
   "execution_count": 91,
   "metadata": {},
   "outputs": [],
   "source": [
    "df[\"WEBSITE_ID\"] = df[\"TRIAL_INDEX\"].apply(get_website_id)"
   ]
  },
  {
   "cell_type": "code",
   "execution_count": 92,
   "metadata": {},
   "outputs": [],
   "source": [
    "df[\"CONDITION\"] = df[\"TRIAL_INDEX\"].apply(get_condition)"
   ]
  },
  {
   "cell_type": "markdown",
   "metadata": {},
   "source": [
    "# Offset Sync"
   ]
  },
  {
   "cell_type": "code",
   "execution_count": 93,
   "metadata": {},
   "outputs": [],
   "source": [
    "def get_last_offset(trial_scroll, date_eye):\n",
    "    result = trial_scroll[trial_scroll[\"datetime\"] < date_eye]\n",
    "    if(result.empty):\n",
    "        return 0\n",
    "    else:\n",
    "        return result.iloc[-1][\"offset\"]"
   ]
  },
  {
   "cell_type": "code",
   "execution_count": 94,
   "metadata": {},
   "outputs": [],
   "source": [
    "def get_offset(group):\n",
    "    website_id = group['WEBSITE_ID'].unique()[0]\n",
    "    group[\"OFFSET\"] = group[\"DATETIME\"].apply(lambda x: get_last_offset(df_scroll.query(\"website_id == \"+str(website_id)), x))\n",
    "    return group"
   ]
  },
  {
   "cell_type": "code",
   "execution_count": 95,
   "metadata": {
    "scrolled": true
   },
   "outputs": [],
   "source": [
    "df = df.groupby(\"TRIAL_INDEX\").apply(get_offset)"
   ]
  },
  {
   "cell_type": "code",
   "execution_count": 96,
   "metadata": {},
   "outputs": [
    {
     "data": {
      "text/plain": [
       "TRIAL_INDEX\n",
       "1     [0, 100, 200, 209, 300, 400, 407, 500, 600, 70...\n",
       "2     [0, 97, 100, 155, 200, 276, 300, 340, 400, 499...\n",
       "3     [0, 93, 100, 166, 300, 498, 500, 800, 809, 120...\n",
       "4     [0, 95, 100, 280, 400, 600, 619, 700, 900, 109...\n",
       "5     [0, 55, 200, 300, 319, 400, 463, 500, 507, 600...\n",
       "6     [0, 100, 300, 444, 500, 599, 600, 760, 800, 85...\n",
       "7     [0, 32, 100, 132, 200, 204, 300, 498, 500, 528...\n",
       "8     [0, 2, 200, 300, 317, 400, 408, 500, 700, 684,...\n",
       "9     [0, 92, 100, 122, 200, 285, 300, 361, 400, 422...\n",
       "10    [0, 98, 100, 119, 400, 600, 770, 800, 805, 100...\n",
       "11    [0, 100, 187, 200, 242, 400, 430, 500, 522, 60...\n",
       "12    [0, 80, 100, 200, 300, 353, 400, 494, 500, 600...\n",
       "13    [0, 81, 100, 135, 300, 389, 400, 500, 593, 600...\n",
       "14    [0, 100, 65, 19, 400, 488, 500, 600, 700, 800,...\n",
       "15    [0, 1, 100, 226, 300, 600, 700, 800, 999, 1000...\n",
       "16    [0, 86, 100, 146, 300, 500, 540, 700, 907, 100...\n",
       "17    [0, 28, 200, 219, 302, 400, 500, 657, 700, 792...\n",
       "18    [0, 99, 100, 200, 354, 400, 401, 500, 600, 640...\n",
       "Name: OFFSET, dtype: object"
      ]
     },
     "execution_count": 96,
     "metadata": {},
     "output_type": "execute_result"
    }
   ],
   "source": [
    "df.groupby(\"TRIAL_INDEX\")[\"OFFSET\"].unique()"
   ]
  },
  {
   "cell_type": "code",
   "execution_count": 97,
   "metadata": {},
   "outputs": [],
   "source": [
    "df[\"Y_OFFSET\"] = df[\"CURRENT_FIX_Y\"] + df[\"OFFSET\"]"
   ]
  },
  {
   "cell_type": "markdown",
   "metadata": {
    "collapsed": true
   },
   "source": [
    "# Export"
   ]
  },
  {
   "cell_type": "code",
   "execution_count": 98,
   "metadata": {},
   "outputs": [],
   "source": [
    "df.to_csv(\"../data/part_{0}/part_{0}_clean.csv\".format(part_id), index=False)"
   ]
  },
  {
   "cell_type": "code",
   "execution_count": 99,
   "metadata": {},
   "outputs": [
    {
     "data": {
      "text/html": [
       "<div>\n",
       "<style scoped>\n",
       "    .dataframe tbody tr th:only-of-type {\n",
       "        vertical-align: middle;\n",
       "    }\n",
       "\n",
       "    .dataframe tbody tr th {\n",
       "        vertical-align: top;\n",
       "    }\n",
       "\n",
       "    .dataframe thead th {\n",
       "        text-align: right;\n",
       "    }\n",
       "</style>\n",
       "<table border=\"1\" class=\"dataframe\">\n",
       "  <thead>\n",
       "    <tr style=\"text-align: right;\">\n",
       "      <th></th>\n",
       "      <th>TRIAL_INDEX</th>\n",
       "      <th>EYE_USED</th>\n",
       "      <th>CURRENT_FIX_X</th>\n",
       "      <th>CURRENT_FIX_Y</th>\n",
       "      <th>CURRENT_FIX_START</th>\n",
       "      <th>CURRENT_FIX_DURATION</th>\n",
       "      <th>NEXT_SAC_END_X</th>\n",
       "      <th>NEXT_SAC_END_Y</th>\n",
       "      <th>NEXT_SAC_AMPLITUDE</th>\n",
       "      <th>NEXT_SAC_DIRECTION</th>\n",
       "      <th>NEXT_SAC_DURATION</th>\n",
       "      <th>NEXT_SAC_ANGLE</th>\n",
       "      <th>NEXT_SAC_AVG_VELOCITY</th>\n",
       "      <th>DATETIME</th>\n",
       "      <th>WEBSITE_ID</th>\n",
       "      <th>CONDITION</th>\n",
       "      <th>OFFSET</th>\n",
       "      <th>Y_OFFSET</th>\n",
       "    </tr>\n",
       "  </thead>\n",
       "  <tbody>\n",
       "    <tr>\n",
       "      <th>0</th>\n",
       "      <td>1</td>\n",
       "      <td>RIGHT</td>\n",
       "      <td>775.5</td>\n",
       "      <td>564.5</td>\n",
       "      <td>176</td>\n",
       "      <td>53</td>\n",
       "      <td>882.6</td>\n",
       "      <td>497.0</td>\n",
       "      <td>3.75</td>\n",
       "      <td>RIGHT</td>\n",
       "      <td>114.0</td>\n",
       "      <td>34.88</td>\n",
       "      <td>32.91</td>\n",
       "      <td>2018-04-03 17:21:14.165</td>\n",
       "      <td>13</td>\n",
       "      <td>5</td>\n",
       "      <td>0</td>\n",
       "      <td>564.5</td>\n",
       "    </tr>\n",
       "    <tr>\n",
       "      <th>1</th>\n",
       "      <td>1</td>\n",
       "      <td>RIGHT</td>\n",
       "      <td>890.3</td>\n",
       "      <td>487.6</td>\n",
       "      <td>343</td>\n",
       "      <td>179</td>\n",
       "      <td>798.1</td>\n",
       "      <td>547.4</td>\n",
       "      <td>3.16</td>\n",
       "      <td>LEFT</td>\n",
       "      <td>37.0</td>\n",
       "      <td>-146.84</td>\n",
       "      <td>85.51</td>\n",
       "      <td>2018-04-03 17:21:14.332</td>\n",
       "      <td>13</td>\n",
       "      <td>5</td>\n",
       "      <td>0</td>\n",
       "      <td>487.6</td>\n",
       "    </tr>\n",
       "    <tr>\n",
       "      <th>2</th>\n",
       "      <td>1</td>\n",
       "      <td>RIGHT</td>\n",
       "      <td>797.1</td>\n",
       "      <td>559.2</td>\n",
       "      <td>559</td>\n",
       "      <td>151</td>\n",
       "      <td>814.5</td>\n",
       "      <td>656.3</td>\n",
       "      <td>2.76</td>\n",
       "      <td>DOWN</td>\n",
       "      <td>27.0</td>\n",
       "      <td>-79.39</td>\n",
       "      <td>102.09</td>\n",
       "      <td>2018-04-03 17:21:14.548</td>\n",
       "      <td>13</td>\n",
       "      <td>5</td>\n",
       "      <td>0</td>\n",
       "      <td>559.2</td>\n",
       "    </tr>\n",
       "    <tr>\n",
       "      <th>3</th>\n",
       "      <td>1</td>\n",
       "      <td>RIGHT</td>\n",
       "      <td>820.4</td>\n",
       "      <td>650.1</td>\n",
       "      <td>737</td>\n",
       "      <td>215</td>\n",
       "      <td>847.7</td>\n",
       "      <td>196.7</td>\n",
       "      <td>12.64</td>\n",
       "      <td>UP</td>\n",
       "      <td>52.0</td>\n",
       "      <td>86.35</td>\n",
       "      <td>243.03</td>\n",
       "      <td>2018-04-03 17:21:14.726</td>\n",
       "      <td>13</td>\n",
       "      <td>5</td>\n",
       "      <td>0</td>\n",
       "      <td>650.1</td>\n",
       "    </tr>\n",
       "    <tr>\n",
       "      <th>4</th>\n",
       "      <td>1</td>\n",
       "      <td>RIGHT</td>\n",
       "      <td>845.1</td>\n",
       "      <td>194.7</td>\n",
       "      <td>1004</td>\n",
       "      <td>205</td>\n",
       "      <td>933.1</td>\n",
       "      <td>163.2</td>\n",
       "      <td>2.73</td>\n",
       "      <td>RIGHT</td>\n",
       "      <td>47.0</td>\n",
       "      <td>17.47</td>\n",
       "      <td>58.11</td>\n",
       "      <td>2018-04-03 17:21:14.993</td>\n",
       "      <td>13</td>\n",
       "      <td>5</td>\n",
       "      <td>0</td>\n",
       "      <td>194.7</td>\n",
       "    </tr>\n",
       "  </tbody>\n",
       "</table>\n",
       "</div>"
      ],
      "text/plain": [
       "   TRIAL_INDEX EYE_USED  CURRENT_FIX_X  CURRENT_FIX_Y  CURRENT_FIX_START  \\\n",
       "0            1    RIGHT          775.5          564.5                176   \n",
       "1            1    RIGHT          890.3          487.6                343   \n",
       "2            1    RIGHT          797.1          559.2                559   \n",
       "3            1    RIGHT          820.4          650.1                737   \n",
       "4            1    RIGHT          845.1          194.7               1004   \n",
       "\n",
       "   CURRENT_FIX_DURATION  NEXT_SAC_END_X  NEXT_SAC_END_Y  NEXT_SAC_AMPLITUDE  \\\n",
       "0                    53           882.6           497.0                3.75   \n",
       "1                   179           798.1           547.4                3.16   \n",
       "2                   151           814.5           656.3                2.76   \n",
       "3                   215           847.7           196.7               12.64   \n",
       "4                   205           933.1           163.2                2.73   \n",
       "\n",
       "  NEXT_SAC_DIRECTION  NEXT_SAC_DURATION  NEXT_SAC_ANGLE  \\\n",
       "0              RIGHT              114.0           34.88   \n",
       "1               LEFT               37.0         -146.84   \n",
       "2               DOWN               27.0          -79.39   \n",
       "3                 UP               52.0           86.35   \n",
       "4              RIGHT               47.0           17.47   \n",
       "\n",
       "   NEXT_SAC_AVG_VELOCITY                DATETIME  WEBSITE_ID  CONDITION  \\\n",
       "0                  32.91 2018-04-03 17:21:14.165          13          5   \n",
       "1                  85.51 2018-04-03 17:21:14.332          13          5   \n",
       "2                 102.09 2018-04-03 17:21:14.548          13          5   \n",
       "3                 243.03 2018-04-03 17:21:14.726          13          5   \n",
       "4                  58.11 2018-04-03 17:21:14.993          13          5   \n",
       "\n",
       "   OFFSET  Y_OFFSET  \n",
       "0       0     564.5  \n",
       "1       0     487.6  \n",
       "2       0     559.2  \n",
       "3       0     650.1  \n",
       "4       0     194.7  "
      ]
     },
     "execution_count": 99,
     "metadata": {},
     "output_type": "execute_result"
    }
   ],
   "source": [
    "df.head()"
   ]
  }
 ],
 "metadata": {
  "anaconda-cloud": {},
  "kernelspec": {
   "display_name": "Python 3",
   "language": "python",
   "name": "python3"
  },
  "language_info": {
   "codemirror_mode": {
    "name": "ipython",
    "version": 3
   },
   "file_extension": ".py",
   "mimetype": "text/x-python",
   "name": "python",
   "nbconvert_exporter": "python",
   "pygments_lexer": "ipython3",
   "version": "3.6.4"
  },
  "varInspector": {
   "cols": {
    "lenName": 16,
    "lenType": 16,
    "lenVar": 40
   },
   "kernels_config": {
    "python": {
     "delete_cmd_postfix": "",
     "delete_cmd_prefix": "del ",
     "library": "var_list.py",
     "varRefreshCmd": "print(var_dic_list())"
    },
    "r": {
     "delete_cmd_postfix": ") ",
     "delete_cmd_prefix": "rm(",
     "library": "var_list.r",
     "varRefreshCmd": "cat(var_dic_list()) "
    }
   },
   "types_to_exclude": [
    "module",
    "function",
    "builtin_function_or_method",
    "instance",
    "_Feature"
   ],
   "window_display": false
  }
 },
 "nbformat": 4,
 "nbformat_minor": 1
}
