{
 "cells": [
  {
   "cell_type": "code",
   "execution_count": 1,
   "metadata": {},
   "outputs": [],
   "source": [
    "%matplotlib inline"
   ]
  },
  {
   "cell_type": "code",
   "execution_count": 2,
   "metadata": {},
   "outputs": [],
   "source": [
    "import pandas as pd\n",
    "import numpy as np\n",
    "import pickle\n",
    "import matplotlib.pyplot as plt\n",
    "import os\n",
    "import sys\n",
    "import glob\n",
    "import matplotlib as mpl\n",
    "import math\n",
    "\n",
    "from PIL import Image, ImageDraw, ImageFont, ImageChops"
   ]
  },
  {
   "cell_type": "markdown",
   "metadata": {},
   "source": [
    "# Functions"
   ]
  },
  {
   "cell_type": "code",
   "execution_count": 3,
   "metadata": {
    "scrolled": true
   },
   "outputs": [],
   "source": [
    "def clean_2s_tail_trial(group):\n",
    "    if(group[\"CONDITION\"].unique()[0] in [2,4,6]):\n",
    "        last_row = group.tail(1).fillna(0)\n",
    "        end_time = last_row[\"CURRENT_FIX_START\"].values[0] + last_row[\"CURRENT_FIX_DURATION\"].values[0] + last_row[\"NEXT_SAC_DURATION\"].values[0]\n",
    "        group[\"timediff_last_row\"] = end_time - group[\"CURRENT_FIX_START\"]\n",
    "\n",
    "        # Return all rows after 2s from the end\n",
    "        return group.query(\"timediff_last_row > 2000\").drop(\"timediff_last_row\", axis=1)\n",
    "    else:\n",
    "        return group\n"
   ]
  },
  {
   "cell_type": "code",
   "execution_count": 4,
   "metadata": {
    "scrolled": true
   },
   "outputs": [],
   "source": [
    "def clean_tail_trial(group):\n",
    "    if(group[\"CONDITION\"].unique()[0] in [2,4,6]):\n",
    "        # If current fix is > 1080 or if previous one is or previous previous one is, the row is deleted\n",
    "        group[\"to_delete\"] = (group[\"CURRENT_FIX_Y\"] > 1080) | (group[\"CURRENT_FIX_Y\"].shift() > 1080) | (group[\"CURRENT_FIX_Y\"].shift(2) > 1080)\n",
    "        \n",
    "        # We reverse `to_delete` column to apply cumsum and delete rows where value is 0 (True)\n",
    "        group[\"to_delete\"] = ~group[\"to_delete\"]\n",
    "        group[\"to_delete\"] = group.loc[::-1, \"to_delete\"].cumsum()[::-1]\n",
    "\n",
    "        return group.query(\"to_delete > 0\").drop(\"to_delete\", axis=1)\n",
    "    else:\n",
    "        return group\n",
    "\n"
   ]
  },
  {
   "cell_type": "markdown",
   "metadata": {},
   "source": [
    "# Process"
   ]
  },
  {
   "cell_type": "code",
   "execution_count": 5,
   "metadata": {},
   "outputs": [],
   "source": [
    "rootPath = '../data/'\n",
    "file_suffix = \"_built.csv\"\n",
    "export_suffix = \"_no_tail.csv\""
   ]
  },
  {
   "cell_type": "code",
   "execution_count": 6,
   "metadata": {},
   "outputs": [
    {
     "name": "stdout",
     "output_type": "stream",
     "text": [
      "Processing part_713_built.csv\n",
      "--- Removing 2 last seconds of Target Finding tasks columns\n",
      "--- Removing outside screen fixation from tail in Target Finding tasks columns\n",
      "--- Exporting to ../data/part_713/part_713_no_tail.csv\n",
      "Processing part_10_built.csv\n",
      "--- Removing 2 last seconds of Target Finding tasks columns\n",
      "--- Removing outside screen fixation from tail in Target Finding tasks columns\n",
      "--- Exporting to ../data/part_10/part_10_no_tail.csv\n",
      "Processing part_714_built.csv\n",
      "--- Removing 2 last seconds of Target Finding tasks columns\n",
      "--- Removing outside screen fixation from tail in Target Finding tasks columns\n",
      "--- Exporting to ../data/part_714/part_714_no_tail.csv\n",
      "Processing part_715_built.csv\n",
      "--- Removing 2 last seconds of Target Finding tasks columns\n",
      "--- Removing outside screen fixation from tail in Target Finding tasks columns\n",
      "--- Exporting to ../data/part_715/part_715_no_tail.csv\n",
      "Processing part_11_built.csv\n",
      "--- Removing 2 last seconds of Target Finding tasks columns\n",
      "--- Removing outside screen fixation from tail in Target Finding tasks columns\n",
      "--- Exporting to ../data/part_11/part_11_no_tail.csv\n",
      "Processing part_712_built.csv\n",
      "--- Removing 2 last seconds of Target Finding tasks columns\n",
      "--- Removing outside screen fixation from tail in Target Finding tasks columns\n",
      "--- Exporting to ../data/part_712/part_712_no_tail.csv\n",
      "Processing part_2_built.csv\n",
      "--- Removing 2 last seconds of Target Finding tasks columns\n",
      "--- Removing outside screen fixation from tail in Target Finding tasks columns\n",
      "--- Exporting to ../data/part_2/part_2_no_tail.csv\n",
      "Processing part_3_built.csv\n",
      "--- Removing 2 last seconds of Target Finding tasks columns\n",
      "--- Removing outside screen fixation from tail in Target Finding tasks columns\n",
      "--- Exporting to ../data/part_3/part_3_no_tail.csv\n",
      "Processing part_4_built.csv\n",
      "--- Removing 2 last seconds of Target Finding tasks columns\n",
      "--- Removing outside screen fixation from tail in Target Finding tasks columns\n",
      "--- Exporting to ../data/part_4/part_4_no_tail.csv\n",
      "Processing part_709_built.csv\n",
      "--- Removing 2 last seconds of Target Finding tasks columns\n",
      "--- Removing outside screen fixation from tail in Target Finding tasks columns\n",
      "--- Exporting to ../data/part_709/part_709_no_tail.csv\n",
      "Processing part_710_built.csv\n",
      "--- Removing 2 last seconds of Target Finding tasks columns\n",
      "--- Removing outside screen fixation from tail in Target Finding tasks columns\n",
      "--- Exporting to ../data/part_710/part_710_no_tail.csv\n",
      "Processing part_711_built.csv\n",
      "--- Removing 2 last seconds of Target Finding tasks columns\n",
      "--- Removing outside screen fixation from tail in Target Finding tasks columns\n",
      "--- Exporting to ../data/part_711/part_711_no_tail.csv\n",
      "Processing part_716_built.csv\n",
      "--- Removing 2 last seconds of Target Finding tasks columns\n",
      "--- Removing outside screen fixation from tail in Target Finding tasks columns\n",
      "--- Exporting to ../data/part_716/part_716_no_tail.csv\n",
      "Processing part_1_built.csv\n",
      "--- Removing 2 last seconds of Target Finding tasks columns\n",
      "--- Removing outside screen fixation from tail in Target Finding tasks columns\n",
      "--- Exporting to ../data/part_1/part_1_no_tail.csv\n",
      "Processing part_8_built.csv\n",
      "--- Removing 2 last seconds of Target Finding tasks columns\n",
      "--- Removing outside screen fixation from tail in Target Finding tasks columns\n",
      "--- Exporting to ../data/part_8/part_8_no_tail.csv\n",
      "Processing part_7_built.csv\n",
      "--- Removing 2 last seconds of Target Finding tasks columns\n",
      "--- Removing outside screen fixation from tail in Target Finding tasks columns\n",
      "--- Exporting to ../data/part_7/part_7_no_tail.csv\n",
      "Done\n"
     ]
    }
   ],
   "source": [
    "files = glob.glob(\"{0}part_*/part_*{1}\".format(rootPath, file_suffix))\n",
    "for filename in files:\n",
    "    print(\"Processing {}\".format(os.path.basename(filename)))\n",
    "    df = pd.read_csv(filename)\n",
    "    \n",
    "    print(\"--- Removing 2 last seconds of Target Finding tasks columns\")\n",
    "    df = df.groupby([\"TRIAL_INDEX\", \"CONDITION\"], as_index=False, group_keys=False).apply(clean_2s_tail_trial).sort_index()\n",
    "    \n",
    "    print(\"--- Removing outside screen fixation from tail in Target Finding tasks columns\")\n",
    "    df = df.groupby([\"TRIAL_INDEX\", \"CONDITION\"], as_index=False, group_keys=False).apply(clean_tail_trial).sort_index()\n",
    "\n",
    "    \n",
    "    print(\"--- Exporting to {}\".format(filename.replace(file_suffix, export_suffix)))\n",
    "    df.to_csv(filename.replace(file_suffix, export_suffix), index = False)\n",
    "    \n",
    "print(\"Done\")"
   ]
  },
  {
   "cell_type": "code",
   "execution_count": null,
   "metadata": {},
   "outputs": [],
   "source": []
  },
  {
   "cell_type": "code",
   "execution_count": null,
   "metadata": {},
   "outputs": [],
   "source": []
  }
 ],
 "metadata": {
  "anaconda-cloud": {},
  "kernelspec": {
   "display_name": "Python [default]",
   "language": "python",
   "name": "python3"
  },
  "language_info": {
   "codemirror_mode": {
    "name": "ipython",
    "version": 3
   },
   "file_extension": ".py",
   "mimetype": "text/x-python",
   "name": "python",
   "nbconvert_exporter": "python",
   "pygments_lexer": "ipython3",
   "version": "3.5.2"
  },
  "varInspector": {
   "cols": {
    "lenName": 16,
    "lenType": 16,
    "lenVar": 40
   },
   "kernels_config": {
    "python": {
     "delete_cmd_postfix": "",
     "delete_cmd_prefix": "del ",
     "library": "var_list.py",
     "varRefreshCmd": "print(var_dic_list())"
    },
    "r": {
     "delete_cmd_postfix": ") ",
     "delete_cmd_prefix": "rm(",
     "library": "var_list.r",
     "varRefreshCmd": "cat(var_dic_list()) "
    }
   },
   "types_to_exclude": [
    "module",
    "function",
    "builtin_function_or_method",
    "instance",
    "_Feature"
   ],
   "window_display": false
  }
 },
 "nbformat": 4,
 "nbformat_minor": 2
}
